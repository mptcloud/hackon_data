{
 "cells": [
  {
   "cell_type": "markdown",
   "metadata": {
    "collapsed": true
   },
   "source": [
    "# The reviews data\n",
    "\n",
    "The data comes as a collection of json files. We can import these in an easy way with the following script (We only use the video games data)"
   ]
  },
  {
   "cell_type": "code",
   "execution_count": 1,
   "metadata": {
    "collapsed": true
   },
   "outputs": [],
   "source": [
    "import numpy as np\n",
    "import pandas as pd\n",
    "import gzip\n",
    "\n",
    "\n",
    "def parse(path):\n",
    "  g = gzip.open(path, 'rb')\n",
    "  for l in g:\n",
    "    yield eval(l)\n",
    "\n",
    "def getDF(path):\n",
    "  i = 0\n",
    "  df = {}\n",
    "  for d in parse(path):\n",
    "    df[i] = d\n",
    "    i += 1\n",
    "  return pd.DataFrame.from_dict(df, orient='index')\n",
    "\n",
    "df_reviews = getDF('./data/reviews_Video_Games_5.json.gz')\n",
    "df_meta=getDF('./data/meta_Video_Games.json.gz')\n",
    "\n",
    "#df_qa_toys_and_games = getDF('./data/qa_Toys_and_Games.json.gz')\n",
    "#df_QA_toys_and_games = getDF('./data/QA_Toys_and_Games.json.gz')"
   ]
  },
  {
   "cell_type": "markdown",
   "metadata": {},
   "source": [
    "We take a quick look at the data first. The reviews dataframe"
   ]
  },
  {
   "cell_type": "code",
   "execution_count": 2,
   "metadata": {},
   "outputs": [
    {
     "data": {
      "text/html": [
       "<div>\n",
       "<table border=\"1\" class=\"dataframe\">\n",
       "  <thead>\n",
       "    <tr style=\"text-align: right;\">\n",
       "      <th></th>\n",
       "      <th>helpful</th>\n",
       "      <th>reviewText</th>\n",
       "      <th>overall</th>\n",
       "      <th>reviewerID</th>\n",
       "      <th>reviewerName</th>\n",
       "      <th>asin</th>\n",
       "      <th>summary</th>\n",
       "      <th>reviewTime</th>\n",
       "      <th>unixReviewTime</th>\n",
       "    </tr>\n",
       "  </thead>\n",
       "  <tbody>\n",
       "    <tr>\n",
       "      <th>0</th>\n",
       "      <td>[8, 12]</td>\n",
       "      <td>Installing the game was a struggle (because of...</td>\n",
       "      <td>1.0</td>\n",
       "      <td>A2HD75EMZR8QLN</td>\n",
       "      <td>123</td>\n",
       "      <td>0700099867</td>\n",
       "      <td>Pay to unlock content? I don't think so.</td>\n",
       "      <td>07 9, 2012</td>\n",
       "      <td>1341792000</td>\n",
       "    </tr>\n",
       "    <tr>\n",
       "      <th>1</th>\n",
       "      <td>[0, 0]</td>\n",
       "      <td>If you like rally cars get this game you will ...</td>\n",
       "      <td>4.0</td>\n",
       "      <td>A3UR8NLLY1ZHCX</td>\n",
       "      <td>Alejandro Henao \"Electronic Junky\"</td>\n",
       "      <td>0700099867</td>\n",
       "      <td>Good rally game</td>\n",
       "      <td>06 30, 2013</td>\n",
       "      <td>1372550400</td>\n",
       "    </tr>\n",
       "    <tr>\n",
       "      <th>2</th>\n",
       "      <td>[0, 0]</td>\n",
       "      <td>1st shipment received a book instead of the ga...</td>\n",
       "      <td>1.0</td>\n",
       "      <td>A1INA0F5CWW3J4</td>\n",
       "      <td>Amazon Shopper \"Mr.Repsol\"</td>\n",
       "      <td>0700099867</td>\n",
       "      <td>Wrong key</td>\n",
       "      <td>06 28, 2014</td>\n",
       "      <td>1403913600</td>\n",
       "    </tr>\n",
       "    <tr>\n",
       "      <th>3</th>\n",
       "      <td>[7, 10]</td>\n",
       "      <td>I got this version instead of the PS3 version,...</td>\n",
       "      <td>3.0</td>\n",
       "      <td>A1DLMTOTHQ4AST</td>\n",
       "      <td>ampgreen</td>\n",
       "      <td>0700099867</td>\n",
       "      <td>awesome game, if it did not crash frequently !!</td>\n",
       "      <td>09 14, 2011</td>\n",
       "      <td>1315958400</td>\n",
       "    </tr>\n",
       "    <tr>\n",
       "      <th>4</th>\n",
       "      <td>[2, 2]</td>\n",
       "      <td>I had Dirt 2 on Xbox 360 and it was an okay ga...</td>\n",
       "      <td>4.0</td>\n",
       "      <td>A361M14PU2GUEG</td>\n",
       "      <td>Angry Ryan \"Ryan A. Forrest\"</td>\n",
       "      <td>0700099867</td>\n",
       "      <td>DIRT 3</td>\n",
       "      <td>06 14, 2011</td>\n",
       "      <td>1308009600</td>\n",
       "    </tr>\n",
       "  </tbody>\n",
       "</table>\n",
       "</div>"
      ],
      "text/plain": [
       "   helpful                                         reviewText  overall  \\\n",
       "0  [8, 12]  Installing the game was a struggle (because of...      1.0   \n",
       "1   [0, 0]  If you like rally cars get this game you will ...      4.0   \n",
       "2   [0, 0]  1st shipment received a book instead of the ga...      1.0   \n",
       "3  [7, 10]  I got this version instead of the PS3 version,...      3.0   \n",
       "4   [2, 2]  I had Dirt 2 on Xbox 360 and it was an okay ga...      4.0   \n",
       "\n",
       "       reviewerID                        reviewerName        asin  \\\n",
       "0  A2HD75EMZR8QLN                                 123  0700099867   \n",
       "1  A3UR8NLLY1ZHCX  Alejandro Henao \"Electronic Junky\"  0700099867   \n",
       "2  A1INA0F5CWW3J4          Amazon Shopper \"Mr.Repsol\"  0700099867   \n",
       "3  A1DLMTOTHQ4AST                            ampgreen  0700099867   \n",
       "4  A361M14PU2GUEG        Angry Ryan \"Ryan A. Forrest\"  0700099867   \n",
       "\n",
       "                                           summary   reviewTime  \\\n",
       "0         Pay to unlock content? I don't think so.   07 9, 2012   \n",
       "1                                  Good rally game  06 30, 2013   \n",
       "2                                        Wrong key  06 28, 2014   \n",
       "3  awesome game, if it did not crash frequently !!  09 14, 2011   \n",
       "4                                           DIRT 3  06 14, 2011   \n",
       "\n",
       "   unixReviewTime  \n",
       "0      1341792000  \n",
       "1      1372550400  \n",
       "2      1403913600  \n",
       "3      1315958400  \n",
       "4      1308009600  "
      ]
     },
     "execution_count": 2,
     "metadata": {},
     "output_type": "execute_result"
    }
   ],
   "source": [
    "df_reviews.head()"
   ]
  },
  {
   "cell_type": "markdown",
   "metadata": {},
   "source": [
    "and the meta data"
   ]
  },
  {
   "cell_type": "code",
   "execution_count": 3,
   "metadata": {},
   "outputs": [
    {
     "data": {
      "text/html": [
       "<div>\n",
       "<table border=\"1\" class=\"dataframe\">\n",
       "  <thead>\n",
       "    <tr style=\"text-align: right;\">\n",
       "      <th></th>\n",
       "      <th>price</th>\n",
       "      <th>categories</th>\n",
       "      <th>asin</th>\n",
       "      <th>related</th>\n",
       "      <th>description</th>\n",
       "      <th>salesRank</th>\n",
       "      <th>imUrl</th>\n",
       "      <th>brand</th>\n",
       "      <th>title</th>\n",
       "    </tr>\n",
       "  </thead>\n",
       "  <tbody>\n",
       "    <tr>\n",
       "      <th>0</th>\n",
       "      <td>37.98</td>\n",
       "      <td>[[Video Games, Xbox 360, Games]]</td>\n",
       "      <td>0078764343</td>\n",
       "      <td>{'bought_together': ['B002I098JE'], 'also_boug...</td>\n",
       "      <td>Brand new sealed!</td>\n",
       "      <td>{'Video Games': 28655}</td>\n",
       "      <td>http://ecx.images-amazon.com/images/I/513h6dPb...</td>\n",
       "      <td>NaN</td>\n",
       "      <td>NaN</td>\n",
       "    </tr>\n",
       "    <tr>\n",
       "      <th>1</th>\n",
       "      <td>23.50</td>\n",
       "      <td>[[Video Games, PC, Games]]</td>\n",
       "      <td>043933702X</td>\n",
       "      <td>{'also_viewed': ['B000067NP1', '0439573947', '...</td>\n",
       "      <td>In Stock NOW.  Eligible for FREE Super Saving ...</td>\n",
       "      <td>{'Video Games': 44080}</td>\n",
       "      <td>http://ecx.images-amazon.com/images/I/61KKRndV...</td>\n",
       "      <td>NaN</td>\n",
       "      <td>NaN</td>\n",
       "    </tr>\n",
       "    <tr>\n",
       "      <th>2</th>\n",
       "      <td>8.95</td>\n",
       "      <td>[[Video Games, PC, Games]]</td>\n",
       "      <td>0439339987</td>\n",
       "      <td>{'also_bought': ['B000314VVU', 'B000PXUOTE', '...</td>\n",
       "      <td>Grandma Groupers kelp seeds are missing and wi...</td>\n",
       "      <td>{'Video Games': 49836}</td>\n",
       "      <td>http://ecx.images-amazon.com/images/I/416QZg89...</td>\n",
       "      <td>NaN</td>\n",
       "      <td>NaN</td>\n",
       "    </tr>\n",
       "    <tr>\n",
       "      <th>3</th>\n",
       "      <td>NaN</td>\n",
       "      <td>[[Video Games, PC, Games]]</td>\n",
       "      <td>0439342260</td>\n",
       "      <td>{'also_viewed': ['043934302X']}</td>\n",
       "      <td>This software is BRAND NEW. Packaging may diff...</td>\n",
       "      <td>{'Video Games': 49156}</td>\n",
       "      <td>http://ecx.images-amazon.com/images/I/61Wvu-Uj...</td>\n",
       "      <td>NaN</td>\n",
       "      <td>NaN</td>\n",
       "    </tr>\n",
       "    <tr>\n",
       "      <th>4</th>\n",
       "      <td>NaN</td>\n",
       "      <td>[[Video Games, PC, Games]]</td>\n",
       "      <td>0439339960</td>\n",
       "      <td>{'also_viewed': ['B00028D7TG']}</td>\n",
       "      <td>a scholastic clubs fairs cd rom game</td>\n",
       "      <td>{'Video Games': 52262}</td>\n",
       "      <td>http://ecx.images-amazon.com/images/I/51k3oRCF...</td>\n",
       "      <td>NaN</td>\n",
       "      <td>NaN</td>\n",
       "    </tr>\n",
       "  </tbody>\n",
       "</table>\n",
       "</div>"
      ],
      "text/plain": [
       "   price                        categories        asin  \\\n",
       "0  37.98  [[Video Games, Xbox 360, Games]]  0078764343   \n",
       "1  23.50        [[Video Games, PC, Games]]  043933702X   \n",
       "2   8.95        [[Video Games, PC, Games]]  0439339987   \n",
       "3    NaN        [[Video Games, PC, Games]]  0439342260   \n",
       "4    NaN        [[Video Games, PC, Games]]  0439339960   \n",
       "\n",
       "                                             related  \\\n",
       "0  {'bought_together': ['B002I098JE'], 'also_boug...   \n",
       "1  {'also_viewed': ['B000067NP1', '0439573947', '...   \n",
       "2  {'also_bought': ['B000314VVU', 'B000PXUOTE', '...   \n",
       "3                    {'also_viewed': ['043934302X']}   \n",
       "4                    {'also_viewed': ['B00028D7TG']}   \n",
       "\n",
       "                                         description               salesRank  \\\n",
       "0                                  Brand new sealed!  {'Video Games': 28655}   \n",
       "1  In Stock NOW.  Eligible for FREE Super Saving ...  {'Video Games': 44080}   \n",
       "2  Grandma Groupers kelp seeds are missing and wi...  {'Video Games': 49836}   \n",
       "3  This software is BRAND NEW. Packaging may diff...  {'Video Games': 49156}   \n",
       "4               a scholastic clubs fairs cd rom game  {'Video Games': 52262}   \n",
       "\n",
       "                                               imUrl brand title  \n",
       "0  http://ecx.images-amazon.com/images/I/513h6dPb...   NaN   NaN  \n",
       "1  http://ecx.images-amazon.com/images/I/61KKRndV...   NaN   NaN  \n",
       "2  http://ecx.images-amazon.com/images/I/416QZg89...   NaN   NaN  \n",
       "3  http://ecx.images-amazon.com/images/I/61Wvu-Uj...   NaN   NaN  \n",
       "4  http://ecx.images-amazon.com/images/I/51k3oRCF...   NaN   NaN  "
      ]
     },
     "execution_count": 3,
     "metadata": {},
     "output_type": "execute_result"
    }
   ],
   "source": [
    "df_meta.head()"
   ]
  },
  {
   "cell_type": "markdown",
   "metadata": {
    "collapsed": true
   },
   "source": [
    "For our purposes, it is important to see that the related feature has indeed more data, more precisely"
   ]
  },
  {
   "cell_type": "code",
   "execution_count": 4,
   "metadata": {},
   "outputs": [
    {
     "data": {
      "text/plain": [
       "{'also_bought': ['B000TI836G',\n",
       "  'B003Q53VZC',\n",
       "  'B00EFFW0HC',\n",
       "  'B003VWGBC0',\n",
       "  'B003O6G5TW',\n",
       "  'B0037LTTRO',\n",
       "  'B002I098JE',\n",
       "  'B008OQTS0U',\n",
       "  'B005EVEODY',\n",
       "  'B008B3AVNE',\n",
       "  'B000PE0HBS',\n",
       "  'B00354NAYG',\n",
       "  'B0050SYPV2',\n",
       "  'B00503E8S2',\n",
       "  'B0050SY77E',\n",
       "  'B0022TNO7S',\n",
       "  'B0056WJA30',\n",
       "  'B0023CBY4E',\n",
       "  'B002SRSQ72',\n",
       "  'B005EZ5GQY',\n",
       "  'B004XACA60',\n",
       "  'B00273Z9WM',\n",
       "  'B004HX1QFY',\n",
       "  'B002I0K50U'],\n",
       " 'bought_together': ['B002I098JE'],\n",
       " 'buy_after_viewing': ['B0050SY5BM', 'B000TI836G', 'B0037LTTRO', 'B002I098JE']}"
      ]
     },
     "execution_count": 4,
     "metadata": {},
     "output_type": "execute_result"
    }
   ],
   "source": [
    "df_meta.related.iloc[0]"
   ]
  },
  {
   "cell_type": "markdown",
   "metadata": {},
   "source": [
    "that is related is a dictionary with 3 keys 'also_bought', 'bought_together', and 'buy_after_viewing'"
   ]
  },
  {
   "cell_type": "markdown",
   "metadata": {
    "collapsed": true
   },
   "source": [
    "# Reviews in time"
   ]
  },
  {
   "cell_type": "markdown",
   "metadata": {},
   "source": [
    "We want to understand when a product is released and try to figure what info we can get out of this, to do so we start by creating a collection of the reviews and the review time."
   ]
  },
  {
   "cell_type": "code",
   "execution_count": 5,
   "metadata": {
    "scrolled": true
   },
   "outputs": [],
   "source": [
    "review_time=(df_reviews[['unixReviewTime','asin']].groupby('asin')\n",
    "     .agg(lambda x:(list(x))))\n",
    "review_time=review_time.applymap(lambda x: np.sort(np.array(x)));\n",
    "review_time['initial']=review_time['unixReviewTime'].apply(lambda x:x[0])\n",
    "review_time['review_days']=(review_time['unixReviewTime']-review_time['initial'])//(3600*24)\n",
    "review_time=review_time.drop('unixReviewTime',axis=1)\n",
    "review_time['day_last_review']=review_time['review_days'].apply(lambda x:x[-1])\n",
    "review_time['nb_reviews']=review_time['review_days'].apply(lambda x:len(x))"
   ]
  },
  {
   "cell_type": "code",
   "execution_count": null,
   "metadata": {},
   "outputs": [],
   "source": []
  },
  {
   "cell_type": "code",
   "execution_count": 6,
   "metadata": {
    "collapsed": true
   },
   "outputs": [],
   "source": [
    "from collections import Counter\n",
    "def create(days):\n",
    "    X=[days[0]]\n",
    "    Y=[0]\n",
    "    current=0\n",
    "    for day in days:\n",
    "        if day==X[-1]:\n",
    "            Y[current]+=1\n",
    "        else:\n",
    "            X.append(day)\n",
    "            Y.append(Y[-1]+1)\n",
    "            current+=1\n",
    "    return X,Y"
   ]
  },
  {
   "cell_type": "code",
   "execution_count": 7,
   "metadata": {},
   "outputs": [
    {
     "data": {
      "image/png": "[encoded data removed]",
      "text/plain": [
       "<matplotlib.figure.Figure at 0x7fc8bea5b588>"
      ]
     },
     "metadata": {},
     "output_type": "display_data"
    }
   ],
   "source": [
    "import matplotlib.pyplot as plt\n",
    "\n",
    "sample=review_time.sample(10)\n",
    "for days in sample.review_days:\n",
    "    \n",
    "    X,Y=create(days)\n",
    "    #print(X,Y)\n",
    "    plt.plot(X, Y,'o')\n",
    "    \n",
    "plt.show()"
   ]
  },
  {
   "cell_type": "code",
   "execution_count": null,
   "metadata": {
    "collapsed": true
   },
   "outputs": [],
   "source": []
  }
 ],
 "metadata": {
  "anaconda-cloud": {},
  "kernelspec": {
   "display_name": "Python [default]",
   "language": "python",
   "name": "python3"
  },
  "language_info": {
   "codemirror_mode": {
    "name": "ipython",
    "version": 3
   },
   "file_extension": ".py",
   "mimetype": "text/x-python",
   "name": "python",
   "nbconvert_exporter": "python",
   "pygments_lexer": "ipython3",
   "version": "3.5.2"
  }
 },
 "nbformat": 4,
 "nbformat_minor": 2
}
