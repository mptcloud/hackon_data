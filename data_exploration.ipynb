{
 "cells": [
  {
   "cell_type": "markdown",
   "metadata": {
    "collapsed": true
   },
   "source": [
    "# The reviews data\n",
    "\n",
    "The data comes as a collection of json files. We can import these in an easy way with the following script (We only use the video games data)"
   ]
  },
  {
   "cell_type": "code",
   "execution_count": 1,
   "metadata": {
    "collapsed": true
   },
   "outputs": [],
   "source": [
    "import numpy as np\n",
    "import pandas as pd\n",
    "import gzip\n",
    "\n",
    "\n",
    "def parse(path):\n",
    "  g = gzip.open(path, 'rb')\n",
    "  for l in g:\n",
    "    yield eval(l)\n",
    "\n",
    "def getDF(path):\n",
    "  i = 0\n",
    "  df = {}\n",
    "  for d in parse(path):\n",
    "    df[i] = d\n",
    "    i += 1\n",
    "  return pd.DataFrame.from_dict(df, orient='index')\n",
    "\n",
    "df_reviews = getDF('./data/reviews_Video_Games_5.json.gz')\n",
    "df_meta=getDF('./data/meta_Video_Games.json.gz')\n",
    "\n",
    "#df_qa_toys_and_games = getDF('./data/qa_Toys_and_Games.json.gz')\n",
    "#df_QA_toys_and_games = getDF('./data/QA_Toys_and_Games.json.gz')"
   ]
  },
  {
   "cell_type": "markdown",
   "metadata": {},
   "source": [
    "We take a quick look at the data first. The reviews dataframe"
   ]
  },
  {
   "cell_type": "code",
   "execution_count": 2,
   "metadata": {},
   "outputs": [
    {
     "data": {
      "text/html": [
       "<div>\n",
       "<table border=\"1\" class=\"dataframe\">\n",
       "  <thead>\n",
       "    <tr style=\"text-align: right;\">\n",
       "      <th></th>\n",
       "      <th>asin</th>\n",
       "      <th>helpful</th>\n",
       "      <th>summary</th>\n",
       "      <th>reviewerName</th>\n",
       "      <th>reviewText</th>\n",
       "      <th>overall</th>\n",
       "      <th>unixReviewTime</th>\n",
       "      <th>reviewTime</th>\n",
       "      <th>reviewerID</th>\n",
       "    </tr>\n",
       "  </thead>\n",
       "  <tbody>\n",
       "    <tr>\n",
       "      <th>0</th>\n",
       "      <td>0700099867</td>\n",
       "      <td>[8, 12]</td>\n",
       "      <td>Pay to unlock content? I don't think so.</td>\n",
       "      <td>123</td>\n",
       "      <td>Installing the game was a struggle (because of...</td>\n",
       "      <td>1.0</td>\n",
       "      <td>1341792000</td>\n",
       "      <td>07 9, 2012</td>\n",
       "      <td>A2HD75EMZR8QLN</td>\n",
       "    </tr>\n",
       "    <tr>\n",
       "      <th>1</th>\n",
       "      <td>0700099867</td>\n",
       "      <td>[0, 0]</td>\n",
       "      <td>Good rally game</td>\n",
       "      <td>Alejandro Henao \"Electronic Junky\"</td>\n",
       "      <td>If you like rally cars get this game you will ...</td>\n",
       "      <td>4.0</td>\n",
       "      <td>1372550400</td>\n",
       "      <td>06 30, 2013</td>\n",
       "      <td>A3UR8NLLY1ZHCX</td>\n",
       "    </tr>\n",
       "    <tr>\n",
       "      <th>2</th>\n",
       "      <td>0700099867</td>\n",
       "      <td>[0, 0]</td>\n",
       "      <td>Wrong key</td>\n",
       "      <td>Amazon Shopper \"Mr.Repsol\"</td>\n",
       "      <td>1st shipment received a book instead of the ga...</td>\n",
       "      <td>1.0</td>\n",
       "      <td>1403913600</td>\n",
       "      <td>06 28, 2014</td>\n",
       "      <td>A1INA0F5CWW3J4</td>\n",
       "    </tr>\n",
       "    <tr>\n",
       "      <th>3</th>\n",
       "      <td>0700099867</td>\n",
       "      <td>[7, 10]</td>\n",
       "      <td>awesome game, if it did not crash frequently !!</td>\n",
       "      <td>ampgreen</td>\n",
       "      <td>I got this version instead of the PS3 version,...</td>\n",
       "      <td>3.0</td>\n",
       "      <td>1315958400</td>\n",
       "      <td>09 14, 2011</td>\n",
       "      <td>A1DLMTOTHQ4AST</td>\n",
       "    </tr>\n",
       "    <tr>\n",
       "      <th>4</th>\n",
       "      <td>0700099867</td>\n",
       "      <td>[2, 2]</td>\n",
       "      <td>DIRT 3</td>\n",
       "      <td>Angry Ryan \"Ryan A. Forrest\"</td>\n",
       "      <td>I had Dirt 2 on Xbox 360 and it was an okay ga...</td>\n",
       "      <td>4.0</td>\n",
       "      <td>1308009600</td>\n",
       "      <td>06 14, 2011</td>\n",
       "      <td>A361M14PU2GUEG</td>\n",
       "    </tr>\n",
       "  </tbody>\n",
       "</table>\n",
       "</div>"
      ],
      "text/plain": [
       "         asin  helpful                                          summary  \\\n",
       "0  0700099867  [8, 12]         Pay to unlock content? I don't think so.   \n",
       "1  0700099867   [0, 0]                                  Good rally game   \n",
       "2  0700099867   [0, 0]                                        Wrong key   \n",
       "3  0700099867  [7, 10]  awesome game, if it did not crash frequently !!   \n",
       "4  0700099867   [2, 2]                                           DIRT 3   \n",
       "\n",
       "                         reviewerName  \\\n",
       "0                                 123   \n",
       "1  Alejandro Henao \"Electronic Junky\"   \n",
       "2          Amazon Shopper \"Mr.Repsol\"   \n",
       "3                            ampgreen   \n",
       "4        Angry Ryan \"Ryan A. Forrest\"   \n",
       "\n",
       "                                          reviewText  overall  unixReviewTime  \\\n",
       "0  Installing the game was a struggle (because of...      1.0      1341792000   \n",
       "1  If you like rally cars get this game you will ...      4.0      1372550400   \n",
       "2  1st shipment received a book instead of the ga...      1.0      1403913600   \n",
       "3  I got this version instead of the PS3 version,...      3.0      1315958400   \n",
       "4  I had Dirt 2 on Xbox 360 and it was an okay ga...      4.0      1308009600   \n",
       "\n",
       "    reviewTime      reviewerID  \n",
       "0   07 9, 2012  A2HD75EMZR8QLN  \n",
       "1  06 30, 2013  A3UR8NLLY1ZHCX  \n",
       "2  06 28, 2014  A1INA0F5CWW3J4  \n",
       "3  09 14, 2011  A1DLMTOTHQ4AST  \n",
       "4  06 14, 2011  A361M14PU2GUEG  "
      ]
     },
     "execution_count": 2,
     "metadata": {},
     "output_type": "execute_result"
    }
   ],
   "source": [
    "df_reviews.head()"
   ]
  },
  {
   "cell_type": "markdown",
   "metadata": {},
   "source": [
    "and the meta data"
   ]
  },
  {
   "cell_type": "code",
   "execution_count": 3,
   "metadata": {},
   "outputs": [
    {
     "data": {
      "text/html": [
       "<div>\n",
       "<table border=\"1\" class=\"dataframe\">\n",
       "  <thead>\n",
       "    <tr style=\"text-align: right;\">\n",
       "      <th></th>\n",
       "      <th>related</th>\n",
       "      <th>price</th>\n",
       "      <th>description</th>\n",
       "      <th>imUrl</th>\n",
       "      <th>salesRank</th>\n",
       "      <th>categories</th>\n",
       "      <th>asin</th>\n",
       "      <th>brand</th>\n",
       "      <th>title</th>\n",
       "    </tr>\n",
       "  </thead>\n",
       "  <tbody>\n",
       "    <tr>\n",
       "      <th>0</th>\n",
       "      <td>{'bought_together': ['B002I098JE'], 'also_boug...</td>\n",
       "      <td>37.98</td>\n",
       "      <td>Brand new sealed!</td>\n",
       "      <td>http://ecx.images-amazon.com/images/I/513h6dPb...</td>\n",
       "      <td>{'Video Games': 28655}</td>\n",
       "      <td>[[Video Games, Xbox 360, Games]]</td>\n",
       "      <td>0078764343</td>\n",
       "      <td>NaN</td>\n",
       "      <td>NaN</td>\n",
       "    </tr>\n",
       "    <tr>\n",
       "      <th>1</th>\n",
       "      <td>{'buy_after_viewing': ['B000067NP1', '04395739...</td>\n",
       "      <td>23.50</td>\n",
       "      <td>In Stock NOW.  Eligible for FREE Super Saving ...</td>\n",
       "      <td>http://ecx.images-amazon.com/images/I/61KKRndV...</td>\n",
       "      <td>{'Video Games': 44080}</td>\n",
       "      <td>[[Video Games, PC, Games]]</td>\n",
       "      <td>043933702X</td>\n",
       "      <td>NaN</td>\n",
       "      <td>NaN</td>\n",
       "    </tr>\n",
       "    <tr>\n",
       "      <th>2</th>\n",
       "      <td>{'also_bought': ['B000314VVU', 'B000PXUOTE', '...</td>\n",
       "      <td>8.95</td>\n",
       "      <td>Grandma Groupers kelp seeds are missing and wi...</td>\n",
       "      <td>http://ecx.images-amazon.com/images/I/416QZg89...</td>\n",
       "      <td>{'Video Games': 49836}</td>\n",
       "      <td>[[Video Games, PC, Games]]</td>\n",
       "      <td>0439339987</td>\n",
       "      <td>NaN</td>\n",
       "      <td>NaN</td>\n",
       "    </tr>\n",
       "    <tr>\n",
       "      <th>3</th>\n",
       "      <td>{'also_viewed': ['043934302X']}</td>\n",
       "      <td>NaN</td>\n",
       "      <td>This software is BRAND NEW. Packaging may diff...</td>\n",
       "      <td>http://ecx.images-amazon.com/images/I/61Wvu-Uj...</td>\n",
       "      <td>{'Video Games': 49156}</td>\n",
       "      <td>[[Video Games, PC, Games]]</td>\n",
       "      <td>0439342260</td>\n",
       "      <td>NaN</td>\n",
       "      <td>NaN</td>\n",
       "    </tr>\n",
       "    <tr>\n",
       "      <th>4</th>\n",
       "      <td>{'also_viewed': ['B00028D7TG']}</td>\n",
       "      <td>NaN</td>\n",
       "      <td>a scholastic clubs fairs cd rom game</td>\n",
       "      <td>http://ecx.images-amazon.com/images/I/51k3oRCF...</td>\n",
       "      <td>{'Video Games': 52262}</td>\n",
       "      <td>[[Video Games, PC, Games]]</td>\n",
       "      <td>0439339960</td>\n",
       "      <td>NaN</td>\n",
       "      <td>NaN</td>\n",
       "    </tr>\n",
       "  </tbody>\n",
       "</table>\n",
       "</div>"
      ],
      "text/plain": [
       "                                             related  price  \\\n",
       "0  {'bought_together': ['B002I098JE'], 'also_boug...  37.98   \n",
       "1  {'buy_after_viewing': ['B000067NP1', '04395739...  23.50   \n",
       "2  {'also_bought': ['B000314VVU', 'B000PXUOTE', '...   8.95   \n",
       "3                    {'also_viewed': ['043934302X']}    NaN   \n",
       "4                    {'also_viewed': ['B00028D7TG']}    NaN   \n",
       "\n",
       "                                         description  \\\n",
       "0                                  Brand new sealed!   \n",
       "1  In Stock NOW.  Eligible for FREE Super Saving ...   \n",
       "2  Grandma Groupers kelp seeds are missing and wi...   \n",
       "3  This software is BRAND NEW. Packaging may diff...   \n",
       "4               a scholastic clubs fairs cd rom game   \n",
       "\n",
       "                                               imUrl               salesRank  \\\n",
       "0  http://ecx.images-amazon.com/images/I/513h6dPb...  {'Video Games': 28655}   \n",
       "1  http://ecx.images-amazon.com/images/I/61KKRndV...  {'Video Games': 44080}   \n",
       "2  http://ecx.images-amazon.com/images/I/416QZg89...  {'Video Games': 49836}   \n",
       "3  http://ecx.images-amazon.com/images/I/61Wvu-Uj...  {'Video Games': 49156}   \n",
       "4  http://ecx.images-amazon.com/images/I/51k3oRCF...  {'Video Games': 52262}   \n",
       "\n",
       "                         categories        asin brand title  \n",
       "0  [[Video Games, Xbox 360, Games]]  0078764343   NaN   NaN  \n",
       "1        [[Video Games, PC, Games]]  043933702X   NaN   NaN  \n",
       "2        [[Video Games, PC, Games]]  0439339987   NaN   NaN  \n",
       "3        [[Video Games, PC, Games]]  0439342260   NaN   NaN  \n",
       "4        [[Video Games, PC, Games]]  0439339960   NaN   NaN  "
      ]
     },
     "execution_count": 3,
     "metadata": {},
     "output_type": "execute_result"
    }
   ],
   "source": [
    "df_meta.head()"
   ]
  },
  {
   "cell_type": "markdown",
   "metadata": {
    "collapsed": true
   },
   "source": [
    "For our purposes, it is important to see that the related feature has indeed more data, more precisely"
   ]
  },
  {
   "cell_type": "code",
   "execution_count": 4,
   "metadata": {},
   "outputs": [
    {
     "data": {
      "text/plain": [
       "{'also_bought': ['B000TI836G',\n",
       "  'B003Q53VZC',\n",
       "  'B00EFFW0HC',\n",
       "  'B003VWGBC0',\n",
       "  'B003O6G5TW',\n",
       "  'B0037LTTRO',\n",
       "  'B002I098JE',\n",
       "  'B008OQTS0U',\n",
       "  'B005EVEODY',\n",
       "  'B008B3AVNE',\n",
       "  'B000PE0HBS',\n",
       "  'B00354NAYG',\n",
       "  'B0050SYPV2',\n",
       "  'B00503E8S2',\n",
       "  'B0050SY77E',\n",
       "  'B0022TNO7S',\n",
       "  'B0056WJA30',\n",
       "  'B0023CBY4E',\n",
       "  'B002SRSQ72',\n",
       "  'B005EZ5GQY',\n",
       "  'B004XACA60',\n",
       "  'B00273Z9WM',\n",
       "  'B004HX1QFY',\n",
       "  'B002I0K50U'],\n",
       " 'bought_together': ['B002I098JE'],\n",
       " 'buy_after_viewing': ['B0050SY5BM', 'B000TI836G', 'B0037LTTRO', 'B002I098JE']}"
      ]
     },
     "execution_count": 4,
     "metadata": {},
     "output_type": "execute_result"
    }
   ],
   "source": [
    "df_meta.related.iloc[0]"
   ]
  },
  {
   "cell_type": "markdown",
   "metadata": {},
   "source": [
    "that is related is a dictionary with 3 keys 'also_bought', 'bought_together', and 'buy_after_viewing'"
   ]
  },
  {
   "cell_type": "markdown",
   "metadata": {
    "collapsed": true
   },
   "source": [
    "# Reviews in time"
   ]
  },
  {
   "cell_type": "markdown",
   "metadata": {},
   "source": [
    "We want to understand when a product is released and try to figure what info we can get out of this, to do so we start by creating a collection of the reviews and the review time."
   ]
  },
  {
   "cell_type": "code",
   "execution_count": 5,
   "metadata": {
    "collapsed": true,
    "scrolled": true
   },
   "outputs": [],
   "source": [
    "review_time=(df_reviews[['unixReviewTime','asin']].groupby('asin')\n",
    "     .agg(lambda x:(list(x))))\n",
    "review_time=review_time.applymap(lambda x: np.sort(np.array(x)));\n",
    "review_time['initial']=review_time['unixReviewTime'].apply(lambda x:x[0])\n",
    "review_time['review_days']=(review_time['unixReviewTime']-review_time['initial'])//(3600*24)\n",
    "review_time=review_time.drop('unixReviewTime',axis=1)\n",
    "review_time['day_last_review']=review_time['review_days'].apply(lambda x:x[-1])\n",
    "review_time['nb_reviews']=review_time['review_days'].apply(lambda x:len(x))"
   ]
  },
  {
   "cell_type": "markdown",
   "metadata": {},
   "source": [
    "We now graph the number of reviews against the days after the first review."
   ]
  },
  {
   "cell_type": "code",
   "execution_count": 6,
   "metadata": {
    "collapsed": true
   },
   "outputs": [],
   "source": [
    "from collections import Counter\n",
    "def create(days):\n",
    "    X=[days[0]]\n",
    "    Y=[0]\n",
    "    current=0\n",
    "    for day in days:\n",
    "        if day==X[-1]:\n",
    "            Y[current]+=1\n",
    "        else:\n",
    "            X.append(day)\n",
    "            Y.append(Y[-1]+1)\n",
    "            current+=1\n",
    "    return X,Y"
   ]
  },
  {
   "cell_type": "code",
   "execution_count": 34,
   "metadata": {
    "scrolled": true
   },
   "outputs": [
    {
     "data": {
      "image/png": "[encoded data removed]",
      "text/plain": [
       "<matplotlib.figure.Figure at 0x7f701bda97f0>"
      ]
     },
     "metadata": {},
     "output_type": "display_data"
    }
   ],
   "source": [
    "import matplotlib.pyplot as plt\n",
    "\n",
    "sample=review_time.sample(10)\n",
    "for days in sample.review_days:\n",
    "    \n",
    "    X,Y=create(days)\n",
    "    #print(X,Y)\n",
    "    plt.plot(X, Y,'o')\n",
    "    \n",
    "plt.xlabel(\"Days after first review\")\n",
    "plt.ylabel(\"Number of reviews\")\n",
    "plt.show()"
   ]
  },
  {
   "cell_type": "markdown",
   "metadata": {},
   "source": [
    "Let's make the following assumption:\n",
    "\n",
    "**Assumption: The \"better\" a product is, the more reviews it would have when measure over periods of time**\n",
    "\n",
    "In order to make this concrete, we can create a new invariant, we define \n",
    "\n",
    "**hotness** = area under the staircase formed by the curve in the interval where it is defined.\n"
   ]
  },
  {
   "cell_type": "code",
   "execution_count": 68,
   "metadata": {},
   "outputs": [],
   "source": [
    "def compute_hotness(days):\n",
    "    X,Y=create(days)\n",
    "    #X=[0,20,30]\n",
    "    #Y=[1,2,3]\n",
    "    area=0\n",
    "    for i in range(1,len(X)):\n",
    "        area+=(X[i]-X[i-1])*Y[i-1]\n",
    "    area+=Y[-1]\n",
    "    return area"
   ]
  },
  {
   "cell_type": "markdown",
   "metadata": {},
   "source": [
    "Let's add this feature"
   ]
  },
  {
   "cell_type": "code",
   "execution_count": 69,
   "metadata": {},
   "outputs": [],
   "source": [
    "review_time['hotness']=review_time['review_days'].apply(lambda x:compute_hotness(x))"
   ]
  },
  {
   "cell_type": "markdown",
   "metadata": {},
   "source": [
    "let's see if there's a correlation between hotness and salesrank."
   ]
  },
  {
   "cell_type": "code",
   "execution_count": 83,
   "metadata": {},
   "outputs": [],
   "source": [
    "review_time=review_time.reset_index()"
   ]
  },
  {
   "cell_type": "code",
   "execution_count": 148,
   "metadata": {
    "collapsed": true
   },
   "outputs": [],
   "source": [
    "def helper(x):\n",
    "    try:\n",
    "        return int(str(x)[16:-1])\n",
    "    except:\n",
    "        return float('NaN')"
   ]
  },
  {
   "cell_type": "code",
   "execution_count": 149,
   "metadata": {},
   "outputs": [],
   "source": [
    "review_time2=review_time.merge(df_meta[['asin','salesRank']],on='asin')\n",
    "review_time2['salesRank']=review_time2.salesRank.map(lambda x: helper(x))"
   ]
  },
  {
   "cell_type": "markdown",
   "metadata": {},
   "source": [
    "Let's look for correlations between this variables."
   ]
  },
  {
   "cell_type": "code",
   "execution_count": 182,
   "metadata": {},
   "outputs": [
    {
     "data": {
      "text/html": [
       "<div>\n",
       "<table border=\"1\" class=\"dataframe\">\n",
       "  <thead>\n",
       "    <tr style=\"text-align: right;\">\n",
       "      <th></th>\n",
       "      <th>hotness</th>\n",
       "      <th>salesRank</th>\n",
       "      <th>day_last_review</th>\n",
       "      <th>nb_reviews</th>\n",
       "    </tr>\n",
       "  </thead>\n",
       "  <tbody>\n",
       "    <tr>\n",
       "      <th>hotness</th>\n",
       "      <td>1.000000</td>\n",
       "      <td>-0.168000</td>\n",
       "      <td>0.384447</td>\n",
       "      <td>0.713395</td>\n",
       "    </tr>\n",
       "    <tr>\n",
       "      <th>salesRank</th>\n",
       "      <td>-0.168000</td>\n",
       "      <td>1.000000</td>\n",
       "      <td>0.127522</td>\n",
       "      <td>-0.292436</td>\n",
       "    </tr>\n",
       "    <tr>\n",
       "      <th>day_last_review</th>\n",
       "      <td>0.384447</td>\n",
       "      <td>0.127522</td>\n",
       "      <td>1.000000</td>\n",
       "      <td>0.023700</td>\n",
       "    </tr>\n",
       "    <tr>\n",
       "      <th>nb_reviews</th>\n",
       "      <td>0.713395</td>\n",
       "      <td>-0.292436</td>\n",
       "      <td>0.023700</td>\n",
       "      <td>1.000000</td>\n",
       "    </tr>\n",
       "  </tbody>\n",
       "</table>\n",
       "</div>"
      ],
      "text/plain": [
       "                  hotness  salesRank  day_last_review  nb_reviews\n",
       "hotness          1.000000  -0.168000         0.384447    0.713395\n",
       "salesRank       -0.168000   1.000000         0.127522   -0.292436\n",
       "day_last_review  0.384447   0.127522         1.000000    0.023700\n",
       "nb_reviews       0.713395  -0.292436         0.023700    1.000000"
      ]
     },
     "execution_count": 182,
     "metadata": {},
     "output_type": "execute_result"
    }
   ],
   "source": [
    "review_time2[['hotness','salesRank','day_last_review','nb_reviews']].corr()"
   ]
  },
  {
   "cell_type": "markdown",
   "metadata": {},
   "source": [
    "Let's look at the data"
   ]
  },
  {
   "cell_type": "code",
   "execution_count": 196,
   "metadata": {},
   "outputs": [
    {
     "data": {
      "image/png": "[encoded data removed]",
      "text/plain": [
       "<matplotlib.figure.Figure at 0x7f70182baef0>"
      ]
     },
     "metadata": {},
     "output_type": "display_data"
    }
   ],
   "source": [
    "plt.figure(figsize=(10,10))\n",
    "plt.plot(review_time2['hotness'], (review_time2['salesRank']), 'o')\n",
    "plt.show()"
   ]
  },
  {
   "cell_type": "code",
   "execution_count": null,
   "metadata": {
    "collapsed": true
   },
   "outputs": [],
   "source": []
  }
 ],
 "metadata": {
  "anaconda-cloud": {},
  "kernelspec": {
   "display_name": "Python [default]",
   "language": "python",
   "name": "python3"
  },
  "language_info": {
   "codemirror_mode": {
    "name": "ipython",
    "version": 3
   },
   "file_extension": ".py",
   "mimetype": "text/x-python",
   "name": "python",
   "nbconvert_exporter": "python",
   "pygments_lexer": "ipython3",
   "version": "3.5.2"
  }
 },
 "nbformat": 4,
 "nbformat_minor": 2
}
