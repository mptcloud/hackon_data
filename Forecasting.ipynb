{
 "cells": [
  {
   "cell_type": "markdown",
   "metadata": {},
   "source": [
    "# HackOn(Data)\n",
    "## Competition Challenge\n",
    "\n",
    "Welcome to our project. We have decided to do a simple Forecasting on the salesRank, more precesilly, \n",
    "\n",
    "** The problem:** Knowing the first set of reviews of a product forecast the salesRank of it. \n",
    "\n",
    "** Hypothesis:** The reviews are an indicative of how well a product is selling and contain enough information for a forecast.\n",
    "\n",
    "** Assumptions:** \n",
    "\n",
    "- We ommit that the data is seasonal.\n",
    "- By product we mean the combination of product and vendors, that is represented by the asin.\n",
    "- What else?\n",
    "\n",
    "** NOTE: ** This notebook is intended to show the overall ideas and, in order to make it easier to read, we have sacrificed speed. In the last section when talking about scalability we dwell into these details."
   ]
  },
  {
   "cell_type": "markdown",
   "metadata": {},
   "source": [
    "# Part 0 - Loading the tools\n",
    "\n",
    "We load the tools we will be using during this project."
   ]
  },
  {
   "cell_type": "code",
   "execution_count": 1,
   "metadata": {},
   "outputs": [
    {
     "name": "stderr",
     "output_type": "stream",
     "text": [
      "/home/felipe/anaconda3/lib/python3.5/site-packages/sklearn/cross_validation.py:44: DeprecationWarning: This module was deprecated in version 0.18 in favor of the model_selection module into which all the refactored classes and functions are moved. Also note that the interface of the new CV iterators are different from that of this module. This module will be removed in 0.20.\n",
      "  \"This module will be removed in 0.20.\", DeprecationWarning)\n"
     ]
    }
   ],
   "source": [
    "import pandas as pd\n",
    "import numpy as np\n",
    "import fasttext\n",
    "import gzip\n",
    "import matplotlib.pyplot as plt\n",
    "import xgboost as xgb\n",
    "import lightgbm as lgb\n",
    "\n",
    "from collections import Counter\n",
    "\n",
    "from sklearn.preprocessing import MultiLabelBinarizer #To be used with the categories feature\n",
    "from sklearn.model_selection import train_test_split, GridSearchCV\n",
    "from sklearn.ensemble import RandomForestRegressor\n",
    "from sklearn.metrics import r2_score,mean_squared_error\n",
    "\n",
    "%matplotlib inline  "
   ]
  },
  {
   "cell_type": "markdown",
   "metadata": {},
   "source": [
    "# Part 1- Cleaning and preparing The Data\n",
    "\n",
    "In this section we load the data, clean it, and prepare it for feature building. The data consists on\n",
    "\n",
    "### **Review Data**\n",
    "\n",
    "This dataset contains product reviews and metadata from Amazon, including 142.8 million reviews spanning May 1996 - July 2014.\n",
    "\n",
    "This dataset includes reviews (ratings, text, helpfulness votes), product metadata (descriptions, category information, price, brand, and image features), and links (also viewed/also bought graphs).\n",
    "\n",
    "### **Q&A Data**\n",
    "\n",
    "This dataset contains Questions and Answers data from Amazon, totaling around 1.4 million answered questions.\n",
    "\n",
    "This dataset can be combined with Amazon product review data, by matching ASINs in the Q/A dataset with ASINs in the review data. The review data also includes product metadata (product titles etc.).\n",
    "\n",
    "### **Credits:**\n",
    "\n",
    "-  **R. He, J. McAuley**. Modeling the visual evolution of fashion trends with one-class collaborative filtering. WWW, 2016 J. \n",
    "- ** McAuley, C. Targett, J. Shi, A. van den Hengel **. A Image-based recommendations on styles and substitutes. SIGIR, 2015\n",
    "\n",
    "\n",
    "We start with the scripts provided at [Julian McAuley's website](http://jmcauley.ucsd.edu/data/amazon/)."
   ]
  },
  {
   "cell_type": "code",
   "execution_count": 2,
   "metadata": {
    "collapsed": true
   },
   "outputs": [],
   "source": [
    "def parse(path):\n",
    "  g = gzip.open(path, 'rb')\n",
    "  for l in g:\n",
    "    yield eval(l)\n",
    "\n",
    "def getDF(path):\n",
    "  i = 0\n",
    "  df = {}\n",
    "  for d in parse(path):\n",
    "    df[i] = d\n",
    "    i += 1\n",
    "  return pd.DataFrame.from_dict(df, orient='index')"
   ]
  },
  {
   "cell_type": "markdown",
   "metadata": {},
   "source": [
    "and use these methods to load the data"
   ]
  },
  {
   "cell_type": "code",
   "execution_count": 3,
   "metadata": {
    "collapsed": true
   },
   "outputs": [],
   "source": [
    "df_reviews = getDF('./data/reviews_Video_Games_5.json.gz')\n",
    "df_meta=getDF('./data/meta_Video_Games.json.gz')\n",
    "df_qa=getDF('./data/qa_Video_Games.json.gz')"
   ]
  },
  {
   "cell_type": "markdown",
   "metadata": {},
   "source": [
    "We now study the different features."
   ]
  },
  {
   "cell_type": "markdown",
   "metadata": {},
   "source": [
    "\n",
    "## Features from the meta file\n",
    "\n",
    "### SalesRank\n",
    "\n",
    "Note that the dataframe that contains the salesRank is df_meta. In this data there are two possible cases where the values described are not helpful. The first one is a NaN value, and we can use is null method to deal with this, the second one is the case of a dictionary no containing the relevant key. We use a helper function to help us with this."
   ]
  },
  {
   "cell_type": "code",
   "execution_count": 4,
   "metadata": {
    "collapsed": true
   },
   "outputs": [],
   "source": [
    "RELEVANT_KEY='Video Games'\n",
    "def helper(dictionary):\n",
    "    try:\n",
    "        return dictionary[RELEVANT_KEY]\n",
    "    except:\n",
    "        return float('NaN')"
   ]
  },
  {
   "cell_type": "code",
   "execution_count": 5,
   "metadata": {
    "collapsed": true
   },
   "outputs": [],
   "source": [
    "df_meta['salesRank']=df_meta.salesRank.map(lambda x: helper(x))"
   ]
  },
  {
   "cell_type": "markdown",
   "metadata": {},
   "source": [
    "We can now count how many entries don't have the desired rank \n",
    "data."
   ]
  },
  {
   "cell_type": "code",
   "execution_count": 6,
   "metadata": {},
   "outputs": [
    {
     "data": {
      "text/plain": [
       "5675"
      ]
     },
     "execution_count": 6,
     "metadata": {},
     "output_type": "execute_result"
    }
   ],
   "source": [
    "df_meta.salesRank[(df_meta.salesRank.isnull())].shape[0]"
   ]
  },
  {
   "cell_type": "markdown",
   "metadata": {},
   "source": [
    "and proceed to remove these rows "
   ]
  },
  {
   "cell_type": "code",
   "execution_count": 7,
   "metadata": {
    "collapsed": true
   },
   "outputs": [],
   "source": [
    "df_meta=df_meta[ df_meta.salesRank.notnull()]"
   ]
  },
  {
   "cell_type": "markdown",
   "metadata": {},
   "source": [
    "We can do a sanity check "
   ]
  },
  {
   "cell_type": "code",
   "execution_count": 8,
   "metadata": {},
   "outputs": [
    {
     "data": {
      "text/plain": [
       "0"
      ]
     },
     "execution_count": 8,
     "metadata": {},
     "output_type": "execute_result"
    }
   ],
   "source": [
    "df_meta.salesRank[(df_meta.salesRank.isnull())].shape[0]"
   ]
  },
  {
   "cell_type": "markdown",
   "metadata": {},
   "source": [
    "### imUrl\n",
    "\n",
    "This features contains the web address to an image. As ee won't be using the images, so we drop this column."
   ]
  },
  {
   "cell_type": "code",
   "execution_count": 9,
   "metadata": {
    "collapsed": true
   },
   "outputs": [],
   "source": [
    "df_meta=df_meta.drop('imUrl',axis=1)"
   ]
  },
  {
   "cell_type": "markdown",
   "metadata": {},
   "source": [
    "### Title and brand\n",
    "\n",
    "From the fact that the percentage of articles with title or brands are"
   ]
  },
  {
   "cell_type": "code",
   "execution_count": 10,
   "metadata": {},
   "outputs": [
    {
     "name": "stdout",
     "output_type": "stream",
     "text": [
      "Only 0.22% of the products have title.\n",
      "Only 0.11% of the products have brand.\n"
     ]
    }
   ],
   "source": [
    "print(\"Only %.2f%% of the products have title.\"%(df_meta.title.count()/df_meta.asin.count()*100))\n",
    "print(\"Only %.2f%% of the products have brand.\"%(df_meta.brand.count()/df_meta.asin.count()*100))"
   ]
  },
  {
   "cell_type": "markdown",
   "metadata": {},
   "source": [
    "We can deduce that this features are not relevant, and so we drop them as well."
   ]
  },
  {
   "cell_type": "code",
   "execution_count": 11,
   "metadata": {
    "collapsed": true
   },
   "outputs": [],
   "source": [
    "df_meta=df_meta.drop(['title','brand'],axis=1)"
   ]
  },
  {
   "cell_type": "markdown",
   "metadata": {},
   "source": [
    "### Price\n",
    "\n",
    "The feature price is definitely relevant for the  forecasting, now note that "
   ]
  },
  {
   "cell_type": "code",
   "execution_count": 12,
   "metadata": {},
   "outputs": [
    {
     "name": "stdout",
     "output_type": "stream",
     "text": [
      "88.25% of the products have a price.\n"
     ]
    }
   ],
   "source": [
    "print(\"%.2f%% of the products have a price.\"%(df_meta.price.count()*100/df_meta.asin.count()))"
   ]
  },
  {
   "cell_type": "markdown",
   "metadata": {},
   "source": [
    "as this is a relevant feature we remove the rows with missing data."
   ]
  },
  {
   "cell_type": "code",
   "execution_count": 13,
   "metadata": {
    "collapsed": true
   },
   "outputs": [],
   "source": [
    "df_meta=df_meta[df_meta.price.notnull()]"
   ]
  },
  {
   "cell_type": "markdown",
   "metadata": {},
   "source": [
    "Another sanity check."
   ]
  },
  {
   "cell_type": "code",
   "execution_count": 14,
   "metadata": {},
   "outputs": [
    {
     "name": "stdout",
     "output_type": "stream",
     "text": [
      "100.00% of the products have a price.\n"
     ]
    }
   ],
   "source": [
    "print(\"%.2f%% of the products have a price.\"%(df_meta.price.count()*100/df_meta.asin.count()))"
   ]
  },
  {
   "cell_type": "markdown",
   "metadata": {},
   "source": [
    "After this cleaning "
   ]
  },
  {
   "cell_type": "code",
   "execution_count": 15,
   "metadata": {},
   "outputs": [
    {
     "name": "stdout",
     "output_type": "stream",
     "text": [
      "There are 39959 products left\n"
     ]
    }
   ],
   "source": [
    "print(\"There are %d products left\"%df_meta.asin.count())"
   ]
  },
  {
   "cell_type": "markdown",
   "metadata": {},
   "source": [
    "### Categories\n",
    "\n",
    "The categories feature comes as a list of lists, let's first find out how many different categories are there."
   ]
  },
  {
   "cell_type": "code",
   "execution_count": 16,
   "metadata": {},
   "outputs": [
    {
     "name": "stdout",
     "output_type": "stream",
     "text": [
      "There are 334 categories\n"
     ]
    }
   ],
   "source": [
    "categories=set()\n",
    "for list_cats in df_meta.categories:\n",
    "    for list_cat in list_cats:\n",
    "        categories=categories.union(set(list_cat))\n",
    "categories=list(categories)\n",
    "print(\"There are %d categories\"%len(categories))"
   ]
  },
  {
   "cell_type": "markdown",
   "metadata": {},
   "source": [
    "we use these as a categorial variable, first we create a unique list of categories for each product"
   ]
  },
  {
   "cell_type": "code",
   "execution_count": 17,
   "metadata": {
    "collapsed": true
   },
   "outputs": [],
   "source": [
    "def helper2(list_cats):\n",
    "    cats=set()\n",
    "    for list_cat in list_cats:\n",
    "        cats=cats.union(set(list_cat))\n",
    "    return list(cats)"
   ]
  },
  {
   "cell_type": "code",
   "execution_count": 18,
   "metadata": {
    "collapsed": true
   },
   "outputs": [],
   "source": [
    "df_meta['categories']=df_meta.categories.apply(helper2)"
   ]
  },
  {
   "cell_type": "markdown",
   "metadata": {},
   "source": [
    "and then we use the [MultiLabelBinarizer](http://scikit-learn.org/stable/modules/generated/sklearn.preprocessing.MultiLabelBinarizer.html) from sklearn to do the encodding. "
   ]
  },
  {
   "cell_type": "code",
   "execution_count": 19,
   "metadata": {
    "collapsed": true
   },
   "outputs": [],
   "source": [
    "mlb=MultiLabelBinarizer()\n",
    "mlb.fit(df_meta.categories)\n",
    "categories_df=pd.DataFrame(mlb.transform(df_meta.categories),columns=list(mlb.classes_))\n",
    "df_meta.reset_index(drop=True,inplace=True)\n",
    "df_meta=df_meta.merge(categories_df,left_index =True,right_index =True)"
   ]
  },
  {
   "cell_type": "markdown",
   "metadata": {},
   "source": [
    "and finally we drop the categories column."
   ]
  },
  {
   "cell_type": "code",
   "execution_count": 20,
   "metadata": {
    "collapsed": true
   },
   "outputs": [],
   "source": [
    "df_meta=df_meta.drop('categories',axis=1)"
   ]
  },
  {
   "cell_type": "markdown",
   "metadata": {},
   "source": [
    "### related and decription\n",
    "\n",
    "(ARE WE USING THIS?, RELATED MAY GIVE NICE INFO, BUT DESCRIPTION SEEMS USELESS)\n",
    "\n",
    "We won't be using this either, so we remove them."
   ]
  },
  {
   "cell_type": "code",
   "execution_count": 21,
   "metadata": {
    "collapsed": true
   },
   "outputs": [],
   "source": [
    "df_meta=df_meta.drop(['related','description'],axis=1)"
   ]
  },
  {
   "cell_type": "markdown",
   "metadata": {},
   "source": [
    "## Features from the reviews file\n",
    "\n",
    "### reviewText\n",
    "\n",
    "This feature containing the review will be used for sentiment analysis. We come back to this when building features. For now, we just get rid of the data with empty reviews."
   ]
  },
  {
   "cell_type": "code",
   "execution_count": 22,
   "metadata": {},
   "outputs": [
    {
     "name": "stdout",
     "output_type": "stream",
     "text": [
      "There are 44 empty reviews.\n"
     ]
    }
   ],
   "source": [
    "print(\"There are %d empty reviews.\"%df_reviews[df_reviews.reviewText==\"\"].shape[0])\n",
    "df_reviews=df_reviews[df_reviews.reviewText!=\"\"]"
   ]
  },
  {
   "cell_type": "markdown",
   "metadata": {},
   "source": [
    "### summary\n",
    "\n",
    "We won't be using this feature, so we drop it"
   ]
  },
  {
   "cell_type": "code",
   "execution_count": 23,
   "metadata": {
    "collapsed": true
   },
   "outputs": [],
   "source": [
    "df_reviews=df_reviews.drop('summary',axis=1)"
   ]
  },
  {
   "cell_type": "markdown",
   "metadata": {},
   "source": [
    "### reviewTime\n",
    "\n",
    "This feature is redundant since we have unixReviewTime, so we also get rid of this"
   ]
  },
  {
   "cell_type": "code",
   "execution_count": 24,
   "metadata": {
    "collapsed": true
   },
   "outputs": [],
   "source": [
    "df_reviews=df_reviews.drop('reviewTime',axis=1)"
   ]
  },
  {
   "cell_type": "markdown",
   "metadata": {},
   "source": [
    "### ReviewerName\n",
    "This is also redundant, since we have the reviewerID, we drop it"
   ]
  },
  {
   "cell_type": "code",
   "execution_count": 25,
   "metadata": {
    "collapsed": true
   },
   "outputs": [],
   "source": [
    "df_reviews=df_reviews.drop('reviewerName',axis=1)"
   ]
  },
  {
   "cell_type": "markdown",
   "metadata": {},
   "source": [
    "# Part 2 - Feature engineering\n",
    "\n",
    "In this part we build our features, this will be done in the following order.\n",
    "\n",
    "\n",
    "- Use sentiment analysis to give a sentiment score to the reviews. (Reason: a score of 3 for two people may mean different things the sentiment wil help correct this)\n",
    "\n",
    "- ReviewerID features: will help us gain confidence in the review.\n",
    "\n",
    "- helpful: Increases the confidence.\n",
    "\n",
    "- ReviewTime: To create a time series for the (cummulative) number of reviews.\n",
    "\n",
    "- Categories: Create category 'Other' and move everything that is not in the top 20 categories to the 'Other' category.\n"
   ]
  },
  {
   "cell_type": "markdown",
   "metadata": {},
   "source": [
    "### Sentiment Analysis on reviews\n",
    "\n",
    "We use fasttext from facebook [CITE] to create an score. For this we need to save the data we need to a text file, since that is the signature of the training method of fasttext."
   ]
  },
  {
   "cell_type": "code",
   "execution_count": 26,
   "metadata": {
    "collapsed": true
   },
   "outputs": [],
   "source": [
    "df_sentiment=df_reviews.loc[:,('reviewText','overall')]\n",
    "df_sentiment['overall']=df_sentiment.overall.apply(lambda x: '__label__'+str(int(x)))\n",
    "df_sentiment.to_csv(r'./data_/data_for_sentiment.txt', header=None, index=None, sep=' ', mode='a')"
   ]
  },
  {
   "cell_type": "markdown",
   "metadata": {},
   "source": [
    "Now, that the data is prepared for procesing, we can use the classifier."
   ]
  },
  {
   "cell_type": "code",
   "execution_count": 27,
   "metadata": {
    "collapsed": true
   },
   "outputs": [],
   "source": [
    "classifier = fasttext.supervised('./data_/data_for_sentiment.txt', 'model', label_prefix='__label__')"
   ]
  },
  {
   "cell_type": "markdown",
   "metadata": {},
   "source": [
    "and do a simple, sanity check"
   ]
  },
  {
   "cell_type": "code",
   "execution_count": 28,
   "metadata": {},
   "outputs": [
    {
     "name": "stdout",
     "output_type": "stream",
     "text": [
      "[['5'], ['1']]\n"
     ]
    }
   ],
   "source": [
    "texts=[\"this is an awesome\",\"this sucks\"]\n",
    "labels = classifier.predict(texts)\n",
    "print(labels)"
   ]
  },
  {
   "cell_type": "markdown",
   "metadata": {},
   "source": [
    "and we can add this feature to the reviews dataframe"
   ]
  },
  {
   "cell_type": "code",
   "execution_count": 29,
   "metadata": {
    "collapsed": true
   },
   "outputs": [],
   "source": [
    "df_reviews['sentimentScore']=df_reviews.reviewText.apply(\n",
    "    lambda x:int(classifier.predict([x])[0][0]))"
   ]
  },
  {
   "cell_type": "markdown",
   "metadata": {},
   "source": [
    "as that was our use of the textReview feature we can get rid of it."
   ]
  },
  {
   "cell_type": "code",
   "execution_count": 30,
   "metadata": {
    "collapsed": true
   },
   "outputs": [],
   "source": [
    "df_reviews=df_reviews.drop('reviewText',axis=1)"
   ]
  },
  {
   "cell_type": "code",
   "execution_count": 31,
   "metadata": {},
   "outputs": [
    {
     "data": {
      "text/html": [
       "<div>\n",
       "<table border=\"1\" class=\"dataframe\">\n",
       "  <thead>\n",
       "    <tr style=\"text-align: right;\">\n",
       "      <th></th>\n",
       "      <th>unixReviewTime</th>\n",
       "      <th>overall</th>\n",
       "      <th>helpful</th>\n",
       "      <th>reviewerID</th>\n",
       "      <th>asin</th>\n",
       "      <th>sentimentScore</th>\n",
       "    </tr>\n",
       "  </thead>\n",
       "  <tbody>\n",
       "    <tr>\n",
       "      <th>0</th>\n",
       "      <td>1341792000</td>\n",
       "      <td>1.0</td>\n",
       "      <td>[8, 12]</td>\n",
       "      <td>A2HD75EMZR8QLN</td>\n",
       "      <td>0700099867</td>\n",
       "      <td>1</td>\n",
       "    </tr>\n",
       "    <tr>\n",
       "      <th>1</th>\n",
       "      <td>1372550400</td>\n",
       "      <td>4.0</td>\n",
       "      <td>[0, 0]</td>\n",
       "      <td>A3UR8NLLY1ZHCX</td>\n",
       "      <td>0700099867</td>\n",
       "      <td>4</td>\n",
       "    </tr>\n",
       "    <tr>\n",
       "      <th>2</th>\n",
       "      <td>1403913600</td>\n",
       "      <td>1.0</td>\n",
       "      <td>[0, 0]</td>\n",
       "      <td>A1INA0F5CWW3J4</td>\n",
       "      <td>0700099867</td>\n",
       "      <td>1</td>\n",
       "    </tr>\n",
       "    <tr>\n",
       "      <th>3</th>\n",
       "      <td>1315958400</td>\n",
       "      <td>3.0</td>\n",
       "      <td>[7, 10]</td>\n",
       "      <td>A1DLMTOTHQ4AST</td>\n",
       "      <td>0700099867</td>\n",
       "      <td>1</td>\n",
       "    </tr>\n",
       "    <tr>\n",
       "      <th>4</th>\n",
       "      <td>1308009600</td>\n",
       "      <td>4.0</td>\n",
       "      <td>[2, 2]</td>\n",
       "      <td>A361M14PU2GUEG</td>\n",
       "      <td>0700099867</td>\n",
       "      <td>5</td>\n",
       "    </tr>\n",
       "  </tbody>\n",
       "</table>\n",
       "</div>"
      ],
      "text/plain": [
       "   unixReviewTime  overall  helpful      reviewerID        asin  \\\n",
       "0      1341792000      1.0  [8, 12]  A2HD75EMZR8QLN  0700099867   \n",
       "1      1372550400      4.0   [0, 0]  A3UR8NLLY1ZHCX  0700099867   \n",
       "2      1403913600      1.0   [0, 0]  A1INA0F5CWW3J4  0700099867   \n",
       "3      1315958400      3.0  [7, 10]  A1DLMTOTHQ4AST  0700099867   \n",
       "4      1308009600      4.0   [2, 2]  A361M14PU2GUEG  0700099867   \n",
       "\n",
       "   sentimentScore  \n",
       "0               1  \n",
       "1               4  \n",
       "2               1  \n",
       "3               1  \n",
       "4               5  "
      ]
     },
     "execution_count": 31,
     "metadata": {},
     "output_type": "execute_result"
    }
   ],
   "source": [
    "df_reviews.head()"
   ]
  },
  {
   "cell_type": "markdown",
   "metadata": {},
   "source": [
    "### ReviewerID\n",
    "\n",
    "We want to measure the quality of a review, so far we only have a values for this, the helpful feature. We add a new feature that comes from the reviewerID where we say that a review has better quality the larger the number of reviews the corresponding revierID has. We start by counting frequencies of the reviewerID. "
   ]
  },
  {
   "cell_type": "code",
   "execution_count": 32,
   "metadata": {
    "collapsed": true
   },
   "outputs": [],
   "source": [
    "value_counts_reviewerID=df_reviews.reviewerID.value_counts().to_dict()"
   ]
  },
  {
   "cell_type": "markdown",
   "metadata": {},
   "source": [
    "and add the feature reviewerQuality"
   ]
  },
  {
   "cell_type": "code",
   "execution_count": 33,
   "metadata": {
    "collapsed": true
   },
   "outputs": [],
   "source": [
    "df_reviews['reviewerQuality']=df_reviews.reviewerID.apply(lambda x: value_counts_reviewerID[x])"
   ]
  },
  {
   "cell_type": "markdown",
   "metadata": {},
   "source": [
    "as we won't be using the reviewerID anymore, we get rid of this feature."
   ]
  },
  {
   "cell_type": "code",
   "execution_count": 34,
   "metadata": {
    "collapsed": true
   },
   "outputs": [],
   "source": [
    "df_reviews=df_reviews.drop('reviewerID',axis=1)"
   ]
  },
  {
   "cell_type": "markdown",
   "metadata": {},
   "source": [
    "## Data aggregation\n",
    "\n",
    "Before we continue with the feature generation, we need to agregate the data by product. This will make the features to be a time series, where the time is controled by the UnixReviewTime.\n"
   ]
  },
  {
   "cell_type": "code",
   "execution_count": 35,
   "metadata": {
    "collapsed": true
   },
   "outputs": [],
   "source": [
    "df_products = df_reviews.groupby('asin').agg(lambda x:(list(x)))"
   ]
  },
  {
   "cell_type": "markdown",
   "metadata": {},
   "source": [
    "### helpful\n",
    "\n",
    "In order to incorporate the helpful score into the product, we create two variables defined below:\n",
    "\n",
    "$$ \\text{helpfulOverall} = \\sum \\text{overall}_i \\cdot \\frac{\\text{helpful}_i[0]}{\\text{helpful}_i[1]} $$ \n",
    "\n",
    "and \n",
    "\n",
    "$$ \\text{helpfulSentiment} = \\sum \\text{sentiment_score}_i \\cdot \\frac{\\text{helpful}_i[0]}{\\text{helpful}_i[1]} $$ \n",
    "where the sums run over the $i$ such that helpful$_i$[1]$\\neq 0$.\n",
    "\n",
    "We need a helper function to incorporate these new features."
   ]
  },
  {
   "cell_type": "code",
   "execution_count": 36,
   "metadata": {
    "collapsed": true
   },
   "outputs": [],
   "source": [
    "def helper_helpful(A,B):\n",
    "    total=0\n",
    "    for a,b in zip(A,B):\n",
    "        b1,b2=b\n",
    "        if b2!=0:\n",
    "            total+=a*b1/b2\n",
    "    return total"
   ]
  },
  {
   "cell_type": "code",
   "execution_count": 37,
   "metadata": {
    "collapsed": true
   },
   "outputs": [],
   "source": [
    "df_products['helpfulOverall']=df_products.apply(lambda row: helper_helpful(row['overall'],row['helpful']),axis=1)\n",
    "df_products['helpfulSentiment']=df_products.apply(lambda row: helper_helpful(row['sentimentScore'],row['helpful']),axis=1)"
   ]
  },
  {
   "cell_type": "markdown",
   "metadata": {},
   "source": [
    "and we can drop the helpful feature now."
   ]
  },
  {
   "cell_type": "code",
   "execution_count": 38,
   "metadata": {
    "collapsed": true
   },
   "outputs": [],
   "source": [
    "df_products=df_products.drop(['helpful'],axis=1)"
   ]
  },
  {
   "cell_type": "markdown",
   "metadata": {},
   "source": [
    "### reviewerQuality\n",
    "\n",
    "As we want to introduced an invariant that captures the quality of the review, we can use this in the same way as with helpful to produce two more features.\n",
    "\n",
    "$$ \\text{qualityOverall} = \\sum \\text{overall}_i \\cdot \\text{reviewerQuality}_i $$ \n",
    "\n",
    "and \n",
    "\n",
    "$$ \\text{qualitySentiment} = \\sum \\text{sentiment}_i \\cdot \\text{reviewerQuality}_i $$ "
   ]
  },
  {
   "cell_type": "markdown",
   "metadata": {},
   "source": [
    "as before, we need a helper function"
   ]
  },
  {
   "cell_type": "code",
   "execution_count": 39,
   "metadata": {
    "collapsed": true
   },
   "outputs": [],
   "source": [
    "def helper_quality(A,B):\n",
    "    total=0\n",
    "    for a,b in zip(A,B):\n",
    "        total+=a*b\n",
    "    return total"
   ]
  },
  {
   "cell_type": "code",
   "execution_count": 40,
   "metadata": {
    "collapsed": true
   },
   "outputs": [],
   "source": [
    "df_products['qualityOverall']=df_products.apply(lambda row: helper_quality(row['overall'],row['reviewerQuality']),axis=1)\n",
    "df_products['qualitySentiment']=df_products.apply(lambda row: helper_quality(row['sentimentScore'],row['reviewerQuality']),axis=1)"
   ]
  },
  {
   "cell_type": "markdown",
   "metadata": {},
   "source": [
    "and we are ready to drop more features. "
   ]
  },
  {
   "cell_type": "code",
   "execution_count": 41,
   "metadata": {
    "collapsed": true
   },
   "outputs": [],
   "source": [
    "df_products=df_products.drop(['overall','sentimentScore','reviewerQuality'],axis=1)"
   ]
  },
  {
   "cell_type": "markdown",
   "metadata": {},
   "source": [
    "**REMARK:** The reader should note that there is a faster way to compute the last two features, readly starting from the df_reviews dataframe building the individual multiplications and then aggregating. We opted for the (significantly) slower way to make the notebook easier to read."
   ]
  },
  {
   "cell_type": "markdown",
   "metadata": {},
   "source": [
    "### The hotness feature\n",
    "\n",
    "As the unixReviewTime is the number of seconds since 1970, we simplify this so it keeps track of the number of days instead, we create a feature to keep track of the first day and modify the feature to keep track of the days after the first day that the review was created."
   ]
  },
  {
   "cell_type": "code",
   "execution_count": 42,
   "metadata": {
    "collapsed": true
   },
   "outputs": [],
   "source": [
    "df_products['unixReviewTime']=df_products.unixReviewTime.apply(lambda x: np.sort(np.array(x)//3600//24))\n",
    "df_products['firstReviewDay']=df_products.unixReviewTime.apply(lambda x:x[0])\n",
    "df_products['daysSinceFirstReview']=df_products.unixReviewTime.apply(lambda x: x- x[0])"
   ]
  },
  {
   "cell_type": "markdown",
   "metadata": {},
   "source": [
    "The feature unixReviewTime is now irrelevant"
   ]
  },
  {
   "cell_type": "code",
   "execution_count": 43,
   "metadata": {
    "collapsed": true
   },
   "outputs": [],
   "source": [
    "df_products=df_products.drop('unixReviewTime',axis=1)"
   ]
  },
  {
   "cell_type": "markdown",
   "metadata": {},
   "source": [
    "we add a feature called productLife, keeping track of when the last review took place, and another feature for the number of reviews, nunmberReviews."
   ]
  },
  {
   "cell_type": "code",
   "execution_count": 44,
   "metadata": {
    "collapsed": true
   },
   "outputs": [],
   "source": [
    "df_products['productLife']=df_products.daysSinceFirstReview.apply(lambda x:x[-1])\n",
    "df_products['numberReviews']=df_products.daysSinceFirstReview.apply(lambda x: len(x))"
   ]
  },
  {
   "cell_type": "markdown",
   "metadata": {},
   "source": [
    "To illustrate the next feature we are going to create, we graph the number of reviews against the days after the first review, for a sample set of reviews"
   ]
  },
  {
   "cell_type": "code",
   "execution_count": 45,
   "metadata": {
    "collapsed": true
   },
   "outputs": [],
   "source": [
    "def create(days):\n",
    "    X=[days[0]]\n",
    "    Y=[0]\n",
    "    current=0\n",
    "    for day in days:\n",
    "        if day==X[-1]:\n",
    "            Y[current]+=1\n",
    "        else:\n",
    "            X.append(day)\n",
    "            Y.append(Y[-1]+1)\n",
    "            current+=1\n",
    "    return X,Y"
   ]
  },
  {
   "cell_type": "code",
   "execution_count": 46,
   "metadata": {},
   "outputs": [
    {
     "data": {
      "image/png": "[encoded data removed]",
      "text/plain": [
       "<matplotlib.figure.Figure at 0x7feaebee3630>"
      ]
     },
     "metadata": {},
     "output_type": "display_data"
    }
   ],
   "source": [
    "sample=df_products.sample(10)\n",
    "fig=plt.figure(figsize=(12,8))\n",
    "for days in sample.daysSinceFirstReview:\n",
    "    \n",
    "    X,Y=create(days)\n",
    "    #print(X,Y)\n",
    "    plt.plot(X, Y,'o')\n",
    "\n",
    "plt.xlabel(\"Days after first review\")\n",
    "plt.ylabel(\"Number of reviews\")\n",
    "plt.show()"
   ]
  },
  {
   "cell_type": "markdown",
   "metadata": {},
   "source": [
    "Let's make the following assumption:\n",
    "\n",
    "**Assumption: The \"better\" a product is, the more reviews it would have when measure over periods of time**\n",
    "\n",
    "In order to make this concrete, we can create a new invariant, we define \n",
    "\n",
    "**hotness** = area under the staircase formed by the curve in the interval where it is defined."
   ]
  },
  {
   "cell_type": "code",
   "execution_count": 47,
   "metadata": {
    "collapsed": true
   },
   "outputs": [],
   "source": [
    "def compute_hotness(days):\n",
    "    X,Y=create(days)\n",
    "    #X=[0,20,30]\n",
    "    #Y=[1,2,3]\n",
    "    area=0\n",
    "    for i in range(1,len(X)):\n",
    "        area+=(X[i]-X[i-1])*Y[i-1]\n",
    "    area+=Y[-1]\n",
    "\n",
    "    return area"
   ]
  },
  {
   "cell_type": "markdown",
   "metadata": {},
   "source": [
    "Let's add this feature"
   ]
  },
  {
   "cell_type": "code",
   "execution_count": 48,
   "metadata": {
    "collapsed": true
   },
   "outputs": [],
   "source": [
    "df_products['hotness']=df_products.daysSinceFirstReview.apply(lambda x:compute_hotness(x))"
   ]
  },
  {
   "cell_type": "markdown",
   "metadata": {},
   "source": [
    "This concludes our feature creation, our next step is to set up the data for training."
   ]
  },
  {
   "cell_type": "markdown",
   "metadata": {},
   "source": [
    "# Creating the X and y's\n",
    "\n",
    "We want to create a dataset containing the features our models will use. "
   ]
  },
  {
   "cell_type": "code",
   "execution_count": 49,
   "metadata": {
    "collapsed": true
   },
   "outputs": [],
   "source": [
    "Xy_df= df_products.drop(['firstReviewDay','daysSinceFirstReview'],axis=1)\n",
    "Xy_df=Xy_df.merge(df_meta, left_index=True,right_on='asin')"
   ]
  },
  {
   "cell_type": "markdown",
   "metadata": {},
   "source": [
    "We select the columns of features and the column of predictions"
   ]
  },
  {
   "cell_type": "code",
   "execution_count": 50,
   "metadata": {
    "collapsed": true
   },
   "outputs": [],
   "source": [
    "#Xy_df['extra']=Xy_df.hotness.apply(np.log) (improves score by 0.001)\n",
    "y=Xy_df.salesRank.as_matrix()\n",
    "X=Xy_df.drop(['salesRank','asin'],axis=1).as_matrix()"
   ]
  },
  {
   "cell_type": "markdown",
   "metadata": {},
   "source": [
    "now that we have the data we first separate it into train, validation, and test sets."
   ]
  },
  {
   "cell_type": "code",
   "execution_count": 51,
   "metadata": {
    "collapsed": true
   },
   "outputs": [],
   "source": [
    "X_train, X_test, y_train, y_test = train_test_split(X, y, test_size=0.1, random_state=13)\n",
    "X_train, X_val, y_train, y_val = train_test_split(X_train, y_train, test_size=0.2/0.9, random_state=13)"
   ]
  },
  {
   "cell_type": "code",
   "execution_count": null,
   "metadata": {
    "collapsed": true
   },
   "outputs": [],
   "source": []
  },
  {
   "cell_type": "markdown",
   "metadata": {
    "collapsed": true
   },
   "source": [
    "# some models (draft)\n",
    "\n",
    "We create the models now\n",
    "\n",
    "### Random Forest"
   ]
  },
  {
   "cell_type": "code",
   "execution_count": 52,
   "metadata": {
    "collapsed": true
   },
   "outputs": [],
   "source": [
    "RandomForestModel = RandomForestRegressor()"
   ]
  },
  {
   "cell_type": "code",
   "execution_count": 53,
   "metadata": {},
   "outputs": [
    {
     "data": {
      "text/plain": [
       "RandomForestRegressor(bootstrap=True, criterion='mse', max_depth=None,\n",
       "           max_features='auto', max_leaf_nodes=None,\n",
       "           min_impurity_split=1e-07, min_samples_leaf=1,\n",
       "           min_samples_split=2, min_weight_fraction_leaf=0.0,\n",
       "           n_estimators=10, n_jobs=1, oob_score=False, random_state=None,\n",
       "           verbose=0, warm_start=False)"
      ]
     },
     "execution_count": 53,
     "metadata": {},
     "output_type": "execute_result"
    }
   ],
   "source": [
    "RandomForestModel.fit(X_train,y_train)"
   ]
  },
  {
   "cell_type": "code",
   "execution_count": 54,
   "metadata": {},
   "outputs": [
    {
     "data": {
      "text/plain": [
       "array([  5,   4,   6,   7, 226,   1,   3,   0,   2, 208, 180, 143, 147,\n",
       "       218,  63,  11, 335, 236, 195, 138])"
      ]
     },
     "execution_count": 54,
     "metadata": {},
     "output_type": "execute_result"
    }
   ],
   "source": [
    "RandomForestModel.feature_importances_.argsort()[-20:][::-1]"
   ]
  },
  {
   "cell_type": "code",
   "execution_count": 55,
   "metadata": {},
   "outputs": [
    {
     "data": {
      "text/plain": [
       "0.29634694596319489"
      ]
     },
     "execution_count": 55,
     "metadata": {},
     "output_type": "execute_result"
    }
   ],
   "source": [
    "RandomForestModel.score(X_val,y_val)"
   ]
  },
  {
   "cell_type": "code",
   "execution_count": 56,
   "metadata": {},
   "outputs": [
    {
     "data": {
      "text/plain": [
       "9488.2920116962523"
      ]
     },
     "execution_count": 56,
     "metadata": {},
     "output_type": "execute_result"
    }
   ],
   "source": [
    "np.sqrt(mean_squared_error(y_val,RandomForestModel.predict(X_val)))"
   ]
  },
  {
   "cell_type": "markdown",
   "metadata": {},
   "source": [
    "### Xgboost"
   ]
  },
  {
   "cell_type": "code",
   "execution_count": 57,
   "metadata": {},
   "outputs": [],
   "source": [
    "xgb_model = xgb.XGBRegressor()"
   ]
  },
  {
   "cell_type": "code",
   "execution_count": 58,
   "metadata": {},
   "outputs": [],
   "source": [
    "XGBModel = GridSearchCV(xgb_model,\n",
    "                   {'max_depth': [2,4,6],\n",
    "                    'n_estimators': [50,100,200],\n",
    "                   }, verbose=1)"
   ]
  },
  {
   "cell_type": "code",
   "execution_count": 59,
   "metadata": {},
   "outputs": [
    {
     "name": "stdout",
     "output_type": "stream",
     "text": [
      "Fitting 3 folds for each of 9 candidates, totalling 27 fits\n"
     ]
    },
    {
     "name": "stderr",
     "output_type": "stream",
     "text": [
      "[Parallel(n_jobs=1)]: Done  27 out of  27 | elapsed:  3.3min finished\n"
     ]
    },
    {
     "data": {
      "text/plain": [
       "GridSearchCV(cv=None, error_score='raise',\n",
       "       estimator=XGBRegressor(base_score=0.5, colsample_bylevel=1, colsample_bytree=1, gamma=0,\n",
       "       learning_rate=0.1, max_delta_step=0, max_depth=3,\n",
       "       min_child_weight=1, missing=None, n_estimators=100, nthread=-1,\n",
       "       objective='reg:linear', reg_alpha=0, reg_lambda=1,\n",
       "       scale_pos_weight=1, seed=0, silent=True, subsample=1),\n",
       "       fit_params={}, iid=True, n_jobs=1,\n",
       "       param_grid={'max_depth': [2, 4, 6], 'n_estimators': [50, 100, 200]},\n",
       "       pre_dispatch='2*n_jobs', refit=True, return_train_score=True,\n",
       "       scoring=None, verbose=1)"
      ]
     },
     "execution_count": 59,
     "metadata": {},
     "output_type": "execute_result"
    }
   ],
   "source": [
    "XGBModel.fit(X,y)"
   ]
  },
  {
   "cell_type": "code",
   "execution_count": 60,
   "metadata": {},
   "outputs": [
    {
     "data": {
      "text/plain": [
       "0.61375742611571416"
      ]
     },
     "execution_count": 60,
     "metadata": {},
     "output_type": "execute_result"
    }
   ],
   "source": [
    "r2_score(y_val,XGBModel.predict(X_val))"
   ]
  },
  {
   "cell_type": "code",
   "execution_count": 61,
   "metadata": {},
   "outputs": [
    {
     "data": {
      "text/plain": [
       "7029.7329140848333"
      ]
     },
     "execution_count": 61,
     "metadata": {},
     "output_type": "execute_result"
    }
   ],
   "source": [
    "np.sqrt(mean_squared_error(y_val,XGBModel.predict(X_val)))"
   ]
  },
  {
   "cell_type": "markdown",
   "metadata": {
    "collapsed": true
   },
   "source": [
    "### LGB"
   ]
  },
  {
   "cell_type": "code",
   "execution_count": 62,
   "metadata": {
    "collapsed": true
   },
   "outputs": [],
   "source": [
    "lgb_train = lgb.Dataset(X_train, y_train)\n",
    "lgb_eval = lgb.Dataset(X_val, y_val, reference=lgb_train)"
   ]
  },
  {
   "cell_type": "code",
   "execution_count": 63,
   "metadata": {},
   "outputs": [
    {
     "name": "stdout",
     "output_type": "stream",
     "text": [
      "Start training...\n",
      "[1]\tvalid_0's auc: 1\tvalid_0's l2: 1.26914e+08\n",
      "[2]\tvalid_0's auc: 1\tvalid_0's l2: 1.25897e+08\n",
      "[3]\tvalid_0's auc: 1\tvalid_0's l2: 1.24949e+08\n",
      "[4]\tvalid_0's auc: 1\tvalid_0's l2: 1.24121e+08\n",
      "[5]\tvalid_0's auc: 1\tvalid_0's l2: 1.23137e+08\n",
      "[6]\tvalid_0's auc: 1\tvalid_0's l2: 1.22245e+08\n",
      "[7]\tvalid_0's auc: 1\tvalid_0's l2: 1.21293e+08\n",
      "[8]\tvalid_0's auc: 1\tvalid_0's l2: 1.20351e+08\n",
      "[9]\tvalid_0's auc: 1\tvalid_0's l2: 1.19429e+08\n",
      "[10]\tvalid_0's auc: 1\tvalid_0's l2: 1.18551e+08\n",
      "[11]\tvalid_0's auc: 1\tvalid_0's l2: 1.17771e+08\n",
      "[12]\tvalid_0's auc: 1\tvalid_0's l2: 1.16988e+08\n",
      "[13]\tvalid_0's auc: 1\tvalid_0's l2: 1.16199e+08\n",
      "[14]\tvalid_0's auc: 1\tvalid_0's l2: 1.1538e+08\n",
      "[15]\tvalid_0's auc: 1\tvalid_0's l2: 1.14608e+08\n",
      "[16]\tvalid_0's auc: 1\tvalid_0's l2: 1.13837e+08\n",
      "[17]\tvalid_0's auc: 1\tvalid_0's l2: 1.13048e+08\n",
      "[18]\tvalid_0's auc: 1\tvalid_0's l2: 1.1241e+08\n",
      "[19]\tvalid_0's auc: 1\tvalid_0's l2: 1.11672e+08\n",
      "[20]\tvalid_0's auc: 1\tvalid_0's l2: 1.10962e+08\n"
     ]
    }
   ],
   "source": [
    "params = {\n",
    "    'task': 'train',\n",
    "    'boosting_type': 'gbdt',\n",
    "    'objective': 'regression',\n",
    "    'metric': {'l2', 'auc'},\n",
    "    'num_leaves': 31,\n",
    "    'learning_rate': 0.05,\n",
    "    'feature_fraction': 0.9,\n",
    "    'bagging_fraction': 0.8,\n",
    "    'bagging_freq': 5,\n",
    "    'verbose': 0\n",
    "}\n",
    "\n",
    "print('Start training...')\n",
    "# train\n",
    "GBMModel = lgb.train(params,\n",
    "                lgb_train,\n",
    "                num_boost_round=20, valid_sets=lgb_eval)"
   ]
  },
  {
   "cell_type": "code",
   "execution_count": 64,
   "metadata": {},
   "outputs": [
    {
     "data": {
      "text/plain": [
       "0.13272323251822371"
      ]
     },
     "execution_count": 64,
     "metadata": {},
     "output_type": "execute_result"
    }
   ],
   "source": [
    "r2_score(y_val, GBMModel.predict(X_val))"
   ]
  },
  {
   "cell_type": "code",
   "execution_count": 65,
   "metadata": {},
   "outputs": [
    {
     "data": {
      "text/plain": [
       "10533.861646213129"
      ]
     },
     "execution_count": 65,
     "metadata": {},
     "output_type": "execute_result"
    }
   ],
   "source": [
    "np.sqrt(mean_squared_error(y_val,GBMModel.predict(X_val)))"
   ]
  }
 ],
 "metadata": {
  "anaconda-cloud": {},
  "kernelspec": {
   "display_name": "Python [default]",
   "language": "python",
   "name": "python3"
  },
  "language_info": {
   "codemirror_mode": {
    "name": "ipython",
    "version": 3
   },
   "file_extension": ".py",
   "mimetype": "text/x-python",
   "name": "python",
   "nbconvert_exporter": "python",
   "pygments_lexer": "ipython3",
   "version": "3.5.2"
  }
 },
 "nbformat": 4,
 "nbformat_minor": 2
}
