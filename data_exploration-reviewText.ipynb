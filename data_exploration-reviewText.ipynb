{
 "cells": [
  {
   "cell_type": "markdown",
   "metadata": {
    "collapsed": true
   },
   "source": [
    "# The reviews data\n",
    "\n",
    "The data comes as a collection of json files. We can import these in an easy way with the following script (We only use the video games data)"
   ]
  },
  {
   "cell_type": "code",
   "execution_count": 1,
   "metadata": {
    "collapsed": true
   },
   "outputs": [],
   "source": [
    "import numpy as np\n",
    "import pandas as pd\n",
    "import gzip\n",
    "import nltk\n",
    "\n",
    "def parse(path):\n",
    "  g = gzip.open(path, 'rb')\n",
    "  for l in g:\n",
    "    yield eval(l)\n",
    "\n",
    "def getDF(path):\n",
    "  i = 0\n",
    "  df = {}\n",
    "  for d in parse(path):\n",
    "    df[i] = d\n",
    "    i += 1\n",
    "  return pd.DataFrame.from_dict(df, orient='index')\n",
    "\n",
    "df_reviews = getDF('./datasets/hackathon/reviews_Video_Games_5.json.gz')\n",
    "df_meta = getDF('./datasets/hackathon/meta_Video_Games.json.gz')\n",
    "\n",
    "# df_qa_toys_and_games = getDF('./datasets/hackathon/QA_Video_Games.json.gz')\n",
    "# df_QA_toys_and_games = getDF('./data/QA_Toys_and_Games.json.gz')"
   ]
  },
  {
   "cell_type": "markdown",
   "metadata": {},
   "source": [
    "We take a quick look at the data first. The reviews dataframe"
   ]
  },
  {
   "cell_type": "code",
   "execution_count": 2,
   "metadata": {
    "collapsed": false
   },
   "outputs": [
    {
     "data": {
      "text/html": [
       "<div>\n",
       "<style>\n",
       "    .dataframe thead tr:only-child th {\n",
       "        text-align: right;\n",
       "    }\n",
       "\n",
       "    .dataframe thead th {\n",
       "        text-align: left;\n",
       "    }\n",
       "\n",
       "    .dataframe tbody tr th {\n",
       "        vertical-align: top;\n",
       "    }\n",
       "</style>\n",
       "<table border=\"1\" class=\"dataframe\">\n",
       "  <thead>\n",
       "    <tr style=\"text-align: right;\">\n",
       "      <th></th>\n",
       "      <th>reviewerID</th>\n",
       "      <th>asin</th>\n",
       "      <th>reviewerName</th>\n",
       "      <th>helpful</th>\n",
       "      <th>reviewText</th>\n",
       "      <th>overall</th>\n",
       "      <th>summary</th>\n",
       "      <th>unixReviewTime</th>\n",
       "      <th>reviewTime</th>\n",
       "    </tr>\n",
       "  </thead>\n",
       "  <tbody>\n",
       "    <tr>\n",
       "      <th>0</th>\n",
       "      <td>A2HD75EMZR8QLN</td>\n",
       "      <td>0700099867</td>\n",
       "      <td>123</td>\n",
       "      <td>[8, 12]</td>\n",
       "      <td>Installing the game was a struggle (because of...</td>\n",
       "      <td>1.0</td>\n",
       "      <td>Pay to unlock content? I don't think so.</td>\n",
       "      <td>1341792000</td>\n",
       "      <td>07 9, 2012</td>\n",
       "    </tr>\n",
       "    <tr>\n",
       "      <th>1</th>\n",
       "      <td>A3UR8NLLY1ZHCX</td>\n",
       "      <td>0700099867</td>\n",
       "      <td>Alejandro Henao \"Electronic Junky\"</td>\n",
       "      <td>[0, 0]</td>\n",
       "      <td>If you like rally cars get this game you will ...</td>\n",
       "      <td>4.0</td>\n",
       "      <td>Good rally game</td>\n",
       "      <td>1372550400</td>\n",
       "      <td>06 30, 2013</td>\n",
       "    </tr>\n",
       "    <tr>\n",
       "      <th>2</th>\n",
       "      <td>A1INA0F5CWW3J4</td>\n",
       "      <td>0700099867</td>\n",
       "      <td>Amazon Shopper \"Mr.Repsol\"</td>\n",
       "      <td>[0, 0]</td>\n",
       "      <td>1st shipment received a book instead of the ga...</td>\n",
       "      <td>1.0</td>\n",
       "      <td>Wrong key</td>\n",
       "      <td>1403913600</td>\n",
       "      <td>06 28, 2014</td>\n",
       "    </tr>\n",
       "    <tr>\n",
       "      <th>3</th>\n",
       "      <td>A1DLMTOTHQ4AST</td>\n",
       "      <td>0700099867</td>\n",
       "      <td>ampgreen</td>\n",
       "      <td>[7, 10]</td>\n",
       "      <td>I got this version instead of the PS3 version,...</td>\n",
       "      <td>3.0</td>\n",
       "      <td>awesome game, if it did not crash frequently !!</td>\n",
       "      <td>1315958400</td>\n",
       "      <td>09 14, 2011</td>\n",
       "    </tr>\n",
       "    <tr>\n",
       "      <th>4</th>\n",
       "      <td>A361M14PU2GUEG</td>\n",
       "      <td>0700099867</td>\n",
       "      <td>Angry Ryan \"Ryan A. Forrest\"</td>\n",
       "      <td>[2, 2]</td>\n",
       "      <td>I had Dirt 2 on Xbox 360 and it was an okay ga...</td>\n",
       "      <td>4.0</td>\n",
       "      <td>DIRT 3</td>\n",
       "      <td>1308009600</td>\n",
       "      <td>06 14, 2011</td>\n",
       "    </tr>\n",
       "  </tbody>\n",
       "</table>\n",
       "</div>"
      ],
      "text/plain": [
       "       reviewerID        asin                        reviewerName  helpful  \\\n",
       "0  A2HD75EMZR8QLN  0700099867                                 123  [8, 12]   \n",
       "1  A3UR8NLLY1ZHCX  0700099867  Alejandro Henao \"Electronic Junky\"   [0, 0]   \n",
       "2  A1INA0F5CWW3J4  0700099867          Amazon Shopper \"Mr.Repsol\"   [0, 0]   \n",
       "3  A1DLMTOTHQ4AST  0700099867                            ampgreen  [7, 10]   \n",
       "4  A361M14PU2GUEG  0700099867        Angry Ryan \"Ryan A. Forrest\"   [2, 2]   \n",
       "\n",
       "                                          reviewText  overall  \\\n",
       "0  Installing the game was a struggle (because of...      1.0   \n",
       "1  If you like rally cars get this game you will ...      4.0   \n",
       "2  1st shipment received a book instead of the ga...      1.0   \n",
       "3  I got this version instead of the PS3 version,...      3.0   \n",
       "4  I had Dirt 2 on Xbox 360 and it was an okay ga...      4.0   \n",
       "\n",
       "                                           summary  unixReviewTime  \\\n",
       "0         Pay to unlock content? I don't think so.      1341792000   \n",
       "1                                  Good rally game      1372550400   \n",
       "2                                        Wrong key      1403913600   \n",
       "3  awesome game, if it did not crash frequently !!      1315958400   \n",
       "4                                           DIRT 3      1308009600   \n",
       "\n",
       "    reviewTime  \n",
       "0   07 9, 2012  \n",
       "1  06 30, 2013  \n",
       "2  06 28, 2014  \n",
       "3  09 14, 2011  \n",
       "4  06 14, 2011  "
      ]
     },
     "execution_count": 2,
     "metadata": {},
     "output_type": "execute_result"
    }
   ],
   "source": [
    "df_reviews.head()"
   ]
  },
  {
   "cell_type": "markdown",
   "metadata": {},
   "source": [
    "and the meta data"
   ]
  },
  {
   "cell_type": "code",
   "execution_count": 3,
   "metadata": {
    "collapsed": false
   },
   "outputs": [
    {
     "data": {
      "text/html": [
       "<div>\n",
       "<style>\n",
       "    .dataframe thead tr:only-child th {\n",
       "        text-align: right;\n",
       "    }\n",
       "\n",
       "    .dataframe thead th {\n",
       "        text-align: left;\n",
       "    }\n",
       "\n",
       "    .dataframe tbody tr th {\n",
       "        vertical-align: top;\n",
       "    }\n",
       "</style>\n",
       "<table border=\"1\" class=\"dataframe\">\n",
       "  <thead>\n",
       "    <tr style=\"text-align: right;\">\n",
       "      <th></th>\n",
       "      <th>asin</th>\n",
       "      <th>description</th>\n",
       "      <th>price</th>\n",
       "      <th>imUrl</th>\n",
       "      <th>related</th>\n",
       "      <th>salesRank</th>\n",
       "      <th>categories</th>\n",
       "      <th>title</th>\n",
       "      <th>brand</th>\n",
       "    </tr>\n",
       "  </thead>\n",
       "  <tbody>\n",
       "    <tr>\n",
       "      <th>0</th>\n",
       "      <td>0078764343</td>\n",
       "      <td>Brand new sealed!</td>\n",
       "      <td>37.98</td>\n",
       "      <td>http://ecx.images-amazon.com/images/I/513h6dPb...</td>\n",
       "      <td>{'also_bought': ['B000TI836G', 'B003Q53VZC', '...</td>\n",
       "      <td>{'Video Games': 28655}</td>\n",
       "      <td>[[Video Games, Xbox 360, Games]]</td>\n",
       "      <td>NaN</td>\n",
       "      <td>NaN</td>\n",
       "    </tr>\n",
       "    <tr>\n",
       "      <th>1</th>\n",
       "      <td>043933702X</td>\n",
       "      <td>In Stock NOW.  Eligible for FREE Super Saving ...</td>\n",
       "      <td>23.50</td>\n",
       "      <td>http://ecx.images-amazon.com/images/I/61KKRndV...</td>\n",
       "      <td>{'also_viewed': ['B000067NP1', '0439573947', '...</td>\n",
       "      <td>{'Video Games': 44080}</td>\n",
       "      <td>[[Video Games, PC, Games]]</td>\n",
       "      <td>NaN</td>\n",
       "      <td>NaN</td>\n",
       "    </tr>\n",
       "    <tr>\n",
       "      <th>2</th>\n",
       "      <td>0439339987</td>\n",
       "      <td>Grandma Groupers kelp seeds are missing and wi...</td>\n",
       "      <td>8.95</td>\n",
       "      <td>http://ecx.images-amazon.com/images/I/416QZg89...</td>\n",
       "      <td>{'also_bought': ['B000314VVU', 'B000PXUOTE', '...</td>\n",
       "      <td>{'Video Games': 49836}</td>\n",
       "      <td>[[Video Games, PC, Games]]</td>\n",
       "      <td>NaN</td>\n",
       "      <td>NaN</td>\n",
       "    </tr>\n",
       "    <tr>\n",
       "      <th>3</th>\n",
       "      <td>0439342260</td>\n",
       "      <td>This software is BRAND NEW. Packaging may diff...</td>\n",
       "      <td>NaN</td>\n",
       "      <td>http://ecx.images-amazon.com/images/I/61Wvu-Uj...</td>\n",
       "      <td>{'also_viewed': ['043934302X']}</td>\n",
       "      <td>{'Video Games': 49156}</td>\n",
       "      <td>[[Video Games, PC, Games]]</td>\n",
       "      <td>NaN</td>\n",
       "      <td>NaN</td>\n",
       "    </tr>\n",
       "    <tr>\n",
       "      <th>4</th>\n",
       "      <td>0439339960</td>\n",
       "      <td>a scholastic clubs fairs cd rom game</td>\n",
       "      <td>NaN</td>\n",
       "      <td>http://ecx.images-amazon.com/images/I/51k3oRCF...</td>\n",
       "      <td>{'also_viewed': ['B00028D7TG']}</td>\n",
       "      <td>{'Video Games': 52262}</td>\n",
       "      <td>[[Video Games, PC, Games]]</td>\n",
       "      <td>NaN</td>\n",
       "      <td>NaN</td>\n",
       "    </tr>\n",
       "  </tbody>\n",
       "</table>\n",
       "</div>"
      ],
      "text/plain": [
       "         asin                                        description  price  \\\n",
       "0  0078764343                                  Brand new sealed!  37.98   \n",
       "1  043933702X  In Stock NOW.  Eligible for FREE Super Saving ...  23.50   \n",
       "2  0439339987  Grandma Groupers kelp seeds are missing and wi...   8.95   \n",
       "3  0439342260  This software is BRAND NEW. Packaging may diff...    NaN   \n",
       "4  0439339960               a scholastic clubs fairs cd rom game    NaN   \n",
       "\n",
       "                                               imUrl  \\\n",
       "0  http://ecx.images-amazon.com/images/I/513h6dPb...   \n",
       "1  http://ecx.images-amazon.com/images/I/61KKRndV...   \n",
       "2  http://ecx.images-amazon.com/images/I/416QZg89...   \n",
       "3  http://ecx.images-amazon.com/images/I/61Wvu-Uj...   \n",
       "4  http://ecx.images-amazon.com/images/I/51k3oRCF...   \n",
       "\n",
       "                                             related               salesRank  \\\n",
       "0  {'also_bought': ['B000TI836G', 'B003Q53VZC', '...  {'Video Games': 28655}   \n",
       "1  {'also_viewed': ['B000067NP1', '0439573947', '...  {'Video Games': 44080}   \n",
       "2  {'also_bought': ['B000314VVU', 'B000PXUOTE', '...  {'Video Games': 49836}   \n",
       "3                    {'also_viewed': ['043934302X']}  {'Video Games': 49156}   \n",
       "4                    {'also_viewed': ['B00028D7TG']}  {'Video Games': 52262}   \n",
       "\n",
       "                         categories title brand  \n",
       "0  [[Video Games, Xbox 360, Games]]   NaN   NaN  \n",
       "1        [[Video Games, PC, Games]]   NaN   NaN  \n",
       "2        [[Video Games, PC, Games]]   NaN   NaN  \n",
       "3        [[Video Games, PC, Games]]   NaN   NaN  \n",
       "4        [[Video Games, PC, Games]]   NaN   NaN  "
      ]
     },
     "execution_count": 3,
     "metadata": {},
     "output_type": "execute_result"
    }
   ],
   "source": [
    "df_meta.head()"
   ]
  },
  {
   "cell_type": "markdown",
   "metadata": {
    "collapsed": true
   },
   "source": [
    "For our purposes, it is important to see that the related feature has indeed more data, more precisely"
   ]
  },
  {
   "cell_type": "markdown",
   "metadata": {},
   "source": [
    "that is related is a dictionary with 3 keys 'also_bought', 'bought_together', and 'buy_after_viewing'"
   ]
  },
  {
   "cell_type": "code",
   "execution_count": 4,
   "metadata": {
    "collapsed": true
   },
   "outputs": [],
   "source": [
    "import re\n",
    "from collections import Counter\n",
    "\n",
    "split_regex = r'\\W+'\n",
    "\n",
    "def simpleTokenize(string):\n",
    "    \"\"\" A simple implementation of input string tokenization\n",
    "    Args:\n",
    "        string (str): input string\n",
    "    Returns:\n",
    "        list: a list of tokens\n",
    "    \"\"\"\n",
    "    return [x for x in re.split(split_regex, string.lower()) if x]"
   ]
  },
  {
   "cell_type": "code",
   "execution_count": 5,
   "metadata": {
    "collapsed": true
   },
   "outputs": [],
   "source": [
    "from nltk.stem.porter import PorterStemmer\n",
    "\n",
    "def stem_tokens(tokens, stemmer):\n",
    "    \"\"\" To account for word stemming\n",
    "    Args:\n",
    "        tokens (str): input tokenized string\n",
    "        stemmer: Kind of stemmer used\n",
    "    Returns:\n",
    "        list: a list of tokens\n",
    "    \"\"\"\n",
    "    stemmed = []\n",
    "    for item in tokens:\n",
    "        stemmed.append(stemmer.stem(item))\n",
    "        \n",
    "    return stemmed"
   ]
  },
  {
   "cell_type": "code",
   "execution_count": 13,
   "metadata": {
    "collapsed": true
   },
   "outputs": [],
   "source": [
    "from nltk.stem.wordnet import WordNetLemmatizer\n",
    "stemmer = PorterStemmer()\n",
    "lemmatizer = WordNetLemmatizer()\n",
    "\n",
    "def simplefilter(string):\n",
    "    \"\"\" A simple implementation of input string tokenization that excludes stop words\n",
    "    Args:\n",
    "        string (str): input string\n",
    "    Returns:\n",
    "        list: a list of filtered tokens\n",
    "    \"\"\"\n",
    "    tokens = [x for x in simpleTokenize(string) if x not in stop_words]\n",
    "#   lmtzr = WordNetLemmatizer()\n",
    "#   stems = stem_tokens(tokens, stemmer)\n",
    "#   return [lmtzr.lemmatize(token, 'v') if lmtzr.lemmatize(token) == token else token for token in tokens]\n",
    "    return tokens"
   ]
  },
  {
   "cell_type": "code",
   "execution_count": 14,
   "metadata": {
    "collapsed": true
   },
   "outputs": [],
   "source": [
    "from sklearn.model_selection import train_test_split\n",
    "\n",
    "train_set, test_set = train_test_split(df_reviews, test_size=0.2, random_state=42)"
   ]
  },
  {
   "cell_type": "code",
   "execution_count": 16,
   "metadata": {
    "collapsed": false
   },
   "outputs": [
    {
     "data": {
      "text/html": [
       "<div>\n",
       "<style>\n",
       "    .dataframe thead tr:only-child th {\n",
       "        text-align: right;\n",
       "    }\n",
       "\n",
       "    .dataframe thead th {\n",
       "        text-align: left;\n",
       "    }\n",
       "\n",
       "    .dataframe tbody tr th {\n",
       "        vertical-align: top;\n",
       "    }\n",
       "</style>\n",
       "<table border=\"1\" class=\"dataframe\">\n",
       "  <thead>\n",
       "    <tr style=\"text-align: right;\">\n",
       "      <th></th>\n",
       "      <th>reviewerID</th>\n",
       "      <th>asin</th>\n",
       "      <th>reviewerName</th>\n",
       "      <th>helpful</th>\n",
       "      <th>reviewText</th>\n",
       "      <th>overall</th>\n",
       "      <th>summary</th>\n",
       "      <th>unixReviewTime</th>\n",
       "      <th>reviewTime</th>\n",
       "    </tr>\n",
       "  </thead>\n",
       "  <tbody>\n",
       "    <tr>\n",
       "      <th>41024</th>\n",
       "      <td>A1T6XL9P487RGC</td>\n",
       "      <td>B00009ZVHY</td>\n",
       "      <td>Xider \"MWAHAHAHAHA!\"</td>\n",
       "      <td>[2, 3]</td>\n",
       "      <td>Prince of Persia: The Sands of Time is a prett...</td>\n",
       "      <td>4.0</td>\n",
       "      <td>Good, but difficult</td>\n",
       "      <td>1072828800</td>\n",
       "      <td>12 31, 2003</td>\n",
       "    </tr>\n",
       "    <tr>\n",
       "      <th>111044</th>\n",
       "      <td>AUNBHG6AVL8MO</td>\n",
       "      <td>B001C6GVI6</td>\n",
       "      <td>Johnmrrs</td>\n",
       "      <td>[0, 0]</td>\n",
       "      <td>Although the game can be slow at times I love ...</td>\n",
       "      <td>5.0</td>\n",
       "      <td>One of my favorite games on the ps2</td>\n",
       "      <td>1356307200</td>\n",
       "      <td>12 24, 2012</td>\n",
       "    </tr>\n",
       "    <tr>\n",
       "      <th>19454</th>\n",
       "      <td>A2Z548GT5948WH</td>\n",
       "      <td>B00005ML0Z</td>\n",
       "      <td>J. Perry \"Zak\"</td>\n",
       "      <td>[0, 0]</td>\n",
       "      <td>This game eliminates boredom and allows one to...</td>\n",
       "      <td>3.0</td>\n",
       "      <td>A fun PS2 Game</td>\n",
       "      <td>1360972800</td>\n",
       "      <td>02 16, 2013</td>\n",
       "    </tr>\n",
       "    <tr>\n",
       "      <th>36629</th>\n",
       "      <td>A3PPXVR5J6U2JD</td>\n",
       "      <td>B00008G8OA</td>\n",
       "      <td>Michael J. Tresca \"Talien\"</td>\n",
       "      <td>[1, 2]</td>\n",
       "      <td>I've always been a Godzilla fan but never knew...</td>\n",
       "      <td>4.0</td>\n",
       "      <td>ROOOOOOOOOOOOOOOAR!</td>\n",
       "      <td>1113523200</td>\n",
       "      <td>04 15, 2005</td>\n",
       "    </tr>\n",
       "    <tr>\n",
       "      <th>58632</th>\n",
       "      <td>A1T7CM8MBPXCM1</td>\n",
       "      <td>B0009WPZOA</td>\n",
       "      <td>XDonkey</td>\n",
       "      <td>[4, 4]</td>\n",
       "      <td>AWESOME GRAPHICS and VERY FUN gameplay put thi...</td>\n",
       "      <td>4.0</td>\n",
       "      <td>Tons of fun - Must Have!</td>\n",
       "      <td>1149379200</td>\n",
       "      <td>06 4, 2006</td>\n",
       "    </tr>\n",
       "  </tbody>\n",
       "</table>\n",
       "</div>"
      ],
      "text/plain": [
       "            reviewerID        asin                reviewerName helpful  \\\n",
       "41024   A1T6XL9P487RGC  B00009ZVHY        Xider \"MWAHAHAHAHA!\"  [2, 3]   \n",
       "111044   AUNBHG6AVL8MO  B001C6GVI6                    Johnmrrs  [0, 0]   \n",
       "19454   A2Z548GT5948WH  B00005ML0Z              J. Perry \"Zak\"  [0, 0]   \n",
       "36629   A3PPXVR5J6U2JD  B00008G8OA  Michael J. Tresca \"Talien\"  [1, 2]   \n",
       "58632   A1T7CM8MBPXCM1  B0009WPZOA                     XDonkey  [4, 4]   \n",
       "\n",
       "                                               reviewText  overall  \\\n",
       "41024   Prince of Persia: The Sands of Time is a prett...      4.0   \n",
       "111044  Although the game can be slow at times I love ...      5.0   \n",
       "19454   This game eliminates boredom and allows one to...      3.0   \n",
       "36629   I've always been a Godzilla fan but never knew...      4.0   \n",
       "58632   AWESOME GRAPHICS and VERY FUN gameplay put thi...      4.0   \n",
       "\n",
       "                                    summary  unixReviewTime   reviewTime  \n",
       "41024                   Good, but difficult      1072828800  12 31, 2003  \n",
       "111044  One of my favorite games on the ps2      1356307200  12 24, 2012  \n",
       "19454                        A fun PS2 Game      1360972800  02 16, 2013  \n",
       "36629                   ROOOOOOOOOOOOOOOAR!      1113523200  04 15, 2005  \n",
       "58632              Tons of fun - Must Have!      1149379200   06 4, 2006  "
      ]
     },
     "execution_count": 16,
     "metadata": {},
     "output_type": "execute_result"
    }
   ],
   "source": [
    "train_set.head()"
   ]
  },
  {
   "cell_type": "code",
   "execution_count": 17,
   "metadata": {
    "collapsed": false
   },
   "outputs": [
    {
     "name": "stdout",
     "output_type": "stream",
     "text": [
      "[nltk_data] Downloading package stopwords to C:\\Users\\Hari\n",
      "[nltk_data]     Ravindran\\AppData\\Roaming\\nltk_data...\n",
      "[nltk_data]   Package stopwords is already up-to-date!\n",
      "[nltk_data] Downloading package wordnet to C:\\Users\\Hari\n",
      "[nltk_data]     Ravindran\\AppData\\Roaming\\nltk_data...\n",
      "[nltk_data]   Package wordnet is already up-to-date!\n"
     ]
    }
   ],
   "source": [
    "nltk.download('stopwords')\n",
    "nltk.download('wordnet')\n",
    "from nltk.corpus import stopwords\n",
    "stop_words = set(stopwords.words(\"english\"))"
   ]
  },
  {
   "cell_type": "code",
   "execution_count": 18,
   "metadata": {
    "collapsed": true
   },
   "outputs": [],
   "source": [
    "train_set = train_set.assign(Text = train_set['reviewText'].apply(simplefilter))"
   ]
  },
  {
   "cell_type": "code",
   "execution_count": 19,
   "metadata": {
    "collapsed": false
   },
   "outputs": [
    {
     "data": {
      "text/html": [
       "<div>\n",
       "<style>\n",
       "    .dataframe thead tr:only-child th {\n",
       "        text-align: right;\n",
       "    }\n",
       "\n",
       "    .dataframe thead th {\n",
       "        text-align: left;\n",
       "    }\n",
       "\n",
       "    .dataframe tbody tr th {\n",
       "        vertical-align: top;\n",
       "    }\n",
       "</style>\n",
       "<table border=\"1\" class=\"dataframe\">\n",
       "  <thead>\n",
       "    <tr style=\"text-align: right;\">\n",
       "      <th></th>\n",
       "      <th>reviewerID</th>\n",
       "      <th>asin</th>\n",
       "      <th>reviewerName</th>\n",
       "      <th>helpful</th>\n",
       "      <th>reviewText</th>\n",
       "      <th>overall</th>\n",
       "      <th>summary</th>\n",
       "      <th>unixReviewTime</th>\n",
       "      <th>reviewTime</th>\n",
       "      <th>Text</th>\n",
       "    </tr>\n",
       "  </thead>\n",
       "  <tbody>\n",
       "    <tr>\n",
       "      <th>41024</th>\n",
       "      <td>A1T6XL9P487RGC</td>\n",
       "      <td>B00009ZVHY</td>\n",
       "      <td>Xider \"MWAHAHAHAHA!\"</td>\n",
       "      <td>[2, 3]</td>\n",
       "      <td>Prince of Persia: The Sands of Time is a prett...</td>\n",
       "      <td>4.0</td>\n",
       "      <td>Good, but difficult</td>\n",
       "      <td>1072828800</td>\n",
       "      <td>12 31, 2003</td>\n",
       "      <td>[prince, persia, sands, time, pretty, darn, go...</td>\n",
       "    </tr>\n",
       "    <tr>\n",
       "      <th>111044</th>\n",
       "      <td>AUNBHG6AVL8MO</td>\n",
       "      <td>B001C6GVI6</td>\n",
       "      <td>Johnmrrs</td>\n",
       "      <td>[0, 0]</td>\n",
       "      <td>Although the game can be slow at times I love ...</td>\n",
       "      <td>5.0</td>\n",
       "      <td>One of my favorite games on the ps2</td>\n",
       "      <td>1356307200</td>\n",
       "      <td>12 24, 2012</td>\n",
       "      <td>[although, game, slow, times, love, whole, cas...</td>\n",
       "    </tr>\n",
       "    <tr>\n",
       "      <th>19454</th>\n",
       "      <td>A2Z548GT5948WH</td>\n",
       "      <td>B00005ML0Z</td>\n",
       "      <td>J. Perry \"Zak\"</td>\n",
       "      <td>[0, 0]</td>\n",
       "      <td>This game eliminates boredom and allows one to...</td>\n",
       "      <td>3.0</td>\n",
       "      <td>A fun PS2 Game</td>\n",
       "      <td>1360972800</td>\n",
       "      <td>02 16, 2013</td>\n",
       "      <td>[game, eliminates, boredom, allows, one, enjoy...</td>\n",
       "    </tr>\n",
       "    <tr>\n",
       "      <th>36629</th>\n",
       "      <td>A3PPXVR5J6U2JD</td>\n",
       "      <td>B00008G8OA</td>\n",
       "      <td>Michael J. Tresca \"Talien\"</td>\n",
       "      <td>[1, 2]</td>\n",
       "      <td>I've always been a Godzilla fan but never knew...</td>\n",
       "      <td>4.0</td>\n",
       "      <td>ROOOOOOOOOOOOOOOAR!</td>\n",
       "      <td>1113523200</td>\n",
       "      <td>04 15, 2005</td>\n",
       "      <td>[always, godzilla, fan, never, knew, much, met...</td>\n",
       "    </tr>\n",
       "    <tr>\n",
       "      <th>58632</th>\n",
       "      <td>A1T7CM8MBPXCM1</td>\n",
       "      <td>B0009WPZOA</td>\n",
       "      <td>XDonkey</td>\n",
       "      <td>[4, 4]</td>\n",
       "      <td>AWESOME GRAPHICS and VERY FUN gameplay put thi...</td>\n",
       "      <td>4.0</td>\n",
       "      <td>Tons of fun - Must Have!</td>\n",
       "      <td>1149379200</td>\n",
       "      <td>06 4, 2006</td>\n",
       "      <td>[awesome, graphics, fun, gameplay, put, high, ...</td>\n",
       "    </tr>\n",
       "  </tbody>\n",
       "</table>\n",
       "</div>"
      ],
      "text/plain": [
       "            reviewerID        asin                reviewerName helpful  \\\n",
       "41024   A1T6XL9P487RGC  B00009ZVHY        Xider \"MWAHAHAHAHA!\"  [2, 3]   \n",
       "111044   AUNBHG6AVL8MO  B001C6GVI6                    Johnmrrs  [0, 0]   \n",
       "19454   A2Z548GT5948WH  B00005ML0Z              J. Perry \"Zak\"  [0, 0]   \n",
       "36629   A3PPXVR5J6U2JD  B00008G8OA  Michael J. Tresca \"Talien\"  [1, 2]   \n",
       "58632   A1T7CM8MBPXCM1  B0009WPZOA                     XDonkey  [4, 4]   \n",
       "\n",
       "                                               reviewText  overall  \\\n",
       "41024   Prince of Persia: The Sands of Time is a prett...      4.0   \n",
       "111044  Although the game can be slow at times I love ...      5.0   \n",
       "19454   This game eliminates boredom and allows one to...      3.0   \n",
       "36629   I've always been a Godzilla fan but never knew...      4.0   \n",
       "58632   AWESOME GRAPHICS and VERY FUN gameplay put thi...      4.0   \n",
       "\n",
       "                                    summary  unixReviewTime   reviewTime  \\\n",
       "41024                   Good, but difficult      1072828800  12 31, 2003   \n",
       "111044  One of my favorite games on the ps2      1356307200  12 24, 2012   \n",
       "19454                        A fun PS2 Game      1360972800  02 16, 2013   \n",
       "36629                   ROOOOOOOOOOOOOOOAR!      1113523200  04 15, 2005   \n",
       "58632              Tons of fun - Must Have!      1149379200   06 4, 2006   \n",
       "\n",
       "                                                     Text  \n",
       "41024   [prince, persia, sands, time, pretty, darn, go...  \n",
       "111044  [although, game, slow, times, love, whole, cas...  \n",
       "19454   [game, eliminates, boredom, allows, one, enjoy...  \n",
       "36629   [always, godzilla, fan, never, knew, much, met...  \n",
       "58632   [awesome, graphics, fun, gameplay, put, high, ...  "
      ]
     },
     "execution_count": 19,
     "metadata": {},
     "output_type": "execute_result"
    }
   ],
   "source": [
    "train_set.head()"
   ]
  },
  {
   "cell_type": "code",
   "execution_count": 20,
   "metadata": {
    "collapsed": true
   },
   "outputs": [],
   "source": [
    "from sklearn.feature_extraction.text import TfidfVectorizer\n",
    "\n",
    "tfidf = TfidfVectorizer(tokenizer = simplefilter)\n",
    "tfs = tfidf.fit_transform(train_set['reviewText'])"
   ]
  },
  {
   "cell_type": "code",
   "execution_count": 21,
   "metadata": {
    "collapsed": false
   },
   "outputs": [
    {
     "data": {
      "text/html": [
       "<div>\n",
       "<style>\n",
       "    .dataframe thead tr:only-child th {\n",
       "        text-align: right;\n",
       "    }\n",
       "\n",
       "    .dataframe thead th {\n",
       "        text-align: left;\n",
       "    }\n",
       "\n",
       "    .dataframe tbody tr th {\n",
       "        vertical-align: top;\n",
       "    }\n",
       "</style>\n",
       "<table border=\"1\" class=\"dataframe\">\n",
       "  <thead>\n",
       "    <tr style=\"text-align: right;\">\n",
       "      <th></th>\n",
       "      <th>reviewerID</th>\n",
       "      <th>asin</th>\n",
       "      <th>reviewerName</th>\n",
       "      <th>helpful</th>\n",
       "      <th>reviewText</th>\n",
       "      <th>overall</th>\n",
       "      <th>summary</th>\n",
       "      <th>unixReviewTime</th>\n",
       "      <th>reviewTime</th>\n",
       "    </tr>\n",
       "  </thead>\n",
       "  <tbody>\n",
       "    <tr>\n",
       "      <th>168500</th>\n",
       "      <td>A17M1HL6U2GS7M</td>\n",
       "      <td>B0047TLIBU</td>\n",
       "      <td>Storylover</td>\n",
       "      <td>[31, 43]</td>\n",
       "      <td>Been playing this for two days now, and I am v...</td>\n",
       "      <td>5.0</td>\n",
       "      <td>It feels like hanging out with old friends aga...</td>\n",
       "      <td>1299715200</td>\n",
       "      <td>03 10, 2011</td>\n",
       "    </tr>\n",
       "    <tr>\n",
       "      <th>189019</th>\n",
       "      <td>A1FGU7F9UJ264N</td>\n",
       "      <td>B0053BCP40</td>\n",
       "      <td>Kelly Randall</td>\n",
       "      <td>[0, 0]</td>\n",
       "      <td>I really enjoyed playing this game, although i...</td>\n",
       "      <td>4.0</td>\n",
       "      <td>Fun game</td>\n",
       "      <td>1393459200</td>\n",
       "      <td>02 27, 2014</td>\n",
       "    </tr>\n",
       "    <tr>\n",
       "      <th>94086</th>\n",
       "      <td>A3R7M2EP1EYNVT</td>\n",
       "      <td>B000WCQWR6</td>\n",
       "      <td>Thomas B. Hileman Jr.</td>\n",
       "      <td>[0, 0]</td>\n",
       "      <td>This was kind of a gamble and was looking for ...</td>\n",
       "      <td>3.0</td>\n",
       "      <td>Shoot em up</td>\n",
       "      <td>1373155200</td>\n",
       "      <td>07 7, 2013</td>\n",
       "    </tr>\n",
       "    <tr>\n",
       "      <th>168763</th>\n",
       "      <td>A369KP0JV77JYT</td>\n",
       "      <td>B00498T500</td>\n",
       "      <td>Jon</td>\n",
       "      <td>[4, 4]</td>\n",
       "      <td>***Updated 7/7/2011 - update marked below***I ...</td>\n",
       "      <td>4.0</td>\n",
       "      <td>Fun for a group, don't pay too much for it</td>\n",
       "      <td>1302393600</td>\n",
       "      <td>04 10, 2011</td>\n",
       "    </tr>\n",
       "    <tr>\n",
       "      <th>17314</th>\n",
       "      <td>ABIKTKAWOMY8</td>\n",
       "      <td>B00005BIG7</td>\n",
       "      <td>Chance Farley</td>\n",
       "      <td>[3, 3]</td>\n",
       "      <td>It looks like we've come a long way from past ...</td>\n",
       "      <td>5.0</td>\n",
       "      <td>One of the best fps's to ever hit a console</td>\n",
       "      <td>994982400</td>\n",
       "      <td>07 13, 2001</td>\n",
       "    </tr>\n",
       "  </tbody>\n",
       "</table>\n",
       "</div>"
      ],
      "text/plain": [
       "            reviewerID        asin           reviewerName   helpful  \\\n",
       "168500  A17M1HL6U2GS7M  B0047TLIBU             Storylover  [31, 43]   \n",
       "189019  A1FGU7F9UJ264N  B0053BCP40          Kelly Randall    [0, 0]   \n",
       "94086   A3R7M2EP1EYNVT  B000WCQWR6  Thomas B. Hileman Jr.    [0, 0]   \n",
       "168763  A369KP0JV77JYT  B00498T500                    Jon    [4, 4]   \n",
       "17314     ABIKTKAWOMY8  B00005BIG7          Chance Farley    [3, 3]   \n",
       "\n",
       "                                               reviewText  overall  \\\n",
       "168500  Been playing this for two days now, and I am v...      5.0   \n",
       "189019  I really enjoyed playing this game, although i...      4.0   \n",
       "94086   This was kind of a gamble and was looking for ...      3.0   \n",
       "168763  ***Updated 7/7/2011 - update marked below***I ...      4.0   \n",
       "17314   It looks like we've come a long way from past ...      5.0   \n",
       "\n",
       "                                                  summary  unixReviewTime  \\\n",
       "168500  It feels like hanging out with old friends aga...      1299715200   \n",
       "189019                                           Fun game      1393459200   \n",
       "94086                                         Shoot em up      1373155200   \n",
       "168763         Fun for a group, don't pay too much for it      1302393600   \n",
       "17314         One of the best fps's to ever hit a console       994982400   \n",
       "\n",
       "         reviewTime  \n",
       "168500  03 10, 2011  \n",
       "189019  02 27, 2014  \n",
       "94086    07 7, 2013  \n",
       "168763  04 10, 2011  \n",
       "17314   07 13, 2001  "
      ]
     },
     "execution_count": 21,
     "metadata": {},
     "output_type": "execute_result"
    }
   ],
   "source": [
    "test_set.head()"
   ]
  },
  {
   "cell_type": "code",
   "execution_count": 22,
   "metadata": {
    "collapsed": true
   },
   "outputs": [],
   "source": [
    "str = test_set['reviewText'][168500]"
   ]
  },
  {
   "cell_type": "code",
   "execution_count": 23,
   "metadata": {
    "collapsed": false
   },
   "outputs": [
    {
     "data": {
      "text/plain": [
       "'Been playing this for two days now, and I am very pleased so far. [Update: I\\'ve been playing for a week now, and I like it more and more as the days have gone by!]  People have spoken a lot about how things are different than Dragon Age: Origins.  I\\'m going to assume that you know that, and I\\'m going to focus on what I have enjoyed about this game so far.  First--the graphics are fantastic.  We just finished Final Fantasy XIII, which had spectacular graphics, and then we started Two Worlds II.  The graphics on Two Worlds II were such a comedown that we had to stop the game for a while so that we would stop expecting FFXIII style graphics.  Well, it looks like Two Worlds II will have to wait a little longer, because upon popping in this game, I was blown away by how beautiful everything looks. Movements are smooth and natural, the scenery is crisp and deeply detailed.  Monsters are terrifying.  Facial expressions are better than DA:O.  Sometimes moving in and out of the cut scenes is not as smooth as I would like, but that is a problem that no game designer has solved to my satisfaction yet.Next, the music.  The MUSIC!  I am a fan of film scores, and a fanatic of classical music.  This is probably one of the most interesting scores to a video game that I have yet heard--pieces of it are like parts of a concerto, with a solo instrument rising from the swell of the orchestra.  I looked into the composer, a man named Inon Zur.  He has composed music for a large number of other video games, and I hadn\\'t realized how much of his music I had heard before--Prince of Persia, Dragon Age: Origins, Fallout 3--and I will now make a point of listening to his scores.  Really enjoyable, even apart from the game.Voice acting is top notch.  I miss Claudia Black, from DA:0, of course, but aside from that (you can\\'t have her in everything!) the cast is spectacular.  Actors include Miranda Raison, from the BBC\\'s excellent series \"MI-5\", Nicholas Boulton, who plays the male version of Hawke here, and who played various voices in DA:0. He was also on the excellent BBC Series \"Doc Martin\".  Joanna Roth, also here from the BBC\\'s \"MI-5\", and Rebecca Stanton from the BBC\\'s \"Tess of the D\\'Urbervilles\" and \"Jane Eyre\" and a host of other good actors play the voices.  These are all working actors, none of whom have struck it rich but all of whom know their craft well.  They are given a good script and have taken it above the camp or kitsch it could have been and made it engrossing.The dialog wheel has received some comment--people have said that it is \"dumbed down\".  I don\\'t think that adding icons has made it any less intelligent, but it does give the player a little more understanding of what is going to be said and can help make the best choices for the path you wish the game to go.  I am actually happy with the icons next to the vocal parts, and have no issue with it.Combat is fun.  The combat runs smoothly and is exciting, but not too complicated.  That suits me perfectly, as I am not great at remembering fancy combinations--but I do want to look cool as I kick the Ogre\\'s rear end.  Spells are very colorful and exciting, sound effects are great.Storyline has really engaged me so far, but I am only two days into it.  I love getting lost in a world and lost in a story, but we also love side quests--there appears to be plenty of both so far.If you enjoyed DA:O, you will likely enjoy this game as well.  You should not expect it to be the same as before--there are differences, and some you may not like as much--but coming to this game with an open mind is sure to leave you impressed and pleased.  I look forward to many more hours of fun my first play through, and I\\'m already anticipating what I want to change for my second (or may be third!) play through the game!  From a guy who does not play most RPG games more than once, that is about as good an endorsement as I can give.----Update:After having this game for about a week, I\\'ve really enjoyed it even more than I did on my initial review.  Navigation from place to place is a snap, and I appreciate that you don\\'t have to spend a ton of time navigating from game area to game area.  I appreciate the way that quests are easily outlined and you can follow them in any order you want from place to place.  This makes things a little less \"realistic\" than Oblivion was, for instance, but makes playing a little more streamlined, and this i a compromise that I think is for the good.  Combat is really enjoyable, and the tactics are quite a lot of fun.  I love getting more tactic slots almost as much as I enjoy getting other leveling up treats.  The voice acting continues to be a standout for me, and the characters are a lot of fun.  I love the Dark Emporium (don\\'t manhandle the urchin, he\\'s not for sale...get your own!), and I enjoy the cut scene animations--beautiful and well done.  I wish there were a little more control over the weapons/armor for the secondary characters, and I don\\'t really understand why they took this away, because I play them almost as much as I play Hawke.  Even so, this is not a deal breaker when it comes to the fun.  The story line has gotten a couple of dings from some reviewers for not being strong, but I\\'m not sure that it is any weaker than the previous storyline--I\\'ve been enjoying it a lot and I feel quite connected to the characters. It is especially fun when there are references to the events in DA:O.  Although you don\\'t need to have played the first game to enjoy this one by any means, it does add a little spice, a little depth to the understanding of some of the political undercurrents in this adventure.  Ultimately, this game is as good as I had hoped, and better than I feared.  I can unhesitatingly say that it is a lot of great adventuring fun.--Update:My wife and I have now finished the game a couple of different ways.  I very much enjoyed the main story line, and felt attached to the characters as a whole.  I have a few criticisms after thinking carefully about the game, but my overall opinion is the same--it is quite fun.My problems--Sometimes the \"quests\" or tasks seem a little random and not well integrated with the overall story line.  I don\\'t mind a few random side quests that are completely stand alone, but I think that I would have preferred more side quest integration with secondary story lines.  This happened some, but could have been better.  After completing the game, I really did miss the chance to upgrade armor and weapons for my party members in a more controlled fashion.  Especially sad about Bianca--Bianca was cool and all, but she stayed the same while other available weapons would have been better, ultimately.  When you are going to give your crossbow a cool sexy name and then spend a lot of the game cooing over said crossbow, it had better be worth the inability to upgrade it.  We had a number of freezes.  Our PS3 is brand spanking new and so I can\\'t blame anything but the game.  Freezes are unacceptable in my mind, and are a big turn off.  Ultimately, it did not stop us from finishing the game, but it is frustrating and takes you out of the moment.I think that DA:II is a darn fine game, but it could have been better.  I do not rescind any stars, as it has held up already to repeated plays for us, but I hope that EA looks carefully at some of the suggestions (and anger!) from its fans and thinks carefully about how to improve the franchise.  Great graphics, great music, good story line, combat a little on the basic side, and limited upgrading options make this a cut above for the average gamer, but leave a little sadness for what might have been for those who are deeply dedicated to the franchise.  Play it, it\\'s worth it, but let EA know how you feel about the changes so they can know how to focus for their fans.'"
      ]
     },
     "execution_count": 23,
     "metadata": {},
     "output_type": "execute_result"
    }
   ],
   "source": [
    "str"
   ]
  },
  {
   "cell_type": "code",
   "execution_count": 24,
   "metadata": {
    "collapsed": false
   },
   "outputs": [
    {
     "name": "stdout",
     "output_type": "stream",
     "text": [
      "  (0, 186399)\t0.0579303654709\n",
      "  (0, 185018)\t0.0395782169566\n",
      "  (0, 184272)\t0.0412108074774\n",
      "  (0, 183316)\t0.0529558765048\n",
      "  (0, 183254)\t0.0351127639056\n",
      "  (0, 183136)\t0.0898647687942\n",
      "  (0, 183073)\t0.0187141476462\n",
      "  (0, 183001)\t0.0265999576371\n",
      "  (0, 182147)\t0.0463443518411\n",
      "  (0, 181439)\t0.0308148981093\n",
      "  (0, 181182)\t0.0210523834778\n",
      "  (0, 180698)\t0.0309527468899\n",
      "  (0, 180243)\t0.0661244844718\n",
      "  (0, 180071)\t0.0555371783051\n",
      "  (0, 179824)\t0.0591899610791\n",
      "  (0, 179739)\t0.038589990049\n",
      "  (0, 179647)\t0.0248622326721\n",
      "  (0, 179608)\t0.0146904555034\n",
      "  (0, 178841)\t0.0471399334202\n",
      "  (0, 178537)\t0.0225762096076\n",
      "  (0, 177872)\t0.0614286789627\n",
      "  (0, 177848)\t0.0432122534239\n",
      "  (0, 177807)\t0.0438685456828\n",
      "  (0, 177048)\t0.0406104395127\n",
      "  (0, 176627)\t0.0195281808456\n",
      "  :\t:\n",
      "  (0, 17889)\t0.0575050154598\n",
      "  (0, 17461)\t0.0492170571704\n",
      "  (0, 16920)\t0.0614918021669\n",
      "  (0, 16766)\t0.031381887935\n",
      "  (0, 16482)\t0.0302755435546\n",
      "  (0, 16315)\t0.02006154448\n",
      "  (0, 16082)\t0.0435003686723\n",
      "  (0, 15582)\t0.0295611302805\n",
      "  (0, 15454)\t0.0415784114875\n",
      "  (0, 14157)\t0.0217189569269\n",
      "  (0, 14067)\t0.0403851410875\n",
      "  (0, 14037)\t0.0417460987918\n",
      "  (0, 13927)\t0.0258142829128\n",
      "  (0, 13894)\t0.0393554926071\n",
      "  (0, 12388)\t0.0527544419413\n",
      "  (0, 11824)\t0.0445311742928\n",
      "  (0, 11766)\t0.0246253870436\n",
      "  (0, 11235)\t0.0305133952342\n",
      "  (0, 11137)\t0.0218813658277\n",
      "  (0, 10959)\t0.0179673898635\n",
      "  (0, 10923)\t0.0989626764789\n",
      "  (0, 10725)\t0.0477412146687\n",
      "  (0, 5971)\t0.0351299768303\n",
      "  (0, 4344)\t0.0156931145327\n",
      "  (0, 0)\t0.0634079464988\n"
     ]
    }
   ],
   "source": [
    "response = tfidf.transform([str])\n",
    "print (response)"
   ]
  },
  {
   "cell_type": "code",
   "execution_count": 25,
   "metadata": {
    "collapsed": false
   },
   "outputs": [
    {
     "name": "stdout",
     "output_type": "stream",
     "text": [
      "zur  -  0.0579303654709\n",
      "yet  -  0.0395782169566\n",
      "xiii  -  0.0412108074774\n",
      "would  -  0.0529558765048\n",
      "worth  -  0.0351127639056\n",
      "worlds  -  0.0898647687942\n",
      "world  -  0.0187141476462\n",
      "working  -  0.0265999576371\n",
      "wish  -  0.0463443518411\n",
      "wife  -  0.0308148981093\n",
      "whole  -  0.0210523834778\n",
      "wheel  -  0.0309527468899\n",
      "well  -  0.0661244844718\n",
      "week  -  0.0555371783051\n",
      "weapons  -  0.0591899610791\n",
      "weaker  -  0.038589990049\n",
      "ways  -  0.0248622326721\n",
      "way  -  0.0146904555034\n",
      "want  -  0.0471399334202\n",
      "wait  -  0.0225762096076\n",
      "voices  -  0.0614286789627\n",
      "voice  -  0.0432122534239\n",
      "vocal  -  0.0438685456828\n",
      "video  -  0.0406104395127\n",
      "version  -  0.0195281808456\n",
      "various  -  0.0252081650923\n",
      "us  -  0.0473008123222\n",
      "urchin  -  0.0676889548962\n",
      "upon  -  0.0275716531674\n",
      "upgrading  -  0.0349572350484\n",
      "upgrade  -  0.0524291847125\n",
      "update  -  0.0798377829058\n",
      "understanding  -  0.0756324197634\n",
      "understand  -  0.0250814735603\n",
      "undercurrents  -  0.0676889548962\n",
      "unacceptable  -  0.0401344878156\n",
      "ultimately  -  0.0951119197482\n",
      "two  -  0.0856291911893\n",
      "turn  -  0.0218574098255\n",
      "treats  -  0.0458325951886\n",
      "top  -  0.0210176472622\n",
      "took  -  0.0222915323\n",
      "ton  -  0.0290410756393\n",
      "time  -  0.012311944189\n",
      "third  -  0.0253559592575\n",
      "thinks  -  0.0377700583446\n",
      "thinking  -  0.0263120840071\n",
      "think  -  0.0645141939063\n",
      "things  -  0.0338182383932\n",
      "tess  -  0.0586345133898\n",
      "terrifying  -  0.0422297454926\n",
      "tasks  -  0.0320889898265\n",
      "takes  -  0.0206451247527\n",
      "taken  -  0.0274090025509\n",
      "tactics  -  0.0313406943558\n",
      "tactic  -  0.041453188875\n",
      "swell  -  0.0520908120832\n",
      "sure  -  0.0379211948359\n",
      "suits  -  0.0369107160093\n",
      "suggestions  -  0.0439506762045\n",
      "style  -  0.0220038154324\n",
      "struck  -  0.0411267126257\n",
      "strong  -  0.0279325367154\n",
      "streamlined  -  0.0396519773287\n",
      "storyline  -  0.0466222882067\n",
      "story  -  0.0885842096856\n",
      "stop  -  0.0707950266531\n",
      "stayed  -  0.0389637184201\n",
      "started  -  0.023794200612\n",
      "stars  -  0.0216578001504\n",
      "stanton  -  0.0609155955464\n",
      "standout  -  0.0449105882033\n",
      "stand  -  0.0260485166706\n",
      "spoken  -  0.0400099253659\n",
      "spice  -  0.0426953061046\n",
      "spend  -  0.0491675525201\n",
      "spells  -  0.0313553717469\n",
      "spectacular  -  0.064621957922\n",
      "spanking  -  0.0541987777863\n",
      "sound  -  0.0194699480949\n",
      "sometimes  -  0.0425916621512\n",
      "solved  -  0.036824584544\n",
      "solo  -  0.0326372580349\n",
      "snap  -  0.0374398190458\n",
      "smoothly  -  0.0340007131974\n",
      "smooth  -  0.0534062804414\n",
      "slots  -  0.0355567953644\n",
      "side  -  0.0822863559627\n",
      "sexy  -  0.0398082607345\n",
      "series  -  0.0357475037281\n",
      "seem  -  0.0219571691648\n",
      "secondary  -  0.0718174500624\n",
      "second  -  0.0211959282929\n",
      "script  -  0.0378720961773\n",
      "scores  -  0.100362778907\n",
      "scenes  -  0.0244075066229\n",
      "scenery  -  0.0320522740338\n",
      "scene  -  0.0284428823755\n",
      "say  -  0.0160728959294\n",
      "satisfaction  -  0.0383302097893\n",
      "sale  -  0.0315012736526\n",
      "said  -  0.0605340918975\n",
      "sadness  -  0.0483698895029\n",
      "sad  -  0.030785603724\n",
      "runs  -  0.0273944466804\n",
      "rpg  -  0.0225020027499\n",
      "roth  -  0.0579303654709\n",
      "rising  -  0.0374658847641\n",
      "rich  -  0.0336320466641\n",
      "reviewers  -  0.0299732855452\n",
      "review  -  0.0205586351723\n",
      "rescind  -  0.0699700370528\n",
      "repeated  -  0.0377334077862\n",
      "remembering  -  0.0437342710316\n",
      "references  -  0.0381111228168\n",
      "received  -  0.0300264143896\n",
      "rebecca  -  0.0506509716595\n",
      "rear  -  0.0382696076864\n",
      "really  -  0.0741361814241\n",
      "realized  -  0.0316479633096\n",
      "realistic  -  0.024112744382\n",
      "random  -  0.0548618144303\n",
      "raison  -  0.0637894191929\n",
      "quite  -  0.057984488413\n",
      "quests  -  0.105489480249\n",
      "quest  -  0.0269287286295\n",
      "ps3  -  0.0205737508632\n",
      "problems  -  0.0226601742982\n",
      "problem  -  0.0203770037787\n",
      "probably  -  0.0197352006212\n",
      "prince  -  0.0359219467548\n",
      "previous  -  0.0225688063727\n",
      "preferred  -  0.0362070322495\n",
      "popping  -  0.0371361017193\n",
      "political  -  0.04088171713\n",
      "point  -  0.0197620899806\n",
      "plenty  -  0.0252925716654\n",
      "pleased  -  0.0641112038984\n",
      "plays  -  0.0476175685712\n",
      "playing  -  0.0415895626694\n",
      "player  -  0.0178202164142\n",
      "played  -  0.0287949184845\n",
      "play  -  0.0767655281905\n",
      "place  -  0.0861888240858\n",
      "pieces  -  0.0298280359233\n",
      "persia  -  0.0382096514441\n",
      "perfectly  -  0.026727620043\n",
      "people  -  0.0324594643727\n",
      "path  -  0.0297061397837\n",
      "party  -  0.0257661891682\n",
      "parts  -  0.0499396807851\n",
      "overall  -  0.0353654833601\n",
      "outlined  -  0.0509299961556\n",
      "origins  -  0.0707835340333\n",
      "order  -  0.0234112216248\n",
      "orchestra  -  0.0464855987478\n",
      "options  -  0.0242982964422\n",
      "opinion  -  0.0238396108878\n",
      "open  -  0.0229362894569\n",
      "one  -  0.0209841678042\n",
      "ogre  -  0.0457181673627\n",
      "oblivion  -  0.0333443599264\n",
      "number  -  0.049188742134\n",
      "notch  -  0.0292171757677\n",
      "none  -  0.0269879202315\n",
      "nicholas  -  0.0603793956462\n",
      "next  -  0.0392089365574\n",
      "new  -  0.014457503589\n",
      "need  -  0.0175779228458\n",
      "navigation  -  0.0379190959562\n",
      "navigating  -  0.0394749699831\n",
      "natural  -  0.0333905942165\n",
      "named  -  0.0318304730325\n",
      "name  -  0.0260279551991\n",
      "music  -  0.117199263927\n",
      "much  -  0.0640518100763\n",
      "moving  -  0.0261326839091\n",
      "movements  -  0.0317637061244\n",
      "monsters  -  0.0277763628733\n",
      "moment  -  0.0288326519229\n",
      "miss  -  0.053973136057\n",
      "miranda  -  0.051749747611\n",
      "mind  -  0.069356686019\n",
      "might  -  0.0203213225006\n",
      "mi  -  0.0946480983856\n",
      "members  -  0.031040997183\n",
      "means  -  0.0242208582038\n",
      "may  -  0.0378700168768\n",
      "martin  -  0.04627327767\n",
      "many  -  0.0153143876812\n",
      "manhandle  -  0.0676889548962\n",
      "man  -  0.0248742943458\n",
      "male  -  0.0354462403496\n",
      "makes  -  0.0354095456559\n",
      "make  -  0.0452221880442\n",
      "main  -  0.0209032319991\n",
      "made  -  0.0346489565418\n",
      "love  -  0.0641830326732\n",
      "lot  -  0.0931315814565\n",
      "lost  -  0.0501263875413\n",
      "looks  -  0.061452256756\n",
      "looked  -  0.0270095997991\n",
      "look  -  0.0351883929516\n",
      "longer  -  0.0240626719683\n",
      "little  -  0.15524044823\n",
      "listening  -  0.0347707866125\n",
      "lines  -  0.0299206537443\n",
      "line  -  0.0863581007109\n",
      "limited  -  0.0251415399361\n",
      "likely  -  0.027781032267\n",
      "like  -  0.0505738236519\n",
      "leveling  -  0.0308042279481\n",
      "let  -  0.0200198480839\n",
      "less  -  0.0419022470839\n",
      "leave  -  0.0533549730946\n",
      "large  -  0.0250728073082\n",
      "know  -  0.0670586938847\n",
      "kitsch  -  0.0615083370363\n",
      "kick  -  0.0302320445687\n",
      "joanna  -  0.0557606897433\n",
      "jane  -  0.0472244741894\n",
      "issue  -  0.0251444627039\n",
      "interesting  -  0.0211737527134\n",
      "intelligent  -  0.0372271769225\n",
      "integration  -  0.0422500921362\n",
      "integrated  -  0.0384326869546\n",
      "instrument  -  0.0422297454926\n",
      "instance  -  0.0311760238442\n",
      "inon  -  0.0621709656463\n",
      "initial  -  0.0322279902529\n",
      "include  -  0.0282432903314\n",
      "inability  -  0.0404511148397\n",
      "improve  -  0.0299824893769\n",
      "impressed  -  0.0289464240676\n",
      "ii  -  0.11248488373\n",
      "icons  -  0.0784866416884\n",
      "hours  -  0.0177279335718\n",
      "host  -  0.0372188361636\n",
      "hoped  -  0.0364780376863\n",
      "hope  -  0.0239464906457\n",
      "help  -  0.0220027003004\n",
      "held  -  0.0323529369491\n",
      "heard  -  0.0501745169741\n",
      "hawke  -  0.103281009102\n",
      "happy  -  0.0242890813036\n",
      "happened  -  0.0284062204437\n",
      "guy  -  0.0253884317333\n",
      "great  -  0.0582099240036\n",
      "graphics  -  0.0648754157892\n",
      "gotten  -  0.0284903729505\n",
      "good  -  0.070490669228\n",
      "gone  -  0.0271665333545\n",
      "going  -  0.069023855015\n",
      "go  -  0.0151778404008\n",
      "given  -  0.023863618229\n",
      "give  -  0.0537890801259\n",
      "getting  -  0.0558064872855\n",
      "get  -  0.0110770246408\n",
      "games  -  0.0211839431791\n",
      "gamer  -  0.0238760493144\n",
      "game  -  0.155972757087\n",
      "fun  -  0.0956308343166\n",
      "frustrating  -  0.0239812523061\n",
      "freezes  -  0.0726533212786\n",
      "franchise  -  0.0509801940857\n",
      "forward  -  0.0250728073082\n",
      "follow  -  0.0269528681504\n",
      "focus  -  0.0582272350873\n",
      "first  -  0.0396546746853\n",
      "finishing  -  0.0324735459742\n",
      "finished  -  0.0526818814041\n",
      "fine  -  0.023548223037\n",
      "final  -  0.0229015153578\n",
      "film  -  0.0334713594688\n",
      "ffxiii  -  0.0470783402377\n",
      "felt  -  0.0240642802704\n",
      "feel  -  0.034841372992\n",
      "feared  -  0.0463151056755\n",
      "fashion  -  0.0348032434765\n",
      "far  -  0.0705024206023\n",
      "fantasy  -  0.0257629249727\n",
      "fantastic  -  0.0245608890651\n",
      "fans  -  0.0447046162787\n",
      "fancy  -  0.037127894802\n",
      "fanatic  -  0.0406316385895\n",
      "fan  -  0.018711041163\n",
      "fallout  -  0.032527589049\n",
      "facial  -  0.0358170329299\n",
      "expressions  -  0.0390323270853\n",
      "expecting  -  0.0286935978637\n",
      "expect  -  0.023004490328\n",
      "exciting  -  0.0560489232582\n",
      "excellent  -  0.0441943010619\n",
      "everything  -  0.0374419759061\n",
      "events  -  0.0283508100523\n",
      "even  -  0.0399160398636\n",
      "especially  -  0.0404215510638\n",
      "enjoying  -  0.0303193814971\n",
      "enjoyed  -  0.0903171886659\n",
      "enjoyable  -  0.0496782191564\n",
      "enjoy  -  0.0782987920554\n",
      "engrossing  -  0.0369107160093\n",
      "engaged  -  0.0389864951347\n",
      "endorsement  -  0.0524538955299\n",
      "end  -  0.0187281480868\n",
      "emporium  -  0.0629221920058\n",
      "effects  -  0.0247630154029\n",
      "easily  -  0.0227244559166\n",
      "ea  -  0.0544115150064\n",
      "dumbed  -  0.0395627775309\n",
      "dragon  -  0.0593205711946\n",
      "done  -  0.0193761936599\n",
      "doc  -  0.0481329769896\n",
      "dings  -  0.0549257024198\n",
      "different  -  0.0332498308142\n",
      "differences  -  0.0334244594253\n",
      "dialog  -  0.0338156359541\n",
      "detailed  -  0.0272693749262\n",
      "designer  -  0.0411601998724\n",
      "depth  -  0.0270477412389\n",
      "deeply  -  0.0803814933853\n",
      "dedicated  -  0.0355320391492\n",
      "deal  -  0.0235688063009\n",
      "days  -  0.0677712792896\n",
      "darn  -  0.0357076649414\n",
      "dark  -  0.0246574685925\n",
      "da  -  0.244344721483\n",
      "cut  -  0.0725809030332\n",
      "crossbow  -  0.0861668980347\n",
      "criticisms  -  0.0430834490174\n",
      "crisp  -  0.0340717176\n",
      "craft  -  0.037844083634\n",
      "course  -  0.0221914836934\n",
      "couple  -  0.0459108163406\n",
      "could  -  0.0478862173768\n",
      "cool  -  0.0595454330214\n",
      "cooing  -  0.0699700370528\n",
      "controlled  -  0.0336452787537\n",
      "control  -  0.0203031586313\n",
      "continues  -  0.0324058283523\n",
      "connected  -  0.033428706946\n",
      "concerto  -  0.0660705013495\n",
      "compromise  -  0.0475286477699\n",
      "composer  -  0.0453882189598\n",
      "composed  -  0.0417436193372\n",
      "complicated  -  0.0317384780964\n",
      "completing  -  0.030682953956\n",
      "completely  -  0.0230640944606\n",
      "comment  -  0.0328940523942\n",
      "coming  -  0.0242382513215\n",
      "comes  -  0.0206311268522\n",
      "combinations  -  0.0358823744405\n",
      "combat  -  0.0864994487374\n",
      "colorful  -  0.0321462079649\n",
      "claudia  -  0.0543718942398\n",
      "classical  -  0.0436031266125\n",
      "choices  -  0.0281978321454\n",
      "characters  -  0.0686953607293\n",
      "changes  -  0.027058686458\n",
      "change  -  0.022071695474\n",
      "chance  -  0.0258011256101\n",
      "cast  -  0.0311845715908\n",
      "carefully  -  0.110994560024\n",
      "camp  -  0.0373708951721\n",
      "breaker  -  0.0388289612989\n",
      "brand  -  0.0296104894904\n",
      "blown  -  0.0331227445448\n",
      "blame  -  0.038170032683\n",
      "black  -  0.0247375755108\n",
      "big  -  0.0189450358129\n",
      "bianca  -  0.115860730942\n",
      "better  -  0.0868282365147\n",
      "best  -  0.0148824485917\n",
      "beautiful  -  0.0477583227649\n",
      "bbc  -  0.226966296584\n",
      "basic  -  0.0267044259802\n",
      "away  -  0.0400115141076\n",
      "average  -  0.0275821645506\n",
      "available  -  0.0235548308769\n",
      "attached  -  0.0352197458305\n",
      "assume  -  0.035464515972\n",
      "aside  -  0.0278720774369\n",
      "armor  -  0.0575050154598\n",
      "area  -  0.0492170571704\n",
      "appreciate  -  0.0614918021669\n",
      "appears  -  0.031381887935\n",
      "apart  -  0.0302755435546\n",
      "anything  -  0.02006154448\n",
      "anticipating  -  0.0435003686723\n",
      "animations  -  0.0295611302805\n",
      "anger  -  0.0415784114875\n",
      "although  -  0.0217189569269\n",
      "also  -  0.0403851410875\n",
      "already  -  0.0417460987918\n",
      "alone  -  0.0258142829128\n",
      "almost  -  0.0393554926071\n",
      "age  -  0.0527544419413\n",
      "adventuring  -  0.0445311742928\n",
      "adventure  -  0.0246253870436\n",
      "adding  -  0.0305133952342\n",
      "add  -  0.0218813658277\n",
      "actually  -  0.0179673898635\n",
      "actors  -  0.0989626764789\n",
      "acting  -  0.0477412146687\n",
      "5  -  0.0351299768303\n",
      "3  -  0.0156931145327\n",
      "0  -  0.0634079464988\n"
     ]
    }
   ],
   "source": [
    "feature_names = tfidf.get_feature_names()\n",
    "for col in response.nonzero()[1]:\n",
    "    print (feature_names[col], ' - ', response[0, col])"
   ]
  },
  {
   "cell_type": "code",
   "execution_count": 26,
   "metadata": {
    "collapsed": false
   },
   "outputs": [
    {
     "data": {
      "text/plain": [
       "scipy.sparse.csr.csr_matrix"
      ]
     },
     "execution_count": 26,
     "metadata": {},
     "output_type": "execute_result"
    }
   ],
   "source": [
    "type(response)"
   ]
  },
  {
   "cell_type": "code",
   "execution_count": 27,
   "metadata": {
    "collapsed": true
   },
   "outputs": [],
   "source": [
    "train_set_num = train_set.drop([\"reviewerName\", \"helpful\", \"summary\", \"unixReviewTime\", \"reviewTime\", \"Text\"], axis = 1)"
   ]
  },
  {
   "cell_type": "code",
   "execution_count": 28,
   "metadata": {
    "collapsed": false
   },
   "outputs": [
    {
     "data": {
      "text/html": [
       "<div>\n",
       "<style>\n",
       "    .dataframe thead tr:only-child th {\n",
       "        text-align: right;\n",
       "    }\n",
       "\n",
       "    .dataframe thead th {\n",
       "        text-align: left;\n",
       "    }\n",
       "\n",
       "    .dataframe tbody tr th {\n",
       "        vertical-align: top;\n",
       "    }\n",
       "</style>\n",
       "<table border=\"1\" class=\"dataframe\">\n",
       "  <thead>\n",
       "    <tr style=\"text-align: right;\">\n",
       "      <th></th>\n",
       "      <th>reviewerID</th>\n",
       "      <th>asin</th>\n",
       "      <th>reviewText</th>\n",
       "      <th>overall</th>\n",
       "    </tr>\n",
       "  </thead>\n",
       "  <tbody>\n",
       "    <tr>\n",
       "      <th>41024</th>\n",
       "      <td>A1T6XL9P487RGC</td>\n",
       "      <td>B00009ZVHY</td>\n",
       "      <td>Prince of Persia: The Sands of Time is a prett...</td>\n",
       "      <td>4.0</td>\n",
       "    </tr>\n",
       "    <tr>\n",
       "      <th>111044</th>\n",
       "      <td>AUNBHG6AVL8MO</td>\n",
       "      <td>B001C6GVI6</td>\n",
       "      <td>Although the game can be slow at times I love ...</td>\n",
       "      <td>5.0</td>\n",
       "    </tr>\n",
       "    <tr>\n",
       "      <th>19454</th>\n",
       "      <td>A2Z548GT5948WH</td>\n",
       "      <td>B00005ML0Z</td>\n",
       "      <td>This game eliminates boredom and allows one to...</td>\n",
       "      <td>3.0</td>\n",
       "    </tr>\n",
       "    <tr>\n",
       "      <th>36629</th>\n",
       "      <td>A3PPXVR5J6U2JD</td>\n",
       "      <td>B00008G8OA</td>\n",
       "      <td>I've always been a Godzilla fan but never knew...</td>\n",
       "      <td>4.0</td>\n",
       "    </tr>\n",
       "    <tr>\n",
       "      <th>58632</th>\n",
       "      <td>A1T7CM8MBPXCM1</td>\n",
       "      <td>B0009WPZOA</td>\n",
       "      <td>AWESOME GRAPHICS and VERY FUN gameplay put thi...</td>\n",
       "      <td>4.0</td>\n",
       "    </tr>\n",
       "  </tbody>\n",
       "</table>\n",
       "</div>"
      ],
      "text/plain": [
       "            reviewerID        asin  \\\n",
       "41024   A1T6XL9P487RGC  B00009ZVHY   \n",
       "111044   AUNBHG6AVL8MO  B001C6GVI6   \n",
       "19454   A2Z548GT5948WH  B00005ML0Z   \n",
       "36629   A3PPXVR5J6U2JD  B00008G8OA   \n",
       "58632   A1T7CM8MBPXCM1  B0009WPZOA   \n",
       "\n",
       "                                               reviewText  overall  \n",
       "41024   Prince of Persia: The Sands of Time is a prett...      4.0  \n",
       "111044  Although the game can be slow at times I love ...      5.0  \n",
       "19454   This game eliminates boredom and allows one to...      3.0  \n",
       "36629   I've always been a Godzilla fan but never knew...      4.0  \n",
       "58632   AWESOME GRAPHICS and VERY FUN gameplay put thi...      4.0  "
      ]
     },
     "execution_count": 28,
     "metadata": {},
     "output_type": "execute_result"
    }
   ],
   "source": [
    "train_set_num.head()"
   ]
  },
  {
   "cell_type": "code",
   "execution_count": 29,
   "metadata": {
    "collapsed": true
   },
   "outputs": [],
   "source": [
    "training_labels = train_set[\"overall\"].copy()\n",
    "training = train_set_num.drop(\"overall\", axis=1)"
   ]
  },
  {
   "cell_type": "code",
   "execution_count": 30,
   "metadata": {
    "collapsed": false,
    "scrolled": true
   },
   "outputs": [
    {
     "data": {
      "text/html": [
       "<div>\n",
       "<style>\n",
       "    .dataframe thead tr:only-child th {\n",
       "        text-align: right;\n",
       "    }\n",
       "\n",
       "    .dataframe thead th {\n",
       "        text-align: left;\n",
       "    }\n",
       "\n",
       "    .dataframe tbody tr th {\n",
       "        vertical-align: top;\n",
       "    }\n",
       "</style>\n",
       "<table border=\"1\" class=\"dataframe\">\n",
       "  <thead>\n",
       "    <tr style=\"text-align: right;\">\n",
       "      <th></th>\n",
       "      <th>reviewerID</th>\n",
       "      <th>asin</th>\n",
       "      <th>reviewText</th>\n",
       "    </tr>\n",
       "  </thead>\n",
       "  <tbody>\n",
       "    <tr>\n",
       "      <th>41024</th>\n",
       "      <td>A1T6XL9P487RGC</td>\n",
       "      <td>B00009ZVHY</td>\n",
       "      <td>Prince of Persia: The Sands of Time is a prett...</td>\n",
       "    </tr>\n",
       "    <tr>\n",
       "      <th>111044</th>\n",
       "      <td>AUNBHG6AVL8MO</td>\n",
       "      <td>B001C6GVI6</td>\n",
       "      <td>Although the game can be slow at times I love ...</td>\n",
       "    </tr>\n",
       "    <tr>\n",
       "      <th>19454</th>\n",
       "      <td>A2Z548GT5948WH</td>\n",
       "      <td>B00005ML0Z</td>\n",
       "      <td>This game eliminates boredom and allows one to...</td>\n",
       "    </tr>\n",
       "    <tr>\n",
       "      <th>36629</th>\n",
       "      <td>A3PPXVR5J6U2JD</td>\n",
       "      <td>B00008G8OA</td>\n",
       "      <td>I've always been a Godzilla fan but never knew...</td>\n",
       "    </tr>\n",
       "    <tr>\n",
       "      <th>58632</th>\n",
       "      <td>A1T7CM8MBPXCM1</td>\n",
       "      <td>B0009WPZOA</td>\n",
       "      <td>AWESOME GRAPHICS and VERY FUN gameplay put thi...</td>\n",
       "    </tr>\n",
       "  </tbody>\n",
       "</table>\n",
       "</div>"
      ],
      "text/plain": [
       "            reviewerID        asin  \\\n",
       "41024   A1T6XL9P487RGC  B00009ZVHY   \n",
       "111044   AUNBHG6AVL8MO  B001C6GVI6   \n",
       "19454   A2Z548GT5948WH  B00005ML0Z   \n",
       "36629   A3PPXVR5J6U2JD  B00008G8OA   \n",
       "58632   A1T7CM8MBPXCM1  B0009WPZOA   \n",
       "\n",
       "                                               reviewText  \n",
       "41024   Prince of Persia: The Sands of Time is a prett...  \n",
       "111044  Although the game can be slow at times I love ...  \n",
       "19454   This game eliminates boredom and allows one to...  \n",
       "36629   I've always been a Godzilla fan but never knew...  \n",
       "58632   AWESOME GRAPHICS and VERY FUN gameplay put thi...  "
      ]
     },
     "execution_count": 30,
     "metadata": {},
     "output_type": "execute_result"
    }
   ],
   "source": [
    "training.head()"
   ]
  },
  {
   "cell_type": "code",
   "execution_count": null,
   "metadata": {
    "collapsed": true
   },
   "outputs": [],
   "source": [
    "# training = training.assign(TFIDF = training['reviewText'].apply(lambda str: tfidf.transform([str])))"
   ]
  },
  {
   "cell_type": "code",
   "execution_count": null,
   "metadata": {
    "collapsed": true
   },
   "outputs": [],
   "source": [
    "# training.head()"
   ]
  },
  {
   "cell_type": "code",
   "execution_count": null,
   "metadata": {
    "collapsed": true
   },
   "outputs": [],
   "source": [
    "# training_prepared = training.drop([\"reviewerID\", \"asin\", \"reviewText\"], axis = 1)"
   ]
  },
  {
   "cell_type": "code",
   "execution_count": null,
   "metadata": {
    "collapsed": true
   },
   "outputs": [],
   "source": [
    "# training_prepared.head()"
   ]
  },
  {
   "cell_type": "code",
   "execution_count": null,
   "metadata": {
    "collapsed": true
   },
   "outputs": [],
   "source": [
    "# training_prepared[\"TFIDF\"][0].todense()"
   ]
  },
  {
   "cell_type": "code",
   "execution_count": null,
   "metadata": {
    "collapsed": true,
    "scrolled": true
   },
   "outputs": [],
   "source": [
    "# training_prepared.head()"
   ]
  },
  {
   "cell_type": "code",
   "execution_count": null,
   "metadata": {
    "collapsed": true
   },
   "outputs": [],
   "source": [
    "# Memory issues\n",
    "\n",
    "# training = training.assign(TFIDF = training['TFIDF'].apply(lambda x: x.todense()))"
   ]
  },
  {
   "cell_type": "code",
   "execution_count": 31,
   "metadata": {
    "collapsed": true
   },
   "outputs": [],
   "source": [
    "from sklearn.linear_model import SGDRegressor\n",
    "sgd_reg = SGDRegressor(n_iter=500, penalty=None, eta0=0.1, random_state=42)"
   ]
  },
  {
   "cell_type": "code",
   "execution_count": 32,
   "metadata": {
    "collapsed": false
   },
   "outputs": [
    {
     "data": {
      "text/plain": [
       "SGDRegressor(alpha=0.0001, average=False, epsilon=0.1, eta0=0.1,\n",
       "       fit_intercept=True, l1_ratio=0.15, learning_rate='invscaling',\n",
       "       loss='squared_loss', n_iter=500, penalty=None, power_t=0.25,\n",
       "       random_state=42, shuffle=True, verbose=0, warm_start=False)"
      ]
     },
     "execution_count": 32,
     "metadata": {},
     "output_type": "execute_result"
    }
   ],
   "source": [
    "sgd_reg.fit(tfs, training_labels.ravel())"
   ]
  },
  {
   "cell_type": "code",
   "execution_count": 33,
   "metadata": {
    "collapsed": false
   },
   "outputs": [
    {
     "data": {
      "text/plain": [
       "(array([ 3.93183008]),\n",
       " array([-0.55103209, -0.26251813, -0.3220666 , ...,  0.02161779,\n",
       "         0.12169506, -0.08671662]))"
      ]
     },
     "execution_count": 33,
     "metadata": {},
     "output_type": "execute_result"
    }
   ],
   "source": [
    "sgd_reg.intercept_, sgd_reg.coef_"
   ]
  },
  {
   "cell_type": "code",
   "execution_count": 34,
   "metadata": {
    "collapsed": false
   },
   "outputs": [
    {
     "data": {
      "text/html": [
       "<div>\n",
       "<style>\n",
       "    .dataframe thead tr:only-child th {\n",
       "        text-align: right;\n",
       "    }\n",
       "\n",
       "    .dataframe thead th {\n",
       "        text-align: left;\n",
       "    }\n",
       "\n",
       "    .dataframe tbody tr th {\n",
       "        vertical-align: top;\n",
       "    }\n",
       "</style>\n",
       "<table border=\"1\" class=\"dataframe\">\n",
       "  <thead>\n",
       "    <tr style=\"text-align: right;\">\n",
       "      <th></th>\n",
       "      <th>reviewerID</th>\n",
       "      <th>asin</th>\n",
       "      <th>reviewerName</th>\n",
       "      <th>helpful</th>\n",
       "      <th>reviewText</th>\n",
       "      <th>overall</th>\n",
       "      <th>summary</th>\n",
       "      <th>unixReviewTime</th>\n",
       "      <th>reviewTime</th>\n",
       "    </tr>\n",
       "  </thead>\n",
       "  <tbody>\n",
       "    <tr>\n",
       "      <th>168500</th>\n",
       "      <td>A17M1HL6U2GS7M</td>\n",
       "      <td>B0047TLIBU</td>\n",
       "      <td>Storylover</td>\n",
       "      <td>[31, 43]</td>\n",
       "      <td>Been playing this for two days now, and I am v...</td>\n",
       "      <td>5.0</td>\n",
       "      <td>It feels like hanging out with old friends aga...</td>\n",
       "      <td>1299715200</td>\n",
       "      <td>03 10, 2011</td>\n",
       "    </tr>\n",
       "    <tr>\n",
       "      <th>189019</th>\n",
       "      <td>A1FGU7F9UJ264N</td>\n",
       "      <td>B0053BCP40</td>\n",
       "      <td>Kelly Randall</td>\n",
       "      <td>[0, 0]</td>\n",
       "      <td>I really enjoyed playing this game, although i...</td>\n",
       "      <td>4.0</td>\n",
       "      <td>Fun game</td>\n",
       "      <td>1393459200</td>\n",
       "      <td>02 27, 2014</td>\n",
       "    </tr>\n",
       "    <tr>\n",
       "      <th>94086</th>\n",
       "      <td>A3R7M2EP1EYNVT</td>\n",
       "      <td>B000WCQWR6</td>\n",
       "      <td>Thomas B. Hileman Jr.</td>\n",
       "      <td>[0, 0]</td>\n",
       "      <td>This was kind of a gamble and was looking for ...</td>\n",
       "      <td>3.0</td>\n",
       "      <td>Shoot em up</td>\n",
       "      <td>1373155200</td>\n",
       "      <td>07 7, 2013</td>\n",
       "    </tr>\n",
       "    <tr>\n",
       "      <th>168763</th>\n",
       "      <td>A369KP0JV77JYT</td>\n",
       "      <td>B00498T500</td>\n",
       "      <td>Jon</td>\n",
       "      <td>[4, 4]</td>\n",
       "      <td>***Updated 7/7/2011 - update marked below***I ...</td>\n",
       "      <td>4.0</td>\n",
       "      <td>Fun for a group, don't pay too much for it</td>\n",
       "      <td>1302393600</td>\n",
       "      <td>04 10, 2011</td>\n",
       "    </tr>\n",
       "    <tr>\n",
       "      <th>17314</th>\n",
       "      <td>ABIKTKAWOMY8</td>\n",
       "      <td>B00005BIG7</td>\n",
       "      <td>Chance Farley</td>\n",
       "      <td>[3, 3]</td>\n",
       "      <td>It looks like we've come a long way from past ...</td>\n",
       "      <td>5.0</td>\n",
       "      <td>One of the best fps's to ever hit a console</td>\n",
       "      <td>994982400</td>\n",
       "      <td>07 13, 2001</td>\n",
       "    </tr>\n",
       "  </tbody>\n",
       "</table>\n",
       "</div>"
      ],
      "text/plain": [
       "            reviewerID        asin           reviewerName   helpful  \\\n",
       "168500  A17M1HL6U2GS7M  B0047TLIBU             Storylover  [31, 43]   \n",
       "189019  A1FGU7F9UJ264N  B0053BCP40          Kelly Randall    [0, 0]   \n",
       "94086   A3R7M2EP1EYNVT  B000WCQWR6  Thomas B. Hileman Jr.    [0, 0]   \n",
       "168763  A369KP0JV77JYT  B00498T500                    Jon    [4, 4]   \n",
       "17314     ABIKTKAWOMY8  B00005BIG7          Chance Farley    [3, 3]   \n",
       "\n",
       "                                               reviewText  overall  \\\n",
       "168500  Been playing this for two days now, and I am v...      5.0   \n",
       "189019  I really enjoyed playing this game, although i...      4.0   \n",
       "94086   This was kind of a gamble and was looking for ...      3.0   \n",
       "168763  ***Updated 7/7/2011 - update marked below***I ...      4.0   \n",
       "17314   It looks like we've come a long way from past ...      5.0   \n",
       "\n",
       "                                                  summary  unixReviewTime  \\\n",
       "168500  It feels like hanging out with old friends aga...      1299715200   \n",
       "189019                                           Fun game      1393459200   \n",
       "94086                                         Shoot em up      1373155200   \n",
       "168763         Fun for a group, don't pay too much for it      1302393600   \n",
       "17314         One of the best fps's to ever hit a console       994982400   \n",
       "\n",
       "         reviewTime  \n",
       "168500  03 10, 2011  \n",
       "189019  02 27, 2014  \n",
       "94086    07 7, 2013  \n",
       "168763  04 10, 2011  \n",
       "17314   07 13, 2001  "
      ]
     },
     "execution_count": 34,
     "metadata": {},
     "output_type": "execute_result"
    }
   ],
   "source": [
    "test_set.head()"
   ]
  },
  {
   "cell_type": "code",
   "execution_count": 35,
   "metadata": {
    "collapsed": false
   },
   "outputs": [
    {
     "data": {
      "text/plain": [
       "array([ 5.23034673])"
      ]
     },
     "execution_count": 35,
     "metadata": {},
     "output_type": "execute_result"
    }
   ],
   "source": [
    "sgd_reg.predict(response)"
   ]
  },
  {
   "cell_type": "code",
   "execution_count": null,
   "metadata": {
    "collapsed": true
   },
   "outputs": [],
   "source": [
    "test_set_labels = test_set[\"overall\"].copy()\n",
    "test_set_cleaned = test_set.drop([\"reviewerName\", \"helpful\", \"summary\", \"unixReviewTime\", \"reviewTime\", \"reviewerID\", \"asin\", \"overall\"], axis = 1)"
   ]
  },
  {
   "cell_type": "code",
   "execution_count": null,
   "metadata": {
    "collapsed": true
   },
   "outputs": [],
   "source": [
    "test_set_cleaned.head()"
   ]
  },
  {
   "cell_type": "code",
   "execution_count": null,
   "metadata": {
    "collapsed": true
   },
   "outputs": [],
   "source": [
    "test = test_set_cleaned.assign(TFIDF = test_set_cleaned['reviewText'].apply(lambda str: tfidf.transform([str])))"
   ]
  },
  {
   "cell_type": "code",
   "execution_count": null,
   "metadata": {
    "collapsed": true
   },
   "outputs": [],
   "source": [
    "test_tfidf = test.drop('reviewText', axis = 1)\n",
    "test_tfidf.head()"
   ]
  },
  {
   "cell_type": "code",
   "execution_count": null,
   "metadata": {
    "collapsed": true
   },
   "outputs": [],
   "source": [
    "test_sample= test_tfidf.iloc[:5]"
   ]
  },
  {
   "cell_type": "code",
   "execution_count": null,
   "metadata": {
    "collapsed": true
   },
   "outputs": [],
   "source": [
    "test_sample.values"
   ]
  },
  {
   "cell_type": "code",
   "execution_count": null,
   "metadata": {
    "collapsed": true
   },
   "outputs": [],
   "source": [
    "# Not working. How do we run a prediction on all entries at once?\n",
    "# sgd_reg.predict(test_sample.values)"
   ]
  },
  {
   "cell_type": "code",
   "execution_count": 36,
   "metadata": {
    "collapsed": true
   },
   "outputs": [],
   "source": [
    "str2 = test_set['reviewText'][189019]\n",
    "response2 = tfidf.transform([str2])"
   ]
  },
  {
   "cell_type": "code",
   "execution_count": 37,
   "metadata": {
    "collapsed": false
   },
   "outputs": [
    {
     "data": {
      "text/plain": [
       "array([ 4.46361506])"
      ]
     },
     "execution_count": 37,
     "metadata": {},
     "output_type": "execute_result"
    }
   ],
   "source": [
    "sgd_reg.predict(response2)"
   ]
  },
  {
   "cell_type": "code",
   "execution_count": 38,
   "metadata": {
    "collapsed": false
   },
   "outputs": [
    {
     "data": {
      "text/plain": [
       "array([ 3.12583316])"
      ]
     },
     "execution_count": 38,
     "metadata": {},
     "output_type": "execute_result"
    }
   ],
   "source": [
    "# Need to run predict on all entries at once for RMSE. Then, fine-tune the sgd learning rate parameter. Maybe the number of iterations?\n",
    "str3 = test_set['reviewText'][94086]\n",
    "response3 = tfidf.transform([str3])\n",
    "sgd_reg.predict(response3)"
   ]
  },
  {
   "cell_type": "code",
   "execution_count": 39,
   "metadata": {
    "collapsed": false
   },
   "outputs": [
    {
     "name": "stderr",
     "output_type": "stream",
     "text": [
      "C:\\ProgramData\\Anaconda3\\lib\\site-packages\\gensim-2.3.0-py3.6-win-amd64.egg\\gensim\\utils.py:865: UserWarning: detected Windows; aliasing chunkize to chunkize_serial\n",
      "  warnings.warn(\"detected Windows; aliasing chunkize to chunkize_serial\")\n",
      "2017-09-07 15:37:26,750 : INFO : collecting all words and their counts\n",
      "2017-09-07 15:37:26,756 : INFO : PROGRESS: at sentence #0, processed 0 words, keeping 0 word types\n",
      "2017-09-07 15:37:26,761 : INFO : collected 3 word types from a corpus of 4 raw words and 2 sentences\n",
      "2017-09-07 15:37:26,767 : INFO : Loading a fresh vocabulary\n",
      "2017-09-07 15:37:26,774 : INFO : min_count=1 retains 3 unique words (100% of original 3, drops 0)\n",
      "2017-09-07 15:37:26,779 : INFO : min_count=1 leaves 4 word corpus (100% of original 4, drops 0)\n",
      "2017-09-07 15:37:26,785 : INFO : deleting the raw counts dictionary of 3 items\n",
      "2017-09-07 15:37:26,794 : INFO : sample=0.001 downsamples 3 most-common words\n",
      "2017-09-07 15:37:26,800 : INFO : downsampling leaves estimated 0 word corpus (5.7% of prior 4)\n",
      "2017-09-07 15:37:26,806 : INFO : estimated required memory for 3 words and 100 dimensions: 3900 bytes\n",
      "2017-09-07 15:37:26,812 : INFO : resetting layer weights\n",
      "2017-09-07 15:37:26,818 : INFO : training model with 3 workers on 3 vocabulary and 100 features, using sg=0 hs=0 sample=0.001 negative=5 window=5\n",
      "2017-09-07 15:37:26,835 : INFO : worker thread finished; awaiting finish of 2 more threads\n",
      "2017-09-07 15:37:26,840 : INFO : worker thread finished; awaiting finish of 1 more threads\n",
      "2017-09-07 15:37:26,846 : INFO : worker thread finished; awaiting finish of 0 more threads\n",
      "2017-09-07 15:37:26,851 : INFO : training on 20 raw words (0 effective words) took 0.0s, 0 effective words/s\n",
      "2017-09-07 15:37:26,858 : WARNING : under 10 jobs per worker: consider setting a smaller `batch_words' for smoother alpha decay\n"
     ]
    }
   ],
   "source": [
    "import gensim, logging\n",
    "logging.basicConfig(format='%(asctime)s : %(levelname)s : %(message)s', level=logging.INFO)\n",
    " \n",
    "sentences = [['first', 'sentence'], ['second', 'sentence']]\n",
    "# train word2vec on the two sentences\n",
    "model = gensim.models.Word2Vec(sentences, min_count=1)"
   ]
  },
  {
   "cell_type": "code",
   "execution_count": 40,
   "metadata": {
    "collapsed": false
   },
   "outputs": [
    {
     "name": "stdout",
     "output_type": "stream",
     "text": [
      "showing info https://raw.githubusercontent.com/nltk/nltk_data/gh-pages/index.xml\n"
     ]
    },
    {
     "data": {
      "text/plain": [
       "True"
      ]
     },
     "execution_count": 40,
     "metadata": {},
     "output_type": "execute_result"
    }
   ],
   "source": [
    "import nltk.data\n",
    "nltk.download()"
   ]
  },
  {
   "cell_type": "code",
   "execution_count": 41,
   "metadata": {
    "collapsed": true
   },
   "outputs": [],
   "source": [
    "tokenizer = nltk.data.load('tokenizers/punkt/english.pickle')"
   ]
  },
  {
   "cell_type": "code",
   "execution_count": 42,
   "metadata": {
    "collapsed": true
   },
   "outputs": [],
   "source": [
    "def simplefilter2(string):\n",
    "    \"\"\" A simple implementation of input string tokenization that excludes stop words\n",
    "    Args:\n",
    "        string (str): input string\n",
    "    Returns:\n",
    "        list: a list of filtered tokens\n",
    "    \"\"\"\n",
    "    tokens = [x for x in simpleTokenize(string)]\n",
    "#   stems = stem_tokens(tokens, stemmer)\n",
    "    return tokens"
   ]
  },
  {
   "cell_type": "code",
   "execution_count": 45,
   "metadata": {
    "collapsed": true
   },
   "outputs": [],
   "source": [
    "train_set2 = train_set.assign(Text = train_set['reviewText'].apply(simplefilter2))"
   ]
  },
  {
   "cell_type": "code",
   "execution_count": 46,
   "metadata": {
    "collapsed": false
   },
   "outputs": [
    {
     "data": {
      "text/html": [
       "<div>\n",
       "<style>\n",
       "    .dataframe thead tr:only-child th {\n",
       "        text-align: right;\n",
       "    }\n",
       "\n",
       "    .dataframe thead th {\n",
       "        text-align: left;\n",
       "    }\n",
       "\n",
       "    .dataframe tbody tr th {\n",
       "        vertical-align: top;\n",
       "    }\n",
       "</style>\n",
       "<table border=\"1\" class=\"dataframe\">\n",
       "  <thead>\n",
       "    <tr style=\"text-align: right;\">\n",
       "      <th></th>\n",
       "      <th>reviewerID</th>\n",
       "      <th>asin</th>\n",
       "      <th>reviewerName</th>\n",
       "      <th>helpful</th>\n",
       "      <th>reviewText</th>\n",
       "      <th>overall</th>\n",
       "      <th>summary</th>\n",
       "      <th>unixReviewTime</th>\n",
       "      <th>reviewTime</th>\n",
       "      <th>Text</th>\n",
       "    </tr>\n",
       "  </thead>\n",
       "  <tbody>\n",
       "    <tr>\n",
       "      <th>41024</th>\n",
       "      <td>A1T6XL9P487RGC</td>\n",
       "      <td>B00009ZVHY</td>\n",
       "      <td>Xider \"MWAHAHAHAHA!\"</td>\n",
       "      <td>[2, 3]</td>\n",
       "      <td>Prince of Persia: The Sands of Time is a prett...</td>\n",
       "      <td>4.0</td>\n",
       "      <td>Good, but difficult</td>\n",
       "      <td>1072828800</td>\n",
       "      <td>12 31, 2003</td>\n",
       "      <td>[prince, of, persia, the, sands, of, time, is,...</td>\n",
       "    </tr>\n",
       "    <tr>\n",
       "      <th>111044</th>\n",
       "      <td>AUNBHG6AVL8MO</td>\n",
       "      <td>B001C6GVI6</td>\n",
       "      <td>Johnmrrs</td>\n",
       "      <td>[0, 0]</td>\n",
       "      <td>Although the game can be slow at times I love ...</td>\n",
       "      <td>5.0</td>\n",
       "      <td>One of my favorite games on the ps2</td>\n",
       "      <td>1356307200</td>\n",
       "      <td>12 24, 2012</td>\n",
       "      <td>[although, the, game, can, be, slow, at, times...</td>\n",
       "    </tr>\n",
       "    <tr>\n",
       "      <th>19454</th>\n",
       "      <td>A2Z548GT5948WH</td>\n",
       "      <td>B00005ML0Z</td>\n",
       "      <td>J. Perry \"Zak\"</td>\n",
       "      <td>[0, 0]</td>\n",
       "      <td>This game eliminates boredom and allows one to...</td>\n",
       "      <td>3.0</td>\n",
       "      <td>A fun PS2 Game</td>\n",
       "      <td>1360972800</td>\n",
       "      <td>02 16, 2013</td>\n",
       "      <td>[this, game, eliminates, boredom, and, allows,...</td>\n",
       "    </tr>\n",
       "    <tr>\n",
       "      <th>36629</th>\n",
       "      <td>A3PPXVR5J6U2JD</td>\n",
       "      <td>B00008G8OA</td>\n",
       "      <td>Michael J. Tresca \"Talien\"</td>\n",
       "      <td>[1, 2]</td>\n",
       "      <td>I've always been a Godzilla fan but never knew...</td>\n",
       "      <td>4.0</td>\n",
       "      <td>ROOOOOOOOOOOOOOOAR!</td>\n",
       "      <td>1113523200</td>\n",
       "      <td>04 15, 2005</td>\n",
       "      <td>[i, ve, always, been, a, godzilla, fan, but, n...</td>\n",
       "    </tr>\n",
       "    <tr>\n",
       "      <th>58632</th>\n",
       "      <td>A1T7CM8MBPXCM1</td>\n",
       "      <td>B0009WPZOA</td>\n",
       "      <td>XDonkey</td>\n",
       "      <td>[4, 4]</td>\n",
       "      <td>AWESOME GRAPHICS and VERY FUN gameplay put thi...</td>\n",
       "      <td>4.0</td>\n",
       "      <td>Tons of fun - Must Have!</td>\n",
       "      <td>1149379200</td>\n",
       "      <td>06 4, 2006</td>\n",
       "      <td>[awesome, graphics, and, very, fun, gameplay, ...</td>\n",
       "    </tr>\n",
       "  </tbody>\n",
       "</table>\n",
       "</div>"
      ],
      "text/plain": [
       "            reviewerID        asin                reviewerName helpful  \\\n",
       "41024   A1T6XL9P487RGC  B00009ZVHY        Xider \"MWAHAHAHAHA!\"  [2, 3]   \n",
       "111044   AUNBHG6AVL8MO  B001C6GVI6                    Johnmrrs  [0, 0]   \n",
       "19454   A2Z548GT5948WH  B00005ML0Z              J. Perry \"Zak\"  [0, 0]   \n",
       "36629   A3PPXVR5J6U2JD  B00008G8OA  Michael J. Tresca \"Talien\"  [1, 2]   \n",
       "58632   A1T7CM8MBPXCM1  B0009WPZOA                     XDonkey  [4, 4]   \n",
       "\n",
       "                                               reviewText  overall  \\\n",
       "41024   Prince of Persia: The Sands of Time is a prett...      4.0   \n",
       "111044  Although the game can be slow at times I love ...      5.0   \n",
       "19454   This game eliminates boredom and allows one to...      3.0   \n",
       "36629   I've always been a Godzilla fan but never knew...      4.0   \n",
       "58632   AWESOME GRAPHICS and VERY FUN gameplay put thi...      4.0   \n",
       "\n",
       "                                    summary  unixReviewTime   reviewTime  \\\n",
       "41024                   Good, but difficult      1072828800  12 31, 2003   \n",
       "111044  One of my favorite games on the ps2      1356307200  12 24, 2012   \n",
       "19454                        A fun PS2 Game      1360972800  02 16, 2013   \n",
       "36629                   ROOOOOOOOOOOOOOOAR!      1113523200  04 15, 2005   \n",
       "58632              Tons of fun - Must Have!      1149379200   06 4, 2006   \n",
       "\n",
       "                                                     Text  \n",
       "41024   [prince, of, persia, the, sands, of, time, is,...  \n",
       "111044  [although, the, game, can, be, slow, at, times...  \n",
       "19454   [this, game, eliminates, boredom, and, allows,...  \n",
       "36629   [i, ve, always, been, a, godzilla, fan, but, n...  \n",
       "58632   [awesome, graphics, and, very, fun, gameplay, ...  "
      ]
     },
     "execution_count": 46,
     "metadata": {},
     "output_type": "execute_result"
    }
   ],
   "source": [
    "train_set2.head()"
   ]
  },
  {
   "cell_type": "code",
   "execution_count": 43,
   "metadata": {
    "collapsed": true
   },
   "outputs": [],
   "source": [
    "def review_to_sentences(review, tokenizer):\n",
    "    \"\"\" To split a review into parsed sentences\n",
    "    Args:\n",
    "        review: string\n",
    "        tokenizer\n",
    "    Returns:\n",
    "        list: a list of a (list of tokens (each sentence is tokenized)). So, a list of sentences\n",
    "    \"\"\"\n",
    "    raw_sentences = tokenizer.tokenize(review.strip())\n",
    "  \n",
    "    sentences = []\n",
    "    for raw_sentence in raw_sentences:\n",
    "        if len(raw_sentence) > 0:\n",
    "            sentences.append(simplefilter2(raw_sentence))\n",
    "            \n",
    "    return sentences"
   ]
  },
  {
   "cell_type": "code",
   "execution_count": 47,
   "metadata": {
    "collapsed": false
   },
   "outputs": [
    {
     "name": "stdout",
     "output_type": "stream",
     "text": [
      "Parsing sentences from training set...\n"
     ]
    }
   ],
   "source": [
    "sentences = []\n",
    "\n",
    "print (\"Parsing sentences from training set...\")\n",
    "for review in train_set2['reviewText']:\n",
    "    sentences += review_to_sentences(review, tokenizer)"
   ]
  },
  {
   "cell_type": "code",
   "execution_count": 48,
   "metadata": {
    "collapsed": false
   },
   "outputs": [
    {
     "name": "stderr",
     "output_type": "stream",
     "text": [
      "2017-09-07 15:51:26,567 : INFO : collecting all words and their counts\n",
      "2017-09-07 15:51:26,588 : INFO : PROGRESS: at sentence #0, processed 0 words, keeping 0 word types\n"
     ]
    },
    {
     "name": "stdout",
     "output_type": "stream",
     "text": [
      "Training model...\n"
     ]
    },
    {
     "name": "stderr",
     "output_type": "stream",
     "text": [
      "2017-09-07 15:51:26,954 : INFO : PROGRESS: at sentence #10000, processed 213123 words, keeping 13066 word types\n",
      "2017-09-07 15:51:27,303 : INFO : PROGRESS: at sentence #20000, processed 424848 words, keeping 18550 word types\n",
      "2017-09-07 15:51:27,699 : INFO : PROGRESS: at sentence #30000, processed 643007 words, keeping 22719 word types\n",
      "2017-09-07 15:51:28,033 : INFO : PROGRESS: at sentence #40000, processed 854215 words, keeping 25850 word types\n",
      "2017-09-07 15:51:28,528 : INFO : PROGRESS: at sentence #50000, processed 1071610 words, keeping 28833 word types\n",
      "2017-09-07 15:51:28,817 : INFO : PROGRESS: at sentence #60000, processed 1297731 words, keeping 32070 word types\n",
      "2017-09-07 15:51:29,039 : INFO : PROGRESS: at sentence #70000, processed 1510682 words, keeping 34444 word types\n",
      "2017-09-07 15:51:29,241 : INFO : PROGRESS: at sentence #80000, processed 1721676 words, keeping 36808 word types\n",
      "2017-09-07 15:51:29,491 : INFO : PROGRESS: at sentence #90000, processed 1937425 words, keeping 38969 word types\n",
      "2017-09-07 15:51:29,655 : INFO : PROGRESS: at sentence #100000, processed 2152674 words, keeping 41012 word types\n",
      "2017-09-07 15:51:29,944 : INFO : PROGRESS: at sentence #110000, processed 2369166 words, keeping 42977 word types\n",
      "2017-09-07 15:51:30,214 : INFO : PROGRESS: at sentence #120000, processed 2584055 words, keeping 44675 word types\n",
      "2017-09-07 15:51:30,499 : INFO : PROGRESS: at sentence #130000, processed 2790560 words, keeping 46294 word types\n",
      "2017-09-07 15:51:30,700 : INFO : PROGRESS: at sentence #140000, processed 3002302 words, keeping 47947 word types\n",
      "2017-09-07 15:51:30,949 : INFO : PROGRESS: at sentence #150000, processed 3213259 words, keeping 49582 word types\n",
      "2017-09-07 15:51:31,111 : INFO : PROGRESS: at sentence #160000, processed 3431528 words, keeping 51544 word types\n",
      "2017-09-07 15:51:31,334 : INFO : PROGRESS: at sentence #170000, processed 3648340 words, keeping 53023 word types\n",
      "2017-09-07 15:51:31,530 : INFO : PROGRESS: at sentence #180000, processed 3867564 words, keeping 54599 word types\n",
      "2017-09-07 15:51:31,766 : INFO : PROGRESS: at sentence #190000, processed 4080354 words, keeping 56047 word types\n",
      "2017-09-07 15:51:32,014 : INFO : PROGRESS: at sentence #200000, processed 4298008 words, keeping 57536 word types\n",
      "2017-09-07 15:51:32,236 : INFO : PROGRESS: at sentence #210000, processed 4506938 words, keeping 59002 word types\n",
      "2017-09-07 15:51:32,468 : INFO : PROGRESS: at sentence #220000, processed 4715123 words, keeping 60303 word types\n",
      "2017-09-07 15:51:32,700 : INFO : PROGRESS: at sentence #230000, processed 4933270 words, keeping 61656 word types\n",
      "2017-09-07 15:51:32,938 : INFO : PROGRESS: at sentence #240000, processed 5144892 words, keeping 63094 word types\n",
      "2017-09-07 15:51:33,154 : INFO : PROGRESS: at sentence #250000, processed 5357164 words, keeping 64278 word types\n",
      "2017-09-07 15:51:33,439 : INFO : PROGRESS: at sentence #260000, processed 5572063 words, keeping 65774 word types\n",
      "2017-09-07 15:51:33,655 : INFO : PROGRESS: at sentence #270000, processed 5783780 words, keeping 67088 word types\n",
      "2017-09-07 15:51:33,871 : INFO : PROGRESS: at sentence #280000, processed 5998381 words, keeping 68341 word types\n",
      "2017-09-07 15:51:34,088 : INFO : PROGRESS: at sentence #290000, processed 6212872 words, keeping 69511 word types\n",
      "2017-09-07 15:51:34,304 : INFO : PROGRESS: at sentence #300000, processed 6432563 words, keeping 70901 word types\n",
      "2017-09-07 15:51:34,520 : INFO : PROGRESS: at sentence #310000, processed 6644693 words, keeping 71945 word types\n",
      "2017-09-07 15:51:34,720 : INFO : PROGRESS: at sentence #320000, processed 6856455 words, keeping 73112 word types\n",
      "2017-09-07 15:51:34,921 : INFO : PROGRESS: at sentence #330000, processed 7070915 words, keeping 74257 word types\n",
      "2017-09-07 15:51:35,175 : INFO : PROGRESS: at sentence #340000, processed 7287898 words, keeping 75372 word types\n",
      "2017-09-07 15:51:35,406 : INFO : PROGRESS: at sentence #350000, processed 7510499 words, keeping 76492 word types\n",
      "2017-09-07 15:51:35,743 : INFO : PROGRESS: at sentence #360000, processed 7728648 words, keeping 77701 word types\n",
      "2017-09-07 15:51:36,063 : INFO : PROGRESS: at sentence #370000, processed 7939669 words, keeping 78741 word types\n",
      "2017-09-07 15:51:36,397 : INFO : PROGRESS: at sentence #380000, processed 8155626 words, keeping 79800 word types\n",
      "2017-09-07 15:51:36,714 : INFO : PROGRESS: at sentence #390000, processed 8377882 words, keeping 80841 word types\n",
      "2017-09-07 15:51:37,066 : INFO : PROGRESS: at sentence #400000, processed 8590448 words, keeping 81835 word types\n",
      "2017-09-07 15:51:37,389 : INFO : PROGRESS: at sentence #410000, processed 8808424 words, keeping 82978 word types\n",
      "2017-09-07 15:51:37,699 : INFO : PROGRESS: at sentence #420000, processed 9019011 words, keeping 84079 word types\n",
      "2017-09-07 15:51:38,020 : INFO : PROGRESS: at sentence #430000, processed 9230345 words, keeping 85101 word types\n",
      "2017-09-07 15:51:38,367 : INFO : PROGRESS: at sentence #440000, processed 9448114 words, keeping 86208 word types\n",
      "2017-09-07 15:51:38,727 : INFO : PROGRESS: at sentence #450000, processed 9660157 words, keeping 87136 word types\n",
      "2017-09-07 15:51:39,009 : INFO : PROGRESS: at sentence #460000, processed 9877723 words, keeping 88076 word types\n",
      "2017-09-07 15:51:39,292 : INFO : PROGRESS: at sentence #470000, processed 10090467 words, keeping 89081 word types\n",
      "2017-09-07 15:51:39,583 : INFO : PROGRESS: at sentence #480000, processed 10307840 words, keeping 90050 word types\n",
      "2017-09-07 15:51:39,894 : INFO : PROGRESS: at sentence #490000, processed 10521235 words, keeping 90937 word types\n",
      "2017-09-07 15:51:40,114 : INFO : PROGRESS: at sentence #500000, processed 10742684 words, keeping 91802 word types\n",
      "2017-09-07 15:51:40,430 : INFO : PROGRESS: at sentence #510000, processed 10956854 words, keeping 92772 word types\n",
      "2017-09-07 15:51:40,762 : INFO : PROGRESS: at sentence #520000, processed 11170077 words, keeping 93674 word types\n",
      "2017-09-07 15:51:41,095 : INFO : PROGRESS: at sentence #530000, processed 11390262 words, keeping 94638 word types\n",
      "2017-09-07 15:51:41,348 : INFO : PROGRESS: at sentence #540000, processed 11606594 words, keeping 95533 word types\n",
      "2017-09-07 15:51:41,649 : INFO : PROGRESS: at sentence #550000, processed 11822359 words, keeping 96534 word types\n",
      "2017-09-07 15:51:41,881 : INFO : PROGRESS: at sentence #560000, processed 12040696 words, keeping 97481 word types\n",
      "2017-09-07 15:51:42,166 : INFO : PROGRESS: at sentence #570000, processed 12258881 words, keeping 98579 word types\n",
      "2017-09-07 15:51:42,551 : INFO : PROGRESS: at sentence #580000, processed 12477803 words, keeping 99543 word types\n",
      "2017-09-07 15:51:42,895 : INFO : PROGRESS: at sentence #590000, processed 12691446 words, keeping 100456 word types\n",
      "2017-09-07 15:51:43,147 : INFO : PROGRESS: at sentence #600000, processed 12906697 words, keeping 101371 word types\n",
      "2017-09-07 15:51:43,376 : INFO : PROGRESS: at sentence #610000, processed 13116850 words, keeping 102165 word types\n",
      "2017-09-07 15:51:43,692 : INFO : PROGRESS: at sentence #620000, processed 13333814 words, keeping 103095 word types\n",
      "2017-09-07 15:51:43,909 : INFO : PROGRESS: at sentence #630000, processed 13548150 words, keeping 103962 word types\n",
      "2017-09-07 15:51:44,125 : INFO : PROGRESS: at sentence #640000, processed 13757822 words, keeping 104863 word types\n",
      "2017-09-07 15:51:44,325 : INFO : PROGRESS: at sentence #650000, processed 13970667 words, keeping 105693 word types\n",
      "2017-09-07 15:51:44,563 : INFO : PROGRESS: at sentence #660000, processed 14188623 words, keeping 106602 word types\n",
      "2017-09-07 15:51:44,742 : INFO : PROGRESS: at sentence #670000, processed 14401159 words, keeping 107353 word types\n",
      "2017-09-07 15:51:44,996 : INFO : PROGRESS: at sentence #680000, processed 14614194 words, keeping 108155 word types\n",
      "2017-09-07 15:51:45,271 : INFO : PROGRESS: at sentence #690000, processed 14825467 words, keeping 109113 word types\n",
      "2017-09-07 15:51:45,511 : INFO : PROGRESS: at sentence #700000, processed 15037633 words, keeping 109951 word types\n",
      "2017-09-07 15:51:45,742 : INFO : PROGRESS: at sentence #710000, processed 15246284 words, keeping 110684 word types\n",
      "2017-09-07 15:51:46,012 : INFO : PROGRESS: at sentence #720000, processed 15460267 words, keeping 111707 word types\n",
      "2017-09-07 15:51:46,244 : INFO : PROGRESS: at sentence #730000, processed 15672695 words, keeping 112485 word types\n",
      "2017-09-07 15:51:46,491 : INFO : PROGRESS: at sentence #740000, processed 15895346 words, keeping 113370 word types\n",
      "2017-09-07 15:51:46,729 : INFO : PROGRESS: at sentence #750000, processed 16104136 words, keeping 114239 word types\n",
      "2017-09-07 15:51:46,976 : INFO : PROGRESS: at sentence #760000, processed 16311636 words, keeping 114951 word types\n",
      "2017-09-07 15:51:47,177 : INFO : PROGRESS: at sentence #770000, processed 16527937 words, keeping 115839 word types\n",
      "2017-09-07 15:51:47,375 : INFO : PROGRESS: at sentence #780000, processed 16746301 words, keeping 116582 word types\n",
      "2017-09-07 15:51:47,510 : INFO : PROGRESS: at sentence #790000, processed 16956911 words, keeping 117219 word types\n",
      "2017-09-07 15:51:47,658 : INFO : PROGRESS: at sentence #800000, processed 17172229 words, keeping 117928 word types\n",
      "2017-09-07 15:51:47,875 : INFO : PROGRESS: at sentence #810000, processed 17388196 words, keeping 118769 word types\n",
      "2017-09-07 15:51:48,112 : INFO : PROGRESS: at sentence #820000, processed 17602921 words, keeping 119547 word types\n",
      "2017-09-07 15:51:48,359 : INFO : PROGRESS: at sentence #830000, processed 17815679 words, keeping 120259 word types\n",
      "2017-09-07 15:51:48,560 : INFO : PROGRESS: at sentence #840000, processed 18028897 words, keeping 121029 word types\n",
      "2017-09-07 15:51:48,744 : INFO : PROGRESS: at sentence #850000, processed 18247573 words, keeping 121892 word types\n",
      "2017-09-07 15:51:48,914 : INFO : PROGRESS: at sentence #860000, processed 18456921 words, keeping 122637 word types\n",
      "2017-09-07 15:51:49,061 : INFO : PROGRESS: at sentence #870000, processed 18675495 words, keeping 123372 word types\n",
      "2017-09-07 15:51:49,283 : INFO : PROGRESS: at sentence #880000, processed 18889082 words, keeping 124076 word types\n",
      "2017-09-07 15:51:49,484 : INFO : PROGRESS: at sentence #890000, processed 19102902 words, keeping 124818 word types\n",
      "2017-09-07 15:51:49,700 : INFO : PROGRESS: at sentence #900000, processed 19308119 words, keeping 125461 word types\n",
      "2017-09-07 15:51:49,900 : INFO : PROGRESS: at sentence #910000, processed 19521669 words, keeping 126189 word types\n",
      "2017-09-07 15:51:50,148 : INFO : PROGRESS: at sentence #920000, processed 19741594 words, keeping 126963 word types\n",
      "2017-09-07 15:51:50,348 : INFO : PROGRESS: at sentence #930000, processed 19953898 words, keeping 127619 word types\n",
      "2017-09-07 15:51:50,533 : INFO : PROGRESS: at sentence #940000, processed 20168043 words, keeping 128436 word types\n",
      "2017-09-07 15:51:50,734 : INFO : PROGRESS: at sentence #950000, processed 20386974 words, keeping 129241 word types\n",
      "2017-09-07 15:51:50,934 : INFO : PROGRESS: at sentence #960000, processed 20601086 words, keeping 129991 word types\n",
      "2017-09-07 15:51:51,135 : INFO : PROGRESS: at sentence #970000, processed 20820301 words, keeping 130738 word types\n",
      "2017-09-07 15:51:51,335 : INFO : PROGRESS: at sentence #980000, processed 21030361 words, keeping 131443 word types\n",
      "2017-09-07 15:51:51,535 : INFO : PROGRESS: at sentence #990000, processed 21240955 words, keeping 132196 word types\n",
      "2017-09-07 15:51:51,736 : INFO : PROGRESS: at sentence #1000000, processed 21452391 words, keeping 132843 word types\n",
      "2017-09-07 15:51:51,952 : INFO : PROGRESS: at sentence #1010000, processed 21671983 words, keeping 133498 word types\n",
      "2017-09-07 15:51:52,152 : INFO : PROGRESS: at sentence #1020000, processed 21883393 words, keeping 134349 word types\n",
      "2017-09-07 15:51:52,406 : INFO : PROGRESS: at sentence #1030000, processed 22097624 words, keeping 135077 word types\n",
      "2017-09-07 15:51:52,654 : INFO : PROGRESS: at sentence #1040000, processed 22310318 words, keeping 135932 word types\n",
      "2017-09-07 15:51:52,955 : INFO : PROGRESS: at sentence #1050000, processed 22525372 words, keeping 136620 word types\n",
      "2017-09-07 15:51:53,271 : INFO : PROGRESS: at sentence #1060000, processed 22735562 words, keeping 137334 word types\n",
      "2017-09-07 15:51:53,594 : INFO : PROGRESS: at sentence #1070000, processed 22949047 words, keeping 138001 word types\n",
      "2017-09-07 15:51:53,972 : INFO : PROGRESS: at sentence #1080000, processed 23159097 words, keeping 138713 word types\n",
      "2017-09-07 15:51:54,326 : INFO : PROGRESS: at sentence #1090000, processed 23371824 words, keeping 139440 word types\n",
      "2017-09-07 15:51:54,658 : INFO : PROGRESS: at sentence #1100000, processed 23589803 words, keeping 140210 word types\n",
      "2017-09-07 15:51:54,997 : INFO : PROGRESS: at sentence #1110000, processed 23799867 words, keeping 140861 word types\n",
      "2017-09-07 15:51:55,329 : INFO : PROGRESS: at sentence #1120000, processed 24010778 words, keeping 141457 word types\n",
      "2017-09-07 15:51:55,696 : INFO : PROGRESS: at sentence #1130000, processed 24224329 words, keeping 142038 word types\n",
      "2017-09-07 15:51:55,977 : INFO : PROGRESS: at sentence #1140000, processed 24437185 words, keeping 142745 word types\n",
      "2017-09-07 15:51:56,299 : INFO : PROGRESS: at sentence #1150000, processed 24647457 words, keeping 143406 word types\n",
      "2017-09-07 15:51:56,601 : INFO : PROGRESS: at sentence #1160000, processed 24859419 words, keeping 144031 word types\n",
      "2017-09-07 15:51:56,997 : INFO : PROGRESS: at sentence #1170000, processed 25077683 words, keeping 144730 word types\n",
      "2017-09-07 15:51:57,302 : INFO : PROGRESS: at sentence #1180000, processed 25289204 words, keeping 145418 word types\n",
      "2017-09-07 15:51:57,622 : INFO : PROGRESS: at sentence #1190000, processed 25504913 words, keeping 146163 word types\n",
      "2017-09-07 15:51:57,942 : INFO : PROGRESS: at sentence #1200000, processed 25720845 words, keeping 146830 word types\n",
      "2017-09-07 15:51:58,185 : INFO : PROGRESS: at sentence #1210000, processed 25939041 words, keeping 147523 word types\n",
      "2017-09-07 15:51:58,451 : INFO : PROGRESS: at sentence #1220000, processed 26159124 words, keeping 148335 word types\n",
      "2017-09-07 15:51:58,702 : INFO : PROGRESS: at sentence #1230000, processed 26375738 words, keeping 148963 word types\n",
      "2017-09-07 15:51:58,971 : INFO : PROGRESS: at sentence #1240000, processed 26594097 words, keeping 149520 word types\n",
      "2017-09-07 15:51:59,203 : INFO : PROGRESS: at sentence #1250000, processed 26808347 words, keeping 150160 word types\n",
      "2017-09-07 15:51:59,435 : INFO : PROGRESS: at sentence #1260000, processed 27029338 words, keeping 150765 word types\n",
      "2017-09-07 15:51:59,657 : INFO : PROGRESS: at sentence #1270000, processed 27238040 words, keeping 151406 word types\n",
      "2017-09-07 15:51:59,873 : INFO : PROGRESS: at sentence #1280000, processed 27460137 words, keeping 152204 word types\n",
      "2017-09-07 15:52:00,158 : INFO : PROGRESS: at sentence #1290000, processed 27679873 words, keeping 152856 word types\n",
      "2017-09-07 15:52:00,358 : INFO : PROGRESS: at sentence #1300000, processed 27894627 words, keeping 153567 word types\n",
      "2017-09-07 15:52:00,659 : INFO : PROGRESS: at sentence #1310000, processed 28115936 words, keeping 154165 word types\n",
      "2017-09-07 15:52:00,991 : INFO : PROGRESS: at sentence #1320000, processed 28333224 words, keeping 154865 word types\n",
      "2017-09-07 15:52:01,241 : INFO : PROGRESS: at sentence #1330000, processed 28546477 words, keeping 155488 word types\n",
      "2017-09-07 15:52:01,574 : INFO : PROGRESS: at sentence #1340000, processed 28762243 words, keeping 156054 word types\n",
      "2017-09-07 15:52:01,727 : INFO : PROGRESS: at sentence #1350000, processed 28972632 words, keeping 156605 word types\n",
      "2017-09-07 15:52:02,023 : INFO : PROGRESS: at sentence #1360000, processed 29182938 words, keeping 157214 word types\n",
      "2017-09-07 15:52:02,224 : INFO : PROGRESS: at sentence #1370000, processed 29399082 words, keeping 157865 word types\n",
      "2017-09-07 15:52:02,440 : INFO : PROGRESS: at sentence #1380000, processed 29615949 words, keeping 158524 word types\n",
      "2017-09-07 15:52:02,594 : INFO : PROGRESS: at sentence #1390000, processed 29833180 words, keeping 159115 word types\n",
      "2017-09-07 15:52:02,772 : INFO : PROGRESS: at sentence #1400000, processed 30047179 words, keeping 159824 word types\n",
      "2017-09-07 15:52:02,957 : INFO : PROGRESS: at sentence #1410000, processed 30258765 words, keeping 160403 word types\n",
      "2017-09-07 15:52:03,142 : INFO : PROGRESS: at sentence #1420000, processed 30473197 words, keeping 160966 word types\n",
      "2017-09-07 15:52:03,317 : INFO : PROGRESS: at sentence #1430000, processed 30686270 words, keeping 161695 word types\n",
      "2017-09-07 15:52:03,548 : INFO : PROGRESS: at sentence #1440000, processed 30900695 words, keeping 162390 word types\n",
      "2017-09-07 15:52:03,736 : INFO : PROGRESS: at sentence #1450000, processed 31114920 words, keeping 163025 word types\n",
      "2017-09-07 15:52:03,915 : INFO : PROGRESS: at sentence #1460000, processed 31328779 words, keeping 163630 word types\n",
      "2017-09-07 15:52:04,033 : INFO : PROGRESS: at sentence #1470000, processed 31544512 words, keeping 164278 word types\n",
      "2017-09-07 15:52:04,187 : INFO : PROGRESS: at sentence #1480000, processed 31763110 words, keeping 164909 word types\n",
      "2017-09-07 15:52:04,329 : INFO : PROGRESS: at sentence #1490000, processed 31977005 words, keeping 165487 word types\n",
      "2017-09-07 15:52:04,491 : INFO : PROGRESS: at sentence #1500000, processed 32195092 words, keeping 166067 word types\n",
      "2017-09-07 15:52:04,646 : INFO : PROGRESS: at sentence #1510000, processed 32405577 words, keeping 166723 word types\n",
      "2017-09-07 15:52:04,816 : INFO : PROGRESS: at sentence #1520000, processed 32618566 words, keeping 167254 word types\n",
      "2017-09-07 15:52:04,944 : INFO : PROGRESS: at sentence #1530000, processed 32827989 words, keeping 167914 word types\n",
      "2017-09-07 15:52:05,118 : INFO : PROGRESS: at sentence #1540000, processed 33048642 words, keeping 168531 word types\n",
      "2017-09-07 15:52:05,254 : INFO : PROGRESS: at sentence #1550000, processed 33256880 words, keeping 169107 word types\n",
      "2017-09-07 15:52:05,381 : INFO : PROGRESS: at sentence #1560000, processed 33477838 words, keeping 169723 word types\n",
      "2017-09-07 15:52:05,533 : INFO : PROGRESS: at sentence #1570000, processed 33695774 words, keeping 170251 word types\n",
      "2017-09-07 15:52:05,656 : INFO : PROGRESS: at sentence #1580000, processed 33913862 words, keeping 170772 word types\n",
      "2017-09-07 15:52:05,806 : INFO : PROGRESS: at sentence #1590000, processed 34127524 words, keeping 171375 word types\n",
      "2017-09-07 15:52:05,941 : INFO : PROGRESS: at sentence #1600000, processed 34334813 words, keeping 171936 word types\n",
      "2017-09-07 15:52:06,061 : INFO : PROGRESS: at sentence #1610000, processed 34552784 words, keeping 172562 word types\n",
      "2017-09-07 15:52:06,201 : INFO : PROGRESS: at sentence #1620000, processed 34772989 words, keeping 173152 word types\n",
      "2017-09-07 15:52:06,322 : INFO : PROGRESS: at sentence #1630000, processed 34991975 words, keeping 173738 word types\n",
      "2017-09-07 15:52:06,445 : INFO : PROGRESS: at sentence #1640000, processed 35208726 words, keeping 174310 word types\n",
      "2017-09-07 15:52:06,572 : INFO : PROGRESS: at sentence #1650000, processed 35426297 words, keeping 175030 word types\n",
      "2017-09-07 15:52:06,657 : INFO : PROGRESS: at sentence #1660000, processed 35636543 words, keeping 175645 word types\n",
      "2017-09-07 15:52:06,756 : INFO : PROGRESS: at sentence #1670000, processed 35849642 words, keeping 176273 word types\n",
      "2017-09-07 15:52:06,876 : INFO : PROGRESS: at sentence #1680000, processed 36062685 words, keeping 176883 word types\n",
      "2017-09-07 15:52:06,966 : INFO : PROGRESS: at sentence #1690000, processed 36276386 words, keeping 177412 word types\n",
      "2017-09-07 15:52:07,055 : INFO : PROGRESS: at sentence #1700000, processed 36493365 words, keeping 178049 word types\n",
      "2017-09-07 15:52:07,155 : INFO : PROGRESS: at sentence #1710000, processed 36708542 words, keeping 178603 word types\n",
      "2017-09-07 15:52:07,255 : INFO : PROGRESS: at sentence #1720000, processed 36921614 words, keeping 179083 word types\n",
      "2017-09-07 15:52:07,402 : INFO : PROGRESS: at sentence #1730000, processed 37133123 words, keeping 179662 word types\n",
      "2017-09-07 15:52:07,618 : INFO : PROGRESS: at sentence #1740000, processed 37346479 words, keeping 180195 word types\n",
      "2017-09-07 15:52:07,819 : INFO : PROGRESS: at sentence #1750000, processed 37560768 words, keeping 180672 word types\n",
      "2017-09-07 15:52:08,042 : INFO : PROGRESS: at sentence #1760000, processed 37772455 words, keeping 181372 word types\n",
      "2017-09-07 15:52:08,274 : INFO : PROGRESS: at sentence #1770000, processed 37989734 words, keeping 182057 word types\n",
      "2017-09-07 15:52:08,490 : INFO : PROGRESS: at sentence #1780000, processed 38201987 words, keeping 182591 word types\n",
      "2017-09-07 15:52:08,690 : INFO : PROGRESS: at sentence #1790000, processed 38415508 words, keeping 183152 word types\n",
      "2017-09-07 15:52:08,994 : INFO : PROGRESS: at sentence #1800000, processed 38630857 words, keeping 183698 word types\n",
      "2017-09-07 15:52:09,194 : INFO : PROGRESS: at sentence #1810000, processed 38841042 words, keeping 184234 word types\n",
      "2017-09-07 15:52:09,410 : INFO : PROGRESS: at sentence #1820000, processed 39057658 words, keeping 184831 word types\n",
      "2017-09-07 15:52:09,595 : INFO : PROGRESS: at sentence #1830000, processed 39271704 words, keeping 185348 word types\n",
      "2017-09-07 15:52:09,812 : INFO : PROGRESS: at sentence #1840000, processed 39488115 words, keeping 186070 word types\n",
      "2017-09-07 15:52:10,003 : INFO : collected 186594 word types from a corpus of 39690470 raw words and 1849559 sentences\n",
      "2017-09-07 15:52:10,008 : INFO : Loading a fresh vocabulary\n",
      "2017-09-07 15:52:11,843 : INFO : min_count=0 retains 186594 unique words (100% of original 186594, drops 0)\n",
      "2017-09-07 15:52:11,847 : INFO : min_count=0 leaves 39690470 word corpus (100% of original 39690470, drops 0)\n",
      "2017-09-07 15:52:14,228 : INFO : deleting the raw counts dictionary of 186594 items\n",
      "2017-09-07 15:52:14,243 : INFO : sample=0.001 downsamples 51 most-common words\n",
      "2017-09-07 15:52:14,249 : INFO : downsampling leaves estimated 29167803 word corpus (73.5% of prior 39690470)\n",
      "2017-09-07 15:52:14,256 : INFO : estimated required memory for 186594 words and 300 dimensions: 541122600 bytes\n",
      "2017-09-07 15:52:16,458 : INFO : resetting layer weights\n",
      "2017-09-07 15:52:29,722 : INFO : training model with 4 workers on 186594 vocabulary and 300 features, using sg=0 hs=0 sample=0.001 negative=5 window=10\n",
      "2017-09-07 15:52:31,015 : INFO : PROGRESS: at 0.09% examples, 121140 words/s, in_qsize 8, out_qsize 0\n",
      "2017-09-07 15:52:32,046 : INFO : PROGRESS: at 0.19% examples, 135367 words/s, in_qsize 7, out_qsize 0\n",
      "2017-09-07 15:52:33,053 : INFO : PROGRESS: at 0.30% examples, 143629 words/s, in_qsize 7, out_qsize 0\n",
      "2017-09-07 15:52:34,137 : INFO : PROGRESS: at 0.44% examples, 153787 words/s, in_qsize 7, out_qsize 0\n",
      "2017-09-07 15:52:35,175 : INFO : PROGRESS: at 0.60% examples, 169630 words/s, in_qsize 7, out_qsize 0\n",
      "2017-09-07 15:52:36,187 : INFO : PROGRESS: at 0.79% examples, 185779 words/s, in_qsize 7, out_qsize 0\n",
      "2017-09-07 15:52:37,230 : INFO : PROGRESS: at 1.00% examples, 202639 words/s, in_qsize 7, out_qsize 0\n",
      "2017-09-07 15:52:38,292 : INFO : PROGRESS: at 1.21% examples, 213775 words/s, in_qsize 7, out_qsize 0\n",
      "2017-09-07 15:52:39,325 : INFO : PROGRESS: at 1.32% examples, 207365 words/s, in_qsize 7, out_qsize 0\n",
      "2017-09-07 15:52:40,389 : INFO : PROGRESS: at 1.44% examples, 201612 words/s, in_qsize 8, out_qsize 0\n",
      "2017-09-07 15:52:41,422 : INFO : PROGRESS: at 1.55% examples, 197574 words/s, in_qsize 8, out_qsize 0\n",
      "2017-09-07 15:52:42,463 : INFO : PROGRESS: at 1.69% examples, 196960 words/s, in_qsize 7, out_qsize 0\n",
      "2017-09-07 15:52:43,503 : INFO : PROGRESS: at 1.85% examples, 199188 words/s, in_qsize 7, out_qsize 0\n",
      "2017-09-07 15:52:44,520 : INFO : PROGRESS: at 2.02% examples, 203372 words/s, in_qsize 7, out_qsize 0\n",
      "2017-09-07 15:52:45,523 : INFO : PROGRESS: at 2.23% examples, 209607 words/s, in_qsize 7, out_qsize 0\n",
      "2017-09-07 15:52:46,529 : INFO : PROGRESS: at 2.47% examples, 217274 words/s, in_qsize 7, out_qsize 0\n",
      "2017-09-07 15:52:47,530 : INFO : PROGRESS: at 2.72% examples, 225757 words/s, in_qsize 7, out_qsize 0\n",
      "2017-09-07 15:52:48,533 : INFO : PROGRESS: at 2.99% examples, 234527 words/s, in_qsize 7, out_qsize 0\n",
      "2017-09-07 15:52:49,534 : INFO : PROGRESS: at 3.29% examples, 245420 words/s, in_qsize 7, out_qsize 0\n",
      "2017-09-07 15:52:50,537 : INFO : PROGRESS: at 3.62% examples, 256278 words/s, in_qsize 7, out_qsize 0\n",
      "2017-09-07 15:52:51,542 : INFO : PROGRESS: at 3.92% examples, 265469 words/s, in_qsize 7, out_qsize 0\n",
      "2017-09-07 15:52:52,561 : INFO : PROGRESS: at 4.24% examples, 274250 words/s, in_qsize 7, out_qsize 0\n",
      "2017-09-07 15:52:53,567 : INFO : PROGRESS: at 4.56% examples, 282127 words/s, in_qsize 7, out_qsize 0\n",
      "2017-09-07 15:52:54,588 : INFO : PROGRESS: at 4.88% examples, 289195 words/s, in_qsize 7, out_qsize 0\n",
      "2017-09-07 15:52:55,589 : INFO : PROGRESS: at 5.20% examples, 296216 words/s, in_qsize 7, out_qsize 0\n",
      "2017-09-07 15:52:56,605 : INFO : PROGRESS: at 5.52% examples, 302537 words/s, in_qsize 7, out_qsize 0\n",
      "2017-09-07 15:52:57,625 : INFO : PROGRESS: at 5.84% examples, 308622 words/s, in_qsize 7, out_qsize 0\n",
      "2017-09-07 15:52:58,625 : INFO : PROGRESS: at 6.15% examples, 313974 words/s, in_qsize 7, out_qsize 0\n",
      "2017-09-07 15:52:59,637 : INFO : PROGRESS: at 6.46% examples, 318352 words/s, in_qsize 7, out_qsize 0\n",
      "2017-09-07 15:53:00,642 : INFO : PROGRESS: at 6.75% examples, 321548 words/s, in_qsize 7, out_qsize 0\n",
      "2017-09-07 15:53:01,662 : INFO : PROGRESS: at 7.04% examples, 324395 words/s, in_qsize 7, out_qsize 0\n",
      "2017-09-07 15:53:02,675 : INFO : PROGRESS: at 7.33% examples, 327350 words/s, in_qsize 7, out_qsize 0\n",
      "2017-09-07 15:53:03,681 : INFO : PROGRESS: at 7.62% examples, 329967 words/s, in_qsize 7, out_qsize 0\n",
      "2017-09-07 15:53:04,712 : INFO : PROGRESS: at 7.92% examples, 332655 words/s, in_qsize 7, out_qsize 0\n",
      "2017-09-07 15:53:05,734 : INFO : PROGRESS: at 8.22% examples, 335268 words/s, in_qsize 7, out_qsize 0\n",
      "2017-09-07 15:53:06,744 : INFO : PROGRESS: at 8.51% examples, 337623 words/s, in_qsize 7, out_qsize 0\n",
      "2017-09-07 15:53:07,764 : INFO : PROGRESS: at 8.80% examples, 339764 words/s, in_qsize 8, out_qsize 0\n",
      "2017-09-07 15:53:08,775 : INFO : PROGRESS: at 9.09% examples, 341675 words/s, in_qsize 7, out_qsize 0\n",
      "2017-09-07 15:53:09,779 : INFO : PROGRESS: at 9.37% examples, 343390 words/s, in_qsize 7, out_qsize 0\n",
      "2017-09-07 15:53:10,787 : INFO : PROGRESS: at 9.65% examples, 344970 words/s, in_qsize 7, out_qsize 0\n",
      "2017-09-07 15:53:11,800 : INFO : PROGRESS: at 9.95% examples, 346965 words/s, in_qsize 7, out_qsize 0\n",
      "2017-09-07 15:53:12,815 : INFO : PROGRESS: at 10.23% examples, 348333 words/s, in_qsize 7, out_qsize 0\n",
      "2017-09-07 15:53:13,846 : INFO : PROGRESS: at 10.52% examples, 350006 words/s, in_qsize 8, out_qsize 0\n",
      "2017-09-07 15:53:14,874 : INFO : PROGRESS: at 10.83% examples, 351626 words/s, in_qsize 7, out_qsize 0\n",
      "2017-09-07 15:53:15,887 : INFO : PROGRESS: at 11.12% examples, 353155 words/s, in_qsize 7, out_qsize 0\n",
      "2017-09-07 15:53:16,904 : INFO : PROGRESS: at 11.42% examples, 354884 words/s, in_qsize 7, out_qsize 0\n",
      "2017-09-07 15:53:17,927 : INFO : PROGRESS: at 11.71% examples, 356038 words/s, in_qsize 7, out_qsize 0\n",
      "2017-09-07 15:53:18,931 : INFO : PROGRESS: at 12.00% examples, 357119 words/s, in_qsize 7, out_qsize 0\n",
      "2017-09-07 15:53:19,946 : INFO : PROGRESS: at 12.28% examples, 358224 words/s, in_qsize 6, out_qsize 1\n",
      "2017-09-07 15:53:20,958 : INFO : PROGRESS: at 12.58% examples, 359465 words/s, in_qsize 7, out_qsize 0\n",
      "2017-09-07 15:53:21,984 : INFO : PROGRESS: at 12.87% examples, 360559 words/s, in_qsize 7, out_qsize 0\n",
      "2017-09-07 15:53:22,989 : INFO : PROGRESS: at 13.15% examples, 361467 words/s, in_qsize 7, out_qsize 0\n",
      "2017-09-07 15:53:24,030 : INFO : PROGRESS: at 13.44% examples, 362512 words/s, in_qsize 8, out_qsize 1\n",
      "2017-09-07 15:53:25,036 : INFO : PROGRESS: at 13.73% examples, 363496 words/s, in_qsize 8, out_qsize 1\n",
      "2017-09-07 15:53:26,039 : INFO : PROGRESS: at 14.01% examples, 364580 words/s, in_qsize 7, out_qsize 0\n",
      "2017-09-07 15:53:27,044 : INFO : PROGRESS: at 14.30% examples, 365489 words/s, in_qsize 7, out_qsize 0\n",
      "2017-09-07 15:53:28,061 : INFO : PROGRESS: at 14.60% examples, 366536 words/s, in_qsize 8, out_qsize 0\n",
      "2017-09-07 15:53:29,095 : INFO : PROGRESS: at 14.89% examples, 367319 words/s, in_qsize 7, out_qsize 0\n",
      "2017-09-07 15:53:30,104 : INFO : PROGRESS: at 15.17% examples, 368106 words/s, in_qsize 7, out_qsize 0\n",
      "2017-09-07 15:53:31,117 : INFO : PROGRESS: at 15.47% examples, 368947 words/s, in_qsize 7, out_qsize 0\n",
      "2017-09-07 15:53:32,134 : INFO : PROGRESS: at 15.76% examples, 369876 words/s, in_qsize 7, out_qsize 0\n",
      "2017-09-07 15:53:33,171 : INFO : PROGRESS: at 16.05% examples, 370548 words/s, in_qsize 7, out_qsize 0\n",
      "2017-09-07 15:53:34,196 : INFO : PROGRESS: at 16.35% examples, 371372 words/s, in_qsize 7, out_qsize 0\n",
      "2017-09-07 15:53:35,198 : INFO : PROGRESS: at 16.65% examples, 372424 words/s, in_qsize 7, out_qsize 0\n",
      "2017-09-07 15:53:36,202 : INFO : PROGRESS: at 16.94% examples, 373093 words/s, in_qsize 6, out_qsize 1\n",
      "2017-09-07 15:53:37,224 : INFO : PROGRESS: at 17.24% examples, 373853 words/s, in_qsize 7, out_qsize 0\n",
      "2017-09-07 15:53:38,239 : INFO : PROGRESS: at 17.52% examples, 374530 words/s, in_qsize 8, out_qsize 0\n",
      "2017-09-07 15:53:39,242 : INFO : PROGRESS: at 17.81% examples, 375254 words/s, in_qsize 7, out_qsize 0\n",
      "2017-09-07 15:53:40,249 : INFO : PROGRESS: at 18.10% examples, 375836 words/s, in_qsize 7, out_qsize 0\n",
      "2017-09-07 15:53:41,259 : INFO : PROGRESS: at 18.39% examples, 376479 words/s, in_qsize 7, out_qsize 0\n",
      "2017-09-07 15:53:42,282 : INFO : PROGRESS: at 18.69% examples, 377131 words/s, in_qsize 7, out_qsize 0\n",
      "2017-09-07 15:53:43,287 : INFO : PROGRESS: at 18.97% examples, 377563 words/s, in_qsize 7, out_qsize 0\n",
      "2017-09-07 15:53:44,289 : INFO : PROGRESS: at 19.26% examples, 377994 words/s, in_qsize 7, out_qsize 0\n",
      "2017-09-07 15:53:45,308 : INFO : PROGRESS: at 19.55% examples, 378534 words/s, in_qsize 6, out_qsize 1\n",
      "2017-09-07 15:53:46,355 : INFO : PROGRESS: at 19.85% examples, 379014 words/s, in_qsize 7, out_qsize 0\n",
      "2017-09-07 15:53:47,360 : INFO : PROGRESS: at 20.15% examples, 379706 words/s, in_qsize 7, out_qsize 0\n",
      "2017-09-07 15:53:48,361 : INFO : PROGRESS: at 20.43% examples, 380095 words/s, in_qsize 7, out_qsize 0\n",
      "2017-09-07 15:53:49,381 : INFO : PROGRESS: at 20.71% examples, 380565 words/s, in_qsize 7, out_qsize 0\n",
      "2017-09-07 15:53:50,409 : INFO : PROGRESS: at 21.00% examples, 380997 words/s, in_qsize 7, out_qsize 0\n",
      "2017-09-07 15:53:51,412 : INFO : PROGRESS: at 21.30% examples, 381521 words/s, in_qsize 7, out_qsize 0\n",
      "2017-09-07 15:53:52,416 : INFO : PROGRESS: at 21.59% examples, 381946 words/s, in_qsize 6, out_qsize 1\n",
      "2017-09-07 15:53:53,427 : INFO : PROGRESS: at 21.88% examples, 382422 words/s, in_qsize 7, out_qsize 0\n",
      "2017-09-07 15:53:54,436 : INFO : PROGRESS: at 22.16% examples, 382791 words/s, in_qsize 7, out_qsize 0\n",
      "2017-09-07 15:53:55,445 : INFO : PROGRESS: at 22.45% examples, 383079 words/s, in_qsize 7, out_qsize 0\n",
      "2017-09-07 15:53:56,452 : INFO : PROGRESS: at 22.74% examples, 383450 words/s, in_qsize 8, out_qsize 0\n",
      "2017-09-07 15:53:57,472 : INFO : PROGRESS: at 23.03% examples, 383850 words/s, in_qsize 7, out_qsize 0\n",
      "2017-09-07 15:53:58,485 : INFO : PROGRESS: at 23.32% examples, 384185 words/s, in_qsize 7, out_qsize 0\n",
      "2017-09-07 15:53:59,492 : INFO : PROGRESS: at 23.61% examples, 384616 words/s, in_qsize 7, out_qsize 0\n",
      "2017-09-07 15:54:00,492 : INFO : PROGRESS: at 23.89% examples, 384917 words/s, in_qsize 7, out_qsize 0\n",
      "2017-09-07 15:54:01,503 : INFO : PROGRESS: at 24.17% examples, 385234 words/s, in_qsize 8, out_qsize 1\n",
      "2017-09-07 15:54:02,546 : INFO : PROGRESS: at 24.47% examples, 385641 words/s, in_qsize 7, out_qsize 0\n",
      "2017-09-07 15:54:03,548 : INFO : PROGRESS: at 24.75% examples, 385826 words/s, in_qsize 7, out_qsize 0\n",
      "2017-09-07 15:54:04,567 : INFO : PROGRESS: at 25.00% examples, 385549 words/s, in_qsize 7, out_qsize 0\n",
      "2017-09-07 15:54:05,568 : INFO : PROGRESS: at 25.24% examples, 385195 words/s, in_qsize 7, out_qsize 0\n",
      "2017-09-07 15:54:06,573 : INFO : PROGRESS: at 25.47% examples, 384752 words/s, in_qsize 7, out_qsize 0\n",
      "2017-09-07 15:54:07,593 : INFO : PROGRESS: at 25.74% examples, 384717 words/s, in_qsize 7, out_qsize 0\n",
      "2017-09-07 15:54:08,629 : INFO : PROGRESS: at 26.03% examples, 385066 words/s, in_qsize 7, out_qsize 0\n",
      "2017-09-07 15:54:09,638 : INFO : PROGRESS: at 26.32% examples, 385366 words/s, in_qsize 7, out_qsize 0\n",
      "2017-09-07 15:54:10,677 : INFO : PROGRESS: at 26.61% examples, 385689 words/s, in_qsize 7, out_qsize 0\n",
      "2017-09-07 15:54:11,687 : INFO : PROGRESS: at 26.90% examples, 385968 words/s, in_qsize 7, out_qsize 0\n",
      "2017-09-07 15:54:12,690 : INFO : PROGRESS: at 27.19% examples, 386264 words/s, in_qsize 7, out_qsize 0\n",
      "2017-09-07 15:54:13,694 : INFO : PROGRESS: at 27.42% examples, 385778 words/s, in_qsize 7, out_qsize 0\n",
      "2017-09-07 15:54:14,701 : INFO : PROGRESS: at 27.71% examples, 386055 words/s, in_qsize 8, out_qsize 0\n",
      "2017-09-07 15:54:15,718 : INFO : PROGRESS: at 28.00% examples, 386302 words/s, in_qsize 7, out_qsize 0\n",
      "2017-09-07 15:54:16,752 : INFO : PROGRESS: at 28.30% examples, 386614 words/s, in_qsize 7, out_qsize 0\n",
      "2017-09-07 15:54:17,768 : INFO : PROGRESS: at 28.59% examples, 386919 words/s, in_qsize 7, out_qsize 0\n",
      "2017-09-07 15:54:18,776 : INFO : PROGRESS: at 28.88% examples, 387176 words/s, in_qsize 7, out_qsize 0\n",
      "2017-09-07 15:54:19,777 : INFO : PROGRESS: at 29.17% examples, 387454 words/s, in_qsize 7, out_qsize 0\n",
      "2017-09-07 15:54:20,792 : INFO : PROGRESS: at 29.45% examples, 387677 words/s, in_qsize 6, out_qsize 1\n",
      "2017-09-07 15:54:21,795 : INFO : PROGRESS: at 29.75% examples, 388008 words/s, in_qsize 7, out_qsize 0\n",
      "2017-09-07 15:54:22,821 : INFO : PROGRESS: at 30.04% examples, 388251 words/s, in_qsize 7, out_qsize 0\n",
      "2017-09-07 15:54:23,830 : INFO : PROGRESS: at 30.32% examples, 388417 words/s, in_qsize 7, out_qsize 0\n",
      "2017-09-07 15:54:24,863 : INFO : PROGRESS: at 30.60% examples, 388502 words/s, in_qsize 7, out_qsize 0\n",
      "2017-09-07 15:54:25,870 : INFO : PROGRESS: at 30.89% examples, 388729 words/s, in_qsize 7, out_qsize 0\n",
      "2017-09-07 15:54:26,871 : INFO : PROGRESS: at 31.18% examples, 388987 words/s, in_qsize 7, out_qsize 0\n",
      "2017-09-07 15:54:27,874 : INFO : PROGRESS: at 31.47% examples, 389227 words/s, in_qsize 7, out_qsize 0\n",
      "2017-09-07 15:54:28,885 : INFO : PROGRESS: at 31.76% examples, 389498 words/s, in_qsize 7, out_qsize 0\n",
      "2017-09-07 15:54:29,889 : INFO : PROGRESS: at 32.05% examples, 389731 words/s, in_qsize 7, out_qsize 0\n",
      "2017-09-07 15:54:30,890 : INFO : PROGRESS: at 32.34% examples, 389954 words/s, in_qsize 7, out_qsize 0\n",
      "2017-09-07 15:54:31,901 : INFO : PROGRESS: at 32.63% examples, 390154 words/s, in_qsize 7, out_qsize 0\n",
      "2017-09-07 15:54:32,906 : INFO : PROGRESS: at 32.92% examples, 390426 words/s, in_qsize 7, out_qsize 0\n",
      "2017-09-07 15:54:33,937 : INFO : PROGRESS: at 33.20% examples, 390557 words/s, in_qsize 7, out_qsize 0\n",
      "2017-09-07 15:54:34,955 : INFO : PROGRESS: at 33.49% examples, 390780 words/s, in_qsize 7, out_qsize 0\n",
      "2017-09-07 15:54:35,959 : INFO : PROGRESS: at 33.77% examples, 390927 words/s, in_qsize 7, out_qsize 0\n",
      "2017-09-07 15:54:36,970 : INFO : PROGRESS: at 34.06% examples, 391168 words/s, in_qsize 7, out_qsize 0\n",
      "2017-09-07 15:54:37,979 : INFO : PROGRESS: at 34.35% examples, 391409 words/s, in_qsize 7, out_qsize 0\n",
      "2017-09-07 15:54:39,002 : INFO : PROGRESS: at 34.64% examples, 391597 words/s, in_qsize 7, out_qsize 0\n",
      "2017-09-07 15:54:40,015 : INFO : PROGRESS: at 34.93% examples, 391766 words/s, in_qsize 7, out_qsize 0\n",
      "2017-09-07 15:54:41,026 : INFO : PROGRESS: at 35.22% examples, 391990 words/s, in_qsize 7, out_qsize 0\n",
      "2017-09-07 15:54:42,046 : INFO : PROGRESS: at 35.52% examples, 392235 words/s, in_qsize 7, out_qsize 0\n",
      "2017-09-07 15:54:43,063 : INFO : PROGRESS: at 35.80% examples, 392325 words/s, in_qsize 7, out_qsize 0\n",
      "2017-09-07 15:54:44,064 : INFO : PROGRESS: at 36.09% examples, 392570 words/s, in_qsize 8, out_qsize 0\n",
      "2017-09-07 15:54:45,096 : INFO : PROGRESS: at 36.39% examples, 392775 words/s, in_qsize 7, out_qsize 0\n",
      "2017-09-07 15:54:46,108 : INFO : PROGRESS: at 36.67% examples, 392933 words/s, in_qsize 7, out_qsize 0\n",
      "2017-09-07 15:54:47,125 : INFO : PROGRESS: at 36.96% examples, 393119 words/s, in_qsize 7, out_qsize 0\n",
      "2017-09-07 15:54:48,153 : INFO : PROGRESS: at 37.26% examples, 393274 words/s, in_qsize 7, out_qsize 0\n",
      "2017-09-07 15:54:49,177 : INFO : PROGRESS: at 37.55% examples, 393489 words/s, in_qsize 7, out_qsize 0\n",
      "2017-09-07 15:54:50,185 : INFO : PROGRESS: at 37.83% examples, 393643 words/s, in_qsize 7, out_qsize 0\n",
      "2017-09-07 15:54:51,188 : INFO : PROGRESS: at 38.12% examples, 393761 words/s, in_qsize 7, out_qsize 0\n",
      "2017-09-07 15:54:52,198 : INFO : PROGRESS: at 38.40% examples, 393905 words/s, in_qsize 7, out_qsize 0\n",
      "2017-09-07 15:54:53,209 : INFO : PROGRESS: at 38.70% examples, 394090 words/s, in_qsize 7, out_qsize 0\n",
      "2017-09-07 15:54:54,230 : INFO : PROGRESS: at 38.99% examples, 394245 words/s, in_qsize 7, out_qsize 0\n",
      "2017-09-07 15:54:55,259 : INFO : PROGRESS: at 39.28% examples, 394378 words/s, in_qsize 7, out_qsize 0\n",
      "2017-09-07 15:54:56,271 : INFO : PROGRESS: at 39.57% examples, 394506 words/s, in_qsize 6, out_qsize 1\n",
      "2017-09-07 15:54:57,305 : INFO : PROGRESS: at 39.87% examples, 394681 words/s, in_qsize 7, out_qsize 0\n",
      "2017-09-07 15:54:58,307 : INFO : PROGRESS: at 40.16% examples, 394887 words/s, in_qsize 7, out_qsize 0\n",
      "2017-09-07 15:54:59,319 : INFO : PROGRESS: at 40.45% examples, 395062 words/s, in_qsize 7, out_qsize 0\n",
      "2017-09-07 15:55:00,337 : INFO : PROGRESS: at 40.73% examples, 395165 words/s, in_qsize 7, out_qsize 0\n",
      "2017-09-07 15:55:01,341 : INFO : PROGRESS: at 41.02% examples, 395314 words/s, in_qsize 7, out_qsize 0\n",
      "2017-09-07 15:55:02,359 : INFO : PROGRESS: at 41.32% examples, 395506 words/s, in_qsize 7, out_qsize 0\n",
      "2017-09-07 15:55:03,374 : INFO : PROGRESS: at 41.61% examples, 395662 words/s, in_qsize 7, out_qsize 0\n",
      "2017-09-07 15:55:04,387 : INFO : PROGRESS: at 41.90% examples, 395775 words/s, in_qsize 7, out_qsize 0\n",
      "2017-09-07 15:55:05,402 : INFO : PROGRESS: at 42.19% examples, 395969 words/s, in_qsize 7, out_qsize 0\n",
      "2017-09-07 15:55:06,419 : INFO : PROGRESS: at 42.49% examples, 396119 words/s, in_qsize 7, out_qsize 0\n",
      "2017-09-07 15:55:07,419 : INFO : PROGRESS: at 42.77% examples, 396208 words/s, in_qsize 7, out_qsize 0\n",
      "2017-09-07 15:55:08,419 : INFO : PROGRESS: at 43.07% examples, 396395 words/s, in_qsize 7, out_qsize 0\n",
      "2017-09-07 15:55:09,421 : INFO : PROGRESS: at 43.35% examples, 396482 words/s, in_qsize 7, out_qsize 0\n",
      "2017-09-07 15:55:10,436 : INFO : PROGRESS: at 43.64% examples, 396625 words/s, in_qsize 7, out_qsize 0\n",
      "2017-09-07 15:55:11,465 : INFO : PROGRESS: at 43.92% examples, 396741 words/s, in_qsize 7, out_qsize 0\n",
      "2017-09-07 15:55:12,468 : INFO : PROGRESS: at 44.21% examples, 396912 words/s, in_qsize 7, out_qsize 0\n",
      "2017-09-07 15:55:13,476 : INFO : PROGRESS: at 44.50% examples, 397015 words/s, in_qsize 7, out_qsize 0\n",
      "2017-09-07 15:55:14,488 : INFO : PROGRESS: at 44.79% examples, 397161 words/s, in_qsize 7, out_qsize 0\n",
      "2017-09-07 15:55:15,494 : INFO : PROGRESS: at 45.08% examples, 397277 words/s, in_qsize 7, out_qsize 0\n",
      "2017-09-07 15:55:16,518 : INFO : PROGRESS: at 45.38% examples, 397521 words/s, in_qsize 8, out_qsize 0\n",
      "2017-09-07 15:55:17,562 : INFO : PROGRESS: at 45.68% examples, 397626 words/s, in_qsize 7, out_qsize 0\n",
      "2017-09-07 15:55:18,576 : INFO : PROGRESS: at 45.97% examples, 397757 words/s, in_qsize 7, out_qsize 0\n",
      "2017-09-07 15:55:19,582 : INFO : PROGRESS: at 46.26% examples, 397909 words/s, in_qsize 7, out_qsize 0\n",
      "2017-09-07 15:55:20,596 : INFO : PROGRESS: at 46.55% examples, 398039 words/s, in_qsize 7, out_qsize 0\n",
      "2017-09-07 15:55:21,635 : INFO : PROGRESS: at 46.84% examples, 398064 words/s, in_qsize 7, out_qsize 0\n",
      "2017-09-07 15:55:22,644 : INFO : PROGRESS: at 47.13% examples, 398247 words/s, in_qsize 7, out_qsize 0\n",
      "2017-09-07 15:55:23,656 : INFO : PROGRESS: at 47.43% examples, 398373 words/s, in_qsize 7, out_qsize 0\n",
      "2017-09-07 15:55:24,673 : INFO : PROGRESS: at 47.72% examples, 398446 words/s, in_qsize 7, out_qsize 0\n",
      "2017-09-07 15:55:25,675 : INFO : PROGRESS: at 48.00% examples, 398558 words/s, in_qsize 7, out_qsize 0\n",
      "2017-09-07 15:55:26,689 : INFO : PROGRESS: at 48.30% examples, 398636 words/s, in_qsize 8, out_qsize 0\n",
      "2017-09-07 15:55:27,700 : INFO : PROGRESS: at 48.58% examples, 398722 words/s, in_qsize 7, out_qsize 0\n",
      "2017-09-07 15:55:28,704 : INFO : PROGRESS: at 48.87% examples, 398864 words/s, in_qsize 8, out_qsize 0\n",
      "2017-09-07 15:55:29,724 : INFO : PROGRESS: at 49.17% examples, 399007 words/s, in_qsize 7, out_qsize 0\n",
      "2017-09-07 15:55:30,765 : INFO : PROGRESS: at 49.47% examples, 399100 words/s, in_qsize 7, out_qsize 0\n",
      "2017-09-07 15:55:31,768 : INFO : PROGRESS: at 49.76% examples, 399240 words/s, in_qsize 7, out_qsize 0\n",
      "2017-09-07 15:55:32,788 : INFO : PROGRESS: at 50.06% examples, 399375 words/s, in_qsize 7, out_qsize 0\n",
      "2017-09-07 15:55:33,790 : INFO : PROGRESS: at 50.34% examples, 399434 words/s, in_qsize 7, out_qsize 0\n",
      "2017-09-07 15:55:34,796 : INFO : PROGRESS: at 50.63% examples, 399524 words/s, in_qsize 7, out_qsize 0\n",
      "2017-09-07 15:55:35,798 : INFO : PROGRESS: at 50.91% examples, 399619 words/s, in_qsize 7, out_qsize 0\n",
      "2017-09-07 15:55:36,802 : INFO : PROGRESS: at 51.21% examples, 399755 words/s, in_qsize 7, out_qsize 0\n",
      "2017-09-07 15:55:37,821 : INFO : PROGRESS: at 51.50% examples, 399812 words/s, in_qsize 6, out_qsize 1\n",
      "2017-09-07 15:55:38,839 : INFO : PROGRESS: at 51.80% examples, 399952 words/s, in_qsize 7, out_qsize 0\n",
      "2017-09-07 15:55:39,847 : INFO : PROGRESS: at 52.10% examples, 400106 words/s, in_qsize 7, out_qsize 0\n",
      "2017-09-07 15:55:40,870 : INFO : PROGRESS: at 52.39% examples, 400152 words/s, in_qsize 7, out_qsize 0\n",
      "2017-09-07 15:55:41,871 : INFO : PROGRESS: at 52.68% examples, 400246 words/s, in_qsize 7, out_qsize 0\n",
      "2017-09-07 15:55:42,889 : INFO : PROGRESS: at 52.97% examples, 400374 words/s, in_qsize 7, out_qsize 0\n",
      "2017-09-07 15:55:43,925 : INFO : PROGRESS: at 53.26% examples, 400474 words/s, in_qsize 8, out_qsize 1\n",
      "2017-09-07 15:55:44,945 : INFO : PROGRESS: at 53.55% examples, 400559 words/s, in_qsize 7, out_qsize 0\n",
      "2017-09-07 15:55:45,962 : INFO : PROGRESS: at 53.84% examples, 400689 words/s, in_qsize 7, out_qsize 0\n",
      "2017-09-07 15:55:46,975 : INFO : PROGRESS: at 54.14% examples, 400829 words/s, in_qsize 7, out_qsize 0\n",
      "2017-09-07 15:55:47,982 : INFO : PROGRESS: at 54.42% examples, 400900 words/s, in_qsize 7, out_qsize 0\n",
      "2017-09-07 15:55:48,986 : INFO : PROGRESS: at 54.71% examples, 400977 words/s, in_qsize 7, out_qsize 0\n",
      "2017-09-07 15:55:50,009 : INFO : PROGRESS: at 55.01% examples, 401090 words/s, in_qsize 7, out_qsize 0\n",
      "2017-09-07 15:55:51,014 : INFO : PROGRESS: at 55.30% examples, 401200 words/s, in_qsize 7, out_qsize 0\n",
      "2017-09-07 15:55:52,043 : INFO : PROGRESS: at 55.59% examples, 401225 words/s, in_qsize 7, out_qsize 0\n",
      "2017-09-07 15:55:53,067 : INFO : PROGRESS: at 55.88% examples, 401335 words/s, in_qsize 7, out_qsize 0\n",
      "2017-09-07 15:55:54,067 : INFO : PROGRESS: at 56.17% examples, 401417 words/s, in_qsize 7, out_qsize 0\n",
      "2017-09-07 15:55:55,090 : INFO : PROGRESS: at 56.47% examples, 401523 words/s, in_qsize 7, out_qsize 0\n",
      "2017-09-07 15:55:56,118 : INFO : PROGRESS: at 56.77% examples, 401625 words/s, in_qsize 7, out_qsize 0\n",
      "2017-09-07 15:55:57,126 : INFO : PROGRESS: at 57.05% examples, 401687 words/s, in_qsize 7, out_qsize 0\n",
      "2017-09-07 15:55:58,159 : INFO : PROGRESS: at 57.34% examples, 401740 words/s, in_qsize 7, out_qsize 0\n",
      "2017-09-07 15:55:59,172 : INFO : PROGRESS: at 57.63% examples, 401863 words/s, in_qsize 7, out_qsize 0\n",
      "2017-09-07 15:56:00,178 : INFO : PROGRESS: at 57.92% examples, 401964 words/s, in_qsize 7, out_qsize 0\n",
      "2017-09-07 15:56:01,179 : INFO : PROGRESS: at 58.21% examples, 402006 words/s, in_qsize 7, out_qsize 0\n",
      "2017-09-07 15:56:02,182 : INFO : PROGRESS: at 58.49% examples, 402078 words/s, in_qsize 7, out_qsize 0\n",
      "2017-09-07 15:56:03,201 : INFO : PROGRESS: at 58.79% examples, 402150 words/s, in_qsize 8, out_qsize 0\n",
      "2017-09-07 15:56:04,218 : INFO : PROGRESS: at 59.04% examples, 401950 words/s, in_qsize 7, out_qsize 0\n",
      "2017-09-07 15:56:05,227 : INFO : PROGRESS: at 59.27% examples, 401633 words/s, in_qsize 7, out_qsize 0\n",
      "2017-09-07 15:56:06,249 : INFO : PROGRESS: at 59.51% examples, 401363 words/s, in_qsize 8, out_qsize 0\n",
      "2017-09-07 15:56:07,251 : INFO : PROGRESS: at 59.79% examples, 401336 words/s, in_qsize 8, out_qsize 1\n",
      "2017-09-07 15:56:08,273 : INFO : PROGRESS: at 60.08% examples, 401411 words/s, in_qsize 7, out_qsize 0\n",
      "2017-09-07 15:56:09,310 : INFO : PROGRESS: at 60.38% examples, 401488 words/s, in_qsize 7, out_qsize 0\n",
      "2017-09-07 15:56:10,311 : INFO : PROGRESS: at 60.66% examples, 401558 words/s, in_qsize 7, out_qsize 0\n",
      "2017-09-07 15:56:11,315 : INFO : PROGRESS: at 60.95% examples, 401626 words/s, in_qsize 7, out_qsize 0\n",
      "2017-09-07 15:56:12,321 : INFO : PROGRESS: at 61.24% examples, 401722 words/s, in_qsize 8, out_qsize 0\n",
      "2017-09-07 15:56:13,331 : INFO : PROGRESS: at 61.53% examples, 401808 words/s, in_qsize 7, out_qsize 0\n",
      "2017-09-07 15:56:14,346 : INFO : PROGRESS: at 61.82% examples, 401888 words/s, in_qsize 7, out_qsize 0\n",
      "2017-09-07 15:56:15,349 : INFO : PROGRESS: at 62.11% examples, 401954 words/s, in_qsize 7, out_qsize 0\n",
      "2017-09-07 15:56:16,358 : INFO : PROGRESS: at 62.40% examples, 402042 words/s, in_qsize 7, out_qsize 0\n",
      "2017-09-07 15:56:17,364 : INFO : PROGRESS: at 62.69% examples, 402070 words/s, in_qsize 7, out_qsize 0\n",
      "2017-09-07 15:56:18,378 : INFO : PROGRESS: at 62.99% examples, 402181 words/s, in_qsize 7, out_qsize 0\n",
      "2017-09-07 15:56:19,401 : INFO : PROGRESS: at 63.28% examples, 402243 words/s, in_qsize 7, out_qsize 0\n",
      "2017-09-07 15:56:20,435 : INFO : PROGRESS: at 63.57% examples, 402286 words/s, in_qsize 7, out_qsize 0\n",
      "2017-09-07 15:56:21,443 : INFO : PROGRESS: at 63.85% examples, 402344 words/s, in_qsize 8, out_qsize 0\n",
      "2017-09-07 15:56:22,463 : INFO : PROGRESS: at 64.14% examples, 402408 words/s, in_qsize 7, out_qsize 0\n",
      "2017-09-07 15:56:23,469 : INFO : PROGRESS: at 64.43% examples, 402460 words/s, in_qsize 7, out_qsize 0\n",
      "2017-09-07 15:56:24,473 : INFO : PROGRESS: at 64.71% examples, 402520 words/s, in_qsize 7, out_qsize 0\n",
      "2017-09-07 15:56:25,478 : INFO : PROGRESS: at 65.00% examples, 402577 words/s, in_qsize 7, out_qsize 0\n",
      "2017-09-07 15:56:26,482 : INFO : PROGRESS: at 65.29% examples, 402637 words/s, in_qsize 6, out_qsize 1\n",
      "2017-09-07 15:56:27,502 : INFO : PROGRESS: at 65.58% examples, 402700 words/s, in_qsize 7, out_qsize 0\n",
      "2017-09-07 15:56:28,505 : INFO : PROGRESS: at 65.85% examples, 402728 words/s, in_qsize 7, out_qsize 0\n",
      "2017-09-07 15:56:29,508 : INFO : PROGRESS: at 66.14% examples, 402788 words/s, in_qsize 8, out_qsize 0\n",
      "2017-09-07 15:56:30,519 : INFO : PROGRESS: at 66.42% examples, 402833 words/s, in_qsize 7, out_qsize 0\n",
      "2017-09-07 15:56:31,537 : INFO : PROGRESS: at 66.71% examples, 402896 words/s, in_qsize 7, out_qsize 0\n",
      "2017-09-07 15:56:32,571 : INFO : PROGRESS: at 67.01% examples, 402932 words/s, in_qsize 6, out_qsize 1\n",
      "2017-09-07 15:56:33,580 : INFO : PROGRESS: at 67.30% examples, 403010 words/s, in_qsize 7, out_qsize 0\n",
      "2017-09-07 15:56:34,605 : INFO : PROGRESS: at 67.60% examples, 403092 words/s, in_qsize 7, out_qsize 0\n",
      "2017-09-07 15:56:35,629 : INFO : PROGRESS: at 67.90% examples, 403143 words/s, in_qsize 8, out_qsize 0\n",
      "2017-09-07 15:56:36,629 : INFO : PROGRESS: at 68.20% examples, 403265 words/s, in_qsize 7, out_qsize 0\n",
      "2017-09-07 15:56:37,636 : INFO : PROGRESS: at 68.48% examples, 403283 words/s, in_qsize 6, out_qsize 1\n",
      "2017-09-07 15:56:38,661 : INFO : PROGRESS: at 68.76% examples, 403276 words/s, in_qsize 7, out_qsize 0\n",
      "2017-09-07 15:56:39,680 : INFO : PROGRESS: at 69.05% examples, 403332 words/s, in_qsize 7, out_qsize 0\n",
      "2017-09-07 15:56:40,701 : INFO : PROGRESS: at 69.34% examples, 403359 words/s, in_qsize 7, out_qsize 0\n",
      "2017-09-07 15:56:41,709 : INFO : PROGRESS: at 69.62% examples, 403406 words/s, in_qsize 7, out_qsize 0\n",
      "2017-09-07 15:56:42,719 : INFO : PROGRESS: at 69.91% examples, 403446 words/s, in_qsize 7, out_qsize 0\n",
      "2017-09-07 15:56:43,725 : INFO : PROGRESS: at 70.19% examples, 403405 words/s, in_qsize 7, out_qsize 0\n",
      "2017-09-07 15:56:44,743 : INFO : PROGRESS: at 70.47% examples, 403462 words/s, in_qsize 7, out_qsize 0\n",
      "2017-09-07 15:56:45,749 : INFO : PROGRESS: at 70.76% examples, 403482 words/s, in_qsize 6, out_qsize 1\n",
      "2017-09-07 15:56:46,761 : INFO : PROGRESS: at 71.05% examples, 403549 words/s, in_qsize 7, out_qsize 0\n",
      "2017-09-07 15:56:47,782 : INFO : PROGRESS: at 71.34% examples, 403601 words/s, in_qsize 7, out_qsize 0\n",
      "2017-09-07 15:56:48,793 : INFO : PROGRESS: at 71.63% examples, 403614 words/s, in_qsize 7, out_qsize 0\n",
      "2017-09-07 15:56:49,793 : INFO : PROGRESS: at 71.91% examples, 403642 words/s, in_qsize 7, out_qsize 0\n",
      "2017-09-07 15:56:50,797 : INFO : PROGRESS: at 72.19% examples, 403635 words/s, in_qsize 7, out_qsize 0\n",
      "2017-09-07 15:56:51,817 : INFO : PROGRESS: at 72.49% examples, 403687 words/s, in_qsize 7, out_qsize 0\n",
      "2017-09-07 15:56:52,819 : INFO : PROGRESS: at 72.77% examples, 403711 words/s, in_qsize 7, out_qsize 0\n",
      "2017-09-07 15:56:53,854 : INFO : PROGRESS: at 72.97% examples, 403240 words/s, in_qsize 8, out_qsize 0\n",
      "2017-09-07 15:56:54,859 : INFO : PROGRESS: at 73.16% examples, 402792 words/s, in_qsize 6, out_qsize 1\n",
      "2017-09-07 15:56:55,872 : INFO : PROGRESS: at 73.38% examples, 402445 words/s, in_qsize 7, out_qsize 0\n",
      "2017-09-07 15:56:56,890 : INFO : PROGRESS: at 73.59% examples, 402091 words/s, in_qsize 7, out_qsize 0\n",
      "2017-09-07 15:56:57,909 : INFO : PROGRESS: at 73.81% examples, 401794 words/s, in_qsize 7, out_qsize 0\n",
      "2017-09-07 15:56:58,923 : INFO : PROGRESS: at 74.03% examples, 401454 words/s, in_qsize 7, out_qsize 0\n",
      "2017-09-07 15:56:59,940 : INFO : PROGRESS: at 74.24% examples, 401081 words/s, in_qsize 8, out_qsize 0\n",
      "2017-09-07 15:57:00,949 : INFO : PROGRESS: at 74.46% examples, 400804 words/s, in_qsize 7, out_qsize 0\n",
      "2017-09-07 15:57:01,967 : INFO : PROGRESS: at 74.69% examples, 400516 words/s, in_qsize 8, out_qsize 0\n",
      "2017-09-07 15:57:02,977 : INFO : PROGRESS: at 74.92% examples, 400273 words/s, in_qsize 7, out_qsize 0\n",
      "2017-09-07 15:57:04,000 : INFO : PROGRESS: at 75.13% examples, 399875 words/s, in_qsize 8, out_qsize 0\n",
      "2017-09-07 15:57:05,023 : INFO : PROGRESS: at 75.37% examples, 399641 words/s, in_qsize 7, out_qsize 0\n",
      "2017-09-07 15:57:06,041 : INFO : PROGRESS: at 75.59% examples, 399335 words/s, in_qsize 8, out_qsize 0\n",
      "2017-09-07 15:57:07,046 : INFO : PROGRESS: at 75.81% examples, 399052 words/s, in_qsize 7, out_qsize 0\n",
      "2017-09-07 15:57:08,068 : INFO : PROGRESS: at 76.03% examples, 398771 words/s, in_qsize 7, out_qsize 0\n",
      "2017-09-07 15:57:09,104 : INFO : PROGRESS: at 76.26% examples, 398475 words/s, in_qsize 7, out_qsize 0\n",
      "2017-09-07 15:57:10,123 : INFO : PROGRESS: at 76.50% examples, 398255 words/s, in_qsize 7, out_qsize 0\n",
      "2017-09-07 15:57:11,167 : INFO : PROGRESS: at 76.73% examples, 397980 words/s, in_qsize 7, out_qsize 0\n",
      "2017-09-07 15:57:12,184 : INFO : PROGRESS: at 76.96% examples, 397742 words/s, in_qsize 7, out_qsize 0\n",
      "2017-09-07 15:57:13,203 : INFO : PROGRESS: at 77.19% examples, 397530 words/s, in_qsize 8, out_qsize 0\n",
      "2017-09-07 15:57:14,219 : INFO : PROGRESS: at 77.42% examples, 397270 words/s, in_qsize 8, out_qsize 1\n",
      "2017-09-07 15:57:15,221 : INFO : PROGRESS: at 77.64% examples, 397031 words/s, in_qsize 7, out_qsize 0\n",
      "2017-09-07 15:57:16,232 : INFO : PROGRESS: at 77.87% examples, 396807 words/s, in_qsize 7, out_qsize 0\n",
      "2017-09-07 15:57:17,236 : INFO : PROGRESS: at 78.10% examples, 396571 words/s, in_qsize 7, out_qsize 0\n",
      "2017-09-07 15:57:18,263 : INFO : PROGRESS: at 78.34% examples, 396354 words/s, in_qsize 7, out_qsize 0\n",
      "2017-09-07 15:57:19,275 : INFO : PROGRESS: at 78.57% examples, 396133 words/s, in_qsize 7, out_qsize 0\n",
      "2017-09-07 15:57:20,291 : INFO : PROGRESS: at 78.80% examples, 395908 words/s, in_qsize 8, out_qsize 0\n",
      "2017-09-07 15:57:21,303 : INFO : PROGRESS: at 79.04% examples, 395714 words/s, in_qsize 7, out_qsize 0\n",
      "2017-09-07 15:57:22,312 : INFO : PROGRESS: at 79.27% examples, 395479 words/s, in_qsize 7, out_qsize 0\n",
      "2017-09-07 15:57:23,327 : INFO : PROGRESS: at 79.50% examples, 395284 words/s, in_qsize 7, out_qsize 0\n",
      "2017-09-07 15:57:24,341 : INFO : PROGRESS: at 79.74% examples, 395070 words/s, in_qsize 7, out_qsize 0\n",
      "2017-09-07 15:57:25,341 : INFO : PROGRESS: at 79.98% examples, 394927 words/s, in_qsize 7, out_qsize 0\n",
      "2017-09-07 15:57:26,343 : INFO : PROGRESS: at 80.27% examples, 395028 words/s, in_qsize 7, out_qsize 0\n",
      "2017-09-07 15:57:27,368 : INFO : PROGRESS: at 80.57% examples, 395121 words/s, in_qsize 8, out_qsize 1\n",
      "2017-09-07 15:57:28,375 : INFO : PROGRESS: at 80.86% examples, 395215 words/s, in_qsize 7, out_qsize 0\n",
      "2017-09-07 15:57:29,398 : INFO : PROGRESS: at 81.14% examples, 395263 words/s, in_qsize 7, out_qsize 0\n",
      "2017-09-07 15:57:30,404 : INFO : PROGRESS: at 81.44% examples, 395352 words/s, in_qsize 7, out_qsize 0\n",
      "2017-09-07 15:57:31,432 : INFO : PROGRESS: at 81.73% examples, 395418 words/s, in_qsize 7, out_qsize 0\n",
      "2017-09-07 15:57:32,436 : INFO : PROGRESS: at 82.02% examples, 395512 words/s, in_qsize 7, out_qsize 0\n",
      "2017-09-07 15:57:33,437 : INFO : PROGRESS: at 82.31% examples, 395607 words/s, in_qsize 7, out_qsize 0\n",
      "2017-09-07 15:57:34,437 : INFO : PROGRESS: at 82.60% examples, 395679 words/s, in_qsize 7, out_qsize 0\n",
      "2017-09-07 15:57:35,470 : INFO : PROGRESS: at 82.89% examples, 395734 words/s, in_qsize 7, out_qsize 0\n",
      "2017-09-07 15:57:36,486 : INFO : PROGRESS: at 83.19% examples, 395812 words/s, in_qsize 8, out_qsize 0\n",
      "2017-09-07 15:57:37,486 : INFO : PROGRESS: at 83.48% examples, 395907 words/s, in_qsize 7, out_qsize 0\n",
      "2017-09-07 15:57:38,486 : INFO : PROGRESS: at 83.77% examples, 396004 words/s, in_qsize 7, out_qsize 0\n",
      "2017-09-07 15:57:39,486 : INFO : PROGRESS: at 84.06% examples, 396101 words/s, in_qsize 7, out_qsize 0\n",
      "2017-09-07 15:57:40,497 : INFO : PROGRESS: at 84.35% examples, 396202 words/s, in_qsize 7, out_qsize 0\n",
      "2017-09-07 15:57:41,498 : INFO : PROGRESS: at 84.65% examples, 396294 words/s, in_qsize 6, out_qsize 1\n",
      "2017-09-07 15:57:42,526 : INFO : PROGRESS: at 84.94% examples, 396375 words/s, in_qsize 7, out_qsize 0\n",
      "2017-09-07 15:57:43,535 : INFO : PROGRESS: at 85.24% examples, 396481 words/s, in_qsize 7, out_qsize 0\n",
      "2017-09-07 15:57:44,558 : INFO : PROGRESS: at 85.53% examples, 396568 words/s, in_qsize 7, out_qsize 0\n",
      "2017-09-07 15:57:45,558 : INFO : PROGRESS: at 85.82% examples, 396658 words/s, in_qsize 7, out_qsize 0\n",
      "2017-09-07 15:57:46,559 : INFO : PROGRESS: at 86.11% examples, 396771 words/s, in_qsize 7, out_qsize 0\n",
      "2017-09-07 15:57:47,559 : INFO : PROGRESS: at 86.39% examples, 396816 words/s, in_qsize 7, out_qsize 0\n",
      "2017-09-07 15:57:48,561 : INFO : PROGRESS: at 86.68% examples, 396882 words/s, in_qsize 7, out_qsize 0\n",
      "2017-09-07 15:57:49,571 : INFO : PROGRESS: at 86.97% examples, 396957 words/s, in_qsize 7, out_qsize 0\n",
      "2017-09-07 15:57:50,585 : INFO : PROGRESS: at 87.27% examples, 397050 words/s, in_qsize 7, out_qsize 0\n",
      "2017-09-07 15:57:51,585 : INFO : PROGRESS: at 87.57% examples, 397137 words/s, in_qsize 7, out_qsize 0\n",
      "2017-09-07 15:57:52,600 : INFO : PROGRESS: at 87.87% examples, 397229 words/s, in_qsize 7, out_qsize 0\n",
      "2017-09-07 15:57:53,631 : INFO : PROGRESS: at 88.16% examples, 397280 words/s, in_qsize 7, out_qsize 0\n",
      "2017-09-07 15:57:54,634 : INFO : PROGRESS: at 88.45% examples, 397340 words/s, in_qsize 7, out_qsize 0\n",
      "2017-09-07 15:57:55,668 : INFO : PROGRESS: at 88.74% examples, 397385 words/s, in_qsize 8, out_qsize 1\n",
      "2017-09-07 15:57:56,682 : INFO : PROGRESS: at 89.03% examples, 397453 words/s, in_qsize 7, out_qsize 0\n",
      "2017-09-07 15:57:57,687 : INFO : PROGRESS: at 89.32% examples, 397533 words/s, in_qsize 8, out_qsize 0\n",
      "2017-09-07 15:57:58,706 : INFO : PROGRESS: at 89.61% examples, 397598 words/s, in_qsize 7, out_qsize 0\n",
      "2017-09-07 15:57:59,713 : INFO : PROGRESS: at 89.91% examples, 397695 words/s, in_qsize 7, out_qsize 0\n",
      "2017-09-07 15:58:00,717 : INFO : PROGRESS: at 90.20% examples, 397751 words/s, in_qsize 7, out_qsize 0\n",
      "2017-09-07 15:58:01,720 : INFO : PROGRESS: at 90.48% examples, 397807 words/s, in_qsize 8, out_qsize 0\n",
      "2017-09-07 15:58:02,736 : INFO : PROGRESS: at 90.78% examples, 397873 words/s, in_qsize 7, out_qsize 0\n",
      "2017-09-07 15:58:03,737 : INFO : PROGRESS: at 91.07% examples, 397932 words/s, in_qsize 7, out_qsize 0\n",
      "2017-09-07 15:58:04,796 : INFO : PROGRESS: at 91.34% examples, 397858 words/s, in_qsize 6, out_qsize 1\n",
      "2017-09-07 15:58:05,809 : INFO : PROGRESS: at 91.59% examples, 397749 words/s, in_qsize 7, out_qsize 0\n",
      "2017-09-07 15:58:06,845 : INFO : PROGRESS: at 91.84% examples, 397572 words/s, in_qsize 7, out_qsize 0\n",
      "2017-09-07 15:58:07,852 : INFO : PROGRESS: at 92.12% examples, 397581 words/s, in_qsize 7, out_qsize 0\n",
      "2017-09-07 15:58:08,867 : INFO : PROGRESS: at 92.41% examples, 397645 words/s, in_qsize 7, out_qsize 0\n",
      "2017-09-07 15:58:09,874 : INFO : PROGRESS: at 92.70% examples, 397696 words/s, in_qsize 7, out_qsize 0\n",
      "2017-09-07 15:58:10,882 : INFO : PROGRESS: at 92.99% examples, 397748 words/s, in_qsize 7, out_qsize 0\n",
      "2017-09-07 15:58:11,887 : INFO : PROGRESS: at 93.27% examples, 397824 words/s, in_qsize 7, out_qsize 0\n",
      "2017-09-07 15:58:12,905 : INFO : PROGRESS: at 93.57% examples, 397906 words/s, in_qsize 7, out_qsize 0\n",
      "2017-09-07 15:58:13,906 : INFO : PROGRESS: at 93.85% examples, 397965 words/s, in_qsize 7, out_qsize 0\n",
      "2017-09-07 15:58:14,936 : INFO : PROGRESS: at 94.14% examples, 398010 words/s, in_qsize 5, out_qsize 2\n",
      "2017-09-07 15:58:15,966 : INFO : PROGRESS: at 94.44% examples, 398096 words/s, in_qsize 7, out_qsize 0\n",
      "2017-09-07 15:58:16,991 : INFO : PROGRESS: at 94.73% examples, 398145 words/s, in_qsize 8, out_qsize 0\n",
      "2017-09-07 15:58:18,023 : INFO : PROGRESS: at 95.03% examples, 398211 words/s, in_qsize 8, out_qsize 0\n",
      "2017-09-07 15:58:19,026 : INFO : PROGRESS: at 95.31% examples, 398262 words/s, in_qsize 7, out_qsize 0\n",
      "2017-09-07 15:58:20,043 : INFO : PROGRESS: at 95.61% examples, 398339 words/s, in_qsize 7, out_qsize 0\n",
      "2017-09-07 15:58:21,045 : INFO : PROGRESS: at 95.90% examples, 398414 words/s, in_qsize 7, out_qsize 0\n",
      "2017-09-07 15:58:22,062 : INFO : PROGRESS: at 96.19% examples, 398452 words/s, in_qsize 8, out_qsize 0\n",
      "2017-09-07 15:58:23,089 : INFO : PROGRESS: at 96.46% examples, 398393 words/s, in_qsize 8, out_qsize 1\n",
      "2017-09-07 15:58:24,107 : INFO : PROGRESS: at 96.70% examples, 398267 words/s, in_qsize 7, out_qsize 0\n",
      "2017-09-07 15:58:25,119 : INFO : PROGRESS: at 96.99% examples, 398309 words/s, in_qsize 7, out_qsize 0\n",
      "2017-09-07 15:58:26,136 : INFO : PROGRESS: at 97.29% examples, 398386 words/s, in_qsize 7, out_qsize 0\n",
      "2017-09-07 15:58:27,139 : INFO : PROGRESS: at 97.57% examples, 398458 words/s, in_qsize 7, out_qsize 0\n",
      "2017-09-07 15:58:28,147 : INFO : PROGRESS: at 97.86% examples, 398526 words/s, in_qsize 7, out_qsize 0\n",
      "2017-09-07 15:58:29,148 : INFO : PROGRESS: at 98.16% examples, 398602 words/s, in_qsize 7, out_qsize 0\n",
      "2017-09-07 15:58:30,163 : INFO : PROGRESS: at 98.44% examples, 398639 words/s, in_qsize 7, out_qsize 0\n",
      "2017-09-07 15:58:31,171 : INFO : PROGRESS: at 98.75% examples, 398745 words/s, in_qsize 7, out_qsize 0\n",
      "2017-09-07 15:58:32,183 : INFO : PROGRESS: at 99.04% examples, 398783 words/s, in_qsize 7, out_qsize 0\n",
      "2017-09-07 15:58:33,201 : INFO : PROGRESS: at 99.32% examples, 398815 words/s, in_qsize 7, out_qsize 0\n",
      "2017-09-07 15:58:34,221 : INFO : PROGRESS: at 99.62% examples, 398887 words/s, in_qsize 7, out_qsize 0\n",
      "2017-09-07 15:58:35,229 : INFO : PROGRESS: at 99.91% examples, 398953 words/s, in_qsize 7, out_qsize 0\n",
      "2017-09-07 15:58:35,473 : INFO : worker thread finished; awaiting finish of 3 more threads\n",
      "2017-09-07 15:58:35,484 : INFO : worker thread finished; awaiting finish of 2 more threads\n",
      "2017-09-07 15:58:35,491 : INFO : worker thread finished; awaiting finish of 1 more threads\n",
      "2017-09-07 15:58:35,514 : INFO : worker thread finished; awaiting finish of 0 more threads\n",
      "2017-09-07 15:58:35,517 : INFO : training on 198452350 raw words (145843305 effective words) took 365.5s, 398990 effective words/s\n",
      "2017-09-07 15:58:35,524 : INFO : precomputing L2-norms of word weight vectors\n",
      "2017-09-07 15:58:38,990 : INFO : saving Word2Vec object under 300features_10context, separately None\n",
      "2017-09-07 15:58:38,997 : INFO : storing np array 'syn0' to 300features_10context.wv.syn0.npy\n",
      "2017-09-07 15:58:40,012 : INFO : not storing attribute syn0norm\n",
      "2017-09-07 15:58:40,019 : INFO : storing np array 'syn1neg' to 300features_10context.syn1neg.npy\n",
      "2017-09-07 15:58:41,088 : INFO : not storing attribute cum_table\n",
      "2017-09-07 15:58:43,135 : INFO : saved 300features_10context\n"
     ]
    }
   ],
   "source": [
    "import logging\n",
    "logging.basicConfig(format='%(asctime)s : %(levelname)s : %(message)s', level=logging.INFO)\n",
    "\n",
    "num_features = 300    # Word vector dimensionality \n",
    "\n",
    "min_word_count = 0   # Minimum word count         \n",
    "\n",
    "num_workers = 4       # Number of threads to run in parallel\n",
    "\n",
    "context = 10          # Context window size \n",
    "\n",
    "downsampling = 1e-3   # Downsample setting for frequent words\n",
    "\n",
    "\n",
    "from gensim.models import word2vec\n",
    "\n",
    "print (\"Training model...\")\n",
    "\n",
    "model = word2vec.Word2Vec(sentences, workers=num_workers, size=num_features, min_count = min_word_count, window = context, sample = downsampling)\n",
    "\n",
    "model.init_sims(replace=True)\n",
    "\n",
    "model_name = \"300features_10context\"\n",
    "model.save(model_name)\n",
    "\n",
    "# Note that now word features are now stored as a 1*300 numpy array called syn0."
   ]
  },
  {
   "cell_type": "code",
   "execution_count": 49,
   "metadata": {
    "collapsed": false
   },
   "outputs": [
    {
     "data": {
      "text/plain": [
       "'kitchen'"
      ]
     },
     "execution_count": 49,
     "metadata": {},
     "output_type": "execute_result"
    }
   ],
   "source": [
    "model.doesnt_match(\"man woman child kitchen\".split())"
   ]
  },
  {
   "cell_type": "code",
   "execution_count": 50,
   "metadata": {
    "collapsed": false
   },
   "outputs": [
    {
     "data": {
      "text/plain": [
       "'berlin'"
      ]
     },
     "execution_count": 50,
     "metadata": {},
     "output_type": "execute_result"
    }
   ],
   "source": [
    "model.doesnt_match(\"france england germany berlin\".split())"
   ]
  },
  {
   "cell_type": "code",
   "execution_count": 51,
   "metadata": {
    "collapsed": false
   },
   "outputs": [
    {
     "data": {
      "text/plain": [
       "'austria'"
      ]
     },
     "execution_count": 51,
     "metadata": {},
     "output_type": "execute_result"
    }
   ],
   "source": [
    "model.doesnt_match(\"paris berlin london austria\".split())"
   ]
  },
  {
   "cell_type": "code",
   "execution_count": 52,
   "metadata": {
    "collapsed": false
   },
   "outputs": [
    {
     "data": {
      "text/plain": [
       "[('bitsy', 0.643772304058075),\n",
       " ('man2', 0.6364870071411133),\n",
       " ('habilities', 0.6358228325843811),\n",
       " ('manms', 0.6355261206626892),\n",
       " ('itsy', 0.6184438467025757),\n",
       " ('hoa', 0.6020854711532593),\n",
       " ('xeviousmappygalpussuper', 0.597516655921936),\n",
       " ('evolutions', 0.5726677179336548),\n",
       " ('thoughtsonic', 0.5460368990898132),\n",
       " ('maiden', 0.5414080619812012)]"
      ]
     },
     "execution_count": 52,
     "metadata": {},
     "output_type": "execute_result"
    }
   ],
   "source": [
    "model.most_similar(\"man\")"
   ]
  },
  {
   "cell_type": "code",
   "execution_count": 53,
   "metadata": {
    "collapsed": false
   },
   "outputs": [
    {
     "data": {
      "text/plain": [
       "[('atrocious', 0.7102564573287964),\n",
       " ('horrible', 0.7090064883232117),\n",
       " ('terrible', 0.698237419128418),\n",
       " ('horrid', 0.6598758697509766),\n",
       " ('aweful', 0.6385495662689209),\n",
       " ('lousy', 0.6064550876617432),\n",
       " ('abysmal', 0.6023271083831787),\n",
       " ('horrendous', 0.6017160415649414),\n",
       " ('laughable', 0.5777404308319092),\n",
       " ('pathetic', 0.5666242837905884)]"
      ]
     },
     "execution_count": 53,
     "metadata": {},
     "output_type": "execute_result"
    }
   ],
   "source": [
    "model.most_similar(\"awful\")"
   ]
  },
  {
   "cell_type": "code",
   "execution_count": 54,
   "metadata": {
    "collapsed": false
   },
   "outputs": [
    {
     "name": "stdout",
     "output_type": "stream",
     "text": [
      "1849559\n"
     ]
    }
   ],
   "source": [
    "print(len(sentences))"
   ]
  },
  {
   "cell_type": "code",
   "execution_count": 7,
   "metadata": {
    "collapsed": false
   },
   "outputs": [],
   "source": [
    "def makeFeatureVec(words, model, num_features):\n",
    "    \"\"\" To average all the word vectors in a given review\n",
    "    Args:\n",
    "        words: word vectors\n",
    "        model: word2vec model\n",
    "        num_features: number of features\n",
    "    Returns:\n",
    "        featureVec: The averaged-out feature vector\n",
    "    \"\"\"\n",
    "    featureVec = np.zeros((num_features,),dtype=\"float32\")\n",
    "    \n",
    "    nwords = 0.\n",
    "   \n",
    "    # Converting names of words in the model's vocabulary. Using set for speed.\n",
    "    index2word_set = set(model.index2word)\n",
    "   \n",
    "    for word in words:\n",
    "        if word in index2word_set: \n",
    "            nwords = nwords + 1.\n",
    "            featureVec = np.add(featureVec,model[word])\n",
    "    \n",
    "    featureVec = np.divide(featureVec,nwords)\n",
    "    return featureVec\n",
    "\n",
    "\n",
    "def getAvgFeatureVecs(reviews, model, num_features):\n",
    "    \"\"\" Calculate the average feature vector for each review from a set of reviews.\n",
    "    Args:\n",
    "        reviews: a set of reviews\n",
    "        model: word2vec model\n",
    "        num_features: number of features\n",
    "    Returns:\n",
    "        reviewFeatureVecs: average feature vector for each review in the set\n",
    "    \"\"\"\n",
    "    counter = 0.\n",
    "    \n",
    "    # Preallocate a 2D numpy array, for speed\n",
    "    reviewFeatureVecs = np.zeros((len(reviews),num_features),dtype=\"float32\")\n",
    "    \n",
    "    for review in reviews:\n",
    "        # Print a status message every 1000th review\n",
    "        if counter%1000. == 0.:\n",
    "            print (\"Review %d of %d\" % (counter, len(reviews)))\n",
    "            reviewFeatureVecs[counter] = makeFeatureVec(review, model, num_features)\n",
    "            counter = counter + 1.\n",
    "            \n",
    "    return reviewFeatureVecs"
   ]
  },
  {
   "cell_type": "code",
   "execution_count": 9,
   "metadata": {
    "collapsed": false
   },
   "outputs": [
    {
     "ename": "NameError",
     "evalue": "name 'train_set2' is not defined",
     "output_type": "error",
     "traceback": [
      "\u001b[0;31m---------------------------------------------------------------------------\u001b[0m",
      "\u001b[0;31mNameError\u001b[0m                                 Traceback (most recent call last)",
      "\u001b[0;32m<ipython-input-9-01e7349ec9fb>\u001b[0m in \u001b[0;36m<module>\u001b[0;34m()\u001b[0m\n\u001b[1;32m      1\u001b[0m \u001b[0mclean_train_reviews\u001b[0m \u001b[1;33m=\u001b[0m \u001b[1;33m[\u001b[0m\u001b[1;33m]\u001b[0m\u001b[1;33m\u001b[0m\u001b[0m\n\u001b[1;32m      2\u001b[0m \u001b[1;33m\u001b[0m\u001b[0m\n\u001b[0;32m----> 3\u001b[0;31m \u001b[1;32mfor\u001b[0m \u001b[0mreview\u001b[0m \u001b[1;32min\u001b[0m \u001b[0mtrain_set2\u001b[0m\u001b[1;33m[\u001b[0m\u001b[1;34m'reviewText'\u001b[0m\u001b[1;33m]\u001b[0m\u001b[1;33m:\u001b[0m\u001b[1;33m\u001b[0m\u001b[0m\n\u001b[0m\u001b[1;32m      4\u001b[0m     \u001b[0mclean_train_reviews\u001b[0m\u001b[1;33m.\u001b[0m\u001b[0mappend\u001b[0m\u001b[1;33m(\u001b[0m\u001b[0msimplefilter\u001b[0m\u001b[1;33m(\u001b[0m\u001b[0mreview\u001b[0m\u001b[1;33m)\u001b[0m\u001b[1;33m)\u001b[0m\u001b[1;33m\u001b[0m\u001b[0m\n\u001b[1;32m      5\u001b[0m \u001b[1;33m\u001b[0m\u001b[0m\n",
      "\u001b[0;31mNameError\u001b[0m: name 'train_set2' is not defined"
     ]
    }
   ],
   "source": [
    "clean_train_reviews = []\n",
    "\n",
    "for review in train_set2['reviewText']:\n",
    "    clean_train_reviews.append(simplefilter(review))\n",
    "\n",
    "trainDataVecs = getAvgFeatureVecs(clean_train_reviews, model, num_features)\n",
    "\n",
    "print (\"Creating average feature vecs for test reviews\")\n",
    "\n",
    "clean_test_reviews = []\n",
    "for review in test_set['reviewText']:\n",
    "    clean_test_reviews.append(simplefilter(review))\n",
    "\n",
    "testDataVecs = getAvgFeatureVecs(clean_test_reviews, model, num_features)"
   ]
  },
  {
   "cell_type": "code",
   "execution_count": 10,
   "metadata": {
    "collapsed": false
   },
   "outputs": [
    {
     "ename": "NameError",
     "evalue": "name 'SGDRegressor' is not defined",
     "output_type": "error",
     "traceback": [
      "\u001b[0;31m---------------------------------------------------------------------------\u001b[0m",
      "\u001b[0;31mNameError\u001b[0m                                 Traceback (most recent call last)",
      "\u001b[0;32m<ipython-input-10-124b56b19054>\u001b[0m in \u001b[0;36m<module>\u001b[0;34m()\u001b[0m\n\u001b[0;32m----> 1\u001b[0;31m \u001b[0msgd_reg_avgReview\u001b[0m \u001b[1;33m=\u001b[0m \u001b[0mSGDRegressor\u001b[0m\u001b[1;33m(\u001b[0m\u001b[0mn_iter\u001b[0m\u001b[1;33m=\u001b[0m\u001b[1;36m500\u001b[0m\u001b[1;33m,\u001b[0m \u001b[0mpenalty\u001b[0m\u001b[1;33m=\u001b[0m\u001b[1;32mNone\u001b[0m\u001b[1;33m,\u001b[0m \u001b[0meta0\u001b[0m\u001b[1;33m=\u001b[0m\u001b[1;36m0.1\u001b[0m\u001b[1;33m,\u001b[0m \u001b[0mrandom_state\u001b[0m\u001b[1;33m=\u001b[0m\u001b[1;36m42\u001b[0m\u001b[1;33m)\u001b[0m\u001b[1;33m\u001b[0m\u001b[0m\n\u001b[0m",
      "\u001b[0;31mNameError\u001b[0m: name 'SGDRegressor' is not defined"
     ]
    }
   ],
   "source": [
    "sgd_reg_avgReview = SGDRegressor(n_iter=500, penalty=None, eta0=0.1, random_state=42)"
   ]
  },
  {
   "cell_type": "code",
   "execution_count": 11,
   "metadata": {
    "collapsed": false
   },
   "outputs": [
    {
     "ename": "NameError",
     "evalue": "name 'sgd_reg' is not defined",
     "output_type": "error",
     "traceback": [
      "\u001b[0;31m---------------------------------------------------------------------------\u001b[0m",
      "\u001b[0;31mNameError\u001b[0m                                 Traceback (most recent call last)",
      "\u001b[0;32m<ipython-input-11-15a091941684>\u001b[0m in \u001b[0;36m<module>\u001b[0;34m()\u001b[0m\n\u001b[0;32m----> 1\u001b[0;31m \u001b[0msgd_reg\u001b[0m\u001b[1;33m.\u001b[0m\u001b[0mfit\u001b[0m\u001b[1;33m(\u001b[0m\u001b[0mtrainDataVecs\u001b[0m\u001b[1;33m,\u001b[0m \u001b[0mtraining_labels\u001b[0m\u001b[1;33m.\u001b[0m\u001b[0mravel\u001b[0m\u001b[1;33m(\u001b[0m\u001b[1;33m)\u001b[0m\u001b[1;33m)\u001b[0m\u001b[1;33m\u001b[0m\u001b[0m\n\u001b[0m",
      "\u001b[0;31mNameError\u001b[0m: name 'sgd_reg' is not defined"
     ]
    }
   ],
   "source": [
    "sgd_reg_avgReview.fit(trainDataVecs, training_labels.ravel())"
   ]
  },
  {
   "cell_type": "code",
   "execution_count": 12,
   "metadata": {
    "collapsed": false
   },
   "outputs": [
    {
     "ename": "NameError",
     "evalue": "name 'sgd_reg_avgReview' is not defined",
     "output_type": "error",
     "traceback": [
      "\u001b[0;31m---------------------------------------------------------------------------\u001b[0m",
      "\u001b[0;31mNameError\u001b[0m                                 Traceback (most recent call last)",
      "\u001b[0;32m<ipython-input-12-628371f240d2>\u001b[0m in \u001b[0;36m<module>\u001b[0;34m()\u001b[0m\n\u001b[0;32m----> 1\u001b[0;31m \u001b[0msgd_reg_avgReview\u001b[0m\u001b[1;33m.\u001b[0m\u001b[0mpredict\u001b[0m\u001b[1;33m(\u001b[0m\u001b[0mtestDataVecs\u001b[0m\u001b[1;33m)\u001b[0m\u001b[1;33m\u001b[0m\u001b[0m\n\u001b[0m",
      "\u001b[0;31mNameError\u001b[0m: name 'sgd_reg_avgReview' is not defined"
     ]
    }
   ],
   "source": [
    "sgd_reg_avgReview.predict(testDataVecs)"
   ]
  },
  {
   "cell_type": "code",
   "execution_count": 13,
   "metadata": {
    "collapsed": false
   },
   "outputs": [
    {
     "ename": "NameError",
     "evalue": "name 'model' is not defined",
     "output_type": "error",
     "traceback": [
      "\u001b[0;31m---------------------------------------------------------------------------\u001b[0m",
      "\u001b[0;31mNameError\u001b[0m                                 Traceback (most recent call last)",
      "\u001b[0;32m<ipython-input-13-aeef72f92531>\u001b[0m in \u001b[0;36m<module>\u001b[0;34m()\u001b[0m\n\u001b[1;32m      1\u001b[0m \u001b[1;32mfrom\u001b[0m \u001b[0msklearn\u001b[0m\u001b[1;33m.\u001b[0m\u001b[0mcluster\u001b[0m \u001b[1;32mimport\u001b[0m \u001b[0mKMeans\u001b[0m\u001b[1;33m\u001b[0m\u001b[0m\n\u001b[1;32m      2\u001b[0m \u001b[1;33m\u001b[0m\u001b[0m\n\u001b[0;32m----> 3\u001b[0;31m \u001b[0mword_vectors\u001b[0m \u001b[1;33m=\u001b[0m \u001b[0mmodel\u001b[0m\u001b[1;33m.\u001b[0m\u001b[0msyn0\u001b[0m\u001b[1;33m\u001b[0m\u001b[0m\n\u001b[0m\u001b[1;32m      4\u001b[0m \u001b[0mnum_clusters\u001b[0m \u001b[1;33m=\u001b[0m \u001b[0mword_vectors\u001b[0m\u001b[1;33m.\u001b[0m\u001b[0mshape\u001b[0m\u001b[1;33m[\u001b[0m\u001b[1;36m0\u001b[0m\u001b[1;33m]\u001b[0m \u001b[1;33m/\u001b[0m \u001b[1;36m5\u001b[0m\u001b[1;33m\u001b[0m\u001b[0m\n\u001b[1;32m      5\u001b[0m \u001b[1;33m\u001b[0m\u001b[0m\n",
      "\u001b[0;31mNameError\u001b[0m: name 'model' is not defined"
     ]
    }
   ],
   "source": [
    "from sklearn.cluster import KMeans\n",
    "\n",
    "word_vectors = model.syn0\n",
    "num_clusters = word_vectors.shape[0] / 5\n",
    "\n",
    "# Initalize a k-means object and use it to extract centroids\n",
    "kmeans_clustering = KMeans(n_clusters = num_clusters)\n",
    "idx = kmeans_clustering.fit_predict(word_vectors)"
   ]
  },
  {
   "cell_type": "code",
   "execution_count": 14,
   "metadata": {
    "collapsed": false
   },
   "outputs": [
    {
     "ename": "NameError",
     "evalue": "name 'model' is not defined",
     "output_type": "error",
     "traceback": [
      "\u001b[0;31m---------------------------------------------------------------------------\u001b[0m",
      "\u001b[0;31mNameError\u001b[0m                                 Traceback (most recent call last)",
      "\u001b[0;32m<ipython-input-14-ac320ebac8bf>\u001b[0m in \u001b[0;36m<module>\u001b[0;34m()\u001b[0m\n\u001b[0;32m----> 1\u001b[0;31m \u001b[0mword_centroid_map\u001b[0m \u001b[1;33m=\u001b[0m \u001b[0mdict\u001b[0m\u001b[1;33m(\u001b[0m\u001b[0mzip\u001b[0m\u001b[1;33m(\u001b[0m\u001b[0mmodel\u001b[0m\u001b[1;33m.\u001b[0m\u001b[0mindex2word\u001b[0m\u001b[1;33m,\u001b[0m \u001b[0midx\u001b[0m \u001b[1;33m)\u001b[0m\u001b[1;33m)\u001b[0m\u001b[1;33m\u001b[0m\u001b[0m\n\u001b[0m",
      "\u001b[0;31mNameError\u001b[0m: name 'model' is not defined"
     ]
    }
   ],
   "source": [
    "word_centroid_map = dict(zip(model.index2word, idx ))"
   ]
  },
  {
   "cell_type": "code",
   "execution_count": 16,
   "metadata": {
    "collapsed": false
   },
   "outputs": [
    {
     "ename": "NameError",
     "evalue": "name 'xrange' is not defined",
     "output_type": "error",
     "traceback": [
      "\u001b[0;31m---------------------------------------------------------------------------\u001b[0m",
      "\u001b[0;31mNameError\u001b[0m                                 Traceback (most recent call last)",
      "\u001b[0;32m<ipython-input-16-7fad151601b3>\u001b[0m in \u001b[0;36m<module>\u001b[0;34m()\u001b[0m\n\u001b[1;32m      1\u001b[0m \u001b[1;31m# For the first 10 clusters\u001b[0m\u001b[1;33m\u001b[0m\u001b[1;33m\u001b[0m\u001b[0m\n\u001b[0;32m----> 2\u001b[0;31m \u001b[1;32mfor\u001b[0m \u001b[0mcluster\u001b[0m \u001b[1;32min\u001b[0m \u001b[0mxrange\u001b[0m\u001b[1;33m(\u001b[0m\u001b[1;36m0\u001b[0m\u001b[1;33m,\u001b[0m\u001b[1;36m10\u001b[0m\u001b[1;33m)\u001b[0m\u001b[1;33m:\u001b[0m\u001b[1;33m\u001b[0m\u001b[0m\n\u001b[0m\u001b[1;32m      3\u001b[0m     \u001b[1;31m# Print the cluster number\u001b[0m\u001b[1;33m\u001b[0m\u001b[1;33m\u001b[0m\u001b[0m\n\u001b[1;32m      4\u001b[0m     \u001b[0mprint\u001b[0m \u001b[1;33m(\u001b[0m\u001b[1;34m\"\\nCluster %d\"\u001b[0m \u001b[1;33m%\u001b[0m \u001b[0mcluster\u001b[0m\u001b[1;33m)\u001b[0m\u001b[1;33m\u001b[0m\u001b[0m\n\u001b[1;32m      5\u001b[0m \u001b[1;33m\u001b[0m\u001b[0m\n",
      "\u001b[0;31mNameError\u001b[0m: name 'xrange' is not defined"
     ]
    }
   ],
   "source": [
    "# For the first 10 clusters\n",
    "for cluster in range(0,10):\n",
    "    # Print the cluster number  \n",
    "    print (\"\\nCluster %d\" % cluster)\n",
    "\n",
    "    # Find all of the words for that cluster number, and print them out\n",
    "    words = []\n",
    "    for i in range(0,len(word_centroid_map.values())):\n",
    "        if( word_centroid_map.values()[i] == cluster ):\n",
    "            words.append(word_centroid_map.keys()[i])\n",
    "        print (words)"
   ]
  },
  {
   "cell_type": "code",
   "execution_count": 17,
   "metadata": {
    "collapsed": true
   },
   "outputs": [],
   "source": [
    "def create_bag_of_centroids(wordlist, word_centroid_map):\n",
    "    \"\"\" Convert reviews into semantically related bag-of-centroids from semantically related clusters\n",
    "    Args:\n",
    "        wordlist: average feature vector for review\n",
    "        word_centroid_map: Dictionary mapping word to cluster number\n",
    "    Returns:\n",
    "        bag_of_centroids: Numpy array for each review, with the number of features equal to the number of clusters.\n",
    "    \"\"\"\n",
    "    # The number of clusters is equal to the highest cluster index in the word / centroid map\n",
    "    num_centroids = max( word_centroid_map.values() ) + 1\n",
    "\n",
    "    # Pre-allocate the bag of centroids vector (for speed)\n",
    "    bag_of_centroids = np.zeros(num_centroids, dtype=\"float32\")\n",
    "    \n",
    "    # Loop over the words in the review. If the word is in the vocabulary, find which cluster it belongs to, \n",
    "    # and increment that cluster count by one\n",
    "    for word in wordlist:\n",
    "        if word in word_centroid_map:\n",
    "            index = word_centroid_map[word]\n",
    "            bag_of_centroids[index] += 1\n",
    "    \n",
    "    return bag_of_centroids"
   ]
  },
  {
   "cell_type": "code",
   "execution_count": 18,
   "metadata": {
    "collapsed": false
   },
   "outputs": [
    {
     "ename": "NameError",
     "evalue": "name 'np' is not defined",
     "output_type": "error",
     "traceback": [
      "\u001b[0;31m---------------------------------------------------------------------------\u001b[0m",
      "\u001b[0;31mNameError\u001b[0m                                 Traceback (most recent call last)",
      "\u001b[0;32m<ipython-input-18-58bcb7778dc4>\u001b[0m in \u001b[0;36m<module>\u001b[0;34m()\u001b[0m\n\u001b[1;32m      1\u001b[0m \u001b[1;31m# Pre-allocate an array for the training set bags of centroids (for speed)\u001b[0m\u001b[1;33m\u001b[0m\u001b[1;33m\u001b[0m\u001b[0m\n\u001b[0;32m----> 2\u001b[0;31m \u001b[0mtrain_centroids\u001b[0m \u001b[1;33m=\u001b[0m \u001b[0mnp\u001b[0m\u001b[1;33m.\u001b[0m\u001b[0mzeros\u001b[0m\u001b[1;33m(\u001b[0m\u001b[1;33m(\u001b[0m\u001b[0mtrain_set2\u001b[0m\u001b[1;33m[\u001b[0m\u001b[1;34m'reviewText'\u001b[0m\u001b[1;33m]\u001b[0m\u001b[1;33m.\u001b[0m\u001b[0msize\u001b[0m\u001b[1;33m,\u001b[0m \u001b[0mnum_clusters\u001b[0m\u001b[1;33m)\u001b[0m\u001b[1;33m,\u001b[0m \u001b[0mdtype\u001b[0m\u001b[1;33m=\u001b[0m\u001b[1;34m\"float32\"\u001b[0m\u001b[1;33m)\u001b[0m\u001b[1;33m\u001b[0m\u001b[0m\n\u001b[0m\u001b[1;32m      3\u001b[0m \u001b[1;33m\u001b[0m\u001b[0m\n\u001b[1;32m      4\u001b[0m \u001b[1;31m# Transform the training set reviews into bags of centroids\u001b[0m\u001b[1;33m\u001b[0m\u001b[1;33m\u001b[0m\u001b[0m\n\u001b[1;32m      5\u001b[0m \u001b[0mcounter\u001b[0m \u001b[1;33m=\u001b[0m \u001b[1;36m0\u001b[0m\u001b[1;33m\u001b[0m\u001b[0m\n",
      "\u001b[0;31mNameError\u001b[0m: name 'np' is not defined"
     ]
    }
   ],
   "source": [
    "# Pre-allocate an array for the training set bags of centroids (for speed)\n",
    "train_centroids = np.zeros((train_set2['reviewText'].size, num_clusters), dtype=\"float32\")\n",
    "\n",
    "# Transform the training set reviews into bags of centroids\n",
    "counter = 0\n",
    "for review in clean_train_reviews:\n",
    "    train_centroids[counter] = create_bag_of_centroids(review, word_centroid_map)\n",
    "    counter += 1\n",
    "\n",
    "test_centroids = np.zeros((test_set['reviewText'].size, num_clusters), dtype=\"float32\")\n",
    "\n",
    "counter = 0\n",
    "for review in clean_test_reviews:\n",
    "    test_centroids[counter] = create_bag_of_centroids(review, word_centroid_map)\n",
    "    counter += 1"
   ]
  },
  {
   "cell_type": "code",
   "execution_count": 19,
   "metadata": {
    "collapsed": false
   },
   "outputs": [
    {
     "ename": "NameError",
     "evalue": "name 'SGDRegressor' is not defined",
     "output_type": "error",
     "traceback": [
      "\u001b[0;31m---------------------------------------------------------------------------\u001b[0m",
      "\u001b[0;31mNameError\u001b[0m                                 Traceback (most recent call last)",
      "\u001b[0;32m<ipython-input-19-0619a0029e16>\u001b[0m in \u001b[0;36m<module>\u001b[0;34m()\u001b[0m\n\u001b[0;32m----> 1\u001b[0;31m \u001b[0msgd_reg_cluster\u001b[0m \u001b[1;33m=\u001b[0m \u001b[0mSGDRegressor\u001b[0m\u001b[1;33m(\u001b[0m\u001b[0mn_iter\u001b[0m\u001b[1;33m=\u001b[0m\u001b[1;36m500\u001b[0m\u001b[1;33m,\u001b[0m \u001b[0mpenalty\u001b[0m\u001b[1;33m=\u001b[0m\u001b[1;32mNone\u001b[0m\u001b[1;33m,\u001b[0m \u001b[0meta0\u001b[0m\u001b[1;33m=\u001b[0m\u001b[1;36m0.1\u001b[0m\u001b[1;33m,\u001b[0m \u001b[0mrandom_state\u001b[0m\u001b[1;33m=\u001b[0m\u001b[1;36m42\u001b[0m\u001b[1;33m)\u001b[0m\u001b[1;33m\u001b[0m\u001b[0m\n\u001b[0m",
      "\u001b[0;31mNameError\u001b[0m: name 'SGDRegressor' is not defined"
     ]
    }
   ],
   "source": [
    "sgd_reg_cluster = SGDRegressor(n_iter=500, penalty=None, eta0=0.1, random_state=42)"
   ]
  },
  {
   "cell_type": "code",
   "execution_count": 20,
   "metadata": {
    "collapsed": false
   },
   "outputs": [
    {
     "ename": "NameError",
     "evalue": "name 'sgd_reg_cluster' is not defined",
     "output_type": "error",
     "traceback": [
      "\u001b[0;31m---------------------------------------------------------------------------\u001b[0m",
      "\u001b[0;31mNameError\u001b[0m                                 Traceback (most recent call last)",
      "\u001b[0;32m<ipython-input-20-90bde2e2f8be>\u001b[0m in \u001b[0;36m<module>\u001b[0;34m()\u001b[0m\n\u001b[0;32m----> 1\u001b[0;31m \u001b[0msgd_reg_cluster\u001b[0m\u001b[1;33m.\u001b[0m\u001b[0mfit\u001b[0m\u001b[1;33m(\u001b[0m\u001b[0mtrain_centroids\u001b[0m\u001b[1;33m,\u001b[0m \u001b[0mtraining_labels\u001b[0m\u001b[1;33m.\u001b[0m\u001b[0mravel\u001b[0m\u001b[1;33m(\u001b[0m\u001b[1;33m)\u001b[0m\u001b[1;33m)\u001b[0m\u001b[1;33m\u001b[0m\u001b[0m\n\u001b[0m",
      "\u001b[0;31mNameError\u001b[0m: name 'sgd_reg_cluster' is not defined"
     ]
    }
   ],
   "source": [
    "sgd_reg_cluster.fit(train_centroids, training_labels.ravel())"
   ]
  },
  {
   "cell_type": "code",
   "execution_count": 21,
   "metadata": {
    "collapsed": false
   },
   "outputs": [
    {
     "ename": "NameError",
     "evalue": "name 'sgd_reg_cluster' is not defined",
     "output_type": "error",
     "traceback": [
      "\u001b[0;31m---------------------------------------------------------------------------\u001b[0m",
      "\u001b[0;31mNameError\u001b[0m                                 Traceback (most recent call last)",
      "\u001b[0;32m<ipython-input-21-bdbf1049f871>\u001b[0m in \u001b[0;36m<module>\u001b[0;34m()\u001b[0m\n\u001b[0;32m----> 1\u001b[0;31m \u001b[0msgd_reg_cluster\u001b[0m\u001b[1;33m.\u001b[0m\u001b[0mpredict\u001b[0m\u001b[1;33m(\u001b[0m\u001b[0mtest_centroids\u001b[0m\u001b[1;33m)\u001b[0m\u001b[1;33m\u001b[0m\u001b[0m\n\u001b[0m",
      "\u001b[0;31mNameError\u001b[0m: name 'sgd_reg_cluster' is not defined"
     ]
    }
   ],
   "source": [
    "sgd_reg_cluster.predict(test_centroids)"
   ]
  },
  {
   "cell_type": "code",
   "execution_count": null,
   "metadata": {
    "collapsed": true
   },
   "outputs": [],
   "source": []
  }
 ],
 "metadata": {
  "anaconda-cloud": {},
  "kernelspec": {
   "display_name": "Python 3",
   "language": "python",
   "name": "python3"
  },
  "language_info": {
   "codemirror_mode": {
    "name": "ipython",
    "version": 3
   },
   "file_extension": ".py",
   "mimetype": "text/x-python",
   "name": "python",
   "nbconvert_exporter": "python",
   "pygments_lexer": "ipython3",
   "version": "3.6.0"
  }
 },
 "nbformat": 4,
 "nbformat_minor": 2
}
