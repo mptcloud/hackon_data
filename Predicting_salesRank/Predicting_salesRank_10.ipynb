{
 "cells": [
  {
   "cell_type": "markdown",
   "metadata": {},
   "source": [
    "# HackOn(Data)\n",
    "## Competition Challenge\n",
    "\n",
    "Welcome to our project. We have decided to do a simple Forecasting on the salesRank, more precesilly, \n",
    "\n",
    "** The problem:** Predict salesRank given the reviews information. \n",
    "\n",
    "** Hypothesis:** The reviews are an indicative of how well a product is selling and contain enough information for a forecast.\n",
    "\n",
    "** Assumptions:** \n",
    "\n",
    "- We ommit that the data is seasonal.\n",
    "- By product we mean the combination of product and vendors, that is represented by the asin.\n",
    "- What else?\n",
    "\n",
    "** NOTE: ** This notebook is intended to show the overall ideas and, in order to make it easier to read, we have sacrificed speed. The reader should go to the production file in order to find a faster version of what is discuss here.\n",
    "\n",
    "This note is organized as follows:\n",
    "\n",
    "- **Part 0**: Just the imports, that is the tools we will be using.\n",
    "- **Part 1**: Cleaning and Preparing the Data. \n",
    "- **Part 2**: Feature Engineering.\n",
    "- **Part 3**: Model Building.\n",
    "- **Part 4**: Evaluating the results.\n",
    "- **Part 5**: Scalability."
   ]
  },
  {
   "cell_type": "markdown",
   "metadata": {},
   "source": [
    "# Part 0 - Loading the tools\n",
    "\n",
    "We load the tools we will be using during this project."
   ]
  },
  {
   "cell_type": "code",
   "execution_count": 1,
   "metadata": {},
   "outputs": [
    {
     "name": "stderr",
     "output_type": "stream",
     "text": [
      "/home/felipe/anaconda3/lib/python3.5/site-packages/sklearn/cross_validation.py:41: DeprecationWarning: This module was deprecated in version 0.18 in favor of the model_selection module into which all the refactored classes and functions are moved. Also note that the interface of the new CV iterators are different from that of this module. This module will be removed in 0.20.\n",
      "  \"This module will be removed in 0.20.\", DeprecationWarning)\n"
     ]
    }
   ],
   "source": [
    "import pandas as pd\n",
    "import numpy as np\n",
    "import fasttext\n",
    "import gzip\n",
    "import matplotlib.pyplot as plt\n",
    "import xgboost as xgb\n",
    "import lightgbm as lgb\n",
    "import seaborn as sns\n",
    "import pickle\n",
    "\n",
    "from collections import Counter\n",
    "\n",
    "from sklearn.preprocessing import MultiLabelBinarizer #To be used with the categories feature\n",
    "from sklearn.model_selection import train_test_split, GridSearchCV\n",
    "from sklearn.ensemble import RandomForestRegressor, RandomForestClassifier\n",
    "from sklearn.metrics import r2_score,mean_squared_error\n",
    "\n",
    "from xgboost import XGBClassifier\n",
    "from sklearn.metrics import accuracy_score\n",
    "\n",
    "%matplotlib inline  "
   ]
  },
  {
   "cell_type": "markdown",
   "metadata": {},
   "source": [
    "and we set some global variables"
   ]
  },
  {
   "cell_type": "code",
   "execution_count": 2,
   "metadata": {
    "collapsed": true
   },
   "outputs": [],
   "source": [
    "RELEVANT_KEY='Video Games'"
   ]
  },
  {
   "cell_type": "markdown",
   "metadata": {},
   "source": [
    "# Part 1- Cleaning and preparing The Data\n",
    "\n",
    "In this section we load the data, clean it, and prepare it for feature building. The data consists on\n",
    "\n",
    "### **Review Data**\n",
    "\n",
    "This dataset contains product reviews and metadata from Amazon, including 142.8 million reviews spanning May 1996 - July 2014.\n",
    "\n",
    "This dataset includes reviews (ratings, text, helpfulness votes), product metadata (descriptions, category information, price, brand, and image features), and links (also viewed/also bought graphs).\n",
    "\n",
    "### **Q&A Data**\n",
    "\n",
    "This dataset contains Questions and Answers data from Amazon, totaling around 1.4 million answered questions.\n",
    "\n",
    "This dataset can be combined with Amazon product review data, by matching ASINs in the Q/A dataset with ASINs in the review data. The review data also includes product metadata (product titles etc.).\n",
    "\n",
    "### **Credits:**\n",
    "\n",
    "-  **R. He, J. McAuley**. Modeling the visual evolution of fashion trends with one-class collaborative filtering. WWW, 2016 J. \n",
    "- ** McAuley, C. Targett, J. Shi, A. van den Hengel **. A Image-based recommendations on styles and substitutes. SIGIR, 2015\n",
    "\n",
    "\n",
    "We start with the scripts provided at [Julian McAuley's website](http://jmcauley.ucsd.edu/data/amazon/)."
   ]
  },
  {
   "cell_type": "code",
   "execution_count": 3,
   "metadata": {
    "collapsed": true
   },
   "outputs": [],
   "source": [
    "def parse(path):\n",
    "    g = gzip.open(path, 'rb')\n",
    "    for l in g:\n",
    "        yield eval(l)\n",
    "\n",
    "def getDF(path):\n",
    "    i = 0\n",
    "    df = {}\n",
    "    for d in parse(path):\n",
    "        df[i] = d\n",
    "        i += 1\n",
    "    return pd.DataFrame.from_dict(df, orient='index')"
   ]
  },
  {
   "cell_type": "markdown",
   "metadata": {},
   "source": [
    "and use these methods to load the data"
   ]
  },
  {
   "cell_type": "code",
   "execution_count": 4,
   "metadata": {
    "collapsed": true
   },
   "outputs": [],
   "source": [
    "df_reviews = getDF('./data/reviews_Video_Games_10.json.gz')\n",
    "df_meta=getDF('./data/meta_Video_Games.json.gz')\n",
    "df_qa=getDF('./data/qa_Video_Games.json.gz')"
   ]
  },
  {
   "cell_type": "markdown",
   "metadata": {},
   "source": [
    "We now study the different features."
   ]
  },
  {
   "cell_type": "markdown",
   "metadata": {},
   "source": [
    "\n",
    "## Features from the meta file\n",
    "\n",
    "### SalesRank\n",
    "\n",
    "Note that the dataframe that contains the salesRank is df_meta. In this data there are two possible cases where the values described are not helpful. The first one is a NaN value, and we can use is null method to deal with this, the second one is the case of a dictionary no containing the relevant key. We use a helper function to help us with this."
   ]
  },
  {
   "cell_type": "code",
   "execution_count": 5,
   "metadata": {
    "collapsed": true
   },
   "outputs": [],
   "source": [
    "def helper(dictionary):\n",
    "    try:\n",
    "        return dictionary[RELEVANT_KEY]\n",
    "    except:\n",
    "        return float('NaN')"
   ]
  },
  {
   "cell_type": "code",
   "execution_count": 6,
   "metadata": {
    "collapsed": true
   },
   "outputs": [],
   "source": [
    "df_meta['salesRank']=df_meta.salesRank.map(lambda x: helper(x))"
   ]
  },
  {
   "cell_type": "markdown",
   "metadata": {},
   "source": [
    "We can now count how many entries don't have the desired rank \n",
    "data."
   ]
  },
  {
   "cell_type": "code",
   "execution_count": 7,
   "metadata": {},
   "outputs": [
    {
     "data": {
      "text/plain": [
       "5675"
      ]
     },
     "execution_count": 7,
     "metadata": {},
     "output_type": "execute_result"
    }
   ],
   "source": [
    "df_meta.salesRank[(df_meta.salesRank.isnull())].shape[0]"
   ]
  },
  {
   "cell_type": "markdown",
   "metadata": {},
   "source": [
    "and proceed to remove these rows "
   ]
  },
  {
   "cell_type": "code",
   "execution_count": 8,
   "metadata": {
    "collapsed": true
   },
   "outputs": [],
   "source": [
    "df_meta=df_meta[ df_meta.salesRank.notnull()]"
   ]
  },
  {
   "cell_type": "markdown",
   "metadata": {},
   "source": [
    "We can do a sanity check "
   ]
  },
  {
   "cell_type": "code",
   "execution_count": 9,
   "metadata": {},
   "outputs": [
    {
     "data": {
      "text/plain": [
       "0"
      ]
     },
     "execution_count": 9,
     "metadata": {},
     "output_type": "execute_result"
    }
   ],
   "source": [
    "df_meta.salesRank[(df_meta.salesRank.isnull())].shape[0]"
   ]
  },
  {
   "cell_type": "markdown",
   "metadata": {},
   "source": [
    "### imUrl\n",
    "\n",
    "This features contains the web address to an image. As ee won't be using the images, so we drop this column."
   ]
  },
  {
   "cell_type": "code",
   "execution_count": 10,
   "metadata": {
    "collapsed": true
   },
   "outputs": [],
   "source": [
    "df_meta=df_meta.drop('imUrl',axis=1)"
   ]
  },
  {
   "cell_type": "markdown",
   "metadata": {},
   "source": [
    "### Title and brand\n",
    "\n",
    "From the fact that the percentage of articles with title or brands are"
   ]
  },
  {
   "cell_type": "code",
   "execution_count": 11,
   "metadata": {},
   "outputs": [
    {
     "name": "stdout",
     "output_type": "stream",
     "text": [
      "Only 0.22% of the products have title.\n",
      "Only 0.11% of the products have brand.\n"
     ]
    }
   ],
   "source": [
    "print(\"Only %.2f%% of the products have title.\"%(df_meta.title.count()/df_meta.asin.count()*100))\n",
    "print(\"Only %.2f%% of the products have brand.\"%(df_meta.brand.count()/df_meta.asin.count()*100))"
   ]
  },
  {
   "cell_type": "markdown",
   "metadata": {},
   "source": [
    "We can deduce that this features are not relevant, and so we drop them as well."
   ]
  },
  {
   "cell_type": "code",
   "execution_count": 12,
   "metadata": {
    "collapsed": true
   },
   "outputs": [],
   "source": [
    "df_meta=df_meta.drop(['title','brand'],axis=1)"
   ]
  },
  {
   "cell_type": "markdown",
   "metadata": {},
   "source": [
    "### Price\n",
    "\n",
    "The feature price is definitely relevant for the  forecasting, now note that "
   ]
  },
  {
   "cell_type": "code",
   "execution_count": 13,
   "metadata": {},
   "outputs": [
    {
     "name": "stdout",
     "output_type": "stream",
     "text": [
      "88.25% of the products have a price.\n"
     ]
    }
   ],
   "source": [
    "print(\"%.2f%% of the products have a price.\"%(df_meta.price.count()*100/df_meta.asin.count()))"
   ]
  },
  {
   "cell_type": "markdown",
   "metadata": {},
   "source": [
    "as this is a relevant feature we remove the rows with missing data."
   ]
  },
  {
   "cell_type": "code",
   "execution_count": 14,
   "metadata": {
    "collapsed": true
   },
   "outputs": [],
   "source": [
    "df_meta=df_meta[df_meta.price.notnull()]"
   ]
  },
  {
   "cell_type": "markdown",
   "metadata": {},
   "source": [
    "Another sanity check."
   ]
  },
  {
   "cell_type": "code",
   "execution_count": 15,
   "metadata": {},
   "outputs": [
    {
     "name": "stdout",
     "output_type": "stream",
     "text": [
      "100.00% of the products have a price.\n"
     ]
    }
   ],
   "source": [
    "print(\"%.2f%% of the products have a price.\"%(df_meta.price.count()*100/df_meta.asin.count()))"
   ]
  },
  {
   "cell_type": "markdown",
   "metadata": {},
   "source": [
    "After this cleaning "
   ]
  },
  {
   "cell_type": "code",
   "execution_count": 16,
   "metadata": {},
   "outputs": [
    {
     "name": "stdout",
     "output_type": "stream",
     "text": [
      "There are 39959 products left\n"
     ]
    }
   ],
   "source": [
    "print(\"There are %d products left\"%df_meta.asin.count())"
   ]
  },
  {
   "cell_type": "markdown",
   "metadata": {},
   "source": [
    "### Categories\n",
    "\n",
    "The categories feature comes as a list of lists, let's first find out how many different categories are there."
   ]
  },
  {
   "cell_type": "code",
   "execution_count": 17,
   "metadata": {},
   "outputs": [
    {
     "name": "stdout",
     "output_type": "stream",
     "text": [
      "There are 334 categories\n"
     ]
    }
   ],
   "source": [
    "categories=set()\n",
    "for list_cats in df_meta.categories:\n",
    "    for list_cat in list_cats:\n",
    "        categories=categories.union(set(list_cat))\n",
    "categories=list(categories)\n",
    "print(\"There are %d categories\"%len(categories))"
   ]
  },
  {
   "cell_type": "markdown",
   "metadata": {},
   "source": [
    "we use these as a categorial variable, first we create a unique list of categories for each product"
   ]
  },
  {
   "cell_type": "code",
   "execution_count": 18,
   "metadata": {
    "collapsed": true
   },
   "outputs": [],
   "source": [
    "def helper2(list_cats):\n",
    "    cats=set()\n",
    "    for list_cat in list_cats:\n",
    "        cats=cats.union(set(list_cat))\n",
    "    return list(cats)"
   ]
  },
  {
   "cell_type": "code",
   "execution_count": 19,
   "metadata": {
    "collapsed": true
   },
   "outputs": [],
   "source": [
    "df_meta['categories']=df_meta.categories.apply(helper2)"
   ]
  },
  {
   "cell_type": "markdown",
   "metadata": {},
   "source": [
    "and then we use the [MultiLabelBinarizer](http://scikit-learn.org/stable/modules/generated/sklearn.preprocessing.MultiLabelBinarizer.html) from sklearn to do the encodding. "
   ]
  },
  {
   "cell_type": "code",
   "execution_count": 20,
   "metadata": {
    "collapsed": true
   },
   "outputs": [],
   "source": [
    "mlb=MultiLabelBinarizer()\n",
    "mlb.fit(df_meta.categories)\n",
    "categories_df=pd.DataFrame(mlb.transform(df_meta.categories),columns=list(mlb.classes_))\n",
    "df_meta.reset_index(drop=True,inplace=True)\n",
    "df_meta=df_meta.merge(categories_df,left_index =True,right_index =True)"
   ]
  },
  {
   "cell_type": "markdown",
   "metadata": {},
   "source": [
    "and finally we drop the categories column."
   ]
  },
  {
   "cell_type": "code",
   "execution_count": 21,
   "metadata": {
    "collapsed": true
   },
   "outputs": [],
   "source": [
    "df_meta=df_meta.drop('categories',axis=1)"
   ]
  },
  {
   "cell_type": "markdown",
   "metadata": {},
   "source": [
    "### related and decription\n",
    "\n",
    "(ARE WE USING THIS?, RELATED MAY GIVE NICE INFO, BUT DESCRIPTION SEEMS USELESS)\n",
    "\n",
    "We won't be using this either, so we remove them."
   ]
  },
  {
   "cell_type": "code",
   "execution_count": 22,
   "metadata": {
    "collapsed": true
   },
   "outputs": [],
   "source": [
    "df_meta=df_meta.drop(['related','description'],axis=1)"
   ]
  },
  {
   "cell_type": "markdown",
   "metadata": {},
   "source": [
    "## Features from the reviews file\n",
    "\n",
    "### reviewText\n",
    "\n",
    "This feature containing the review will be used for sentiment analysis. We come back to this when building features. For now, we just get rid of the data with empty reviews."
   ]
  },
  {
   "cell_type": "code",
   "execution_count": 23,
   "metadata": {},
   "outputs": [
    {
     "name": "stdout",
     "output_type": "stream",
     "text": [
      "There are 3 empty reviews.\n"
     ]
    }
   ],
   "source": [
    "print(\"There are %d empty reviews.\"%df_reviews[df_reviews.reviewText==\"\"].shape[0])\n",
    "df_reviews=df_reviews[df_reviews.reviewText!=\"\"]"
   ]
  },
  {
   "cell_type": "markdown",
   "metadata": {},
   "source": [
    "### summary\n",
    "\n",
    "We won't be using this feature, so we drop it"
   ]
  },
  {
   "cell_type": "code",
   "execution_count": 24,
   "metadata": {
    "collapsed": true
   },
   "outputs": [],
   "source": [
    "df_reviews=df_reviews.drop('summary',axis=1)"
   ]
  },
  {
   "cell_type": "markdown",
   "metadata": {},
   "source": [
    "### reviewTime\n",
    "\n",
    "This feature is redundant since we have unixReviewTime, so we also get rid of this"
   ]
  },
  {
   "cell_type": "code",
   "execution_count": 25,
   "metadata": {
    "collapsed": true
   },
   "outputs": [],
   "source": [
    "df_reviews=df_reviews.drop('reviewTime',axis=1)"
   ]
  },
  {
   "cell_type": "markdown",
   "metadata": {},
   "source": [
    "### ReviewerName\n",
    "This is also redundant, since we have the reviewerID, we drop it"
   ]
  },
  {
   "cell_type": "code",
   "execution_count": 26,
   "metadata": {
    "collapsed": true
   },
   "outputs": [],
   "source": [
    "df_reviews=df_reviews.drop('reviewerName',axis=1)"
   ]
  },
  {
   "cell_type": "markdown",
   "metadata": {},
   "source": [
    "### Helpful\n",
    "The helpful feature comes as a pair of integers, the first one represents the number of people who found the review helpful, the second one is the number of people giving an opinion on the review. We separate this info into two features."
   ]
  },
  {
   "cell_type": "code",
   "execution_count": 27,
   "metadata": {
    "collapsed": true
   },
   "outputs": [],
   "source": [
    "df_reviews[['wasHelpful','helpfulFeedback']] = pd.DataFrame(df_reviews.helpful.values.tolist())"
   ]
  },
  {
   "cell_type": "markdown",
   "metadata": {},
   "source": [
    "now the helpful feature is also redundant."
   ]
  },
  {
   "cell_type": "code",
   "execution_count": 28,
   "metadata": {
    "collapsed": true
   },
   "outputs": [],
   "source": [
    "df_reviews=df_reviews.drop('helpful',axis=1)"
   ]
  },
  {
   "cell_type": "markdown",
   "metadata": {},
   "source": [
    "## Features from QA data\n",
    "We clean a couple features from the qa dataset. "
   ]
  },
  {
   "cell_type": "markdown",
   "metadata": {},
   "source": [
    "### answerType\n",
    "\n",
    "There are three possibilities for the kind of answer Y,N, and ? so add this feature."
   ]
  },
  {
   "cell_type": "code",
   "execution_count": 29,
   "metadata": {
    "collapsed": true
   },
   "outputs": [],
   "source": [
    "df_qa[['Y_answer','N_answer','?_answer']]=pd.get_dummies(df_qa.answerType)"
   ]
  },
  {
   "cell_type": "markdown",
   "metadata": {},
   "source": [
    "and get rid of the superfluous feature answerType"
   ]
  },
  {
   "cell_type": "code",
   "execution_count": 30,
   "metadata": {
    "collapsed": true
   },
   "outputs": [],
   "source": [
    "df_qa=df_qa.drop('answerType',axis=1)"
   ]
  },
  {
   "cell_type": "markdown",
   "metadata": {},
   "source": [
    "# Part 2 - Feature engineering\n",
    "\n",
    "In this part we build our features, this will be done in the following order.\n",
    "\n",
    "\n",
    "- Use sentiment analysis to give a sentiment score to the reviews. (Reason: a score of 3 for two people may mean different things the sentiment wil help correct this)\n",
    "\n",
    "- helpful: Increases the confidence.\n",
    "\n",
    "- ReviewerID features: will help us gain confidence in the review.\n",
    "\n",
    "- ReviewTime: To create a time series for the (cummulative) number of reviews.\n",
    "\n",
    "- Categories: Create category 'Other' and move everything that is not in the top 20 categories to the 'Other' category.\n"
   ]
  },
  {
   "cell_type": "markdown",
   "metadata": {},
   "source": [
    "### Sentiment Analysis on reviews\n",
    "\n",
    "We use [fasttext](https://github.com/facebookresearch/fastText) from facebook to create an score. This was build using \n",
    "\n",
    "A. Joulin, E. Grave, P. Bojanowski, T. Mikolov, Bag of Tricks for Efficient Text Classification\n",
    "\n",
    "For this we need to save the data we need to a text file, since that is the signature of the training method of fasttext.\n",
    "\n",
    "**Note:** We use a different algorithm in production. "
   ]
  },
  {
   "cell_type": "code",
   "execution_count": null,
   "metadata": {
    "collapsed": true
   },
   "outputs": [],
   "source": [
    "#df_sentiment=df_reviews.loc[:,('reviewText','overall')]\n",
    "#df_sentiment['overall']=df_sentiment.overall.apply(lambda x: '__label__'+str(int(x)))\n",
    "#df_sentiment.to_csv(r'./data_/data_for_sentiment.txt', header=None, index=None, sep=' ', mode='a')"
   ]
  },
  {
   "cell_type": "markdown",
   "metadata": {},
   "source": [
    "Now, that the data is prepared for procesing, we can use the classifier."
   ]
  },
  {
   "cell_type": "code",
   "execution_count": 31,
   "metadata": {
    "collapsed": true
   },
   "outputs": [],
   "source": [
    "classifier = fasttext.supervised('./data_/data_for_sentiment.txt', 'model', label_prefix='__label__')\n",
    "#classifier=pickle.load(open('./fasttextclassifier','rb'))"
   ]
  },
  {
   "cell_type": "markdown",
   "metadata": {},
   "source": [
    "and do a simple, sanity check"
   ]
  },
  {
   "cell_type": "code",
   "execution_count": 32,
   "metadata": {},
   "outputs": [
    {
     "name": "stdout",
     "output_type": "stream",
     "text": [
      "[['5'], ['1']]\n"
     ]
    }
   ],
   "source": [
    "texts=[\"this is an awesome\",\"this sucks\"]\n",
    "labels = classifier.predict(texts)\n",
    "print(labels)"
   ]
  },
  {
   "cell_type": "markdown",
   "metadata": {},
   "source": [
    "and we can add this feature to the reviews dataframe"
   ]
  },
  {
   "cell_type": "code",
   "execution_count": 33,
   "metadata": {
    "collapsed": true
   },
   "outputs": [],
   "source": [
    "df_reviews['sentimentScore']=df_reviews.reviewText.apply(\n",
    "    lambda x:int(classifier.predict([x])[0][0]))"
   ]
  },
  {
   "cell_type": "markdown",
   "metadata": {},
   "source": [
    "as that was our use of the textReview feature we can get rid of it."
   ]
  },
  {
   "cell_type": "markdown",
   "metadata": {},
   "source": [
    "We also pass a jugement to the review given the its lenght, compare to the score."
   ]
  },
  {
   "cell_type": "code",
   "execution_count": 34,
   "metadata": {
    "collapsed": true
   },
   "outputs": [],
   "source": [
    "df_reviews['review_length']=df_reviews.reviewText.apply(lambda x:len(x))"
   ]
  },
  {
   "cell_type": "code",
   "execution_count": 35,
   "metadata": {
    "collapsed": true
   },
   "outputs": [],
   "source": [
    "df_reviews['review_judgment']=df_reviews.overall*(df_reviews.review_length-3)/2"
   ]
  },
  {
   "cell_type": "code",
   "execution_count": 36,
   "metadata": {
    "collapsed": true
   },
   "outputs": [],
   "source": [
    "df_reviews=df_reviews.drop('reviewText',axis=1)"
   ]
  },
  {
   "cell_type": "markdown",
   "metadata": {},
   "source": [
    "### ReviewerID\n",
    "\n",
    "We want to measure the quality of a review, so far we only have a values for this, the helpful feature. We add new features that come from the reviewerID. In order to obtain this features we create a new dataframe."
   ]
  },
  {
   "cell_type": "code",
   "execution_count": 37,
   "metadata": {
    "collapsed": true
   },
   "outputs": [],
   "source": [
    "df_reviewers=df_reviews.merge(df_meta[['asin','price']],on='asin').groupby('reviewerID').agg({\n",
    "                              'overall':['min','max','mean', 'std','count'], # details of ratings for this reviewer\n",
    "                              'unixReviewTime':['min','max'], # date of first and last review\n",
    "                              'wasHelpful': ['sum', 'min', 'max', 'mean', 'std'],\n",
    "                              'helpfulFeedback':['sum', 'min', 'max', 'mean', 'std'],\n",
    "                              'price': ['sum', 'min', 'max', 'mean', 'std'], # average price of items reviewed etc\n",
    "                             })"
   ]
  },
  {
   "cell_type": "markdown",
   "metadata": {},
   "source": [
    "We add this features to df_reviews."
   ]
  },
  {
   "cell_type": "code",
   "execution_count": 38,
   "metadata": {},
   "outputs": [
    {
     "name": "stderr",
     "output_type": "stream",
     "text": [
      "/home/felipe/anaconda3/lib/python3.5/site-packages/pandas/tools/merge.py:536: UserWarning: merging between different levels can give an unintended result (1 levels on the left, 2 on the right)\n",
      "  warnings.warn(msg, UserWarning)\n"
     ]
    }
   ],
   "source": [
    "#As we are choosing inner, this procedure automatically removes the items for which there's not price\n",
    "df_reviews=df_reviews.merge(df_reviewers, left_on='reviewerID',right_index=True)"
   ]
  },
  {
   "cell_type": "markdown",
   "metadata": {},
   "source": [
    "as we won't be using the reviewerID anymore, we get rid of this feature."
   ]
  },
  {
   "cell_type": "code",
   "execution_count": 39,
   "metadata": {
    "collapsed": true
   },
   "outputs": [],
   "source": [
    "df_reviews=df_reviews.drop('reviewerID',axis=1)"
   ]
  },
  {
   "cell_type": "markdown",
   "metadata": {},
   "source": [
    "## Data aggregation\n",
    "\n",
    "Before we continue with the feature generation, we need to agregate the data by product. This will make the features to be a time series, where the time is controled by the UnixReviewTime. We need to rename the columns first."
   ]
  },
  {
   "cell_type": "code",
   "execution_count": 40,
   "metadata": {
    "collapsed": true
   },
   "outputs": [],
   "source": [
    "df_reviews.columns = [ col_name if isinstance(col_name,str) else \"_\".join(col_name) for col_name in df_reviews.columns]"
   ]
  },
  {
   "cell_type": "markdown",
   "metadata": {},
   "source": [
    "and then create a dictionary that will help us obtain the aggregations that we want."
   ]
  },
  {
   "cell_type": "code",
   "execution_count": 41,
   "metadata": {
    "collapsed": true
   },
   "outputs": [],
   "source": [
    "agg_ops_dict={feature_name:['sum', 'min', 'max', 'mean', 'std'] for feature_name in df_reviews.columns if feature_name!='asin'}\n",
    "agg_ops_dict['unixReviewTime']+=[lambda x:(list(x))]\n",
    "agg_ops_dict['overall']+=[lambda x:(list(x))]\n",
    "agg_ops_dict['sentimentScore']+=[lambda x:(list(x))]\n",
    "agg_ops_dict['wasHelpful']+=[lambda x:(list(x))]\n",
    "agg_ops_dict['helpfulFeedback']+=[lambda x:(list(x))]"
   ]
  },
  {
   "cell_type": "code",
   "execution_count": 42,
   "metadata": {
    "collapsed": true
   },
   "outputs": [],
   "source": [
    "df_products=df_reviews.groupby('asin').agg(agg_ops_dict)"
   ]
  },
  {
   "cell_type": "code",
   "execution_count": 43,
   "metadata": {
    "collapsed": true
   },
   "outputs": [],
   "source": [
    "df_products.columns=[ \"_\".join(name) if name[1]!='<lambda>' else name[0] for name in df_products.columns]"
   ]
  },
  {
   "cell_type": "markdown",
   "metadata": {},
   "source": [
    "### helpful\n",
    "\n",
    "In order to incorporate the helpful score into the product, we create two variables defined below:\n",
    "\n",
    "$$ \\text{helpfulOverall} = \\sum \\text{overall}_i \\cdot \\frac{\\text{wasHelpful}}{\\text{helpfulFeedback}} $$ \n",
    "\n",
    "and \n",
    "\n",
    "$$ \\text{helpfulSentiment} = \\sum \\text{sentiment_score}_i \\cdot \\frac{\\text{wasHelpful}}{\\text{helpfulFeedback}} $$ \n",
    "where the sums run over the $i$ such that helpful$_i$[1]$\\neq 0$.\n",
    "\n",
    "We need a helper function to incorporate these new features."
   ]
  },
  {
   "cell_type": "code",
   "execution_count": 44,
   "metadata": {
    "collapsed": true
   },
   "outputs": [],
   "source": [
    "def helper_helpful(A,B,C):\n",
    "    total=0\n",
    "    for a,b,c in zip(A,B,C):\n",
    "        if c!=0:\n",
    "            total+=a*b/c\n",
    "    return total"
   ]
  },
  {
   "cell_type": "code",
   "execution_count": 45,
   "metadata": {
    "collapsed": true
   },
   "outputs": [],
   "source": [
    "df_products['helpfulOverall']=df_products.apply(lambda row: helper_helpful(row['overall'],row['wasHelpful'],row['helpfulFeedback']),axis=1)\n",
    "df_products['helpfulSentiment']=df_products.apply(lambda row: helper_helpful(row['sentimentScore'],row['wasHelpful'],row['helpfulFeedback']),axis=1)"
   ]
  },
  {
   "cell_type": "markdown",
   "metadata": {},
   "source": [
    "and we can drop the helpful features now."
   ]
  },
  {
   "cell_type": "code",
   "execution_count": 46,
   "metadata": {
    "collapsed": true
   },
   "outputs": [],
   "source": [
    "df_products=df_products.drop(['wasHelpful','helpfulFeedback'],axis=1)"
   ]
  },
  {
   "cell_type": "markdown",
   "metadata": {},
   "source": [
    "The overall and sentimentScore feature are not necessary either. "
   ]
  },
  {
   "cell_type": "code",
   "execution_count": 47,
   "metadata": {
    "collapsed": true
   },
   "outputs": [],
   "source": [
    "df_products=df_products.drop(['overall','sentimentScore'],axis=1)"
   ]
  },
  {
   "cell_type": "markdown",
   "metadata": {},
   "source": [
    "**REMARK:** The reader should note that there is a faster way to compute the last two features, readly starting from the df_reviews dataframe building the individual multiplications and then aggregating. We opted for the (significantly) slower way to make the notebook easier to read."
   ]
  },
  {
   "cell_type": "markdown",
   "metadata": {},
   "source": [
    "### The hotness and density features.\n",
    "\n",
    "We introduce a family of features designed to encode the behavior fo the cumulative function of number of reviews. We need to do some cleaning first.\n",
    "\n",
    "As the unixReviewTime is the number of seconds since 1970, we simplify this so it keeps track of the number of days instead, we create a feature to keep track of the first day and modify the feature to keep track of the days after the first day that the review was created."
   ]
  },
  {
   "cell_type": "code",
   "execution_count": 48,
   "metadata": {
    "collapsed": true
   },
   "outputs": [],
   "source": [
    "df_products['unixReviewTime']=df_products.unixReviewTime.apply(lambda x: np.sort(np.array(x)//3600//24))\n",
    "df_products['firstReviewDay']=df_products.unixReviewTime.apply(lambda x:x[0])\n",
    "df_products['daysSinceFirstReview']=df_products.unixReviewTime.apply(lambda x: x- x[0])"
   ]
  },
  {
   "cell_type": "markdown",
   "metadata": {},
   "source": [
    "The feature unixReviewTime is now irrelevant"
   ]
  },
  {
   "cell_type": "code",
   "execution_count": 49,
   "metadata": {
    "collapsed": true
   },
   "outputs": [],
   "source": [
    "df_products=df_products.drop('unixReviewTime',axis=1)"
   ]
  },
  {
   "cell_type": "markdown",
   "metadata": {},
   "source": [
    "we add a feature called productLife, keeping track of when the last review took place, and another feature for the number of reviews, nunmberReviews."
   ]
  },
  {
   "cell_type": "code",
   "execution_count": 50,
   "metadata": {
    "collapsed": true
   },
   "outputs": [],
   "source": [
    "df_products['productLife']=df_products.daysSinceFirstReview.apply(lambda x:x[-1])\n",
    "df_products['numberReviews']=df_products.daysSinceFirstReview.apply(lambda x: len(x))"
   ]
  },
  {
   "cell_type": "markdown",
   "metadata": {},
   "source": [
    "To illustrate the next feature we are going to create, we graph the number of reviews against the days after the first review, for a sample set of reviews"
   ]
  },
  {
   "cell_type": "code",
   "execution_count": 51,
   "metadata": {
    "collapsed": true
   },
   "outputs": [],
   "source": [
    "def create_cumulative(days):\n",
    "    X=[days[0]]\n",
    "    Y=[0]\n",
    "    current=0\n",
    "    for day in days:\n",
    "        if day==X[-1]:\n",
    "            Y[current]+=1\n",
    "        else:\n",
    "            X.append(day)\n",
    "            Y.append(Y[-1]+1)\n",
    "            current+=1\n",
    "    return X,Y"
   ]
  },
  {
   "cell_type": "code",
   "execution_count": 52,
   "metadata": {},
   "outputs": [
    {
     "data": {
      "text/html": [
       "<div>\n",
       "<table border=\"1\" class=\"dataframe\">\n",
       "  <thead>\n",
       "    <tr style=\"text-align: right;\">\n",
       "      <th></th>\n",
       "      <th>price_std_sum</th>\n",
       "      <th>price_std_min</th>\n",
       "      <th>price_std_max</th>\n",
       "      <th>price_std_mean</th>\n",
       "      <th>price_std_std</th>\n",
       "      <th>unixReviewTime_max_sum</th>\n",
       "      <th>unixReviewTime_max_min</th>\n",
       "      <th>unixReviewTime_max_max</th>\n",
       "      <th>unixReviewTime_max_mean</th>\n",
       "      <th>unixReviewTime_max_std</th>\n",
       "      <th>...</th>\n",
       "      <th>helpfulFeedback_max_min</th>\n",
       "      <th>helpfulFeedback_max_max</th>\n",
       "      <th>helpfulFeedback_max_mean</th>\n",
       "      <th>helpfulFeedback_max_std</th>\n",
       "      <th>helpfulOverall</th>\n",
       "      <th>helpfulSentiment</th>\n",
       "      <th>firstReviewDay</th>\n",
       "      <th>daysSinceFirstReview</th>\n",
       "      <th>productLife</th>\n",
       "      <th>numberReviews</th>\n",
       "    </tr>\n",
       "    <tr>\n",
       "      <th>asin</th>\n",
       "      <th></th>\n",
       "      <th></th>\n",
       "      <th></th>\n",
       "      <th></th>\n",
       "      <th></th>\n",
       "      <th></th>\n",
       "      <th></th>\n",
       "      <th></th>\n",
       "      <th></th>\n",
       "      <th></th>\n",
       "      <th></th>\n",
       "      <th></th>\n",
       "      <th></th>\n",
       "      <th></th>\n",
       "      <th></th>\n",
       "      <th></th>\n",
       "      <th></th>\n",
       "      <th></th>\n",
       "      <th></th>\n",
       "      <th></th>\n",
       "      <th></th>\n",
       "    </tr>\n",
       "  </thead>\n",
       "  <tbody>\n",
       "    <tr>\n",
       "      <th>B00000DMAQ</th>\n",
       "      <td>2784.744595</td>\n",
       "      <td>71.423091</td>\n",
       "      <td>287.340152</td>\n",
       "      <td>163.808506</td>\n",
       "      <td>61.830119</td>\n",
       "      <td>22505212800</td>\n",
       "      <td>1037059200</td>\n",
       "      <td>1404000000</td>\n",
       "      <td>1323836047</td>\n",
       "      <td>1.114979e+08</td>\n",
       "      <td>...</td>\n",
       "      <td>2.0</td>\n",
       "      <td>176.0</td>\n",
       "      <td>39.882353</td>\n",
       "      <td>49.022804</td>\n",
       "      <td>46.500000</td>\n",
       "      <td>45.500000</td>\n",
       "      <td>11301</td>\n",
       "      <td>[0, 891, 1178, 1563, 1694, 1957, 2013, 2036, 2...</td>\n",
       "      <td>4776</td>\n",
       "      <td>17</td>\n",
       "    </tr>\n",
       "    <tr>\n",
       "      <th>B00000DMAR</th>\n",
       "      <td>992.052087</td>\n",
       "      <td>24.066892</td>\n",
       "      <td>198.981100</td>\n",
       "      <td>82.671007</td>\n",
       "      <td>64.103873</td>\n",
       "      <td>14407545600</td>\n",
       "      <td>997401600</td>\n",
       "      <td>1398470400</td>\n",
       "      <td>1200628800</td>\n",
       "      <td>1.641316e+08</td>\n",
       "      <td>...</td>\n",
       "      <td>2.0</td>\n",
       "      <td>176.0</td>\n",
       "      <td>24.416667</td>\n",
       "      <td>48.718968</td>\n",
       "      <td>23.666667</td>\n",
       "      <td>26.166667</td>\n",
       "      <td>11251</td>\n",
       "      <td>[0, 272, 547, 610, 635, 984, 1292, 2130, 2831,...</td>\n",
       "      <td>4895</td>\n",
       "      <td>12</td>\n",
       "    </tr>\n",
       "    <tr>\n",
       "      <th>B00000DMAT</th>\n",
       "      <td>4901.391562</td>\n",
       "      <td>54.113508</td>\n",
       "      <td>263.167987</td>\n",
       "      <td>128.983988</td>\n",
       "      <td>62.823680</td>\n",
       "      <td>47308060800</td>\n",
       "      <td>1017532800</td>\n",
       "      <td>1405728000</td>\n",
       "      <td>1244948968</td>\n",
       "      <td>1.509042e+08</td>\n",
       "      <td>...</td>\n",
       "      <td>2.0</td>\n",
       "      <td>196.0</td>\n",
       "      <td>41.736842</td>\n",
       "      <td>48.996792</td>\n",
       "      <td>95.416667</td>\n",
       "      <td>96.916667</td>\n",
       "      <td>11493</td>\n",
       "      <td>[0, 142, 239, 294, 393, 403, 413, 454, 497, 52...</td>\n",
       "      <td>4757</td>\n",
       "      <td>38</td>\n",
       "    </tr>\n",
       "    <tr>\n",
       "      <th>B00000DMAX</th>\n",
       "      <td>4950.009983</td>\n",
       "      <td>89.917814</td>\n",
       "      <td>240.275908</td>\n",
       "      <td>176.786071</td>\n",
       "      <td>35.712123</td>\n",
       "      <td>35334316800</td>\n",
       "      <td>997401600</td>\n",
       "      <td>1404000000</td>\n",
       "      <td>1261939885</td>\n",
       "      <td>1.492036e+08</td>\n",
       "      <td>...</td>\n",
       "      <td>0.0</td>\n",
       "      <td>480.0</td>\n",
       "      <td>56.500000</td>\n",
       "      <td>104.134351</td>\n",
       "      <td>62.044444</td>\n",
       "      <td>64.044444</td>\n",
       "      <td>11289</td>\n",
       "      <td>[0, 234, 268, 529, 694, 986, 1087, 1212, 1215,...</td>\n",
       "      <td>4819</td>\n",
       "      <td>28</td>\n",
       "    </tr>\n",
       "    <tr>\n",
       "      <th>B00000DMB2</th>\n",
       "      <td>1320.197839</td>\n",
       "      <td>66.949022</td>\n",
       "      <td>240.275908</td>\n",
       "      <td>132.019784</td>\n",
       "      <td>58.164486</td>\n",
       "      <td>12761107200</td>\n",
       "      <td>1103068800</td>\n",
       "      <td>1403654400</td>\n",
       "      <td>1276110720</td>\n",
       "      <td>1.417895e+08</td>\n",
       "      <td>...</td>\n",
       "      <td>1.0</td>\n",
       "      <td>246.0</td>\n",
       "      <td>54.400000</td>\n",
       "      <td>72.111334</td>\n",
       "      <td>14.000000</td>\n",
       "      <td>14.000000</td>\n",
       "      <td>11645</td>\n",
       "      <td>[0, 5, 297, 1124, 1216, 1522, 3420, 3922, 3994...</td>\n",
       "      <td>4195</td>\n",
       "      <td>10</td>\n",
       "    </tr>\n",
       "  </tbody>\n",
       "</table>\n",
       "<p>5 rows × 151 columns</p>\n",
       "</div>"
      ],
      "text/plain": [
       "            price_std_sum  price_std_min  price_std_max  price_std_mean  \\\n",
       "asin                                                                      \n",
       "B00000DMAQ    2784.744595      71.423091     287.340152      163.808506   \n",
       "B00000DMAR     992.052087      24.066892     198.981100       82.671007   \n",
       "B00000DMAT    4901.391562      54.113508     263.167987      128.983988   \n",
       "B00000DMAX    4950.009983      89.917814     240.275908      176.786071   \n",
       "B00000DMB2    1320.197839      66.949022     240.275908      132.019784   \n",
       "\n",
       "            price_std_std  unixReviewTime_max_sum  unixReviewTime_max_min  \\\n",
       "asin                                                                        \n",
       "B00000DMAQ      61.830119             22505212800              1037059200   \n",
       "B00000DMAR      64.103873             14407545600               997401600   \n",
       "B00000DMAT      62.823680             47308060800              1017532800   \n",
       "B00000DMAX      35.712123             35334316800               997401600   \n",
       "B00000DMB2      58.164486             12761107200              1103068800   \n",
       "\n",
       "            unixReviewTime_max_max  unixReviewTime_max_mean  \\\n",
       "asin                                                          \n",
       "B00000DMAQ              1404000000               1323836047   \n",
       "B00000DMAR              1398470400               1200628800   \n",
       "B00000DMAT              1405728000               1244948968   \n",
       "B00000DMAX              1404000000               1261939885   \n",
       "B00000DMB2              1403654400               1276110720   \n",
       "\n",
       "            unixReviewTime_max_std      ...        helpfulFeedback_max_min  \\\n",
       "asin                                    ...                                  \n",
       "B00000DMAQ            1.114979e+08      ...                            2.0   \n",
       "B00000DMAR            1.641316e+08      ...                            2.0   \n",
       "B00000DMAT            1.509042e+08      ...                            2.0   \n",
       "B00000DMAX            1.492036e+08      ...                            0.0   \n",
       "B00000DMB2            1.417895e+08      ...                            1.0   \n",
       "\n",
       "            helpfulFeedback_max_max  helpfulFeedback_max_mean  \\\n",
       "asin                                                            \n",
       "B00000DMAQ                    176.0                 39.882353   \n",
       "B00000DMAR                    176.0                 24.416667   \n",
       "B00000DMAT                    196.0                 41.736842   \n",
       "B00000DMAX                    480.0                 56.500000   \n",
       "B00000DMB2                    246.0                 54.400000   \n",
       "\n",
       "            helpfulFeedback_max_std  helpfulOverall  helpfulSentiment  \\\n",
       "asin                                                                    \n",
       "B00000DMAQ                49.022804       46.500000         45.500000   \n",
       "B00000DMAR                48.718968       23.666667         26.166667   \n",
       "B00000DMAT                48.996792       95.416667         96.916667   \n",
       "B00000DMAX               104.134351       62.044444         64.044444   \n",
       "B00000DMB2                72.111334       14.000000         14.000000   \n",
       "\n",
       "            firstReviewDay                               daysSinceFirstReview  \\\n",
       "asin                                                                            \n",
       "B00000DMAQ           11301  [0, 891, 1178, 1563, 1694, 1957, 2013, 2036, 2...   \n",
       "B00000DMAR           11251  [0, 272, 547, 610, 635, 984, 1292, 2130, 2831,...   \n",
       "B00000DMAT           11493  [0, 142, 239, 294, 393, 403, 413, 454, 497, 52...   \n",
       "B00000DMAX           11289  [0, 234, 268, 529, 694, 986, 1087, 1212, 1215,...   \n",
       "B00000DMB2           11645  [0, 5, 297, 1124, 1216, 1522, 3420, 3922, 3994...   \n",
       "\n",
       "            productLife  numberReviews  \n",
       "asin                                    \n",
       "B00000DMAQ         4776             17  \n",
       "B00000DMAR         4895             12  \n",
       "B00000DMAT         4757             38  \n",
       "B00000DMAX         4819             28  \n",
       "B00000DMB2         4195             10  \n",
       "\n",
       "[5 rows x 151 columns]"
      ]
     },
     "execution_count": 52,
     "metadata": {},
     "output_type": "execute_result"
    }
   ],
   "source": [
    "df_products.head()"
   ]
  },
  {
   "cell_type": "code",
   "execution_count": 53,
   "metadata": {},
   "outputs": [
    {
     "data": {
      "image/png": "[encoded data removed]",
      "text/plain": [
       "<matplotlib.figure.Figure at 0x7fc058e9f400>"
      ]
     },
     "metadata": {},
     "output_type": "display_data"
    }
   ],
   "source": [
    "sample=df_products.merge(df_meta, left_index=True,right_on='asin').sample(6)\n",
    "fig=plt.figure(figsize=(12,8))\n",
    "for days,rank in zip(sample.daysSinceFirstReview,sample.salesRank):\n",
    "    \n",
    "    X,Y=create_cumulative(days)\n",
    "    plt.plot(X, Y,'o',label=\"SalesRank %d\"%rank)\n",
    "    plt.legend(loc='best')\n",
    "\n",
    "plt.xlabel(\"Days after first review\")\n",
    "plt.ylabel(\"Number of reviews\")\n",
    "plt.show()"
   ]
  },
  {
   "cell_type": "markdown",
   "metadata": {},
   "source": [
    "Let's make the following assumption:\n",
    "\n",
    "**Assumption: The \"better\" a product is, the more reviews it would have when measure over periods of time**\n",
    "\n",
    "In order to make this concrete, we can create a new invariant, we define \n",
    "\n",
    "**hotness** = area under the staircase formed by the curve in the interval where it is defined.\n",
    "\n",
    "Similarly we encode information of the product by its density, which relies on the assumption\n",
    "\n",
    "**Assumption: The change on reviews per day is an indicative of the performance of the product. **\n",
    "\n",
    "**density**= slope formed beteen the first point and a future point."
   ]
  },
  {
   "cell_type": "code",
   "execution_count": 54,
   "metadata": {
    "collapsed": true
   },
   "outputs": [],
   "source": [
    "def compute_hotness(days):\n",
    "    X,Y=create_cumulative(days)\n",
    "    area_list=[0]\n",
    "    area=0\n",
    "    for i in range(1,len(X)):\n",
    "        area+=(X[i]-X[i-1])*Y[i-1]\n",
    "        area_list.append(area)\n",
    "    area+=Y[-1]\n",
    "    area_list.append(area)\n",
    "    \n",
    "    area_list = np.array(area_list)\n",
    "    return area_list.max(),area_list.mean(),area_list.std()"
   ]
  },
  {
   "cell_type": "markdown",
   "metadata": {},
   "source": [
    "Let's add this feature, for every day that has a a value."
   ]
  },
  {
   "cell_type": "code",
   "execution_count": 55,
   "metadata": {
    "collapsed": true
   },
   "outputs": [],
   "source": [
    "df_products[['hotness_max','hotness_mean','hotness_std']] = pd.DataFrame(df_products.daysSinceFirstReview.apply(lambda x:compute_hotness(x)).values.tolist(),index=df_products.index)"
   ]
  },
  {
   "cell_type": "markdown",
   "metadata": {},
   "source": [
    "We play the same game with density"
   ]
  },
  {
   "cell_type": "code",
   "execution_count": 56,
   "metadata": {
    "collapsed": true
   },
   "outputs": [],
   "source": [
    "def compute_density(days):\n",
    "    X,Y=create_cumulative(days)\n",
    "    slope_list=[Y[i]/X[i] for i in range(len(X)) if X[i]!=0 ]\n",
    "    if len(slope_list)==0:\n",
    "        return 0,0,0,0\n",
    "    \n",
    "    slope_list = np.array(slope_list)\n",
    "    \n",
    "    return slope_list.min(),slope_list.max(),slope_list.mean(),slope_list.std()"
   ]
  },
  {
   "cell_type": "code",
   "execution_count": 57,
   "metadata": {
    "collapsed": true
   },
   "outputs": [],
   "source": [
    "df_products[['density_min','density_max','density_mean','density_std']] = pd.DataFrame(df_products.daysSinceFirstReview.apply(lambda x:compute_density(x)).values.tolist(),index=df_products.index)"
   ]
  },
  {
   "cell_type": "markdown",
   "metadata": {},
   "source": [
    "This concludes our feature creation, our next step is to set up the data for training."
   ]
  },
  {
   "cell_type": "markdown",
   "metadata": {},
   "source": [
    "## Counting questions"
   ]
  },
  {
   "cell_type": "code",
   "execution_count": 58,
   "metadata": {
    "collapsed": true
   },
   "outputs": [],
   "source": [
    "df_qa_agg = df_qa.groupby('asin').agg({\n",
    "                              'asin':['count'], \n",
    "                              'unixTime':['min','max'],\n",
    "                              'Y_answer': ['sum'],\n",
    "                              'N_answer': ['sum'],\n",
    "                              '?_answer': ['sum']\n",
    "                             })"
   ]
  },
  {
   "cell_type": "code",
   "execution_count": 59,
   "metadata": {
    "collapsed": true
   },
   "outputs": [],
   "source": [
    "df_qa_agg.columns=['y_answer_sum','qa_unixTime_min','qa_unixTime_max','?_answer','qa_count','N_answer']"
   ]
  },
  {
   "cell_type": "markdown",
   "metadata": {},
   "source": [
    "# Creating the X and y's\n",
    "\n",
    "We want to create a dataset containing the features our models will use. We start by merging our meta_data to the products."
   ]
  },
  {
   "cell_type": "code",
   "execution_count": 60,
   "metadata": {
    "collapsed": true
   },
   "outputs": [],
   "source": [
    "Xy_df=df_products.merge(df_meta, left_index=True,right_on='asin')\n",
    "Xy_df=Xy_df.merge(df_qa_agg,how='outer',left_on='asin',right_index=True).fillna(0)"
   ]
  },
  {
   "cell_type": "markdown",
   "metadata": {},
   "source": [
    "Let's take a look at the distribution of the salesRank data"
   ]
  },
  {
   "cell_type": "code",
   "execution_count": 61,
   "metadata": {
    "collapsed": true
   },
   "outputs": [],
   "source": [
    "#sns.distplot(Xy_df.salesRank, bins=20, kde=False, rug=True);"
   ]
  },
  {
   "cell_type": "markdown",
   "metadata": {},
   "source": [
    "we could also check on this, by using the pandas method describe()."
   ]
  },
  {
   "cell_type": "code",
   "execution_count": 62,
   "metadata": {},
   "outputs": [
    {
     "data": {
      "text/plain": [
       "count     2989.000000\n",
       "mean      3855.955504\n",
       "std       5785.066624\n",
       "min          0.000000\n",
       "25%          0.000000\n",
       "50%       1686.000000\n",
       "75%       5097.000000\n",
       "max      49154.000000\n",
       "Name: salesRank, dtype: float64"
      ]
     },
     "execution_count": 62,
     "metadata": {},
     "output_type": "execute_result"
    }
   ],
   "source": [
    "Xy_df.salesRank.describe()"
   ]
  },
  {
   "cell_type": "markdown",
   "metadata": {},
   "source": [
    "This is, there is more data of lower ranks than of higer ranks, to deal with this will create bins each containing the same amount of data points. We need an auxiliary function."
   ]
  },
  {
   "cell_type": "code",
   "execution_count": 63,
   "metadata": {
    "collapsed": true
   },
   "outputs": [],
   "source": [
    "salesRanks=np.sort(Xy_df.salesRank.as_matrix())\n",
    "len_salesRank,=np.sort(Xy_df.salesRank.as_matrix()).shape\n",
    "def find_breakpoints(nb_bins):\n",
    "    step=len_salesRank//nb_bins\n",
    "    return [salesRanks[i] for i in range(step-1,len_salesRank,step)]"
   ]
  },
  {
   "cell_type": "markdown",
   "metadata": {},
   "source": [
    "and so we add many possible outcomes for the number of bins, we need an auxiliary function first."
   ]
  },
  {
   "cell_type": "code",
   "execution_count": 64,
   "metadata": {
    "collapsed": true
   },
   "outputs": [],
   "source": [
    "def binning(breakpoints,a):\n",
    "    i=0\n",
    "    while i< len(breakpoints):\n",
    "        if a>breakpoints[i]:\n",
    "            i+=1\n",
    "        else:\n",
    "            return str(i+1)+\"_out_of_\"+str(len(breakpoints))\n",
    "    return str(i+1)+\"_out_of_\"+str(len(breakpoints))"
   ]
  },
  {
   "cell_type": "markdown",
   "metadata": {},
   "source": [
    "We now add the different bins, we go from 2 to 10."
   ]
  },
  {
   "cell_type": "code",
   "execution_count": 65,
   "metadata": {
    "collapsed": true
   },
   "outputs": [],
   "source": [
    "for i in range(2,11):\n",
    "    breakpoints=find_breakpoints(i)\n",
    "    Xy_df['salesRank_Category_of_'+str(i)]=Xy_df.salesRank.apply(lambda x: binning(breakpoints,x))"
   ]
  },
  {
   "cell_type": "markdown",
   "metadata": {},
   "source": [
    "we also create a relative rank"
   ]
  },
  {
   "cell_type": "markdown",
   "metadata": {},
   "source": [
    "as all our desired data is here, we save this dataframe."
   ]
  },
  {
   "cell_type": "code",
   "execution_count": 66,
   "metadata": {
    "collapsed": true
   },
   "outputs": [],
   "source": [
    "pickle.dump(Xy_df, open('./Xy_df_videoGames_10', 'wb'))"
   ]
  },
  {
   "cell_type": "markdown",
   "metadata": {},
   "source": [
    "and we load it back"
   ]
  },
  {
   "cell_type": "code",
   "execution_count": 67,
   "metadata": {
    "collapsed": true
   },
   "outputs": [],
   "source": [
    "Xy_df=pickle.load(open('./Xy_df_videoGames_10', 'rb'))"
   ]
  },
  {
   "cell_type": "code",
   "execution_count": 68,
   "metadata": {
    "collapsed": true
   },
   "outputs": [],
   "source": [
    "Xy_df= Xy_df.drop(['daysSinceFirstReview'],axis=1)"
   ]
  },
  {
   "cell_type": "markdown",
   "metadata": {},
   "source": [
    "We select the columns of features and the column of predictions"
   ]
  },
  {
   "cell_type": "code",
   "execution_count": 69,
   "metadata": {
    "collapsed": true
   },
   "outputs": [],
   "source": [
    "y_cats={}\n",
    "for i in range(2,11):\n",
    "    y_cats[i]=Xy_df['salesRank_Category_of_'+str(i)].as_matrix()\n",
    "    \n",
    "X_df=Xy_df.drop(['salesRank','asin']+['salesRank_Category_of_'+str(i) for i in range(2,11)],axis=1)\n",
    "X=X_df.as_matrix()"
   ]
  },
  {
   "cell_type": "markdown",
   "metadata": {},
   "source": [
    "now that we have the data we first separate it into train, validation, and test sets."
   ]
  },
  {
   "cell_type": "code",
   "execution_count": 70,
   "metadata": {
    "collapsed": true
   },
   "outputs": [],
   "source": [
    "def train_test_val_split(X,y):\n",
    "    X_train, X_test, y_train, y_test = train_test_split(X, y, test_size=0.1, random_state=13)\n",
    "    X_train, X_val, y_train, y_val = train_test_split(X_train, y_train, test_size=0.2/0.9, random_state=13)\n",
    "    return X_train,X_val,X_test,y_train,y_val,y_test"
   ]
  },
  {
   "cell_type": "markdown",
   "metadata": {
    "collapsed": true
   },
   "source": [
    "# Some models \n",
    "\n",
    "We create the models now\n",
    "\n",
    "### Random Forest"
   ]
  },
  {
   "cell_type": "code",
   "execution_count": 71,
   "metadata": {
    "collapsed": true
   },
   "outputs": [],
   "source": [
    "from sklearn.ensemble import RandomForestClassifier"
   ]
  },
  {
   "cell_type": "code",
   "execution_count": 72,
   "metadata": {},
   "outputs": [
    {
     "name": "stdout",
     "output_type": "stream",
     "text": [
      "Training for 10 bins\r"
     ]
    }
   ],
   "source": [
    "scores_RandomForest=[]\n",
    "for i in range(2,11):\n",
    "    print('Training for %d bins'%i,end='\\r')\n",
    "    X_train,X_val,X_test,y_train,y_val,y_test = train_test_val_split(X,y_cats[i])\n",
    "    \n",
    "    RandomForestModel = RandomForestClassifier(20)\n",
    "    RandomForestModel.fit(X_train,y_train)\n",
    "    scores_RandomForest.append(RandomForestModel.score(X_val,y_val))\n",
    "    \n",
    "    pickle.dump(RandomForestModel, open('./videoGames_RF_'+str(i), 'wb'))"
   ]
  },
  {
   "cell_type": "code",
   "execution_count": 73,
   "metadata": {},
   "outputs": [
    {
     "data": {
      "image/png": "[encoded data removed]",
      "text/plain": [
       "<matplotlib.figure.Figure at 0x7fc055363b70>"
      ]
     },
     "metadata": {},
     "output_type": "display_data"
    }
   ],
   "source": [
    "ax=plt.figure(figsize=(8,8))\n",
    "plt.plot(list(range(2,11)),scores_RandomForest,'o')\n",
    "plt.savefig(\"./RandomForestAccuracy_video_games_10.png\")\n",
    "plt.show()"
   ]
  },
  {
   "cell_type": "code",
   "execution_count": null,
   "metadata": {
    "collapsed": true
   },
   "outputs": [],
   "source": [
    "#RandomForestModel = RandomForestRegressor()\n",
    "#RandomForestModel.fit(X_train,y_train)\n",
    "#X_df.columns[RandomForestModel.feature_importances_.argsort()[-30:][::-1]]\n",
    "#RandomForestModel.score(X_val,y_val)\n",
    "#np.sqrt(mean_squared_error(y_val,RandomForestModel.predict(X_val)))"
   ]
  },
  {
   "cell_type": "markdown",
   "metadata": {},
   "source": [
    "### Xgboost"
   ]
  },
  {
   "cell_type": "code",
   "execution_count": null,
   "metadata": {
    "collapsed": true
   },
   "outputs": [],
   "source": []
  },
  {
   "cell_type": "code",
   "execution_count": 74,
   "metadata": {},
   "outputs": [
    {
     "name": "stdout",
     "output_type": "stream",
     "text": [
      "Training for 10 bins\r"
     ]
    }
   ],
   "source": [
    "scores_XGB=[]\n",
    "for i in range(2,11):\n",
    "    print('Training for %d bins'%i,end='\\r')\n",
    "    X_train,X_val,X_test,y_train,y_val,y_test = train_test_val_split(X,y_cats[i])\n",
    "    xgbModel = XGBClassifier()\n",
    "    xgbModel.get_xgb_params()['num_class']=i\n",
    "    xgbModel.get_xgb_params()['objective']=\"multi:softmax\"\n",
    "    xgbModel.fit(X_train,y_train,)\n",
    "    scores_XGB.append(accuracy_score(y_val,xgbModel.predict(X_val)))\n",
    "    \n",
    "    pickle.dump(xgbModel, open('./videoGames_XGB_'+str(i), 'wb'))"
   ]
  },
  {
   "cell_type": "code",
   "execution_count": 75,
   "metadata": {},
   "outputs": [
    {
     "data": {
      "image/png": "[encoded data removed]",
      "text/plain": [
       "<matplotlib.figure.Figure at 0x7fc057de3b70>"
      ]
     },
     "metadata": {},
     "output_type": "display_data"
    }
   ],
   "source": [
    "ax=plt.figure(figsize=(8,8))\n",
    "plt.plot(list(range(2,11)),scores_XGB,'o')\n",
    "plt.savefig(\"./XGBAccuracy.png\")\n",
    "plt.show()"
   ]
  },
  {
   "cell_type": "code",
   "execution_count": null,
   "metadata": {
    "collapsed": true
   },
   "outputs": [],
   "source": [
    "scores_XGB"
   ]
  },
  {
   "cell_type": "code",
   "execution_count": null,
   "metadata": {
    "collapsed": true
   },
   "outputs": [],
   "source": []
  },
  {
   "cell_type": "code",
   "execution_count": 184,
   "metadata": {
    "collapsed": true
   },
   "outputs": [],
   "source": [
    "#X_train,X_val,X_test,y_train,y_val,y_test = train_test_val_split(X,y)\n",
    "#modelX=xgb.XGBRegressor()\n",
    "#modelX.fit(X_train,y_train,eval_metric='mae')\n",
    "#print(r2_score(y_val,modelX.predict(X_val)))\n",
    "#np.sqrt(mean_squared_error(y_val,modelX.predict(X_val)))"
   ]
  },
  {
   "cell_type": "code",
   "execution_count": 185,
   "metadata": {
    "collapsed": true
   },
   "outputs": [],
   "source": [
    "#modelX=xgb.XGBRegressor(max_depth=10,n_estimators=300)\n",
    "#modelX.fit(X_train,y_train)\n",
    "#print(r2_score(y_val,modelX.predict(X_val)))\n",
    "#np.sqrt(mean_squared_error(y_val,modelX.predict(X_val)))"
   ]
  },
  {
   "cell_type": "code",
   "execution_count": null,
   "metadata": {
    "collapsed": true
   },
   "outputs": [],
   "source": []
  }
 ],
 "metadata": {
  "anaconda-cloud": {},
  "kernelspec": {
   "display_name": "Python [default]",
   "language": "python",
   "name": "python3"
  },
  "language_info": {
   "codemirror_mode": {
    "name": "ipython",
    "version": 3
   },
   "file_extension": ".py",
   "mimetype": "text/x-python",
   "name": "python",
   "nbconvert_exporter": "python",
   "pygments_lexer": "ipython3",
   "version": "3.5.2"
  }
 },
 "nbformat": 4,
 "nbformat_minor": 2
}
