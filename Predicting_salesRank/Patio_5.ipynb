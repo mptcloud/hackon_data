{
 "cells": [
  {
   "cell_type": "markdown",
   "metadata": {},
   "source": [
    "# HackOn(Data)\n",
    "## Competition Challenge\n",
    "\n",
    "Welcome to our project. We have decided to do a simple Forecasting on the salesRank, more precesilly, \n",
    "\n",
    "** The problem:** Predict salesRank given the reviews information. \n",
    "\n",
    "** Hypothesis:** The reviews are an indicative of how well a product is selling and contain enough information for a forecast.\n",
    "\n",
    "** Assumptions:** \n",
    "\n",
    "- We ommit that the data is seasonal.\n",
    "- By product we mean the combination of product and vendors, that is represented by the asin.\n",
    "- What else?\n",
    "\n",
    "** NOTE: ** This notebook is intended to show the overall ideas and, in order to make it easier to read, we have sacrificed speed. The reader should go to the production file in order to find a faster version of what is discuss here.\n",
    "\n",
    "This note is organized as follows:\n",
    "\n",
    "- **Part 0**: Just the imports, that is the tools we will be using.\n",
    "- **Part 1**: Cleaning and Preparing the Data. \n",
    "- **Part 2**: Feature Engineering.\n",
    "- **Part 3**: Model Building.\n",
    "- **Part 4**: Evaluating the results.\n",
    "- **Part 5**: Scalability."
   ]
  },
  {
   "cell_type": "markdown",
   "metadata": {},
   "source": [
    "# Part 0 - Loading the tools\n",
    "\n",
    "We load the tools we will be using during this project."
   ]
  },
  {
   "cell_type": "code",
   "execution_count": 1,
   "metadata": {},
   "outputs": [
    {
     "name": "stderr",
     "output_type": "stream",
     "text": [
      "/home/felipe/anaconda3/lib/python3.5/site-packages/sklearn/cross_validation.py:41: DeprecationWarning: This module was deprecated in version 0.18 in favor of the model_selection module into which all the refactored classes and functions are moved. Also note that the interface of the new CV iterators are different from that of this module. This module will be removed in 0.20.\n",
      "  \"This module will be removed in 0.20.\", DeprecationWarning)\n"
     ]
    }
   ],
   "source": [
    "import pandas as pd\n",
    "import numpy as np\n",
    "import fasttext\n",
    "import gzip\n",
    "import matplotlib.pyplot as plt\n",
    "import xgboost as xgb\n",
    "import lightgbm as lgb\n",
    "import seaborn as sns\n",
    "import pickle\n",
    "\n",
    "from collections import Counter\n",
    "\n",
    "from sklearn.preprocessing import MultiLabelBinarizer #To be used with the categories feature\n",
    "from sklearn.model_selection import train_test_split, GridSearchCV\n",
    "from sklearn.ensemble import RandomForestRegressor, RandomForestClassifier\n",
    "from sklearn.metrics import r2_score,mean_squared_error\n",
    "\n",
    "from xgboost import XGBClassifier\n",
    "from sklearn.metrics import accuracy_score\n",
    "\n",
    "%matplotlib inline  "
   ]
  },
  {
   "cell_type": "markdown",
   "metadata": {},
   "source": [
    "and we set some global variables"
   ]
  },
  {
   "cell_type": "code",
   "execution_count": 2,
   "metadata": {
    "collapsed": true
   },
   "outputs": [],
   "source": [
    "RELEVANT_KEY='Patio, Lawn & Garden'"
   ]
  },
  {
   "cell_type": "markdown",
   "metadata": {},
   "source": [
    "# Part 1- Cleaning and preparing The Data\n",
    "\n",
    "In this section we load the data, clean it, and prepare it for feature building. The data consists on\n",
    "\n",
    "### **Review Data**\n",
    "\n",
    "This dataset contains product reviews and metadata from Amazon, including 142.8 million reviews spanning May 1996 - July 2014.\n",
    "\n",
    "This dataset includes reviews (ratings, text, helpfulness votes), product metadata (descriptions, category information, price, brand, and image features), and links (also viewed/also bought graphs).\n",
    "\n",
    "### **Q&A Data**\n",
    "\n",
    "This dataset contains Questions and Answers data from Amazon, totaling around 1.4 million answered questions.\n",
    "\n",
    "This dataset can be combined with Amazon product review data, by matching ASINs in the Q/A dataset with ASINs in the review data. The review data also includes product metadata (product titles etc.).\n",
    "\n",
    "### **Credits:**\n",
    "\n",
    "-  **R. He, J. McAuley**. Modeling the visual evolution of fashion trends with one-class collaborative filtering. WWW, 2016 J. \n",
    "- ** McAuley, C. Targett, J. Shi, A. van den Hengel **. A Image-based recommendations on styles and substitutes. SIGIR, 2015\n",
    "\n",
    "\n",
    "We start with the scripts provided at [Julian McAuley's website](http://jmcauley.ucsd.edu/data/amazon/)."
   ]
  },
  {
   "cell_type": "code",
   "execution_count": 3,
   "metadata": {
    "collapsed": true
   },
   "outputs": [],
   "source": [
    "def parse(path):\n",
    "    g = gzip.open(path, 'rb')\n",
    "    for l in g:\n",
    "        yield eval(l)\n",
    "\n",
    "def getDF(path):\n",
    "    i = 0\n",
    "    df = {}\n",
    "    for d in parse(path):\n",
    "        df[i] = d\n",
    "        i += 1\n",
    "    return pd.DataFrame.from_dict(df, orient='index')"
   ]
  },
  {
   "cell_type": "markdown",
   "metadata": {},
   "source": [
    "and use these methods to load the data"
   ]
  },
  {
   "cell_type": "code",
   "execution_count": 4,
   "metadata": {
    "collapsed": true
   },
   "outputs": [],
   "source": [
    "df_reviews = getDF('./data/reviews_Patio_Lawn_and_Garden_5.json.gz')\n",
    "df_meta=getDF('./data/meta_Patio_Lawn_and_Garden.json.gz')\n",
    "df_qa=getDF('./data/qa_Patio_Lawn_and_Garden.json.gz')"
   ]
  },
  {
   "cell_type": "markdown",
   "metadata": {},
   "source": [
    "We now study the different features."
   ]
  },
  {
   "cell_type": "code",
   "execution_count": 5,
   "metadata": {},
   "outputs": [
    {
     "data": {
      "text/html": [
       "<div>\n",
       "<table border=\"1\" class=\"dataframe\">\n",
       "  <thead>\n",
       "    <tr style=\"text-align: right;\">\n",
       "      <th></th>\n",
       "      <th>reviewerID</th>\n",
       "      <th>unixReviewTime</th>\n",
       "      <th>helpful</th>\n",
       "      <th>reviewText</th>\n",
       "      <th>summary</th>\n",
       "      <th>asin</th>\n",
       "      <th>overall</th>\n",
       "      <th>reviewerName</th>\n",
       "      <th>reviewTime</th>\n",
       "    </tr>\n",
       "  </thead>\n",
       "  <tbody>\n",
       "    <tr>\n",
       "      <th>0</th>\n",
       "      <td>A1JZFGZEZVWQPY</td>\n",
       "      <td>1308614400</td>\n",
       "      <td>[4, 4]</td>\n",
       "      <td>Good USA company that stands behind their prod...</td>\n",
       "      <td>Great Hoses</td>\n",
       "      <td>B00002N674</td>\n",
       "      <td>4.0</td>\n",
       "      <td>Carter H \"1amazonreviewer@gmail . com\"</td>\n",
       "      <td>06 21, 2011</td>\n",
       "    </tr>\n",
       "    <tr>\n",
       "      <th>1</th>\n",
       "      <td>A32JCI4AK2JTTG</td>\n",
       "      <td>1402272000</td>\n",
       "      <td>[0, 0]</td>\n",
       "      <td>This is a high quality 8 ply hose. I have had ...</td>\n",
       "      <td>Gilmour 10-58050 8-ply Flexogen Hose 5/8-Inch ...</td>\n",
       "      <td>B00002N674</td>\n",
       "      <td>5.0</td>\n",
       "      <td>Darryl Bennett \"Fuzzy342\"</td>\n",
       "      <td>06 9, 2014</td>\n",
       "    </tr>\n",
       "    <tr>\n",
       "      <th>2</th>\n",
       "      <td>A3N0P5AAMP6XD2</td>\n",
       "      <td>1336176000</td>\n",
       "      <td>[2, 3]</td>\n",
       "      <td>It's probably one of the best hoses I've ever ...</td>\n",
       "      <td>Very satisfied!</td>\n",
       "      <td>B00002N674</td>\n",
       "      <td>4.0</td>\n",
       "      <td>H B</td>\n",
       "      <td>05 5, 2012</td>\n",
       "    </tr>\n",
       "    <tr>\n",
       "      <th>3</th>\n",
       "      <td>A2QK7UNJ857YG</td>\n",
       "      <td>1373846400</td>\n",
       "      <td>[0, 0]</td>\n",
       "      <td>I probably should have bought something a bit ...</td>\n",
       "      <td>Very high quality</td>\n",
       "      <td>B00002N674</td>\n",
       "      <td>5.0</td>\n",
       "      <td>Jason</td>\n",
       "      <td>07 15, 2013</td>\n",
       "    </tr>\n",
       "    <tr>\n",
       "      <th>4</th>\n",
       "      <td>AS0CYBAN6EM06</td>\n",
       "      <td>1375660800</td>\n",
       "      <td>[1, 1]</td>\n",
       "      <td>I bought three of these 5/8-inch Flexogen hose...</td>\n",
       "      <td>Good Hoses</td>\n",
       "      <td>B00002N674</td>\n",
       "      <td>5.0</td>\n",
       "      <td>jimmy</td>\n",
       "      <td>08 5, 2013</td>\n",
       "    </tr>\n",
       "  </tbody>\n",
       "</table>\n",
       "</div>"
      ],
      "text/plain": [
       "       reviewerID  unixReviewTime helpful  \\\n",
       "0  A1JZFGZEZVWQPY      1308614400  [4, 4]   \n",
       "1  A32JCI4AK2JTTG      1402272000  [0, 0]   \n",
       "2  A3N0P5AAMP6XD2      1336176000  [2, 3]   \n",
       "3   A2QK7UNJ857YG      1373846400  [0, 0]   \n",
       "4   AS0CYBAN6EM06      1375660800  [1, 1]   \n",
       "\n",
       "                                          reviewText  \\\n",
       "0  Good USA company that stands behind their prod...   \n",
       "1  This is a high quality 8 ply hose. I have had ...   \n",
       "2  It's probably one of the best hoses I've ever ...   \n",
       "3  I probably should have bought something a bit ...   \n",
       "4  I bought three of these 5/8-inch Flexogen hose...   \n",
       "\n",
       "                                             summary        asin  overall  \\\n",
       "0                                        Great Hoses  B00002N674      4.0   \n",
       "1  Gilmour 10-58050 8-ply Flexogen Hose 5/8-Inch ...  B00002N674      5.0   \n",
       "2                                    Very satisfied!  B00002N674      4.0   \n",
       "3                                  Very high quality  B00002N674      5.0   \n",
       "4                                         Good Hoses  B00002N674      5.0   \n",
       "\n",
       "                             reviewerName   reviewTime  \n",
       "0  Carter H \"1amazonreviewer@gmail . com\"  06 21, 2011  \n",
       "1               Darryl Bennett \"Fuzzy342\"   06 9, 2014  \n",
       "2                                     H B   05 5, 2012  \n",
       "3                                   Jason  07 15, 2013  \n",
       "4                                   jimmy   08 5, 2013  "
      ]
     },
     "execution_count": 5,
     "metadata": {},
     "output_type": "execute_result"
    }
   ],
   "source": [
    "df_reviews.head()"
   ]
  },
  {
   "cell_type": "markdown",
   "metadata": {},
   "source": [
    "\n",
    "## Features from the meta file\n",
    "\n",
    "### SalesRank\n",
    "\n",
    "Note that the dataframe that contains the salesRank is df_meta. In this data there are two possible cases where the values described are not helpful. The first one is a NaN value, and we can use is null method to deal with this, the second one is the case of a dictionary no containing the relevant key. We use a helper function to help us with this."
   ]
  },
  {
   "cell_type": "code",
   "execution_count": 6,
   "metadata": {
    "collapsed": true
   },
   "outputs": [],
   "source": [
    "def helper(dictionary):\n",
    "    try:\n",
    "        return dictionary[RELEVANT_KEY]\n",
    "    except:\n",
    "        return float('NaN')"
   ]
  },
  {
   "cell_type": "code",
   "execution_count": 7,
   "metadata": {
    "collapsed": true
   },
   "outputs": [],
   "source": [
    "df_meta['salesRank']=df_meta.salesRank.map(lambda x: helper(x))"
   ]
  },
  {
   "cell_type": "markdown",
   "metadata": {},
   "source": [
    "We can now count how many entries don't have the desired rank \n",
    "data."
   ]
  },
  {
   "cell_type": "code",
   "execution_count": 8,
   "metadata": {},
   "outputs": [
    {
     "data": {
      "text/plain": [
       "15844"
      ]
     },
     "execution_count": 8,
     "metadata": {},
     "output_type": "execute_result"
    }
   ],
   "source": [
    "df_meta.salesRank[(df_meta.salesRank.isnull())].shape[0]"
   ]
  },
  {
   "cell_type": "markdown",
   "metadata": {},
   "source": [
    "and proceed to remove these rows "
   ]
  },
  {
   "cell_type": "code",
   "execution_count": 9,
   "metadata": {
    "collapsed": true
   },
   "outputs": [],
   "source": [
    "df_meta=df_meta[ df_meta.salesRank.notnull()]"
   ]
  },
  {
   "cell_type": "markdown",
   "metadata": {},
   "source": [
    "We can do a sanity check "
   ]
  },
  {
   "cell_type": "code",
   "execution_count": 10,
   "metadata": {},
   "outputs": [
    {
     "data": {
      "text/plain": [
       "0"
      ]
     },
     "execution_count": 10,
     "metadata": {},
     "output_type": "execute_result"
    }
   ],
   "source": [
    "df_meta.salesRank[(df_meta.salesRank.isnull())].shape[0]"
   ]
  },
  {
   "cell_type": "markdown",
   "metadata": {},
   "source": [
    "### imUrl\n",
    "\n",
    "This features contains the web address to an image. As ee won't be using the images, so we drop this column."
   ]
  },
  {
   "cell_type": "code",
   "execution_count": 11,
   "metadata": {
    "collapsed": true
   },
   "outputs": [],
   "source": [
    "df_meta=df_meta.drop('imUrl',axis=1)"
   ]
  },
  {
   "cell_type": "markdown",
   "metadata": {},
   "source": [
    "### Title and brand\n",
    "\n",
    "From the fact that the percentage of articles with title or brands are"
   ]
  },
  {
   "cell_type": "code",
   "execution_count": 12,
   "metadata": {},
   "outputs": [
    {
     "name": "stdout",
     "output_type": "stream",
     "text": [
      "Only 99.99% of the products have title.\n",
      "Only 40.66% of the products have brand.\n"
     ]
    }
   ],
   "source": [
    "print(\"Only %.2f%% of the products have title.\"%(df_meta.title.count()/df_meta.asin.count()*100))\n",
    "print(\"Only %.2f%% of the products have brand.\"%(df_meta.brand.count()/df_meta.asin.count()*100))"
   ]
  },
  {
   "cell_type": "markdown",
   "metadata": {},
   "source": [
    "We can deduce that this features are not relevant, and so we drop them as well."
   ]
  },
  {
   "cell_type": "code",
   "execution_count": 13,
   "metadata": {
    "collapsed": true
   },
   "outputs": [],
   "source": [
    "df_meta=df_meta.drop(['title','brand'],axis=1)"
   ]
  },
  {
   "cell_type": "markdown",
   "metadata": {},
   "source": [
    "### Price\n",
    "\n",
    "The feature price is definitely relevant for the  forecasting, now note that "
   ]
  },
  {
   "cell_type": "code",
   "execution_count": 14,
   "metadata": {},
   "outputs": [
    {
     "name": "stdout",
     "output_type": "stream",
     "text": [
      "72.13% of the products have a price.\n"
     ]
    }
   ],
   "source": [
    "print(\"%.2f%% of the products have a price.\"%(df_meta.price.count()*100/df_meta.asin.count()))"
   ]
  },
  {
   "cell_type": "markdown",
   "metadata": {},
   "source": [
    "as this is a relevant feature we remove the rows with missing data."
   ]
  },
  {
   "cell_type": "code",
   "execution_count": 15,
   "metadata": {
    "collapsed": true
   },
   "outputs": [],
   "source": [
    "df_meta=df_meta[df_meta.price.notnull()]"
   ]
  },
  {
   "cell_type": "markdown",
   "metadata": {},
   "source": [
    "Another sanity check."
   ]
  },
  {
   "cell_type": "code",
   "execution_count": 16,
   "metadata": {},
   "outputs": [
    {
     "name": "stdout",
     "output_type": "stream",
     "text": [
      "100.00% of the products have a price.\n"
     ]
    }
   ],
   "source": [
    "print(\"%.2f%% of the products have a price.\"%(df_meta.price.count()*100/df_meta.asin.count()))"
   ]
  },
  {
   "cell_type": "markdown",
   "metadata": {},
   "source": [
    "After this cleaning "
   ]
  },
  {
   "cell_type": "code",
   "execution_count": 17,
   "metadata": {},
   "outputs": [
    {
     "name": "stdout",
     "output_type": "stream",
     "text": [
      "There are 67261 products left\n"
     ]
    }
   ],
   "source": [
    "print(\"There are %d products left\"%df_meta.asin.count())"
   ]
  },
  {
   "cell_type": "markdown",
   "metadata": {},
   "source": [
    "### Categories\n",
    "\n",
    "The categories feature comes as a list of lists, let's first find out how many different categories are there."
   ]
  },
  {
   "cell_type": "code",
   "execution_count": 18,
   "metadata": {},
   "outputs": [
    {
     "name": "stdout",
     "output_type": "stream",
     "text": [
      "There are 601 categories\n"
     ]
    }
   ],
   "source": [
    "categories=set()\n",
    "for list_cats in df_meta.categories:\n",
    "    for list_cat in list_cats:\n",
    "        categories=categories.union(set(list_cat))\n",
    "categories=list(categories)\n",
    "print(\"There are %d categories\"%len(categories))"
   ]
  },
  {
   "cell_type": "markdown",
   "metadata": {},
   "source": [
    "we use these as a categorial variable, first we create a unique list of categories for each product"
   ]
  },
  {
   "cell_type": "code",
   "execution_count": 19,
   "metadata": {
    "collapsed": true
   },
   "outputs": [],
   "source": [
    "def helper2(list_cats):\n",
    "    cats=set()\n",
    "    for list_cat in list_cats:\n",
    "        cats=cats.union(set(list_cat))\n",
    "    return list(cats)"
   ]
  },
  {
   "cell_type": "code",
   "execution_count": 20,
   "metadata": {
    "collapsed": true
   },
   "outputs": [],
   "source": [
    "df_meta['categories']=df_meta.categories.apply(helper2)"
   ]
  },
  {
   "cell_type": "markdown",
   "metadata": {},
   "source": [
    "and then we use the [MultiLabelBinarizer](http://scikit-learn.org/stable/modules/generated/sklearn.preprocessing.MultiLabelBinarizer.html) from sklearn to do the encodding. "
   ]
  },
  {
   "cell_type": "code",
   "execution_count": 21,
   "metadata": {
    "collapsed": true
   },
   "outputs": [],
   "source": [
    "mlb=MultiLabelBinarizer()\n",
    "mlb.fit(df_meta.categories)\n",
    "categories_df=pd.DataFrame(mlb.transform(df_meta.categories),columns=list(mlb.classes_))\n",
    "df_meta.reset_index(drop=True,inplace=True)\n",
    "df_meta=df_meta.merge(categories_df,left_index =True,right_index =True)"
   ]
  },
  {
   "cell_type": "markdown",
   "metadata": {},
   "source": [
    "and finally we drop the categories column."
   ]
  },
  {
   "cell_type": "code",
   "execution_count": 22,
   "metadata": {
    "collapsed": true
   },
   "outputs": [],
   "source": [
    "df_meta=df_meta.drop('categories',axis=1)"
   ]
  },
  {
   "cell_type": "markdown",
   "metadata": {},
   "source": [
    "### related and decription\n",
    "\n",
    "(ARE WE USING THIS?, RELATED MAY GIVE NICE INFO, BUT DESCRIPTION SEEMS USELESS)\n",
    "\n",
    "We won't be using this either, so we remove them."
   ]
  },
  {
   "cell_type": "code",
   "execution_count": 23,
   "metadata": {
    "collapsed": true
   },
   "outputs": [],
   "source": [
    "df_meta=df_meta.drop(['related','description'],axis=1)"
   ]
  },
  {
   "cell_type": "markdown",
   "metadata": {},
   "source": [
    "## Features from the reviews file\n",
    "\n",
    "### reviewText\n",
    "\n",
    "This feature containing the review will be used for sentiment analysis. We come back to this when building features. For now, we just get rid of the data with empty reviews."
   ]
  },
  {
   "cell_type": "code",
   "execution_count": 24,
   "metadata": {},
   "outputs": [
    {
     "name": "stdout",
     "output_type": "stream",
     "text": [
      "There are 14 empty reviews.\n"
     ]
    }
   ],
   "source": [
    "print(\"There are %d empty reviews.\"%df_reviews[df_reviews.reviewText==\"\"].shape[0])\n",
    "df_reviews=df_reviews[df_reviews.reviewText!=\"\"]"
   ]
  },
  {
   "cell_type": "markdown",
   "metadata": {},
   "source": [
    "### summary\n",
    "\n",
    "We won't be using this feature, so we drop it"
   ]
  },
  {
   "cell_type": "code",
   "execution_count": 25,
   "metadata": {
    "collapsed": true
   },
   "outputs": [],
   "source": [
    "df_reviews=df_reviews.drop('summary',axis=1)"
   ]
  },
  {
   "cell_type": "markdown",
   "metadata": {},
   "source": [
    "### reviewTime\n",
    "\n",
    "This feature is redundant since we have unixReviewTime, so we also get rid of this"
   ]
  },
  {
   "cell_type": "code",
   "execution_count": 26,
   "metadata": {
    "collapsed": true
   },
   "outputs": [],
   "source": [
    "df_reviews=df_reviews.drop('reviewTime',axis=1)"
   ]
  },
  {
   "cell_type": "markdown",
   "metadata": {},
   "source": [
    "### ReviewerName\n",
    "This is also redundant, since we have the reviewerID, we drop it"
   ]
  },
  {
   "cell_type": "code",
   "execution_count": 27,
   "metadata": {
    "collapsed": true
   },
   "outputs": [],
   "source": [
    "df_reviews=df_reviews.drop('reviewerName',axis=1)"
   ]
  },
  {
   "cell_type": "markdown",
   "metadata": {},
   "source": [
    "### Helpful\n",
    "The helpful feature comes as a pair of integers, the first one represents the number of people who found the review helpful, the second one is the number of people giving an opinion on the review. We separate this info into two features."
   ]
  },
  {
   "cell_type": "code",
   "execution_count": 28,
   "metadata": {
    "collapsed": true
   },
   "outputs": [],
   "source": [
    "df_reviews[['wasHelpful','helpfulFeedback']] = pd.DataFrame(df_reviews.helpful.values.tolist())"
   ]
  },
  {
   "cell_type": "markdown",
   "metadata": {},
   "source": [
    "now the helpful feature is also redundant."
   ]
  },
  {
   "cell_type": "code",
   "execution_count": 29,
   "metadata": {
    "collapsed": true
   },
   "outputs": [],
   "source": [
    "df_reviews=df_reviews.drop('helpful',axis=1)"
   ]
  },
  {
   "cell_type": "markdown",
   "metadata": {},
   "source": [
    "## Features from QA data\n",
    "We clean a couple features from the qa dataset. "
   ]
  },
  {
   "cell_type": "markdown",
   "metadata": {},
   "source": [
    "### answerType\n",
    "\n",
    "There are three possibilities for the kind of answer Y,N, and ? so add this feature."
   ]
  },
  {
   "cell_type": "code",
   "execution_count": 30,
   "metadata": {
    "collapsed": true
   },
   "outputs": [],
   "source": [
    "df_qa[['Y_answer','N_answer','?_answer']]=pd.get_dummies(df_qa.answerType)"
   ]
  },
  {
   "cell_type": "markdown",
   "metadata": {},
   "source": [
    "and get rid of the superfluous feature answerType"
   ]
  },
  {
   "cell_type": "code",
   "execution_count": 31,
   "metadata": {
    "collapsed": true
   },
   "outputs": [],
   "source": [
    "df_qa=df_qa.drop('answerType',axis=1)"
   ]
  },
  {
   "cell_type": "markdown",
   "metadata": {},
   "source": [
    "# Part 2 - Feature engineering\n",
    "\n",
    "In this part we build our features, this will be done in the following order.\n",
    "\n",
    "\n",
    "- Use sentiment analysis to give a sentiment score to the reviews. (Reason: a score of 3 for two people may mean different things the sentiment wil help correct this)\n",
    "\n",
    "- helpful: Increases the confidence.\n",
    "\n",
    "- ReviewerID features: will help us gain confidence in the review.\n",
    "\n",
    "- ReviewTime: To create a time series for the (cummulative) number of reviews.\n",
    "\n",
    "- Categories: Create category 'Other' and move everything that is not in the top 20 categories to the 'Other' category.\n"
   ]
  },
  {
   "cell_type": "markdown",
   "metadata": {},
   "source": [
    "### Sentiment Analysis on reviews\n",
    "\n",
    "We use [fasttext](https://github.com/facebookresearch/fastText) from facebook to create an score. This was build using \n",
    "\n",
    "A. Joulin, E. Grave, P. Bojanowski, T. Mikolov, Bag of Tricks for Efficient Text Classification\n",
    "\n",
    "For this we need to save the data we need to a text file, since that is the signature of the training method of fasttext.\n",
    "\n",
    "**Note:** We use a different algorithm in production. "
   ]
  },
  {
   "cell_type": "code",
   "execution_count": 32,
   "metadata": {
    "collapsed": true
   },
   "outputs": [],
   "source": [
    "#df_sentiment=df_reviews.loc[:,('reviewText','overall')]\n",
    "#df_sentiment['overall']=df_sentiment.overall.apply(lambda x: '__label__'+str(int(x)))\n",
    "#df_sentiment.to_csv(r'./data_/data_for_sentiment.txt', header=None, index=None, sep=' ', mode='a')"
   ]
  },
  {
   "cell_type": "markdown",
   "metadata": {},
   "source": [
    "Now, that the data is prepared for procesing, we can use the classifier."
   ]
  },
  {
   "cell_type": "code",
   "execution_count": 33,
   "metadata": {
    "collapsed": true
   },
   "outputs": [],
   "source": [
    "#classifier = fasttext.supervised('./data_/data_for_sentiment.txt', 'model', label_prefix='__label__')\n",
    "classifier=fasttext.load_model('model.bin')"
   ]
  },
  {
   "cell_type": "markdown",
   "metadata": {},
   "source": [
    "and do a simple, sanity check"
   ]
  },
  {
   "cell_type": "code",
   "execution_count": 34,
   "metadata": {},
   "outputs": [
    {
     "name": "stdout",
     "output_type": "stream",
     "text": [
      "[['__label__5'], ['__label__1']]\n"
     ]
    }
   ],
   "source": [
    "texts=[\"this is an awesome\",\"this sucks\"]\n",
    "labels = classifier.predict(texts)\n",
    "print(labels)"
   ]
  },
  {
   "cell_type": "markdown",
   "metadata": {},
   "source": [
    "and we can add this feature to the reviews dataframe"
   ]
  },
  {
   "cell_type": "code",
   "execution_count": 35,
   "metadata": {
    "collapsed": true
   },
   "outputs": [],
   "source": [
    "df_reviews['sentimentScore']=df_reviews.reviewText.apply(\n",
    "    lambda x:int(classifier.predict([x])[0][0][-1]))"
   ]
  },
  {
   "cell_type": "markdown",
   "metadata": {},
   "source": [
    "as that was our use of the textReview feature we can get rid of it."
   ]
  },
  {
   "cell_type": "markdown",
   "metadata": {},
   "source": [
    "We also pass a jugement to the review given the its lenght, compare to the score."
   ]
  },
  {
   "cell_type": "code",
   "execution_count": 36,
   "metadata": {
    "collapsed": true
   },
   "outputs": [],
   "source": [
    "df_reviews['review_length']=df_reviews.reviewText.apply(lambda x:len(x))"
   ]
  },
  {
   "cell_type": "code",
   "execution_count": 37,
   "metadata": {
    "collapsed": true
   },
   "outputs": [],
   "source": [
    "df_reviews['review_judgment']=df_reviews.overall*(df_reviews.review_length-3)/2"
   ]
  },
  {
   "cell_type": "code",
   "execution_count": 38,
   "metadata": {
    "collapsed": true
   },
   "outputs": [],
   "source": [
    "df_reviews=df_reviews.drop('reviewText',axis=1)"
   ]
  },
  {
   "cell_type": "markdown",
   "metadata": {},
   "source": [
    "### ReviewerID\n",
    "\n",
    "We want to measure the quality of a review, so far we only have a values for this, the helpful feature. We add new features that come from the reviewerID. In order to obtain this features we create a new dataframe."
   ]
  },
  {
   "cell_type": "code",
   "execution_count": 39,
   "metadata": {
    "collapsed": true
   },
   "outputs": [],
   "source": [
    "df_reviewers=df_reviews.merge(df_meta[['asin','price']],on='asin').groupby('reviewerID').agg({\n",
    "                              'overall':['min','max','mean', 'std','count'], # details of ratings for this reviewer\n",
    "                              'unixReviewTime':['min','max'], # date of first and last review\n",
    "                              'wasHelpful': ['sum', 'min', 'max', 'mean', 'std'],\n",
    "                              'helpfulFeedback':['sum', 'min', 'max', 'mean', 'std'],\n",
    "                              'price': ['sum', 'min', 'max', 'mean', 'std'], # average price of items reviewed etc\n",
    "                             })"
   ]
  },
  {
   "cell_type": "markdown",
   "metadata": {},
   "source": [
    "We add this features to df_reviews."
   ]
  },
  {
   "cell_type": "code",
   "execution_count": 40,
   "metadata": {},
   "outputs": [
    {
     "name": "stderr",
     "output_type": "stream",
     "text": [
      "/home/felipe/anaconda3/lib/python3.5/site-packages/pandas/tools/merge.py:536: UserWarning: merging between different levels can give an unintended result (1 levels on the left, 2 on the right)\n",
      "  warnings.warn(msg, UserWarning)\n"
     ]
    }
   ],
   "source": [
    "#As we are choosing inner, this procedure automatically removes the items for which there's not price\n",
    "df_reviews=df_reviews.merge(df_reviewers, left_on='reviewerID',right_index=True)"
   ]
  },
  {
   "cell_type": "markdown",
   "metadata": {},
   "source": [
    "as we won't be using the reviewerID anymore, we get rid of this feature."
   ]
  },
  {
   "cell_type": "code",
   "execution_count": 41,
   "metadata": {
    "collapsed": true
   },
   "outputs": [],
   "source": [
    "df_reviews=df_reviews.drop('reviewerID',axis=1)"
   ]
  },
  {
   "cell_type": "markdown",
   "metadata": {},
   "source": [
    "## Data aggregation\n",
    "\n",
    "Before we continue with the feature generation, we need to agregate the data by product. This will make the features to be a time series, where the time is controled by the UnixReviewTime. We need to rename the columns first."
   ]
  },
  {
   "cell_type": "code",
   "execution_count": 42,
   "metadata": {
    "collapsed": true
   },
   "outputs": [],
   "source": [
    "df_reviews.columns = [ col_name if isinstance(col_name,str) else \"_\".join(col_name) for col_name in df_reviews.columns]"
   ]
  },
  {
   "cell_type": "markdown",
   "metadata": {},
   "source": [
    "and then create a dictionary that will help us obtain the aggregations that we want."
   ]
  },
  {
   "cell_type": "code",
   "execution_count": 43,
   "metadata": {
    "collapsed": true
   },
   "outputs": [],
   "source": [
    "agg_ops_dict={feature_name:['sum', 'min', 'max', 'mean', 'std'] for feature_name in df_reviews.columns if feature_name!='asin'}\n",
    "agg_ops_dict['unixReviewTime']+=[lambda x:(list(x))]\n",
    "agg_ops_dict['overall']+=[lambda x:(list(x))]\n",
    "agg_ops_dict['sentimentScore']+=[lambda x:(list(x))]\n",
    "agg_ops_dict['wasHelpful']+=[lambda x:(list(x))]\n",
    "agg_ops_dict['helpfulFeedback']+=[lambda x:(list(x))]"
   ]
  },
  {
   "cell_type": "code",
   "execution_count": 44,
   "metadata": {
    "collapsed": true
   },
   "outputs": [],
   "source": [
    "df_products=df_reviews.groupby('asin').agg(agg_ops_dict)"
   ]
  },
  {
   "cell_type": "code",
   "execution_count": 45,
   "metadata": {
    "collapsed": true
   },
   "outputs": [],
   "source": [
    "df_products.columns=[ \"_\".join(name) if name[1]!='<lambda>' else name[0] for name in df_products.columns]"
   ]
  },
  {
   "cell_type": "markdown",
   "metadata": {},
   "source": [
    "### helpful\n",
    "\n",
    "In order to incorporate the helpful score into the product, we create two variables defined below:\n",
    "\n",
    "$$ \\text{helpfulOverall} = \\sum \\text{overall}_i \\cdot \\frac{\\text{wasHelpful}}{\\text{helpfulFeedback}} $$ \n",
    "\n",
    "and \n",
    "\n",
    "$$ \\text{helpfulSentiment} = \\sum \\text{sentiment_score}_i \\cdot \\frac{\\text{wasHelpful}}{\\text{helpfulFeedback}} $$ \n",
    "where the sums run over the $i$ such that helpful$_i$[1]$\\neq 0$.\n",
    "\n",
    "We need a helper function to incorporate these new features."
   ]
  },
  {
   "cell_type": "code",
   "execution_count": 46,
   "metadata": {
    "collapsed": true
   },
   "outputs": [],
   "source": [
    "def helper_helpful(A,B,C):\n",
    "    total=0\n",
    "    for a,b,c in zip(A,B,C):\n",
    "        if c!=0:\n",
    "            total+=a*b/c\n",
    "    return total"
   ]
  },
  {
   "cell_type": "code",
   "execution_count": 47,
   "metadata": {
    "collapsed": true
   },
   "outputs": [],
   "source": [
    "df_products['helpfulOverall']=df_products.apply(lambda row: helper_helpful(row['overall'],row['wasHelpful'],row['helpfulFeedback']),axis=1)\n",
    "df_products['helpfulSentiment']=df_products.apply(lambda row: helper_helpful(row['sentimentScore'],row['wasHelpful'],row['helpfulFeedback']),axis=1)"
   ]
  },
  {
   "cell_type": "markdown",
   "metadata": {},
   "source": [
    "and we can drop the helpful features now."
   ]
  },
  {
   "cell_type": "code",
   "execution_count": 48,
   "metadata": {
    "collapsed": true
   },
   "outputs": [],
   "source": [
    "df_products=df_products.drop(['wasHelpful','helpfulFeedback'],axis=1)"
   ]
  },
  {
   "cell_type": "markdown",
   "metadata": {},
   "source": [
    "The overall and sentimentScore feature are not necessary either. "
   ]
  },
  {
   "cell_type": "code",
   "execution_count": 49,
   "metadata": {
    "collapsed": true
   },
   "outputs": [],
   "source": [
    "df_products=df_products.drop(['overall','sentimentScore'],axis=1)"
   ]
  },
  {
   "cell_type": "markdown",
   "metadata": {},
   "source": [
    "**REMARK:** The reader should note that there is a faster way to compute the last two features, readly starting from the df_reviews dataframe building the individual multiplications and then aggregating. We opted for the (significantly) slower way to make the notebook easier to read."
   ]
  },
  {
   "cell_type": "markdown",
   "metadata": {},
   "source": [
    "### The hotness and density features.\n",
    "\n",
    "We introduce a family of features designed to encode the behavior fo the cumulative function of number of reviews. We need to do some cleaning first.\n",
    "\n",
    "As the unixReviewTime is the number of seconds since 1970, we simplify this so it keeps track of the number of days instead, we create a feature to keep track of the first day and modify the feature to keep track of the days after the first day that the review was created."
   ]
  },
  {
   "cell_type": "code",
   "execution_count": 50,
   "metadata": {
    "collapsed": true
   },
   "outputs": [],
   "source": [
    "df_products['unixReviewTime']=df_products.unixReviewTime.apply(lambda x: np.sort(np.array(x)//3600//24))\n",
    "df_products['firstReviewDay']=df_products.unixReviewTime.apply(lambda x:x[0])\n",
    "df_products['daysSinceFirstReview']=df_products.unixReviewTime.apply(lambda x: x- x[0])"
   ]
  },
  {
   "cell_type": "markdown",
   "metadata": {},
   "source": [
    "The feature unixReviewTime is now irrelevant"
   ]
  },
  {
   "cell_type": "code",
   "execution_count": 51,
   "metadata": {
    "collapsed": true
   },
   "outputs": [],
   "source": [
    "df_products=df_products.drop('unixReviewTime',axis=1)"
   ]
  },
  {
   "cell_type": "markdown",
   "metadata": {},
   "source": [
    "we add a feature called productLife, keeping track of when the last review took place, and another feature for the number of reviews, nunmberReviews."
   ]
  },
  {
   "cell_type": "code",
   "execution_count": 52,
   "metadata": {
    "collapsed": true
   },
   "outputs": [],
   "source": [
    "df_products['productLife']=df_products.daysSinceFirstReview.apply(lambda x:x[-1])\n",
    "df_products['numberReviews']=df_products.daysSinceFirstReview.apply(lambda x: len(x))"
   ]
  },
  {
   "cell_type": "markdown",
   "metadata": {},
   "source": [
    "To illustrate the next feature we are going to create, we graph the number of reviews against the days after the first review, for a sample set of reviews"
   ]
  },
  {
   "cell_type": "code",
   "execution_count": 53,
   "metadata": {
    "collapsed": true
   },
   "outputs": [],
   "source": [
    "def create_cumulative(days):\n",
    "    X=[days[0]]\n",
    "    Y=[0]\n",
    "    current=0\n",
    "    for day in days:\n",
    "        if day==X[-1]:\n",
    "            Y[current]+=1\n",
    "        else:\n",
    "            X.append(day)\n",
    "            Y.append(Y[-1]+1)\n",
    "            current+=1\n",
    "    return X,Y"
   ]
  },
  {
   "cell_type": "code",
   "execution_count": 54,
   "metadata": {},
   "outputs": [
    {
     "data": {
      "text/html": [
       "<div>\n",
       "<table border=\"1\" class=\"dataframe\">\n",
       "  <thead>\n",
       "    <tr style=\"text-align: right;\">\n",
       "      <th></th>\n",
       "      <th>price_sum_sum</th>\n",
       "      <th>price_sum_min</th>\n",
       "      <th>price_sum_max</th>\n",
       "      <th>price_sum_mean</th>\n",
       "      <th>price_sum_std</th>\n",
       "      <th>wasHelpful_min_sum</th>\n",
       "      <th>wasHelpful_min_min</th>\n",
       "      <th>wasHelpful_min_max</th>\n",
       "      <th>wasHelpful_min_mean</th>\n",
       "      <th>wasHelpful_min_std</th>\n",
       "      <th>...</th>\n",
       "      <th>wasHelpful_std_min</th>\n",
       "      <th>wasHelpful_std_max</th>\n",
       "      <th>wasHelpful_std_mean</th>\n",
       "      <th>wasHelpful_std_std</th>\n",
       "      <th>helpfulOverall</th>\n",
       "      <th>helpfulSentiment</th>\n",
       "      <th>firstReviewDay</th>\n",
       "      <th>daysSinceFirstReview</th>\n",
       "      <th>productLife</th>\n",
       "      <th>numberReviews</th>\n",
       "    </tr>\n",
       "    <tr>\n",
       "      <th>asin</th>\n",
       "      <th></th>\n",
       "      <th></th>\n",
       "      <th></th>\n",
       "      <th></th>\n",
       "      <th></th>\n",
       "      <th></th>\n",
       "      <th></th>\n",
       "      <th></th>\n",
       "      <th></th>\n",
       "      <th></th>\n",
       "      <th></th>\n",
       "      <th></th>\n",
       "      <th></th>\n",
       "      <th></th>\n",
       "      <th></th>\n",
       "      <th></th>\n",
       "      <th></th>\n",
       "      <th></th>\n",
       "      <th></th>\n",
       "      <th></th>\n",
       "      <th></th>\n",
       "    </tr>\n",
       "  </thead>\n",
       "  <tbody>\n",
       "    <tr>\n",
       "      <th>B00002N674</th>\n",
       "      <td>2910.19</td>\n",
       "      <td>40.65</td>\n",
       "      <td>1470.38</td>\n",
       "      <td>485.031667</td>\n",
       "      <td>534.959950</td>\n",
       "      <td>0.0</td>\n",
       "      <td>0.0</td>\n",
       "      <td>0.0</td>\n",
       "      <td>0.0</td>\n",
       "      <td>0.0</td>\n",
       "      <td>...</td>\n",
       "      <td>1.732051</td>\n",
       "      <td>103.405815</td>\n",
       "      <td>21.513900</td>\n",
       "      <td>40.197095</td>\n",
       "      <td>11.666667</td>\n",
       "      <td>11.333333</td>\n",
       "      <td>15146</td>\n",
       "      <td>[0, 319, 485, 755, 776, 1084]</td>\n",
       "      <td>1084</td>\n",
       "      <td>6</td>\n",
       "    </tr>\n",
       "    <tr>\n",
       "      <th>B00002N67P</th>\n",
       "      <td>2155.93</td>\n",
       "      <td>147.36</td>\n",
       "      <td>871.50</td>\n",
       "      <td>431.186000</td>\n",
       "      <td>281.376234</td>\n",
       "      <td>0.0</td>\n",
       "      <td>0.0</td>\n",
       "      <td>0.0</td>\n",
       "      <td>0.0</td>\n",
       "      <td>0.0</td>\n",
       "      <td>...</td>\n",
       "      <td>0.547723</td>\n",
       "      <td>31.356020</td>\n",
       "      <td>11.052155</td>\n",
       "      <td>13.193905</td>\n",
       "      <td>5.000000</td>\n",
       "      <td>5.000000</td>\n",
       "      <td>15210</td>\n",
       "      <td>[0, 220, 724, 842, 867]</td>\n",
       "      <td>867</td>\n",
       "      <td>5</td>\n",
       "    </tr>\n",
       "    <tr>\n",
       "      <th>B00002N67Q</th>\n",
       "      <td>3203.62</td>\n",
       "      <td>39.17</td>\n",
       "      <td>1121.18</td>\n",
       "      <td>400.452500</td>\n",
       "      <td>366.687165</td>\n",
       "      <td>0.0</td>\n",
       "      <td>0.0</td>\n",
       "      <td>0.0</td>\n",
       "      <td>0.0</td>\n",
       "      <td>0.0</td>\n",
       "      <td>...</td>\n",
       "      <td>0.500000</td>\n",
       "      <td>21.960045</td>\n",
       "      <td>6.730278</td>\n",
       "      <td>7.698676</td>\n",
       "      <td>32.438272</td>\n",
       "      <td>32.438272</td>\n",
       "      <td>15668</td>\n",
       "      <td>[0, 178, 221, 223, 299, 328, 547, 563]</td>\n",
       "      <td>563</td>\n",
       "      <td>8</td>\n",
       "    </tr>\n",
       "    <tr>\n",
       "      <th>B00002N68C</th>\n",
       "      <td>1621.82</td>\n",
       "      <td>45.72</td>\n",
       "      <td>639.72</td>\n",
       "      <td>180.202222</td>\n",
       "      <td>185.152599</td>\n",
       "      <td>0.0</td>\n",
       "      <td>0.0</td>\n",
       "      <td>0.0</td>\n",
       "      <td>0.0</td>\n",
       "      <td>0.0</td>\n",
       "      <td>...</td>\n",
       "      <td>0.836660</td>\n",
       "      <td>49.530798</td>\n",
       "      <td>7.765039</td>\n",
       "      <td>15.921506</td>\n",
       "      <td>18.118421</td>\n",
       "      <td>15.171053</td>\n",
       "      <td>14555</td>\n",
       "      <td>[0, 793, 880, 1139, 1508, 1590, 1599, 1683, 1692]</td>\n",
       "      <td>1692</td>\n",
       "      <td>9</td>\n",
       "    </tr>\n",
       "    <tr>\n",
       "      <th>B00002N6AN</th>\n",
       "      <td>7172.60</td>\n",
       "      <td>96.55</td>\n",
       "      <td>2368.16</td>\n",
       "      <td>796.955556</td>\n",
       "      <td>716.484774</td>\n",
       "      <td>0.0</td>\n",
       "      <td>0.0</td>\n",
       "      <td>0.0</td>\n",
       "      <td>0.0</td>\n",
       "      <td>0.0</td>\n",
       "      <td>...</td>\n",
       "      <td>0.353553</td>\n",
       "      <td>137.581491</td>\n",
       "      <td>32.895373</td>\n",
       "      <td>46.700494</td>\n",
       "      <td>22.950565</td>\n",
       "      <td>22.849580</td>\n",
       "      <td>11149</td>\n",
       "      <td>[0, 2548, 2845, 3985, 4344, 4362, 4658, 4770, ...</td>\n",
       "      <td>5092</td>\n",
       "      <td>9</td>\n",
       "    </tr>\n",
       "  </tbody>\n",
       "</table>\n",
       "<p>5 rows × 151 columns</p>\n",
       "</div>"
      ],
      "text/plain": [
       "            price_sum_sum  price_sum_min  price_sum_max  price_sum_mean  \\\n",
       "asin                                                                      \n",
       "B00002N674        2910.19          40.65        1470.38      485.031667   \n",
       "B00002N67P        2155.93         147.36         871.50      431.186000   \n",
       "B00002N67Q        3203.62          39.17        1121.18      400.452500   \n",
       "B00002N68C        1621.82          45.72         639.72      180.202222   \n",
       "B00002N6AN        7172.60          96.55        2368.16      796.955556   \n",
       "\n",
       "            price_sum_std  wasHelpful_min_sum  wasHelpful_min_min  \\\n",
       "asin                                                                \n",
       "B00002N674     534.959950                 0.0                 0.0   \n",
       "B00002N67P     281.376234                 0.0                 0.0   \n",
       "B00002N67Q     366.687165                 0.0                 0.0   \n",
       "B00002N68C     185.152599                 0.0                 0.0   \n",
       "B00002N6AN     716.484774                 0.0                 0.0   \n",
       "\n",
       "            wasHelpful_min_max  wasHelpful_min_mean  wasHelpful_min_std  \\\n",
       "asin                                                                      \n",
       "B00002N674                 0.0                  0.0                 0.0   \n",
       "B00002N67P                 0.0                  0.0                 0.0   \n",
       "B00002N67Q                 0.0                  0.0                 0.0   \n",
       "B00002N68C                 0.0                  0.0                 0.0   \n",
       "B00002N6AN                 0.0                  0.0                 0.0   \n",
       "\n",
       "                ...        wasHelpful_std_min  wasHelpful_std_max  \\\n",
       "asin            ...                                                 \n",
       "B00002N674      ...                  1.732051          103.405815   \n",
       "B00002N67P      ...                  0.547723           31.356020   \n",
       "B00002N67Q      ...                  0.500000           21.960045   \n",
       "B00002N68C      ...                  0.836660           49.530798   \n",
       "B00002N6AN      ...                  0.353553          137.581491   \n",
       "\n",
       "            wasHelpful_std_mean  wasHelpful_std_std  helpfulOverall  \\\n",
       "asin                                                                  \n",
       "B00002N674            21.513900           40.197095       11.666667   \n",
       "B00002N67P            11.052155           13.193905        5.000000   \n",
       "B00002N67Q             6.730278            7.698676       32.438272   \n",
       "B00002N68C             7.765039           15.921506       18.118421   \n",
       "B00002N6AN            32.895373           46.700494       22.950565   \n",
       "\n",
       "            helpfulSentiment  firstReviewDay  \\\n",
       "asin                                           \n",
       "B00002N674         11.333333           15146   \n",
       "B00002N67P          5.000000           15210   \n",
       "B00002N67Q         32.438272           15668   \n",
       "B00002N68C         15.171053           14555   \n",
       "B00002N6AN         22.849580           11149   \n",
       "\n",
       "                                         daysSinceFirstReview  productLife  \\\n",
       "asin                                                                         \n",
       "B00002N674                      [0, 319, 485, 755, 776, 1084]         1084   \n",
       "B00002N67P                            [0, 220, 724, 842, 867]          867   \n",
       "B00002N67Q             [0, 178, 221, 223, 299, 328, 547, 563]          563   \n",
       "B00002N68C  [0, 793, 880, 1139, 1508, 1590, 1599, 1683, 1692]         1692   \n",
       "B00002N6AN  [0, 2548, 2845, 3985, 4344, 4362, 4658, 4770, ...         5092   \n",
       "\n",
       "            numberReviews  \n",
       "asin                       \n",
       "B00002N674              6  \n",
       "B00002N67P              5  \n",
       "B00002N67Q              8  \n",
       "B00002N68C              9  \n",
       "B00002N6AN              9  \n",
       "\n",
       "[5 rows x 151 columns]"
      ]
     },
     "execution_count": 54,
     "metadata": {},
     "output_type": "execute_result"
    }
   ],
   "source": [
    "df_products.head()"
   ]
  },
  {
   "cell_type": "code",
   "execution_count": 55,
   "metadata": {},
   "outputs": [
    {
     "data": {
      "image/png": "[encoded data removed]",
      "text/plain": [
       "<matplotlib.figure.Figure at 0x7f283bfd5320>"
      ]
     },
     "metadata": {},
     "output_type": "display_data"
    }
   ],
   "source": [
    "sample=df_products.merge(df_meta, left_index=True,right_on='asin').sample(6)\n",
    "fig=plt.figure(figsize=(12,8))\n",
    "for days,rank in zip(sample.daysSinceFirstReview,sample.salesRank):\n",
    "    \n",
    "    X,Y=create_cumulative(days)\n",
    "    plt.plot(X, Y,'o',label=\"SalesRank %d\"%rank)\n",
    "    plt.legend(loc='best')\n",
    "\n",
    "plt.xlabel(\"Days after first review\")\n",
    "plt.ylabel(\"Number of reviews\")\n",
    "plt.show()"
   ]
  },
  {
   "cell_type": "markdown",
   "metadata": {},
   "source": [
    "Let's make the following assumption:\n",
    "\n",
    "**Assumption: The \"better\" a product is, the more reviews it would have when measure over periods of time**\n",
    "\n",
    "In order to make this concrete, we can create a new invariant, we define \n",
    "\n",
    "**hotness** = area under the staircase formed by the curve in the interval where it is defined.\n",
    "\n",
    "Similarly we encode information of the product by its density, which relies on the assumption\n",
    "\n",
    "**Assumption: The change on reviews per day is an indicative of the performance of the product. **\n",
    "\n",
    "**density**= slope formed beteen the first point and a future point."
   ]
  },
  {
   "cell_type": "code",
   "execution_count": 56,
   "metadata": {
    "collapsed": true
   },
   "outputs": [],
   "source": [
    "def compute_hotness(days):\n",
    "    X,Y=create_cumulative(days)\n",
    "    area_list=[0]\n",
    "    area=0\n",
    "    for i in range(1,len(X)):\n",
    "        area+=(X[i]-X[i-1])*Y[i-1]\n",
    "        area_list.append(area)\n",
    "    area+=Y[-1]\n",
    "    area_list.append(area)\n",
    "    \n",
    "    area_list = np.array(area_list)\n",
    "    return area_list.max(),area_list.mean(),area_list.std()"
   ]
  },
  {
   "cell_type": "markdown",
   "metadata": {},
   "source": [
    "Let's add this feature, for every day that has a a value."
   ]
  },
  {
   "cell_type": "code",
   "execution_count": 57,
   "metadata": {
    "collapsed": true
   },
   "outputs": [],
   "source": [
    "df_products[['hotness_max','hotness_mean','hotness_std']] = pd.DataFrame(df_products.daysSinceFirstReview.apply(lambda x:compute_hotness(x)).values.tolist(),index=df_products.index)"
   ]
  },
  {
   "cell_type": "markdown",
   "metadata": {},
   "source": [
    "We play the same game with density"
   ]
  },
  {
   "cell_type": "code",
   "execution_count": 58,
   "metadata": {
    "collapsed": true
   },
   "outputs": [],
   "source": [
    "def compute_density(days):\n",
    "    X,Y=create_cumulative(days)\n",
    "    slope_list=[Y[i]/X[i] for i in range(len(X)) if X[i]!=0 ]\n",
    "    if len(slope_list)==0:\n",
    "        return 0,0,0,0\n",
    "    \n",
    "    slope_list = np.array(slope_list)\n",
    "    \n",
    "    return slope_list.min(),slope_list.max(),slope_list.mean(),slope_list.std()"
   ]
  },
  {
   "cell_type": "code",
   "execution_count": 59,
   "metadata": {
    "collapsed": true
   },
   "outputs": [],
   "source": [
    "df_products[['density_min','density_max','density_mean','density_std']] = pd.DataFrame(df_products.daysSinceFirstReview.apply(lambda x:compute_density(x)).values.tolist(),index=df_products.index)"
   ]
  },
  {
   "cell_type": "markdown",
   "metadata": {},
   "source": [
    "This concludes our feature creation, our next step is to set up the data for training."
   ]
  },
  {
   "cell_type": "markdown",
   "metadata": {},
   "source": [
    "## Counting questions"
   ]
  },
  {
   "cell_type": "code",
   "execution_count": 60,
   "metadata": {
    "collapsed": true
   },
   "outputs": [],
   "source": [
    "df_qa_agg = df_qa.groupby('asin').agg({\n",
    "                              'asin':['count'], \n",
    "                              'unixTime':['min','max'],\n",
    "                              'Y_answer': ['sum'],\n",
    "                              'N_answer': ['sum'],\n",
    "                              '?_answer': ['sum']\n",
    "                             })"
   ]
  },
  {
   "cell_type": "code",
   "execution_count": 61,
   "metadata": {
    "collapsed": true
   },
   "outputs": [],
   "source": [
    "df_qa_agg.columns=['y_answer_sum','qa_unixTime_min','qa_unixTime_max','?_answer','qa_count','N_answer']"
   ]
  },
  {
   "cell_type": "markdown",
   "metadata": {},
   "source": [
    "# Creating the X and y's\n",
    "\n",
    "We want to create a dataset containing the features our models will use. We start by merging our meta_data to the products."
   ]
  },
  {
   "cell_type": "code",
   "execution_count": 62,
   "metadata": {
    "collapsed": true
   },
   "outputs": [],
   "source": [
    "Xy_df=df_products.merge(df_meta, left_index=True,right_on='asin')\n",
    "Xy_df=Xy_df.merge(df_qa_agg,how='outer',left_on='asin',right_index=True).fillna(0)"
   ]
  },
  {
   "cell_type": "markdown",
   "metadata": {},
   "source": [
    "Let's take a look at the distribution of the salesRank data"
   ]
  },
  {
   "cell_type": "code",
   "execution_count": 63,
   "metadata": {
    "collapsed": true
   },
   "outputs": [],
   "source": [
    "#sns.distplot(Xy_df.salesRank, bins=20, kde=False, rug=True);"
   ]
  },
  {
   "cell_type": "markdown",
   "metadata": {},
   "source": [
    "we could also check on this, by using the pandas method describe()."
   ]
  },
  {
   "cell_type": "code",
   "execution_count": 64,
   "metadata": {},
   "outputs": [
    {
     "data": {
      "text/plain": [
       "count      8335.00000\n",
       "mean       1681.05087\n",
       "std       13836.49567\n",
       "min           0.00000\n",
       "25%           0.00000\n",
       "50%           0.00000\n",
       "75%           0.00000\n",
       "max      501172.00000\n",
       "Name: salesRank, dtype: float64"
      ]
     },
     "execution_count": 64,
     "metadata": {},
     "output_type": "execute_result"
    }
   ],
   "source": [
    "Xy_df.salesRank.describe()"
   ]
  },
  {
   "cell_type": "markdown",
   "metadata": {},
   "source": [
    "This is, there is more data of lower ranks than of higer ranks, to deal with this will create bins each containing the same amount of data points. We need an auxiliary function."
   ]
  },
  {
   "cell_type": "code",
   "execution_count": 65,
   "metadata": {
    "collapsed": true
   },
   "outputs": [],
   "source": [
    "salesRanks=np.sort(Xy_df.salesRank.as_matrix())\n",
    "len_salesRank,=np.sort(Xy_df.salesRank.as_matrix()).shape\n",
    "def find_breakpoints(nb_bins):\n",
    "    step=len_salesRank//nb_bins\n",
    "    return [salesRanks[i] for i in range(step-1,len_salesRank,step)]"
   ]
  },
  {
   "cell_type": "markdown",
   "metadata": {},
   "source": [
    "and so we add many possible outcomes for the number of bins, we need an auxiliary function first."
   ]
  },
  {
   "cell_type": "code",
   "execution_count": 66,
   "metadata": {
    "collapsed": true
   },
   "outputs": [],
   "source": [
    "def binning(breakpoints,a):\n",
    "    i=0\n",
    "    while i< len(breakpoints):\n",
    "        if a>breakpoints[i]:\n",
    "            i+=1\n",
    "        else:\n",
    "            return str(i+1)+\"_out_of_\"+str(len(breakpoints))\n",
    "    return str(i+1)+\"_out_of_\"+str(len(breakpoints))"
   ]
  },
  {
   "cell_type": "markdown",
   "metadata": {},
   "source": [
    "We now add the different bins, we go from 2 to 10."
   ]
  },
  {
   "cell_type": "code",
   "execution_count": 67,
   "metadata": {
    "collapsed": true
   },
   "outputs": [],
   "source": [
    "for i in range(2,11):\n",
    "    breakpoints=find_breakpoints(i)\n",
    "    Xy_df['salesRank_Category_of_'+str(i)]=Xy_df.salesRank.apply(lambda x: binning(breakpoints,x))"
   ]
  },
  {
   "cell_type": "markdown",
   "metadata": {},
   "source": [
    "we also create a relative rank"
   ]
  },
  {
   "cell_type": "markdown",
   "metadata": {},
   "source": [
    "as all our desired data is here, we save this dataframe."
   ]
  },
  {
   "cell_type": "code",
   "execution_count": 68,
   "metadata": {
    "collapsed": true
   },
   "outputs": [],
   "source": [
    "pickle.dump(Xy_df, open('./Xy_df_patio_5', 'wb'))"
   ]
  },
  {
   "cell_type": "markdown",
   "metadata": {},
   "source": [
    "and we load it back"
   ]
  },
  {
   "cell_type": "code",
   "execution_count": 69,
   "metadata": {
    "collapsed": true
   },
   "outputs": [],
   "source": [
    "Xy_df=pickle.load(open('./Xy_df_patio_5', 'rb'))"
   ]
  },
  {
   "cell_type": "code",
   "execution_count": 70,
   "metadata": {
    "collapsed": true
   },
   "outputs": [],
   "source": [
    "Xy_df= Xy_df.drop(['daysSinceFirstReview'],axis=1)"
   ]
  },
  {
   "cell_type": "markdown",
   "metadata": {},
   "source": [
    "We select the columns of features and the column of predictions"
   ]
  },
  {
   "cell_type": "code",
   "execution_count": 71,
   "metadata": {
    "collapsed": true
   },
   "outputs": [],
   "source": [
    "y_cats={}\n",
    "for i in range(2,11):\n",
    "    y_cats[i]=Xy_df['salesRank_Category_of_'+str(i)].as_matrix()\n",
    "    \n",
    "X_df=Xy_df.drop(['salesRank','asin']+['salesRank_Category_of_'+str(i) for i in range(2,11)],axis=1)\n",
    "X=X_df.as_matrix()"
   ]
  },
  {
   "cell_type": "markdown",
   "metadata": {},
   "source": [
    "now that we have the data we first separate it into train, validation, and test sets."
   ]
  },
  {
   "cell_type": "code",
   "execution_count": 72,
   "metadata": {
    "collapsed": true
   },
   "outputs": [],
   "source": [
    "def train_test_val_split(X,y):\n",
    "    X_train, X_test, y_train, y_test = train_test_split(X, y, test_size=0.1, random_state=13)\n",
    "    X_train, X_val, y_train, y_val = train_test_split(X_train, y_train, test_size=0.2/0.9, random_state=13)\n",
    "    return X_train,X_val,X_test,y_train,y_val,y_test"
   ]
  },
  {
   "cell_type": "markdown",
   "metadata": {
    "collapsed": true
   },
   "source": [
    "# Some models \n",
    "\n",
    "We create the models now\n",
    "\n",
    "### Random Forest"
   ]
  },
  {
   "cell_type": "code",
   "execution_count": 73,
   "metadata": {
    "collapsed": true
   },
   "outputs": [],
   "source": [
    "from sklearn.ensemble import RandomForestClassifier"
   ]
  },
  {
   "cell_type": "code",
   "execution_count": 74,
   "metadata": {},
   "outputs": [
    {
     "name": "stdout",
     "output_type": "stream",
     "text": [
      "Training for 10 bins\r"
     ]
    }
   ],
   "source": [
    "scores_RandomForest=[]\n",
    "for i in range(2,11):\n",
    "    print('Training for %d bins'%i,end='\\r')\n",
    "    X_train,X_val,X_test,y_train,y_val,y_test = train_test_val_split(X,y_cats[i])\n",
    "    \n",
    "    RandomForestModel = RandomForestClassifier(20)\n",
    "    RandomForestModel.fit(X_train,y_train)\n",
    "    scores_RandomForest.append(RandomForestModel.score(X_val,y_val))\n",
    "    \n",
    "    pickle.dump(RandomForestModel, open('./patio_5_RF_'+str(i), 'wb'))"
   ]
  },
  {
   "cell_type": "code",
   "execution_count": 88,
   "metadata": {},
   "outputs": [
    {
     "data": {
      "text/plain": [
       "array([ 0.00045398,  0.00050012,  0.04879852,  0.04882166,  0.04882839,\n",
       "        0.04907315,  0.0491433 ,  0.04915773,  0.04927372,  0.04931706,\n",
       "        0.04932871,  0.04941018,  0.04944357,  0.04945405,  0.04949216,\n",
       "        0.04955875,  0.04965881,  0.04969767,  0.09807318,  0.09902399])"
      ]
     },
     "execution_count": 88,
     "metadata": {},
     "output_type": "execute_result"
    }
   ],
   "source": [
    "np.sort(RandomForestModel.feature_importances_)[-20:]"
   ]
  },
  {
   "cell_type": "code",
   "execution_count": 89,
   "metadata": {},
   "outputs": [
    {
     "data": {
      "text/plain": [
       "Index(['firstReviewDay', 'overall_count_sum', 'wasHelpful_mean_std',\n",
       "       'wasHelpful_std_max', 'helpfulFeedback_max_max', 'wasHelpful_sum_sum',\n",
       "       'review_length_max', 'review_length_std', 'wasHelpful_max_mean',\n",
       "       'review_judgment_max', 'overall_count_max', 'helpfulFeedback_std_max',\n",
       "       'overall_mean_sum', 'overall_std_mean', 'overall_min', 'price',\n",
       "       'price_mean_min', 'sentimentScore_mean', 'hotness_mean',\n",
       "       'overall_max_sum'],\n",
       "      dtype='object')"
      ]
     },
     "execution_count": 89,
     "metadata": {},
     "output_type": "execute_result"
    }
   ],
   "source": [
    "X_df.columns[RandomForestModel.feature_importances_.argsort()[-20:][::-1]]"
   ]
  },
  {
   "cell_type": "code",
   "execution_count": 75,
   "metadata": {},
   "outputs": [
    {
     "data": {
      "image/png": "[encoded data removed]",
      "text/plain": [
       "<matplotlib.figure.Figure at 0x7f283cbff908>"
      ]
     },
     "metadata": {},
     "output_type": "display_data"
    }
   ],
   "source": [
    "ax=plt.figure(figsize=(8,8))\n",
    "plt.plot(list(range(2,11)),scores_RandomForest,'o')\n",
    "plt.savefig(\"./RandomForestAccuracy_patio_5.png\")\n",
    "plt.show()"
   ]
  },
  {
   "cell_type": "code",
   "execution_count": 76,
   "metadata": {
    "collapsed": true
   },
   "outputs": [],
   "source": [
    "#RandomForestModel = RandomForestRegressor()\n",
    "#RandomForestModel.fit(X_train,y_train)\n",
    "#X_df.columns[RandomForestModel.feature_importances_.argsort()[-30:][::-1]]\n",
    "#RandomForestModel.score(X_val,y_val)\n",
    "#np.sqrt(mean_squared_error(y_val,RandomForestModel.predict(X_val)))"
   ]
  },
  {
   "cell_type": "markdown",
   "metadata": {},
   "source": [
    "### Xgboost"
   ]
  },
  {
   "cell_type": "code",
   "execution_count": null,
   "metadata": {
    "collapsed": true
   },
   "outputs": [],
   "source": []
  },
  {
   "cell_type": "code",
   "execution_count": 77,
   "metadata": {},
   "outputs": [
    {
     "name": "stdout",
     "output_type": "stream",
     "text": [
      "Training for 10 bins\r"
     ]
    }
   ],
   "source": [
    "scores_XGB=[]\n",
    "for i in range(2,11):\n",
    "    print('Training for %d bins'%i,end='\\r')\n",
    "    X_train,X_val,X_test,y_train,y_val,y_test = train_test_val_split(X,y_cats[i])\n",
    "    xgbModel = XGBClassifier()\n",
    "    xgbModel.get_xgb_params()['num_class']=i\n",
    "    xgbModel.get_xgb_params()['objective']=\"multi:softmax\"\n",
    "    xgbModel.fit(X_train,y_train,)\n",
    "    scores_XGB.append(accuracy_score(y_val,xgbModel.predict(X_val)))\n",
    "    \n",
    "    pickle.dump(xgbModel, open('./videoGames_XGB_patio_5'+str(i), 'wb'))"
   ]
  },
  {
   "cell_type": "code",
   "execution_count": 78,
   "metadata": {},
   "outputs": [
    {
     "data": {
      "image/png": "[encoded data removed]",
      "text/plain": [
       "<matplotlib.figure.Figure at 0x7f283d01fdd8>"
      ]
     },
     "metadata": {},
     "output_type": "display_data"
    }
   ],
   "source": [
    "ax=plt.figure(figsize=(8,8))\n",
    "plt.plot(list(range(2,11)),scores_XGB,'o')\n",
    "plt.savefig(\"./XGBAccuracy_patio_5.png\")\n",
    "plt.show()"
   ]
  },
  {
   "cell_type": "code",
   "execution_count": 79,
   "metadata": {},
   "outputs": [
    {
     "data": {
      "text/plain": [
       "[1.0,\n",
       " 1.0,\n",
       " 0.99940011997600475,\n",
       " 1.0,\n",
       " 1.0,\n",
       " 0.99940011997600475,\n",
       " 0.99820035992801437,\n",
       " 1.0,\n",
       " 0.99700059988002399]"
      ]
     },
     "execution_count": 79,
     "metadata": {},
     "output_type": "execute_result"
    }
   ],
   "source": [
    "scores_XGB"
   ]
  },
  {
   "cell_type": "code",
   "execution_count": 82,
   "metadata": {},
   "outputs": [
    {
     "data": {
      "text/plain": [
       "(8335, 765)"
      ]
     },
     "execution_count": 82,
     "metadata": {},
     "output_type": "execute_result"
    }
   ],
   "source": [
    "X.shape"
   ]
  },
  {
   "cell_type": "code",
   "execution_count": 80,
   "metadata": {
    "collapsed": true
   },
   "outputs": [],
   "source": [
    "#X_train,X_val,X_test,y_train,y_val,y_test = train_test_val_split(X,y)\n",
    "#modelX=xgb.XGBRegressor()\n",
    "#modelX.fit(X_train,y_train,eval_metric='mae')\n",
    "#print(r2_score(y_val,modelX.predict(X_val)))\n",
    "#np.sqrt(mean_squared_error(y_val,modelX.predict(X_val)))"
   ]
  },
  {
   "cell_type": "code",
   "execution_count": 81,
   "metadata": {
    "collapsed": true
   },
   "outputs": [],
   "source": [
    "#modelX=xgb.XGBRegressor(max_depth=10,n_estimators=300)\n",
    "#modelX.fit(X_train,y_train)\n",
    "#print(r2_score(y_val,modelX.predict(X_val)))\n",
    "#np.sqrt(mean_squared_error(y_val,modelX.predict(X_val)))"
   ]
  },
  {
   "cell_type": "code",
   "execution_count": null,
   "metadata": {
    "collapsed": true
   },
   "outputs": [],
   "source": []
  }
 ],
 "metadata": {
  "anaconda-cloud": {},
  "kernelspec": {
   "display_name": "Python [default]",
   "language": "python",
   "name": "python3"
  },
  "language_info": {
   "codemirror_mode": {
    "name": "ipython",
    "version": 3
   },
   "file_extension": ".py",
   "mimetype": "text/x-python",
   "name": "python",
   "nbconvert_exporter": "python",
   "pygments_lexer": "ipython3",
   "version": "3.5.2"
  }
 },
 "nbformat": 4,
 "nbformat_minor": 2
}
